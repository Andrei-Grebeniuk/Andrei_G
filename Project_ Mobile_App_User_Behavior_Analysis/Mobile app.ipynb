{
 "cells": [
  {
   "cell_type": "markdown",
   "id": "8e049a02",
   "metadata": {},
   "source": [
    "# Project: Mobile App User Behavior Analysis"
   ]
  },
  {
   "cell_type": "markdown",
   "id": "927e0054",
   "metadata": {},
   "source": [
    "**A task:\n",
    "Explore the sales funnel. Find out how users reach a purchase. How many users reach the purchase, and how many get stuck on the previous steps, on which ones.\n",
    "examine the results of the A/A/B experiment and decide whether the font in the application is worth me. Find out which font is best.**"
   ]
  },
  {
   "cell_type": "markdown",
   "id": "e494f556",
   "metadata": {},
   "source": [
    "Work plan:\n",
    "1. General information.\n",
    "2. Data preprocessing.\n",
    "3. Data validation and analysis.\n",
    "4. Event funnels.\n",
    "5. Analysis of the results of the experiment.\n",
    "6. General conclusion."
   ]
  },
  {
   "cell_type": "markdown",
   "id": "fa6ea5cd",
   "metadata": {},
   "source": [
    "# 1. General information"
   ]
  },
  {
   "cell_type": "code",
   "execution_count": 132,
   "id": "e1c7ee76",
   "metadata": {},
   "outputs": [],
   "source": [
    "import pandas as pd\n",
    "import numpy as np\n",
    "import math as mth\n",
    "import seaborn as sns\n",
    "import matplotlib.pyplot as plt\n",
    "from scipy import stats as st\n"
   ]
  },
  {
   "cell_type": "code",
   "execution_count": 133,
   "id": "ad246c84",
   "metadata": {},
   "outputs": [],
   "source": [
    "df = pd.read_csv('C:/Users/sony/Downloads/logs_exp.csv', sep='\\t')"
   ]
  },
  {
   "cell_type": "code",
   "execution_count": 134,
   "id": "3517fe6f",
   "metadata": {
    "scrolled": true
   },
   "outputs": [
    {
     "name": "stdout",
     "output_type": "stream",
     "text": [
      "<class 'pandas.core.frame.DataFrame'>\n",
      "RangeIndex: 244126 entries, 0 to 244125\n",
      "Data columns (total 4 columns):\n",
      " #   Column          Non-Null Count   Dtype \n",
      "---  ------          --------------   ----- \n",
      " 0   EventName       244126 non-null  object\n",
      " 1   DeviceIDHash    244126 non-null  int64 \n",
      " 2   EventTimestamp  244126 non-null  int64 \n",
      " 3   ExpId           244126 non-null  int64 \n",
      "dtypes: int64(3), object(1)\n",
      "memory usage: 7.5+ MB\n"
     ]
    }
   ],
   "source": [
    "df.info()"
   ]
  },
  {
   "cell_type": "code",
   "execution_count": 135,
   "id": "9a931e99",
   "metadata": {},
   "outputs": [
    {
     "data": {
      "text/html": [
       "<div>\n",
       "<style scoped>\n",
       "    .dataframe tbody tr th:only-of-type {\n",
       "        vertical-align: middle;\n",
       "    }\n",
       "\n",
       "    .dataframe tbody tr th {\n",
       "        vertical-align: top;\n",
       "    }\n",
       "\n",
       "    .dataframe thead th {\n",
       "        text-align: right;\n",
       "    }\n",
       "</style>\n",
       "<table border=\"1\" class=\"dataframe\">\n",
       "  <thead>\n",
       "    <tr style=\"text-align: right;\">\n",
       "      <th></th>\n",
       "      <th>EventName</th>\n",
       "      <th>DeviceIDHash</th>\n",
       "      <th>EventTimestamp</th>\n",
       "      <th>ExpId</th>\n",
       "    </tr>\n",
       "  </thead>\n",
       "  <tbody>\n",
       "    <tr>\n",
       "      <th>52601</th>\n",
       "      <td>OffersScreenAppear</td>\n",
       "      <td>7753775826753824773</td>\n",
       "      <td>1564742573</td>\n",
       "      <td>248</td>\n",
       "    </tr>\n",
       "    <tr>\n",
       "      <th>160723</th>\n",
       "      <td>PaymentScreenSuccessful</td>\n",
       "      <td>6613527411922640441</td>\n",
       "      <td>1565013854</td>\n",
       "      <td>246</td>\n",
       "    </tr>\n",
       "    <tr>\n",
       "      <th>101367</th>\n",
       "      <td>PaymentScreenSuccessful</td>\n",
       "      <td>4403500226957059119</td>\n",
       "      <td>1564851938</td>\n",
       "      <td>247</td>\n",
       "    </tr>\n",
       "    <tr>\n",
       "      <th>155661</th>\n",
       "      <td>MainScreenAppear</td>\n",
       "      <td>1935778368501008203</td>\n",
       "      <td>1565006071</td>\n",
       "      <td>246</td>\n",
       "    </tr>\n",
       "    <tr>\n",
       "      <th>107116</th>\n",
       "      <td>MainScreenAppear</td>\n",
       "      <td>8729942814780019809</td>\n",
       "      <td>1564865896</td>\n",
       "      <td>246</td>\n",
       "    </tr>\n",
       "    <tr>\n",
       "      <th>69146</th>\n",
       "      <td>OffersScreenAppear</td>\n",
       "      <td>3960281369461151687</td>\n",
       "      <td>1564769620</td>\n",
       "      <td>247</td>\n",
       "    </tr>\n",
       "    <tr>\n",
       "      <th>226520</th>\n",
       "      <td>MainScreenAppear</td>\n",
       "      <td>2458697374193262776</td>\n",
       "      <td>1565179175</td>\n",
       "      <td>248</td>\n",
       "    </tr>\n",
       "    <tr>\n",
       "      <th>103040</th>\n",
       "      <td>OffersScreenAppear</td>\n",
       "      <td>3063248032210795834</td>\n",
       "      <td>1564854970</td>\n",
       "      <td>247</td>\n",
       "    </tr>\n",
       "    <tr>\n",
       "      <th>73655</th>\n",
       "      <td>CartScreenAppear</td>\n",
       "      <td>6304868067479728361</td>\n",
       "      <td>1564779973</td>\n",
       "      <td>248</td>\n",
       "    </tr>\n",
       "    <tr>\n",
       "      <th>15987</th>\n",
       "      <td>MainScreenAppear</td>\n",
       "      <td>8107103883478813949</td>\n",
       "      <td>1564658354</td>\n",
       "      <td>246</td>\n",
       "    </tr>\n",
       "  </tbody>\n",
       "</table>\n",
       "</div>"
      ],
      "text/plain": [
       "                      EventName         DeviceIDHash  EventTimestamp  ExpId\n",
       "52601        OffersScreenAppear  7753775826753824773      1564742573    248\n",
       "160723  PaymentScreenSuccessful  6613527411922640441      1565013854    246\n",
       "101367  PaymentScreenSuccessful  4403500226957059119      1564851938    247\n",
       "155661         MainScreenAppear  1935778368501008203      1565006071    246\n",
       "107116         MainScreenAppear  8729942814780019809      1564865896    246\n",
       "69146        OffersScreenAppear  3960281369461151687      1564769620    247\n",
       "226520         MainScreenAppear  2458697374193262776      1565179175    248\n",
       "103040       OffersScreenAppear  3063248032210795834      1564854970    247\n",
       "73655          CartScreenAppear  6304868067479728361      1564779973    248\n",
       "15987          MainScreenAppear  8107103883478813949      1564658354    246"
      ]
     },
     "execution_count": 135,
     "metadata": {},
     "output_type": "execute_result"
    }
   ],
   "source": [
    "df.sample(10)"
   ]
  },
  {
   "cell_type": "markdown",
   "id": "2658abb0",
   "metadata": {},
   "source": [
    "## 2.Data preprocessing."
   ]
  },
  {
   "cell_type": "code",
   "execution_count": 136,
   "id": "27bc3117",
   "metadata": {},
   "outputs": [
    {
     "data": {
      "text/plain": [
       "array(['MainScreenAppear', 'PaymentScreenSuccessful', 'CartScreenAppear',\n",
       "       'OffersScreenAppear', 'Tutorial'], dtype=object)"
      ]
     },
     "execution_count": 136,
     "metadata": {},
     "output_type": "execute_result"
    }
   ],
   "source": [
    "#implicit duplicates\n",
    "df['EventName'].unique()"
   ]
  },
  {
   "cell_type": "code",
   "execution_count": 137,
   "id": "4785d487",
   "metadata": {},
   "outputs": [
    {
     "data": {
      "text/plain": [
       "array([246, 248, 247], dtype=int64)"
      ]
     },
     "execution_count": 137,
     "metadata": {},
     "output_type": "execute_result"
    }
   ],
   "source": [
    "#experimental groups\n",
    "df['ExpId'].unique()"
   ]
  },
  {
   "cell_type": "code",
   "execution_count": 138,
   "id": "19c7a635",
   "metadata": {},
   "outputs": [
    {
     "data": {
      "text/plain": [
       "413"
      ]
     },
     "execution_count": 138,
     "metadata": {},
     "output_type": "execute_result"
    }
   ],
   "source": [
    "df.duplicated().sum()"
   ]
  },
  {
   "cell_type": "code",
   "execution_count": 139,
   "id": "8ebabf21",
   "metadata": {},
   "outputs": [],
   "source": [
    "df = df.drop_duplicates().reset_index(drop=True)"
   ]
  },
  {
   "cell_type": "code",
   "execution_count": 140,
   "id": "26cfd970",
   "metadata": {},
   "outputs": [
    {
     "data": {
      "text/plain": [
       "EventName         0\n",
       "DeviceIDHash      0\n",
       "EventTimestamp    0\n",
       "ExpId             0\n",
       "dtype: int64"
      ]
     },
     "execution_count": 140,
     "metadata": {},
     "output_type": "execute_result"
    }
   ],
   "source": [
    "df.isna().sum()"
   ]
  },
  {
   "cell_type": "code",
   "execution_count": 141,
   "id": "e1506871",
   "metadata": {},
   "outputs": [],
   "source": [
    "#rename columns\n",
    "df.columns= ['event_name','device_id', 'event_date','group']"
   ]
  },
  {
   "cell_type": "code",
   "execution_count": 142,
   "id": "03f58d60",
   "metadata": {},
   "outputs": [],
   "source": [
    "df['event_date'] = pd.to_datetime(df['event_date'], unit='s')"
   ]
  },
  {
   "cell_type": "code",
   "execution_count": 143,
   "id": "d8639de6",
   "metadata": {},
   "outputs": [],
   "source": [
    "#add a date column\n",
    "df['date'] = pd.DatetimeIndex(df['event_date']).date"
   ]
  },
  {
   "cell_type": "code",
   "execution_count": 144,
   "id": "3c56fca1",
   "metadata": {},
   "outputs": [
    {
     "data": {
      "text/html": [
       "<div>\n",
       "<style scoped>\n",
       "    .dataframe tbody tr th:only-of-type {\n",
       "        vertical-align: middle;\n",
       "    }\n",
       "\n",
       "    .dataframe tbody tr th {\n",
       "        vertical-align: top;\n",
       "    }\n",
       "\n",
       "    .dataframe thead th {\n",
       "        text-align: right;\n",
       "    }\n",
       "</style>\n",
       "<table border=\"1\" class=\"dataframe\">\n",
       "  <thead>\n",
       "    <tr style=\"text-align: right;\">\n",
       "      <th></th>\n",
       "      <th>event_name</th>\n",
       "      <th>device_id</th>\n",
       "      <th>event_date</th>\n",
       "      <th>group</th>\n",
       "      <th>date</th>\n",
       "    </tr>\n",
       "  </thead>\n",
       "  <tbody>\n",
       "    <tr>\n",
       "      <th>0</th>\n",
       "      <td>MainScreenAppear</td>\n",
       "      <td>4575588528974610257</td>\n",
       "      <td>2019-07-25 04:43:36</td>\n",
       "      <td>246</td>\n",
       "      <td>2019-07-25</td>\n",
       "    </tr>\n",
       "    <tr>\n",
       "      <th>1</th>\n",
       "      <td>MainScreenAppear</td>\n",
       "      <td>7416695313311560658</td>\n",
       "      <td>2019-07-25 11:11:42</td>\n",
       "      <td>246</td>\n",
       "      <td>2019-07-25</td>\n",
       "    </tr>\n",
       "    <tr>\n",
       "      <th>2</th>\n",
       "      <td>PaymentScreenSuccessful</td>\n",
       "      <td>3518123091307005509</td>\n",
       "      <td>2019-07-25 11:28:47</td>\n",
       "      <td>248</td>\n",
       "      <td>2019-07-25</td>\n",
       "    </tr>\n",
       "    <tr>\n",
       "      <th>3</th>\n",
       "      <td>CartScreenAppear</td>\n",
       "      <td>3518123091307005509</td>\n",
       "      <td>2019-07-25 11:28:47</td>\n",
       "      <td>248</td>\n",
       "      <td>2019-07-25</td>\n",
       "    </tr>\n",
       "    <tr>\n",
       "      <th>4</th>\n",
       "      <td>PaymentScreenSuccessful</td>\n",
       "      <td>6217807653094995999</td>\n",
       "      <td>2019-07-25 11:48:42</td>\n",
       "      <td>248</td>\n",
       "      <td>2019-07-25</td>\n",
       "    </tr>\n",
       "  </tbody>\n",
       "</table>\n",
       "</div>"
      ],
      "text/plain": [
       "                event_name            device_id          event_date  group  \\\n",
       "0         MainScreenAppear  4575588528974610257 2019-07-25 04:43:36    246   \n",
       "1         MainScreenAppear  7416695313311560658 2019-07-25 11:11:42    246   \n",
       "2  PaymentScreenSuccessful  3518123091307005509 2019-07-25 11:28:47    248   \n",
       "3         CartScreenAppear  3518123091307005509 2019-07-25 11:28:47    248   \n",
       "4  PaymentScreenSuccessful  6217807653094995999 2019-07-25 11:48:42    248   \n",
       "\n",
       "         date  \n",
       "0  2019-07-25  \n",
       "1  2019-07-25  \n",
       "2  2019-07-25  \n",
       "3  2019-07-25  \n",
       "4  2019-07-25  "
      ]
     },
     "execution_count": 144,
     "metadata": {},
     "output_type": "execute_result"
    }
   ],
   "source": [
    "df.head()"
   ]
  },
  {
   "cell_type": "code",
   "execution_count": 145,
   "id": "185d9476",
   "metadata": {},
   "outputs": [],
   "source": [
    "#change data type\n",
    "df['device_id'] = df['device_id'].astype('str')\n",
    "df['group'] = df['group'].astype('str')"
   ]
  },
  {
   "cell_type": "code",
   "execution_count": 146,
   "id": "ee8bd62a",
   "metadata": {
    "scrolled": true
   },
   "outputs": [
    {
     "name": "stdout",
     "output_type": "stream",
     "text": [
      "<class 'pandas.core.frame.DataFrame'>\n",
      "RangeIndex: 243713 entries, 0 to 243712\n",
      "Data columns (total 5 columns):\n",
      " #   Column      Non-Null Count   Dtype         \n",
      "---  ------      --------------   -----         \n",
      " 0   event_name  243713 non-null  object        \n",
      " 1   device_id   243713 non-null  object        \n",
      " 2   event_date  243713 non-null  datetime64[ns]\n",
      " 3   group       243713 non-null  object        \n",
      " 4   date        243713 non-null  object        \n",
      "dtypes: datetime64[ns](1), object(4)\n",
      "memory usage: 9.3+ MB\n"
     ]
    }
   ],
   "source": [
    "df.info()"
   ]
  },
  {
   "cell_type": "markdown",
   "id": "e4f51a57",
   "metadata": {},
   "source": [
    "## 3.Data validation and analysis."
   ]
  },
  {
   "cell_type": "code",
   "execution_count": 147,
   "id": "ae865dc9",
   "metadata": {},
   "outputs": [
    {
     "data": {
      "text/plain": [
       "243713"
      ]
     },
     "execution_count": 147,
     "metadata": {},
     "output_type": "execute_result"
    }
   ],
   "source": [
    "df.shape[0]"
   ]
  },
  {
   "cell_type": "markdown",
   "id": "16d8731e",
   "metadata": {},
   "source": [
    "Let's check how many users are in the log"
   ]
  },
  {
   "cell_type": "code",
   "execution_count": 148,
   "id": "5d0c6c3c",
   "metadata": {},
   "outputs": [
    {
     "data": {
      "text/plain": [
       "7551"
      ]
     },
     "execution_count": 148,
     "metadata": {},
     "output_type": "execute_result"
    }
   ],
   "source": [
    "df['device_id'].nunique()"
   ]
  },
  {
   "cell_type": "markdown",
   "id": "a038e1b1",
   "metadata": {},
   "source": [
    "Let's check how many events per user on average"
   ]
  },
  {
   "cell_type": "code",
   "execution_count": 149,
   "id": "4ae11755",
   "metadata": {},
   "outputs": [
    {
     "data": {
      "text/plain": [
       "32"
      ]
     },
     "execution_count": 149,
     "metadata": {},
     "output_type": "execute_result"
    }
   ],
   "source": [
    "event_mean = round(df['event_name'].count()/df['device_id'].nunique())\n",
    "event_mean"
   ]
  },
  {
   "cell_type": "markdown",
   "id": "cfd2b361",
   "metadata": {},
   "source": [
    "Average 32 events per user"
   ]
  },
  {
   "cell_type": "markdown",
   "id": "ea7badaa",
   "metadata": {},
   "source": [
    "start of the test"
   ]
  },
  {
   "cell_type": "code",
   "execution_count": 150,
   "id": "b1d84940",
   "metadata": {},
   "outputs": [
    {
     "data": {
      "text/plain": [
       "Timestamp('2019-07-25 04:43:36')"
      ]
     },
     "execution_count": 150,
     "metadata": {},
     "output_type": "execute_result"
    }
   ],
   "source": [
    "df['event_date'].min()"
   ]
  },
  {
   "cell_type": "markdown",
   "id": "446a00d5",
   "metadata": {},
   "source": [
    "end of the test"
   ]
  },
  {
   "cell_type": "code",
   "execution_count": 151,
   "id": "56a49045",
   "metadata": {},
   "outputs": [
    {
     "data": {
      "text/plain": [
       "Timestamp('2019-08-07 21:15:17')"
      ]
     },
     "execution_count": 151,
     "metadata": {},
     "output_type": "execute_result"
    }
   ],
   "source": [
    "df['event_date'].max()"
   ]
  },
  {
   "cell_type": "markdown",
   "id": "d0506d8f",
   "metadata": {},
   "source": [
    "lets check period  of the data"
   ]
  },
  {
   "cell_type": "code",
   "execution_count": 152,
   "id": "6adfbe99",
   "metadata": {},
   "outputs": [
    {
     "data": {
      "text/plain": [
       "Timedelta('13 days 16:31:41')"
      ]
     },
     "execution_count": 152,
     "metadata": {},
     "output_type": "execute_result"
    }
   ],
   "source": [
    "days_space = (df['event_date'].max()-df['event_date'].min())\n",
    "days_space"
   ]
  },
  {
   "cell_type": "code",
   "execution_count": 153,
   "id": "d7783146",
   "metadata": {
    "scrolled": true
   },
   "outputs": [
    {
     "data": {
      "text/plain": [
       "''"
      ]
     },
     "execution_count": 153,
     "metadata": {},
     "output_type": "execute_result"
    },
    {
     "data": {
      "image/png": "[encoded data removed]",
      "text/plain": [
       "<Figure size 1080x360 with 1 Axes>"
      ]
     },
     "metadata": {
      "needs_background": "light"
     },
     "output_type": "display_data"
    }
   ],
   "source": [
    "#histogram by date time\n",
    "df['event_date'].hist(bins = 250, figsize=(15,5))\n",
    "plt.title(\"график событий\")\n",
    "plt.xlabel(\"время\")\n",
    "plt.ylabel(\"частота\")\n",
    ";"
   ]
  },
  {
   "cell_type": "markdown",
   "id": "cebf31c1",
   "metadata": {},
   "source": [
    "**Conclusion: according to the hist, we see that the data is incomplete until August 1, I think that it is worth cutting off the data until this day in order not to take into account possible incorrect or incomplete data**\n"
   ]
  },
  {
   "cell_type": "code",
   "execution_count": 154,
   "id": "3345a401",
   "metadata": {
    "scrolled": false
   },
   "outputs": [
    {
     "name": "stdout",
     "output_type": "stream",
     "text": [
      "<class 'pandas.core.frame.DataFrame'>\n",
      "RangeIndex: 243713 entries, 0 to 243712\n",
      "Data columns (total 5 columns):\n",
      " #   Column      Non-Null Count   Dtype         \n",
      "---  ------      --------------   -----         \n",
      " 0   event_name  243713 non-null  object        \n",
      " 1   device_id   243713 non-null  object        \n",
      " 2   event_date  243713 non-null  datetime64[ns]\n",
      " 3   group       243713 non-null  object        \n",
      " 4   date        243713 non-null  datetime64[ns]\n",
      "dtypes: datetime64[ns](2), object(3)\n",
      "memory usage: 9.3+ MB\n"
     ]
    }
   ],
   "source": [
    "df['date'] = pd.to_datetime(df['date'])\n",
    "df.info()"
   ]
  },
  {
   "cell_type": "code",
   "execution_count": 155,
   "id": "00817533",
   "metadata": {},
   "outputs": [
    {
     "data": {
      "text/plain": [
       "204746"
      ]
     },
     "execution_count": 155,
     "metadata": {},
     "output_type": "execute_result"
    }
   ],
   "source": [
    "df[df['date'] > '2019-08-01']['event_name'].count()"
   ]
  },
  {
   "cell_type": "code",
   "execution_count": 156,
   "id": "a2b5bcbf",
   "metadata": {},
   "outputs": [
    {
     "data": {
      "text/plain": [
       "38967"
      ]
     },
     "execution_count": 156,
     "metadata": {},
     "output_type": "execute_result"
    }
   ],
   "source": [
    "#check how much data we lost during the period that we cut off\n",
    "dif = df['date'].count() - df[df['date'] > '2019-08-01']['date'].count()\n",
    "dif"
   ]
  },
  {
   "cell_type": "code",
   "execution_count": 157,
   "id": "d386c0b1",
   "metadata": {},
   "outputs": [
    {
     "data": {
      "text/html": [
       "<div>\n",
       "<style scoped>\n",
       "    .dataframe tbody tr th:only-of-type {\n",
       "        vertical-align: middle;\n",
       "    }\n",
       "\n",
       "    .dataframe tbody tr th {\n",
       "        vertical-align: top;\n",
       "    }\n",
       "\n",
       "    .dataframe thead th {\n",
       "        text-align: right;\n",
       "    }\n",
       "</style>\n",
       "<table border=\"1\" class=\"dataframe\">\n",
       "  <thead>\n",
       "    <tr style=\"text-align: right;\">\n",
       "      <th></th>\n",
       "      <th>0</th>\n",
       "    </tr>\n",
       "  </thead>\n",
       "  <tbody>\n",
       "    <tr>\n",
       "      <th>device_id</th>\n",
       "      <td>1492</td>\n",
       "    </tr>\n",
       "    <tr>\n",
       "      <th>event_name</th>\n",
       "      <td>31</td>\n",
       "    </tr>\n",
       "  </tbody>\n",
       "</table>\n",
       "</div>"
      ],
      "text/plain": [
       "               0\n",
       "device_id   1492\n",
       "event_name    31"
      ]
     },
     "execution_count": 157,
     "metadata": {},
     "output_type": "execute_result"
    }
   ],
   "source": [
    "df[df['date'] <= '2019-07-31'].groupby('date')[['device_id','event_name']].nunique().sum().to_frame()"
   ]
  },
  {
   "cell_type": "code",
   "execution_count": 158,
   "id": "cc25cd60",
   "metadata": {},
   "outputs": [],
   "source": [
    "#Let's discard the old data\n",
    "df = df[df['date'] > '2019-08-01']"
   ]
  },
  {
   "cell_type": "markdown",
   "id": "b6235c0b",
   "metadata": {},
   "source": [
    "check the data period after discarding unnecessary days"
   ]
  },
  {
   "cell_type": "code",
   "execution_count": 159,
   "id": "05199948",
   "metadata": {},
   "outputs": [
    {
     "data": {
      "text/plain": [
       "Timedelta('5 days 21:15:17')"
      ]
     },
     "execution_count": 159,
     "metadata": {},
     "output_type": "execute_result"
    }
   ],
   "source": [
    "#actual period\n",
    "days_actual = (df['event_date'].max()-df['event_date'].min())\n",
    "days_actual"
   ]
  },
  {
   "cell_type": "code",
   "execution_count": 160,
   "id": "ffedd4d0",
   "metadata": {
    "scrolled": true
   },
   "outputs": [
    {
     "name": "stdout",
     "output_type": "stream",
     "text": [
      "<class 'pandas.core.frame.DataFrame'>\n",
      "Int64Index: 204746 entries, 38967 to 243712\n",
      "Data columns (total 5 columns):\n",
      " #   Column      Non-Null Count   Dtype         \n",
      "---  ------      --------------   -----         \n",
      " 0   event_name  204746 non-null  object        \n",
      " 1   device_id   204746 non-null  object        \n",
      " 2   event_date  204746 non-null  datetime64[ns]\n",
      " 3   group       204746 non-null  object        \n",
      " 4   date        204746 non-null  datetime64[ns]\n",
      "dtypes: datetime64[ns](2), object(3)\n",
      "memory usage: 9.4+ MB\n"
     ]
    }
   ],
   "source": [
    "df.info()"
   ]
  },
  {
   "cell_type": "code",
   "execution_count": 161,
   "id": "eb871575",
   "metadata": {},
   "outputs": [
    {
     "data": {
      "text/plain": [
       "204746"
      ]
     },
     "execution_count": 161,
     "metadata": {},
     "output_type": "execute_result"
    }
   ],
   "source": [
    "df['event_name'].count()"
   ]
  },
  {
   "cell_type": "markdown",
   "id": "b7bc7ab1",
   "metadata": {},
   "source": [
    "## 4. Изучение воронки событий."
   ]
  },
  {
   "cell_type": "markdown",
   "id": "deefc6ad",
   "metadata": {},
   "source": [
    "Let's check what events are in the logs and how often they occur"
   ]
  },
  {
   "cell_type": "code",
   "execution_count": 162,
   "id": "27e6f89f",
   "metadata": {},
   "outputs": [
    {
     "data": {
      "text/html": [
       "<div>\n",
       "<style scoped>\n",
       "    .dataframe tbody tr th:only-of-type {\n",
       "        vertical-align: middle;\n",
       "    }\n",
       "\n",
       "    .dataframe tbody tr th {\n",
       "        vertical-align: top;\n",
       "    }\n",
       "\n",
       "    .dataframe thead th {\n",
       "        text-align: right;\n",
       "    }\n",
       "</style>\n",
       "<table border=\"1\" class=\"dataframe\">\n",
       "  <thead>\n",
       "    <tr style=\"text-align: right;\">\n",
       "      <th></th>\n",
       "      <th>device_id</th>\n",
       "    </tr>\n",
       "    <tr>\n",
       "      <th>event_name</th>\n",
       "      <th></th>\n",
       "    </tr>\n",
       "  </thead>\n",
       "  <tbody>\n",
       "    <tr>\n",
       "      <th>MainScreenAppear</th>\n",
       "      <td>7156</td>\n",
       "    </tr>\n",
       "    <tr>\n",
       "      <th>OffersScreenAppear</th>\n",
       "      <td>4380</td>\n",
       "    </tr>\n",
       "    <tr>\n",
       "      <th>CartScreenAppear</th>\n",
       "      <td>3571</td>\n",
       "    </tr>\n",
       "    <tr>\n",
       "      <th>PaymentScreenSuccessful</th>\n",
       "      <td>3399</td>\n",
       "    </tr>\n",
       "    <tr>\n",
       "      <th>Tutorial</th>\n",
       "      <td>690</td>\n",
       "    </tr>\n",
       "  </tbody>\n",
       "</table>\n",
       "</div>"
      ],
      "text/plain": [
       "                         device_id\n",
       "event_name                        \n",
       "MainScreenAppear              7156\n",
       "OffersScreenAppear            4380\n",
       "CartScreenAppear              3571\n",
       "PaymentScreenSuccessful       3399\n",
       "Tutorial                       690"
      ]
     },
     "execution_count": 162,
     "metadata": {},
     "output_type": "execute_result"
    }
   ],
   "source": [
    "df1= df.pivot_table(index='event_name', values='device_id', aggfunc='nunique', sort=True).sort_values(by='device_id', ascending=False)\n",
    "df1"
   ]
  },
  {
   "cell_type": "markdown",
   "id": "744162b6",
   "metadata": {},
   "source": [
    "lets check shares by events"
   ]
  },
  {
   "cell_type": "code",
   "execution_count": 163,
   "id": "46ea2fec",
   "metadata": {},
   "outputs": [
    {
     "data": {
      "text/html": [
       "<div>\n",
       "<style scoped>\n",
       "    .dataframe tbody tr th:only-of-type {\n",
       "        vertical-align: middle;\n",
       "    }\n",
       "\n",
       "    .dataframe tbody tr th {\n",
       "        vertical-align: top;\n",
       "    }\n",
       "\n",
       "    .dataframe thead th {\n",
       "        text-align: right;\n",
       "    }\n",
       "</style>\n",
       "<table border=\"1\" class=\"dataframe\">\n",
       "  <thead>\n",
       "    <tr style=\"text-align: right;\">\n",
       "      <th></th>\n",
       "      <th>index</th>\n",
       "      <th>event_name</th>\n",
       "    </tr>\n",
       "  </thead>\n",
       "  <tbody>\n",
       "    <tr>\n",
       "      <th>0</th>\n",
       "      <td>MainScreenAppear</td>\n",
       "      <td>0.485</td>\n",
       "    </tr>\n",
       "    <tr>\n",
       "      <th>1</th>\n",
       "      <td>OffersScreenAppear</td>\n",
       "      <td>0.192</td>\n",
       "    </tr>\n",
       "    <tr>\n",
       "      <th>2</th>\n",
       "      <td>CartScreenAppear</td>\n",
       "      <td>0.176</td>\n",
       "    </tr>\n",
       "    <tr>\n",
       "      <th>3</th>\n",
       "      <td>PaymentScreenSuccessful</td>\n",
       "      <td>0.142</td>\n",
       "    </tr>\n",
       "    <tr>\n",
       "      <th>4</th>\n",
       "      <td>Tutorial</td>\n",
       "      <td>0.004</td>\n",
       "    </tr>\n",
       "  </tbody>\n",
       "</table>\n",
       "</div>"
      ],
      "text/plain": [
       "                     index  event_name\n",
       "0         MainScreenAppear       0.485\n",
       "1       OffersScreenAppear       0.192\n",
       "2         CartScreenAppear       0.176\n",
       "3  PaymentScreenSuccessful       0.142\n",
       "4                 Tutorial       0.004"
      ]
     },
     "execution_count": 163,
     "metadata": {},
     "output_type": "execute_result"
    }
   ],
   "source": [
    "df['event_name'].value_counts(normalize = True).round(3).reset_index()"
   ]
  },
  {
   "cell_type": "markdown",
   "id": "5508f38c",
   "metadata": {},
   "source": [
    "I think that the tutorial can be removed from processing as it is an independent rare event"
   ]
  },
  {
   "cell_type": "code",
   "execution_count": 164,
   "id": "0f97b07f",
   "metadata": {},
   "outputs": [],
   "source": [
    "df1 = df1[:4].copy()"
   ]
  },
  {
   "cell_type": "code",
   "execution_count": 165,
   "id": "ad0536e7",
   "metadata": {},
   "outputs": [
    {
     "data": {
      "text/html": [
       "<div>\n",
       "<style scoped>\n",
       "    .dataframe tbody tr th:only-of-type {\n",
       "        vertical-align: middle;\n",
       "    }\n",
       "\n",
       "    .dataframe tbody tr th {\n",
       "        vertical-align: top;\n",
       "    }\n",
       "\n",
       "    .dataframe thead th {\n",
       "        text-align: right;\n",
       "    }\n",
       "</style>\n",
       "<table border=\"1\" class=\"dataframe\">\n",
       "  <thead>\n",
       "    <tr style=\"text-align: right;\">\n",
       "      <th></th>\n",
       "      <th>device_id</th>\n",
       "    </tr>\n",
       "    <tr>\n",
       "      <th>event_name</th>\n",
       "      <th></th>\n",
       "    </tr>\n",
       "  </thead>\n",
       "  <tbody>\n",
       "    <tr>\n",
       "      <th>MainScreenAppear</th>\n",
       "      <td>7156</td>\n",
       "    </tr>\n",
       "    <tr>\n",
       "      <th>OffersScreenAppear</th>\n",
       "      <td>4380</td>\n",
       "    </tr>\n",
       "    <tr>\n",
       "      <th>CartScreenAppear</th>\n",
       "      <td>3571</td>\n",
       "    </tr>\n",
       "    <tr>\n",
       "      <th>PaymentScreenSuccessful</th>\n",
       "      <td>3399</td>\n",
       "    </tr>\n",
       "  </tbody>\n",
       "</table>\n",
       "</div>"
      ],
      "text/plain": [
       "                         device_id\n",
       "event_name                        \n",
       "MainScreenAppear              7156\n",
       "OffersScreenAppear            4380\n",
       "CartScreenAppear              3571\n",
       "PaymentScreenSuccessful       3399"
      ]
     },
     "execution_count": 165,
     "metadata": {},
     "output_type": "execute_result"
    }
   ],
   "source": [
    "df1"
   ]
  },
  {
   "cell_type": "markdown",
   "id": "183bb854",
   "metadata": {},
   "source": [
    "check the proportion of users who have ever made an event"
   ]
  },
  {
   "cell_type": "code",
   "execution_count": 166,
   "id": "1ef1c6de",
   "metadata": {},
   "outputs": [
    {
     "data": {
      "text/html": [
       "<div>\n",
       "<style scoped>\n",
       "    .dataframe tbody tr th:only-of-type {\n",
       "        vertical-align: middle;\n",
       "    }\n",
       "\n",
       "    .dataframe tbody tr th {\n",
       "        vertical-align: top;\n",
       "    }\n",
       "\n",
       "    .dataframe thead th {\n",
       "        text-align: right;\n",
       "    }\n",
       "</style>\n",
       "<table border=\"1\" class=\"dataframe\">\n",
       "  <thead>\n",
       "    <tr style=\"text-align: right;\">\n",
       "      <th></th>\n",
       "      <th>device_id</th>\n",
       "      <th>percent, %</th>\n",
       "    </tr>\n",
       "    <tr>\n",
       "      <th>event_name</th>\n",
       "      <th></th>\n",
       "      <th></th>\n",
       "    </tr>\n",
       "  </thead>\n",
       "  <tbody>\n",
       "    <tr>\n",
       "      <th>MainScreenAppear</th>\n",
       "      <td>7156</td>\n",
       "      <td>100.0</td>\n",
       "    </tr>\n",
       "    <tr>\n",
       "      <th>OffersScreenAppear</th>\n",
       "      <td>4380</td>\n",
       "      <td>61.0</td>\n",
       "    </tr>\n",
       "    <tr>\n",
       "      <th>CartScreenAppear</th>\n",
       "      <td>3571</td>\n",
       "      <td>50.0</td>\n",
       "    </tr>\n",
       "    <tr>\n",
       "      <th>PaymentScreenSuccessful</th>\n",
       "      <td>3399</td>\n",
       "      <td>47.0</td>\n",
       "    </tr>\n",
       "  </tbody>\n",
       "</table>\n",
       "</div>"
      ],
      "text/plain": [
       "                         device_id  percent, %\n",
       "event_name                                    \n",
       "MainScreenAppear              7156       100.0\n",
       "OffersScreenAppear            4380        61.0\n",
       "CartScreenAppear              3571        50.0\n",
       "PaymentScreenSuccessful       3399        47.0"
      ]
     },
     "execution_count": 166,
     "metadata": {},
     "output_type": "execute_result"
    }
   ],
   "source": [
    "df1['percent, %'] = round(df1['device_id']/df1['device_id'][0]*100)\n",
    "df1"
   ]
  },
  {
   "cell_type": "markdown",
   "id": "902bf8d3",
   "metadata": {},
   "source": [
    "So the events happen in the following orde:\n",
    "1. main screen\n",
    "2. offer screen\n",
    "3. cart screen\n",
    "4. payment screen"
   ]
  },
  {
   "cell_type": "code",
   "execution_count": 167,
   "id": "735f77b2",
   "metadata": {},
   "outputs": [
    {
     "data": {
      "text/html": [
       "<div>\n",
       "<style scoped>\n",
       "    .dataframe tbody tr th:only-of-type {\n",
       "        vertical-align: middle;\n",
       "    }\n",
       "\n",
       "    .dataframe tbody tr th {\n",
       "        vertical-align: top;\n",
       "    }\n",
       "\n",
       "    .dataframe thead th {\n",
       "        text-align: right;\n",
       "    }\n",
       "</style>\n",
       "<table border=\"1\" class=\"dataframe\">\n",
       "  <thead>\n",
       "    <tr style=\"text-align: right;\">\n",
       "      <th></th>\n",
       "      <th>device_id</th>\n",
       "      <th>percent, %</th>\n",
       "      <th>shift</th>\n",
       "    </tr>\n",
       "    <tr>\n",
       "      <th>event_name</th>\n",
       "      <th></th>\n",
       "      <th></th>\n",
       "      <th></th>\n",
       "    </tr>\n",
       "  </thead>\n",
       "  <tbody>\n",
       "    <tr>\n",
       "      <th>MainScreenAppear</th>\n",
       "      <td>7156</td>\n",
       "      <td>100.0</td>\n",
       "      <td>NaN</td>\n",
       "    </tr>\n",
       "    <tr>\n",
       "      <th>OffersScreenAppear</th>\n",
       "      <td>4380</td>\n",
       "      <td>61.0</td>\n",
       "      <td>7156.0</td>\n",
       "    </tr>\n",
       "    <tr>\n",
       "      <th>CartScreenAppear</th>\n",
       "      <td>3571</td>\n",
       "      <td>50.0</td>\n",
       "      <td>4380.0</td>\n",
       "    </tr>\n",
       "    <tr>\n",
       "      <th>PaymentScreenSuccessful</th>\n",
       "      <td>3399</td>\n",
       "      <td>47.0</td>\n",
       "      <td>3571.0</td>\n",
       "    </tr>\n",
       "  </tbody>\n",
       "</table>\n",
       "</div>"
      ],
      "text/plain": [
       "                         device_id  percent, %   shift\n",
       "event_name                                            \n",
       "MainScreenAppear              7156       100.0     NaN\n",
       "OffersScreenAppear            4380        61.0  7156.0\n",
       "CartScreenAppear              3571        50.0  4380.0\n",
       "PaymentScreenSuccessful       3399        47.0  3571.0"
      ]
     },
     "execution_count": 167,
     "metadata": {},
     "output_type": "execute_result"
    }
   ],
   "source": [
    "# Let's calculate what proportion goes to the next step of the funnel\n",
    "df1['shift'] = df1['device_id'].shift(1)\n",
    "df1"
   ]
  },
  {
   "cell_type": "code",
   "execution_count": 168,
   "id": "4bd3f9d6",
   "metadata": {},
   "outputs": [
    {
     "data": {
      "text/html": [
       "<div>\n",
       "<style scoped>\n",
       "    .dataframe tbody tr th:only-of-type {\n",
       "        vertical-align: middle;\n",
       "    }\n",
       "\n",
       "    .dataframe tbody tr th {\n",
       "        vertical-align: top;\n",
       "    }\n",
       "\n",
       "    .dataframe thead th {\n",
       "        text-align: right;\n",
       "    }\n",
       "</style>\n",
       "<table border=\"1\" class=\"dataframe\">\n",
       "  <thead>\n",
       "    <tr style=\"text-align: right;\">\n",
       "      <th></th>\n",
       "      <th>device_id</th>\n",
       "      <th>percent, %</th>\n",
       "      <th>shift</th>\n",
       "      <th>step</th>\n",
       "    </tr>\n",
       "    <tr>\n",
       "      <th>event_name</th>\n",
       "      <th></th>\n",
       "      <th></th>\n",
       "      <th></th>\n",
       "      <th></th>\n",
       "    </tr>\n",
       "  </thead>\n",
       "  <tbody>\n",
       "    <tr>\n",
       "      <th>MainScreenAppear</th>\n",
       "      <td>7156</td>\n",
       "      <td>100.0</td>\n",
       "      <td>NaN</td>\n",
       "      <td>NaN</td>\n",
       "    </tr>\n",
       "    <tr>\n",
       "      <th>OffersScreenAppear</th>\n",
       "      <td>4380</td>\n",
       "      <td>61.0</td>\n",
       "      <td>7156.0</td>\n",
       "      <td>61.0</td>\n",
       "    </tr>\n",
       "    <tr>\n",
       "      <th>CartScreenAppear</th>\n",
       "      <td>3571</td>\n",
       "      <td>50.0</td>\n",
       "      <td>4380.0</td>\n",
       "      <td>82.0</td>\n",
       "    </tr>\n",
       "    <tr>\n",
       "      <th>PaymentScreenSuccessful</th>\n",
       "      <td>3399</td>\n",
       "      <td>47.0</td>\n",
       "      <td>3571.0</td>\n",
       "      <td>95.0</td>\n",
       "    </tr>\n",
       "  </tbody>\n",
       "</table>\n",
       "</div>"
      ],
      "text/plain": [
       "                         device_id  percent, %   shift  step\n",
       "event_name                                                  \n",
       "MainScreenAppear              7156       100.0     NaN   NaN\n",
       "OffersScreenAppear            4380        61.0  7156.0  61.0\n",
       "CartScreenAppear              3571        50.0  4380.0  82.0\n",
       "PaymentScreenSuccessful       3399        47.0  3571.0  95.0"
      ]
     },
     "execution_count": 168,
     "metadata": {},
     "output_type": "execute_result"
    }
   ],
   "source": [
    "df1['step'] = round(df1['device_id']/df1['shift']*100)\n",
    "df1"
   ]
  },
  {
   "cell_type": "markdown",
   "id": "212e49d1",
   "metadata": {},
   "source": [
    "conclusion: most users is lost in the first step after viewing the main screen. 39%\n",
    "From the moment of the first event to payment, 47% of users reach"
   ]
  },
  {
   "cell_type": "markdown",
   "id": "5d764366",
   "metadata": {},
   "source": [
    "## 5. Analysis of the results of the experiment"
   ]
  },
  {
   "cell_type": "code",
   "execution_count": 169,
   "id": "839e8a3e",
   "metadata": {},
   "outputs": [
    {
     "data": {
      "text/html": [
       "<div>\n",
       "<style scoped>\n",
       "    .dataframe tbody tr th:only-of-type {\n",
       "        vertical-align: middle;\n",
       "    }\n",
       "\n",
       "    .dataframe tbody tr th {\n",
       "        vertical-align: top;\n",
       "    }\n",
       "\n",
       "    .dataframe thead th {\n",
       "        text-align: right;\n",
       "    }\n",
       "</style>\n",
       "<table border=\"1\" class=\"dataframe\">\n",
       "  <thead>\n",
       "    <tr style=\"text-align: right;\">\n",
       "      <th></th>\n",
       "      <th>device_id</th>\n",
       "    </tr>\n",
       "    <tr>\n",
       "      <th>group</th>\n",
       "      <th></th>\n",
       "    </tr>\n",
       "  </thead>\n",
       "  <tbody>\n",
       "    <tr>\n",
       "      <th>246</th>\n",
       "      <td>2355</td>\n",
       "    </tr>\n",
       "    <tr>\n",
       "      <th>247</th>\n",
       "      <td>2392</td>\n",
       "    </tr>\n",
       "    <tr>\n",
       "      <th>248</th>\n",
       "      <td>2409</td>\n",
       "    </tr>\n",
       "  </tbody>\n",
       "</table>\n",
       "</div>"
      ],
      "text/plain": [
       "       device_id\n",
       "group           \n",
       "246         2355\n",
       "247         2392\n",
       "248         2409"
      ]
     },
     "execution_count": 169,
     "metadata": {},
     "output_type": "execute_result"
    }
   ],
   "source": [
    "#let's check how many users are in each experimental group\n",
    "df[df['event_name'] == 'MainScreenAppear'].groupby('group').agg({'device_id': 'nunique'})"
   ]
  },
  {
   "cell_type": "code",
   "execution_count": 170,
   "id": "5257e44d",
   "metadata": {},
   "outputs": [
    {
     "data": {
      "text/html": [
       "<div>\n",
       "<style scoped>\n",
       "    .dataframe tbody tr th:only-of-type {\n",
       "        vertical-align: middle;\n",
       "    }\n",
       "\n",
       "    .dataframe tbody tr th {\n",
       "        vertical-align: top;\n",
       "    }\n",
       "\n",
       "    .dataframe thead th {\n",
       "        text-align: right;\n",
       "    }\n",
       "</style>\n",
       "<table border=\"1\" class=\"dataframe\">\n",
       "  <thead>\n",
       "    <tr style=\"text-align: right;\">\n",
       "      <th></th>\n",
       "      <th>device_id</th>\n",
       "    </tr>\n",
       "    <tr>\n",
       "      <th>group</th>\n",
       "      <th></th>\n",
       "    </tr>\n",
       "  </thead>\n",
       "  <tbody>\n",
       "    <tr>\n",
       "      <th>246</th>\n",
       "      <td>1152</td>\n",
       "    </tr>\n",
       "    <tr>\n",
       "      <th>247</th>\n",
       "      <td>1118</td>\n",
       "    </tr>\n",
       "    <tr>\n",
       "      <th>248</th>\n",
       "      <td>1129</td>\n",
       "    </tr>\n",
       "  </tbody>\n",
       "</table>\n",
       "</div>"
      ],
      "text/plain": [
       "       device_id\n",
       "group           \n",
       "246         1152\n",
       "247         1118\n",
       "248         1129"
      ]
     },
     "execution_count": 170,
     "metadata": {},
     "output_type": "execute_result"
    }
   ],
   "source": [
    "df[df['event_name'] == 'PaymentScreenSuccessful'].groupby('group').agg({'device_id': 'nunique'})"
   ]
  },
  {
   "cell_type": "code",
   "execution_count": 171,
   "id": "568f6fbf",
   "metadata": {},
   "outputs": [
    {
     "data": {
      "text/html": [
       "<div>\n",
       "<style scoped>\n",
       "    .dataframe tbody tr th:only-of-type {\n",
       "        vertical-align: middle;\n",
       "    }\n",
       "\n",
       "    .dataframe tbody tr th {\n",
       "        vertical-align: top;\n",
       "    }\n",
       "\n",
       "    .dataframe thead th {\n",
       "        text-align: right;\n",
       "    }\n",
       "</style>\n",
       "<table border=\"1\" class=\"dataframe\">\n",
       "  <thead>\n",
       "    <tr style=\"text-align: right;\">\n",
       "      <th>group</th>\n",
       "      <th>246</th>\n",
       "      <th>247</th>\n",
       "      <th>248</th>\n",
       "      <th>246+247</th>\n",
       "    </tr>\n",
       "    <tr>\n",
       "      <th>event_name</th>\n",
       "      <th></th>\n",
       "      <th></th>\n",
       "      <th></th>\n",
       "      <th></th>\n",
       "    </tr>\n",
       "  </thead>\n",
       "  <tbody>\n",
       "    <tr>\n",
       "      <th>MainScreenAppear</th>\n",
       "      <td>2355</td>\n",
       "      <td>2392</td>\n",
       "      <td>2409</td>\n",
       "      <td>4747</td>\n",
       "    </tr>\n",
       "    <tr>\n",
       "      <th>OffersScreenAppear</th>\n",
       "      <td>1480</td>\n",
       "      <td>1438</td>\n",
       "      <td>1462</td>\n",
       "      <td>2918</td>\n",
       "    </tr>\n",
       "    <tr>\n",
       "      <th>CartScreenAppear</th>\n",
       "      <td>1213</td>\n",
       "      <td>1184</td>\n",
       "      <td>1174</td>\n",
       "      <td>2397</td>\n",
       "    </tr>\n",
       "    <tr>\n",
       "      <th>PaymentScreenSuccessful</th>\n",
       "      <td>1152</td>\n",
       "      <td>1118</td>\n",
       "      <td>1129</td>\n",
       "      <td>2270</td>\n",
       "    </tr>\n",
       "  </tbody>\n",
       "</table>\n",
       "</div>"
      ],
      "text/plain": [
       "group                     246   247   248  246+247\n",
       "event_name                                        \n",
       "MainScreenAppear         2355  2392  2409     4747\n",
       "OffersScreenAppear       1480  1438  1462     2918\n",
       "CartScreenAppear         1213  1184  1174     2397\n",
       "PaymentScreenSuccessful  1152  1118  1129     2270"
      ]
     },
     "execution_count": 171,
     "metadata": {},
     "output_type": "execute_result"
    }
   ],
   "source": [
    "#Add a merged group '246+247'\n",
    "funnels = df.pivot_table(index='event_name', columns='group',values='device_id',aggfunc='nunique')\\\n",
    "                       .sort_values('246',ascending=False)\n",
    "funnels['246+247'] = funnels['246'] + funnels['247']\n",
    "funnels.drop(['Tutorial'], inplace=True)\n",
    "funnels"
   ]
  },
  {
   "cell_type": "code",
   "execution_count": 172,
   "id": "c8e1a789",
   "metadata": {
    "scrolled": false
   },
   "outputs": [
    {
     "data": {
      "text/html": [
       "<div>\n",
       "<style scoped>\n",
       "    .dataframe tbody tr th:only-of-type {\n",
       "        vertical-align: middle;\n",
       "    }\n",
       "\n",
       "    .dataframe tbody tr th {\n",
       "        vertical-align: top;\n",
       "    }\n",
       "\n",
       "    .dataframe thead th {\n",
       "        text-align: right;\n",
       "    }\n",
       "</style>\n",
       "<table border=\"1\" class=\"dataframe\">\n",
       "  <thead>\n",
       "    <tr style=\"text-align: right;\">\n",
       "      <th></th>\n",
       "      <th>device_id</th>\n",
       "    </tr>\n",
       "    <tr>\n",
       "      <th>group</th>\n",
       "      <th></th>\n",
       "    </tr>\n",
       "  </thead>\n",
       "  <tbody>\n",
       "    <tr>\n",
       "      <th>246</th>\n",
       "      <td>2393</td>\n",
       "    </tr>\n",
       "    <tr>\n",
       "      <th>247</th>\n",
       "      <td>2434</td>\n",
       "    </tr>\n",
       "    <tr>\n",
       "      <th>248</th>\n",
       "      <td>2459</td>\n",
       "    </tr>\n",
       "  </tbody>\n",
       "</table>\n",
       "</div>"
      ],
      "text/plain": [
       "       device_id\n",
       "group           \n",
       "246         2393\n",
       "247         2434\n",
       "248         2459"
      ]
     },
     "execution_count": 172,
     "metadata": {},
     "output_type": "execute_result"
    }
   ],
   "source": [
    "#make a table to account for the total number of users\n",
    "users = df.groupby('group')['device_id'].nunique().to_frame()\n",
    "users"
   ]
  },
  {
   "cell_type": "code",
   "execution_count": 173,
   "id": "240e8874",
   "metadata": {},
   "outputs": [
    {
     "data": {
      "text/html": [
       "<div>\n",
       "<style scoped>\n",
       "    .dataframe tbody tr th:only-of-type {\n",
       "        vertical-align: middle;\n",
       "    }\n",
       "\n",
       "    .dataframe tbody tr th {\n",
       "        vertical-align: top;\n",
       "    }\n",
       "\n",
       "    .dataframe thead th {\n",
       "        text-align: right;\n",
       "    }\n",
       "</style>\n",
       "<table border=\"1\" class=\"dataframe\">\n",
       "  <thead>\n",
       "    <tr style=\"text-align: right;\">\n",
       "      <th></th>\n",
       "      <th>device_id</th>\n",
       "    </tr>\n",
       "    <tr>\n",
       "      <th>group</th>\n",
       "      <th></th>\n",
       "    </tr>\n",
       "  </thead>\n",
       "  <tbody>\n",
       "    <tr>\n",
       "      <th>246</th>\n",
       "      <td>2393</td>\n",
       "    </tr>\n",
       "    <tr>\n",
       "      <th>247</th>\n",
       "      <td>2434</td>\n",
       "    </tr>\n",
       "    <tr>\n",
       "      <th>248</th>\n",
       "      <td>2459</td>\n",
       "    </tr>\n",
       "    <tr>\n",
       "      <th>246+247</th>\n",
       "      <td>4827</td>\n",
       "    </tr>\n",
       "  </tbody>\n",
       "</table>\n",
       "</div>"
      ],
      "text/plain": [
       "         device_id\n",
       "group             \n",
       "246           2393\n",
       "247           2434\n",
       "248           2459\n",
       "246+247       4827"
      ]
     },
     "execution_count": 173,
     "metadata": {},
     "output_type": "execute_result"
    }
   ],
   "source": [
    "#add a row with the combined group\n",
    "users = users.reset_index()\n",
    "users.loc[3] = ['246+247', 4827]\n",
    "users = users.set_index(users.columns[0])\n",
    "users"
   ]
  },
  {
   "cell_type": "code",
   "execution_count": 174,
   "id": "3606c446",
   "metadata": {},
   "outputs": [],
   "source": [
    "#function for finding statistical significance between compared groups\n",
    "def z_test(exp1, exp2, event, alpha): \n",
    "    p1_ev = funnels.loc[event, exp1]\n",
    "    p2_ev = funnels.loc[event, exp2] \n",
    "    p1_us = users.loc[exp1, 'device_id'] \n",
    "    p2_us = users.loc[exp2, 'device_id'] \n",
    "    p1 = p1_ev / p1_us \n",
    "    p2 = p2_ev / p2_us \n",
    "    difference = p1 - p2\n",
    "    p_combined = (p1_ev + p2_ev) / (p1_us + p2_us) \n",
    "    z_value = difference / mth.sqrt(p_combined * (1 - p_combined) * (1 / p1_us + 1 / p2_us))\n",
    "    distr = st.norm(0, 1)\n",
    "    p_value = (1 - distr.cdf(abs(z_value))) * 2\n",
    "    print('Check for  {} and {}, event: {}, p-value: {p_value:.2f}'.format(exp1, exp2, event, p_value=p_value))\n",
    "    if (p_value < alpha):\n",
    "        print(\"Rejecting the null hypothesis\")\n",
    "    else:\n",
    "        print(\"Failed to reject the null hypothesis\")"
   ]
  },
  {
   "cell_type": "markdown",
   "id": "f2b24c00",
   "metadata": {},
   "source": [
    "Lets find the statistical significance between the control groups (246 and 247) for each funnel step.\n",
    "H0 - groups have no statistically significant difference. H1 - there is a statistically significant difference between the groups.\n",
    "the level of statistical significance is defined as Alpha = 0.05."
   ]
  },
  {
   "cell_type": "code",
   "execution_count": 175,
   "id": "0f541c43",
   "metadata": {},
   "outputs": [
    {
     "name": "stdout",
     "output_type": "stream",
     "text": [
      "Check for  246 and 247, event: MainScreenAppear, p-value: 0.71\n",
      "Failed to reject the null hypothesis\n",
      "\n",
      "Check for  246 and 247, event: OffersScreenAppear, p-value: 0.05\n",
      "Rejecting the null hypothesis\n",
      "\n",
      "Check for  246 and 247, event: CartScreenAppear, p-value: 0.16\n",
      "Failed to reject the null hypothesis\n",
      "\n",
      "Check for  246 and 247, event: PaymentScreenSuccessful, p-value: 0.12\n",
      "Failed to reject the null hypothesis\n",
      "\n"
     ]
    }
   ],
   "source": [
    "for event in funnels.index:\n",
    "    z_test('246', '247', event, 0.05)\n",
    "    print()"
   ]
  },
  {
   "cell_type": "markdown",
   "id": "a413e1d8",
   "metadata": {},
   "source": [
    "**Conclusion:\n",
    "there is a statistically significant difference between the control groups in the second step (suggestion screen) of the funnel**"
   ]
  },
  {
   "cell_type": "markdown",
   "id": "2eb437bb",
   "metadata": {},
   "source": [
    "Lets find the statistical significance between the control group 246 and the experimental group 248 for each step of the funnel. The level of statistical significance is defined as Alpha =0.05.\n",
    "H0 - there is no statistically significant difference between the groups. H1 - groups differ from each other."
   ]
  },
  {
   "cell_type": "code",
   "execution_count": 176,
   "id": "86713b44",
   "metadata": {},
   "outputs": [
    {
     "name": "stdout",
     "output_type": "stream",
     "text": [
      "Check for  246 and 248, event: MainScreenAppear, p-value: 0.25\n",
      "Failed to reject the null hypothesis\n",
      "\n",
      "Check for  246 and 248, event: OffersScreenAppear, p-value: 0.09\n",
      "Failed to reject the null hypothesis\n",
      "\n",
      "Check for  246 and 248, event: CartScreenAppear, p-value: 0.04\n",
      "Rejecting the null hypothesis\n",
      "\n",
      "Check for  246 and 248, event: PaymentScreenSuccessful, p-value: 0.12\n",
      "Failed to reject the null hypothesis\n",
      "\n"
     ]
    }
   ],
   "source": [
    "for event in funnels.index:\n",
    "    z_test('246', '248', event, 0.05)\n",
    "    print()"
   ]
  },
  {
   "cell_type": "markdown",
   "id": "616d7d98",
   "metadata": {},
   "source": [
    "**Conclusion: there is a statistically significant difference between the groups at the third step of the funnel (basket screen).**"
   ]
  },
  {
   "cell_type": "markdown",
   "id": "af7529f8",
   "metadata": {},
   "source": [
    "Lets find the statistical significance between the control group 247 and the experimental group 248 for each step of the funnel. The level of statistical significance is defined as Alpha =0.05.\n",
    "H0 - there is no statistically significant difference between the groups. H1 - groups differ from each other."
   ]
  },
  {
   "cell_type": "code",
   "execution_count": 177,
   "id": "e0f451f5",
   "metadata": {},
   "outputs": [
    {
     "name": "stdout",
     "output_type": "stream",
     "text": [
      "Check for  247 and 248, event: MainScreenAppear, p-value: 0.43\n",
      "Failed to reject the null hypothesis\n",
      "\n",
      "Check for  247 and 248, event: OffersScreenAppear, p-value: 0.79\n",
      "Failed to reject the null hypothesis\n",
      "\n",
      "Check for  247 and 248, event: CartScreenAppear, p-value: 0.53\n",
      "Failed to reject the null hypothesis\n",
      "\n",
      "Check for  247 and 248, event: PaymentScreenSuccessful, p-value: 0.99\n",
      "Failed to reject the null hypothesis\n",
      "\n"
     ]
    }
   ],
   "source": [
    "for event in funnels.index:\n",
    "    z_test('247', '248', event, 0.05)\n",
    "    print()"
   ]
  },
  {
   "cell_type": "markdown",
   "id": "abfd9acf",
   "metadata": {},
   "source": [
    "**Conclusion: there is no statistically significant difference between the compared groups.**"
   ]
  },
  {
   "cell_type": "markdown",
   "id": "d732336e",
   "metadata": {},
   "source": [
    "Lets find the statistical significance between the pooled control group 246-247 and the experimental group 248 for each funnel step. The level of statistical significance is defined as Alpha =0.05.\n",
    "H0 - there is no statistically significant difference between the groups. H1 - groups differ from each other."
   ]
  },
  {
   "cell_type": "code",
   "execution_count": 178,
   "id": "c38bd2ee",
   "metadata": {},
   "outputs": [
    {
     "name": "stdout",
     "output_type": "stream",
     "text": [
      "Check for  246+247 and 248, event: MainScreenAppear, p-value: 0.25\n",
      "Failed to reject the null hypothesis\n",
      "\n",
      "Check for  246+247 and 248, event: OffersScreenAppear, p-value: 0.41\n",
      "Failed to reject the null hypothesis\n",
      "\n",
      "Check for  246+247 and 248, event: CartScreenAppear, p-value: 0.12\n",
      "Failed to reject the null hypothesis\n",
      "\n",
      "Check for  246+247 and 248, event: PaymentScreenSuccessful, p-value: 0.37\n",
      "Failed to reject the null hypothesis\n",
      "\n"
     ]
    }
   ],
   "source": [
    "for event in funnels.index:\n",
    "    z_test('246+247', '248', event, 0.05)\n",
    "    print()"
   ]
  },
  {
   "cell_type": "markdown",
   "id": "f444119e",
   "metadata": {},
   "source": [
    "**Conclusion: there is no statistically significant difference between the compared groups.**"
   ]
  },
  {
   "cell_type": "markdown",
   "id": "c891cf2f",
   "metadata": {},
   "source": [
    "## 6. General conclusion."
   ]
  },
  {
   "cell_type": "markdown",
   "id": "4f5de316",
   "metadata": {},
   "source": [
    "As a result of the study, we performed 4 **AA** tests and 12 **AB** tests. \n",
    "* The sensitivity criterion is set at 0.05. I see no reason to make criteria at 0.01, since the test results show that everything is visible with a criterion of 0.05.\n",
    "Thus, from the measurement results, it can be seen that:\n",
    "* there are no statistical data on the differences between the control loads and the experimental load, the difference between the control loads in the second stage of the funnel\n",
    "* confusing, but I think that it is important to look at the conversion in the first step and in the payment step, since they are present in most cases. Signs and effects of business.\n",
    "* you can achieve a steep conversion per step, but if the conversion into a purchase remains unchanged, then you won’t be able to call such work effective. Therefore, I believe that the experiment can be considered unsuccessful and proceed to test other hypotheses."
   ]
  }
 ],
 "metadata": {
  "kernelspec": {
   "display_name": "Python 3 (ipykernel)",
   "language": "python",
   "name": "python3"
  },
  "language_info": {
   "codemirror_mode": {
    "name": "ipython",
    "version": 3
   },
   "file_extension": ".py",
   "mimetype": "text/x-python",
   "name": "python",
   "nbconvert_exporter": "python",
   "pygments_lexer": "ipython3",
   "version": "3.9.12"
  }
 },
 "nbformat": 4,
 "nbformat_minor": 5
}
