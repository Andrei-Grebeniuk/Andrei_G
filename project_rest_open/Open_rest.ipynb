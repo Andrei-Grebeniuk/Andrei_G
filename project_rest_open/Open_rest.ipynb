{
 "cells": [
  {
   "cell_type": "markdown",
   "id": "18cd3b10",
   "metadata": {},
   "source": [
    "# Project. Market of public catering establishments in Moscow"
   ]
  },
  {
   "cell_type": "markdown",
   "id": "9c517a85",
   "metadata": {},
   "source": [
    "**Task: prepare a study of the Moscow market, find interesting features and present the results obtained, which in the future will help in choosing a suitable place for investors to open a catering business.**"
   ]
  },
  {
   "cell_type": "markdown",
   "id": "889622fd",
   "metadata": {},
   "source": [
    "**Plan:**\n",
    "1. [Loading data, studying general information.](#info)\n",
    "2. [Data preprocessing.](#предобработка)\n",
    "3. [Data analysis.](#analys)\n",
    "4. [Detailed reserching: opening a coffee house.](#detail)\n",
    "5. [Presentation .](#present)\n",
    "6. [General conclusion.](#end)"
   ]
  },
  {
   "cell_type": "markdown",
   "id": "96df2352",
   "metadata": {},
   "source": [
    "## 1. Loading data, studying general information.<a id=\"info\"></a>"
   ]
  },
  {
   "cell_type": "code",
   "execution_count": 84,
   "id": "2b61d5f3",
   "metadata": {},
   "outputs": [
    {
     "name": "stdout",
     "output_type": "stream",
     "text": [
      "Requirement already satisfied: folium in c:\\users\\sony\\anaconda3\\lib\\site-packages (0.13.0)\n",
      "Requirement already satisfied: numpy in c:\\users\\sony\\anaconda3\\lib\\site-packages (from folium) (1.21.5)\n",
      "Requirement already satisfied: jinja2>=2.9 in c:\\users\\sony\\anaconda3\\lib\\site-packages (from folium) (2.11.3)\n",
      "Requirement already satisfied: branca>=0.3.0 in c:\\users\\sony\\anaconda3\\lib\\site-packages (from folium) (0.6.0)\n",
      "Requirement already satisfied: requests in c:\\users\\sony\\anaconda3\\lib\\site-packages (from folium) (2.27.1)\n",
      "Requirement already satisfied: MarkupSafe>=0.23 in c:\\users\\sony\\anaconda3\\lib\\site-packages (from jinja2>=2.9->folium) (2.0.1)\n",
      "Requirement already satisfied: charset-normalizer~=2.0.0 in c:\\users\\sony\\anaconda3\\lib\\site-packages (from requests->folium) (2.0.4)\n",
      "Requirement already satisfied: idna<4,>=2.5 in c:\\users\\sony\\anaconda3\\lib\\site-packages (from requests->folium) (3.3)\n",
      "Requirement already satisfied: certifi>=2017.4.17 in c:\\users\\sony\\anaconda3\\lib\\site-packages (from requests->folium) (2021.10.8)\n",
      "Requirement already satisfied: urllib3<1.27,>=1.21.1 in c:\\users\\sony\\anaconda3\\lib\\site-packages (from requests->folium) (1.26.9)\n"
     ]
    }
   ],
   "source": [
    "! pip install folium"
   ]
  },
  {
   "cell_type": "code",
   "execution_count": 85,
   "id": "18969a3e",
   "metadata": {},
   "outputs": [],
   "source": [
    "import pandas as pd\n",
    "import seaborn as sns\n",
    "import matplotlib.pyplot as plt\n",
    "import numpy as np \n",
    "from scipy import stats as st\n",
    "import math as mt\n",
    "import datetime as dt\n",
    "from pandas.plotting import register_matplotlib_converters\n",
    "import warnings\n",
    "from matplotlib.pyplot import figure\n",
    "import plotly.express as px\n",
    "from plotly import graph_objects as go\n",
    "import folium\n",
    "import json\n",
    "from folium import Map, Choropleth"
   ]
  },
  {
   "cell_type": "code",
   "execution_count": 86,
   "id": "3666805f",
   "metadata": {},
   "outputs": [],
   "source": [
    "data = pd.read_csv('C:/Users/sony/Downloads/moscow_places.csv')"
   ]
  },
  {
   "cell_type": "code",
   "execution_count": 87,
   "id": "f0da2a20",
   "metadata": {
    "scrolled": true
   },
   "outputs": [
    {
     "data": {
      "text/html": [
       "<div>\n",
       "<style scoped>\n",
       "    .dataframe tbody tr th:only-of-type {\n",
       "        vertical-align: middle;\n",
       "    }\n",
       "\n",
       "    .dataframe tbody tr th {\n",
       "        vertical-align: top;\n",
       "    }\n",
       "\n",
       "    .dataframe thead th {\n",
       "        text-align: right;\n",
       "    }\n",
       "</style>\n",
       "<table border=\"1\" class=\"dataframe\">\n",
       "  <thead>\n",
       "    <tr style=\"text-align: right;\">\n",
       "      <th></th>\n",
       "      <th>name</th>\n",
       "      <th>category</th>\n",
       "      <th>address</th>\n",
       "      <th>district</th>\n",
       "      <th>hours</th>\n",
       "      <th>lat</th>\n",
       "      <th>lng</th>\n",
       "      <th>rating</th>\n",
       "      <th>price</th>\n",
       "      <th>avg_bill</th>\n",
       "      <th>middle_avg_bill</th>\n",
       "      <th>middle_coffee_cup</th>\n",
       "      <th>chain</th>\n",
       "      <th>seats</th>\n",
       "    </tr>\n",
       "  </thead>\n",
       "  <tbody>\n",
       "    <tr>\n",
       "      <th>0</th>\n",
       "      <td>WoWфли</td>\n",
       "      <td>кафе</td>\n",
       "      <td>Москва, улица Дыбенко, 7/1</td>\n",
       "      <td>Северный административный округ</td>\n",
       "      <td>ежедневно, 10:00–22:00</td>\n",
       "      <td>55.878494</td>\n",
       "      <td>37.478860</td>\n",
       "      <td>5.0</td>\n",
       "      <td>NaN</td>\n",
       "      <td>NaN</td>\n",
       "      <td>NaN</td>\n",
       "      <td>NaN</td>\n",
       "      <td>0</td>\n",
       "      <td>NaN</td>\n",
       "    </tr>\n",
       "    <tr>\n",
       "      <th>1</th>\n",
       "      <td>Четыре комнаты</td>\n",
       "      <td>ресторан</td>\n",
       "      <td>Москва, улица Дыбенко, 36, корп. 1</td>\n",
       "      <td>Северный административный округ</td>\n",
       "      <td>ежедневно, 10:00–22:00</td>\n",
       "      <td>55.875801</td>\n",
       "      <td>37.484479</td>\n",
       "      <td>4.5</td>\n",
       "      <td>выше среднего</td>\n",
       "      <td>Средний счёт:1500–1600 ₽</td>\n",
       "      <td>1550.0</td>\n",
       "      <td>NaN</td>\n",
       "      <td>0</td>\n",
       "      <td>4.0</td>\n",
       "    </tr>\n",
       "    <tr>\n",
       "      <th>2</th>\n",
       "      <td>Хазри</td>\n",
       "      <td>кафе</td>\n",
       "      <td>Москва, Клязьминская улица, 15</td>\n",
       "      <td>Северный административный округ</td>\n",
       "      <td>пн-чт 11:00–02:00; пт,сб 11:00–05:00; вс 11:00...</td>\n",
       "      <td>55.889146</td>\n",
       "      <td>37.525901</td>\n",
       "      <td>4.6</td>\n",
       "      <td>средние</td>\n",
       "      <td>Средний счёт:от 1000 ₽</td>\n",
       "      <td>1000.0</td>\n",
       "      <td>NaN</td>\n",
       "      <td>0</td>\n",
       "      <td>45.0</td>\n",
       "    </tr>\n",
       "    <tr>\n",
       "      <th>3</th>\n",
       "      <td>Dormouse Coffee Shop</td>\n",
       "      <td>кофейня</td>\n",
       "      <td>Москва, улица Маршала Федоренко, 12</td>\n",
       "      <td>Северный административный округ</td>\n",
       "      <td>ежедневно, 09:00–22:00</td>\n",
       "      <td>55.881608</td>\n",
       "      <td>37.488860</td>\n",
       "      <td>5.0</td>\n",
       "      <td>NaN</td>\n",
       "      <td>Цена чашки капучино:155–185 ₽</td>\n",
       "      <td>NaN</td>\n",
       "      <td>170.0</td>\n",
       "      <td>0</td>\n",
       "      <td>NaN</td>\n",
       "    </tr>\n",
       "    <tr>\n",
       "      <th>4</th>\n",
       "      <td>Иль Марко</td>\n",
       "      <td>пиццерия</td>\n",
       "      <td>Москва, Правобережная улица, 1Б</td>\n",
       "      <td>Северный административный округ</td>\n",
       "      <td>ежедневно, 10:00–22:00</td>\n",
       "      <td>55.881166</td>\n",
       "      <td>37.449357</td>\n",
       "      <td>5.0</td>\n",
       "      <td>средние</td>\n",
       "      <td>Средний счёт:400–600 ₽</td>\n",
       "      <td>500.0</td>\n",
       "      <td>NaN</td>\n",
       "      <td>1</td>\n",
       "      <td>148.0</td>\n",
       "    </tr>\n",
       "  </tbody>\n",
       "</table>\n",
       "</div>"
      ],
      "text/plain": [
       "                   name  category                              address  \\\n",
       "0                WoWфли      кафе           Москва, улица Дыбенко, 7/1   \n",
       "1        Четыре комнаты  ресторан   Москва, улица Дыбенко, 36, корп. 1   \n",
       "2                 Хазри      кафе       Москва, Клязьминская улица, 15   \n",
       "3  Dormouse Coffee Shop   кофейня  Москва, улица Маршала Федоренко, 12   \n",
       "4             Иль Марко  пиццерия      Москва, Правобережная улица, 1Б   \n",
       "\n",
       "                          district  \\\n",
       "0  Северный административный округ   \n",
       "1  Северный административный округ   \n",
       "2  Северный административный округ   \n",
       "3  Северный административный округ   \n",
       "4  Северный административный округ   \n",
       "\n",
       "                                               hours        lat        lng  \\\n",
       "0                             ежедневно, 10:00–22:00  55.878494  37.478860   \n",
       "1                             ежедневно, 10:00–22:00  55.875801  37.484479   \n",
       "2  пн-чт 11:00–02:00; пт,сб 11:00–05:00; вс 11:00...  55.889146  37.525901   \n",
       "3                             ежедневно, 09:00–22:00  55.881608  37.488860   \n",
       "4                             ежедневно, 10:00–22:00  55.881166  37.449357   \n",
       "\n",
       "   rating          price                       avg_bill  middle_avg_bill  \\\n",
       "0     5.0            NaN                            NaN              NaN   \n",
       "1     4.5  выше среднего       Средний счёт:1500–1600 ₽           1550.0   \n",
       "2     4.6        средние         Средний счёт:от 1000 ₽           1000.0   \n",
       "3     5.0            NaN  Цена чашки капучино:155–185 ₽              NaN   \n",
       "4     5.0        средние         Средний счёт:400–600 ₽            500.0   \n",
       "\n",
       "   middle_coffee_cup  chain  seats  \n",
       "0                NaN      0    NaN  \n",
       "1                NaN      0    4.0  \n",
       "2                NaN      0   45.0  \n",
       "3              170.0      0    NaN  \n",
       "4                NaN      1  148.0  "
      ]
     },
     "execution_count": 87,
     "metadata": {},
     "output_type": "execute_result"
    }
   ],
   "source": [
    "data.head(5)"
   ]
  },
  {
   "cell_type": "code",
   "execution_count": 88,
   "id": "7097a7d8",
   "metadata": {},
   "outputs": [
    {
     "name": "stdout",
     "output_type": "stream",
     "text": [
      "<class 'pandas.core.frame.DataFrame'>\n",
      "RangeIndex: 8406 entries, 0 to 8405\n",
      "Data columns (total 14 columns):\n",
      " #   Column             Non-Null Count  Dtype  \n",
      "---  ------             --------------  -----  \n",
      " 0   name               8406 non-null   object \n",
      " 1   category           8406 non-null   object \n",
      " 2   address            8406 non-null   object \n",
      " 3   district           8406 non-null   object \n",
      " 4   hours              7870 non-null   object \n",
      " 5   lat                8406 non-null   float64\n",
      " 6   lng                8406 non-null   float64\n",
      " 7   rating             8406 non-null   float64\n",
      " 8   price              3315 non-null   object \n",
      " 9   avg_bill           3816 non-null   object \n",
      " 10  middle_avg_bill    3149 non-null   float64\n",
      " 11  middle_coffee_cup  535 non-null    float64\n",
      " 12  chain              8406 non-null   int64  \n",
      " 13  seats              4795 non-null   float64\n",
      "dtypes: float64(6), int64(1), object(7)\n",
      "memory usage: 919.5+ KB\n"
     ]
    }
   ],
   "source": [
    "data.info()"
   ]
  },
  {
   "cell_type": "markdown",
   "id": "d1eeee24",
   "metadata": {},
   "source": [
    "**The table contains the following data:**\n",
    "1. name — businesses name;\n",
    "2. address — businesses address;\n",
    "3. category — businesses category;\n",
    "4. hours — information about days and hours of operation;\n",
    "5. lat — latitude of the geographic point where the businesses is located;\n",
    "6. lng — Longitude of the geographic point where the businesses is located;\n",
    "7. rating —  businesses rating according to user ratings in Yandex Maps (the highest rating is 5.0);\n",
    "8. price — the range of prices in the businesses, for example, “average”, “below average”, “above average”, and so on;\n",
    "9. avg_bill — a row that stores the average order value as a range;\n",
    "10. middle_avg_bill — number with an estimate of the average bill.\n",
    "11. middle_coffee_cup — number with an estimate of one cup of cappuccino\n",
    "12. chain — a number, expressed as 0 or 1, that indicates whether the establishment is a chain store;\n",
    "13. district — the administrative region in which the institution is located;\n",
    "14. seats — number of seats."
   ]
  },
  {
   "cell_type": "markdown",
   "id": "a56564a6",
   "metadata": {},
   "source": [
    "There are 14 columns in the dataset, in some columns we see Nans. Float and Object data types. I think it's better change the data type in the chain column to boolean values."
   ]
  },
  {
   "cell_type": "markdown",
   "id": "5a394d0b",
   "metadata": {},
   "source": [
    "## 2. Data preprocessing.<a id=\"предобработка\"></a>"
   ]
  },
  {
   "cell_type": "code",
   "execution_count": 89,
   "id": "ad69aedd",
   "metadata": {},
   "outputs": [
    {
     "data": {
      "text/plain": [
       "middle_coffee_cup    7871\n",
       "middle_avg_bill      5257\n",
       "price                5091\n",
       "avg_bill             4590\n",
       "seats                3611\n",
       "hours                 536\n",
       "name                    0\n",
       "category                0\n",
       "address                 0\n",
       "district                0\n",
       "lat                     0\n",
       "lng                     0\n",
       "rating                  0\n",
       "chain                   0\n",
       "dtype: int64"
      ]
     },
     "execution_count": 89,
     "metadata": {},
     "output_type": "execute_result"
    }
   ],
   "source": [
    "#lets check which columns have the most Nans\n",
    "data.isna().sum().sort_values(ascending= False)"
   ]
  },
  {
   "cell_type": "code",
   "execution_count": 90,
   "id": "e40c9119",
   "metadata": {},
   "outputs": [
    {
     "data": {
      "text/plain": [
       "middle_coffee_cup    0.936355\n",
       "middle_avg_bill      0.625387\n",
       "price                0.605639\n",
       "avg_bill             0.546039\n",
       "seats                0.429574\n",
       "hours                0.063764\n",
       "name                 0.000000\n",
       "category             0.000000\n",
       "address              0.000000\n",
       "district             0.000000\n",
       "lat                  0.000000\n",
       "lng                  0.000000\n",
       "rating               0.000000\n",
       "chain                0.000000\n",
       "dtype: float64"
      ]
     },
     "execution_count": 90,
     "metadata": {},
     "output_type": "execute_result"
    }
   ],
   "source": [
    "data.isna().mean().sort_values(ascending=False)"
   ]
  },
  {
   "cell_type": "code",
   "execution_count": 91,
   "id": "d3549d8b",
   "metadata": {
    "scrolled": true
   },
   "outputs": [
    {
     "data": {
      "text/html": [
       "<div>\n",
       "<style scoped>\n",
       "    .dataframe tbody tr th:only-of-type {\n",
       "        vertical-align: middle;\n",
       "    }\n",
       "\n",
       "    .dataframe tbody tr th {\n",
       "        vertical-align: top;\n",
       "    }\n",
       "\n",
       "    .dataframe thead th {\n",
       "        text-align: right;\n",
       "    }\n",
       "</style>\n",
       "<table border=\"1\" class=\"dataframe\">\n",
       "  <thead>\n",
       "    <tr style=\"text-align: right;\">\n",
       "      <th></th>\n",
       "      <th>lat</th>\n",
       "      <th>lng</th>\n",
       "      <th>rating</th>\n",
       "      <th>middle_avg_bill</th>\n",
       "      <th>middle_coffee_cup</th>\n",
       "      <th>chain</th>\n",
       "      <th>seats</th>\n",
       "    </tr>\n",
       "  </thead>\n",
       "  <tbody>\n",
       "    <tr>\n",
       "      <th>count</th>\n",
       "      <td>8406.000000</td>\n",
       "      <td>8406.000000</td>\n",
       "      <td>8406.000000</td>\n",
       "      <td>3149.000000</td>\n",
       "      <td>535.000000</td>\n",
       "      <td>8406.000000</td>\n",
       "      <td>4795.000000</td>\n",
       "    </tr>\n",
       "    <tr>\n",
       "      <th>mean</th>\n",
       "      <td>55.750109</td>\n",
       "      <td>37.608570</td>\n",
       "      <td>4.229895</td>\n",
       "      <td>958.053668</td>\n",
       "      <td>174.721495</td>\n",
       "      <td>0.381275</td>\n",
       "      <td>108.421689</td>\n",
       "    </tr>\n",
       "    <tr>\n",
       "      <th>std</th>\n",
       "      <td>0.069658</td>\n",
       "      <td>0.098597</td>\n",
       "      <td>0.470348</td>\n",
       "      <td>1009.732845</td>\n",
       "      <td>88.951103</td>\n",
       "      <td>0.485729</td>\n",
       "      <td>122.833396</td>\n",
       "    </tr>\n",
       "    <tr>\n",
       "      <th>min</th>\n",
       "      <td>55.573942</td>\n",
       "      <td>37.355651</td>\n",
       "      <td>1.000000</td>\n",
       "      <td>0.000000</td>\n",
       "      <td>60.000000</td>\n",
       "      <td>0.000000</td>\n",
       "      <td>0.000000</td>\n",
       "    </tr>\n",
       "    <tr>\n",
       "      <th>25%</th>\n",
       "      <td>55.705155</td>\n",
       "      <td>37.538583</td>\n",
       "      <td>4.100000</td>\n",
       "      <td>375.000000</td>\n",
       "      <td>124.500000</td>\n",
       "      <td>0.000000</td>\n",
       "      <td>40.000000</td>\n",
       "    </tr>\n",
       "    <tr>\n",
       "      <th>50%</th>\n",
       "      <td>55.753425</td>\n",
       "      <td>37.605246</td>\n",
       "      <td>4.300000</td>\n",
       "      <td>750.000000</td>\n",
       "      <td>169.000000</td>\n",
       "      <td>0.000000</td>\n",
       "      <td>75.000000</td>\n",
       "    </tr>\n",
       "    <tr>\n",
       "      <th>75%</th>\n",
       "      <td>55.795041</td>\n",
       "      <td>37.664792</td>\n",
       "      <td>4.400000</td>\n",
       "      <td>1250.000000</td>\n",
       "      <td>225.000000</td>\n",
       "      <td>1.000000</td>\n",
       "      <td>140.000000</td>\n",
       "    </tr>\n",
       "    <tr>\n",
       "      <th>max</th>\n",
       "      <td>55.928943</td>\n",
       "      <td>37.874466</td>\n",
       "      <td>5.000000</td>\n",
       "      <td>35000.000000</td>\n",
       "      <td>1568.000000</td>\n",
       "      <td>1.000000</td>\n",
       "      <td>1288.000000</td>\n",
       "    </tr>\n",
       "  </tbody>\n",
       "</table>\n",
       "</div>"
      ],
      "text/plain": [
       "               lat          lng       rating  middle_avg_bill  \\\n",
       "count  8406.000000  8406.000000  8406.000000      3149.000000   \n",
       "mean     55.750109    37.608570     4.229895       958.053668   \n",
       "std       0.069658     0.098597     0.470348      1009.732845   \n",
       "min      55.573942    37.355651     1.000000         0.000000   \n",
       "25%      55.705155    37.538583     4.100000       375.000000   \n",
       "50%      55.753425    37.605246     4.300000       750.000000   \n",
       "75%      55.795041    37.664792     4.400000      1250.000000   \n",
       "max      55.928943    37.874466     5.000000     35000.000000   \n",
       "\n",
       "       middle_coffee_cup        chain        seats  \n",
       "count         535.000000  8406.000000  4795.000000  \n",
       "mean          174.721495     0.381275   108.421689  \n",
       "std            88.951103     0.485729   122.833396  \n",
       "min            60.000000     0.000000     0.000000  \n",
       "25%           124.500000     0.000000    40.000000  \n",
       "50%           169.000000     0.000000    75.000000  \n",
       "75%           225.000000     1.000000   140.000000  \n",
       "max          1568.000000     1.000000  1288.000000  "
      ]
     },
     "execution_count": 91,
     "metadata": {},
     "output_type": "execute_result"
    }
   ],
   "source": [
    "data.describe()"
   ]
  },
  {
   "cell_type": "markdown",
   "id": "6278c66b",
   "metadata": {},
   "source": [
    "Let's check the histograms to have an representation about the distribution of data"
   ]
  },
  {
   "cell_type": "code",
   "execution_count": 92,
   "id": "4f2a58c6",
   "metadata": {
    "scrolled": true
   },
   "outputs": [
    {
     "data": {
      "image/png": "[encoded data removed]",
      "text/plain": [
       "<Figure size 1080x1440 with 9 Axes>"
      ]
     },
     "metadata": {},
     "output_type": "display_data"
    }
   ],
   "source": [
    "sns.set_style('dark')\n",
    "data.hist(bins=30,figsize=(15, 20), color = '#473a3a');"
   ]
  },
  {
   "cell_type": "markdown",
   "id": "190a594e",
   "metadata": {},
   "source": [
    "**Conclusion:** The dataset contains 8406 rows. There are many Nans in the data, especially in the cost of average cup of coffee (nearly 90% Nans). The number of seats, the cost of average cup of coffee, and the average bill clearly contain abnormal values, which can be seen from the histograms, as well as from the Describe table (maximum values: 1288, 1568 and 35000, respectively)."
   ]
  },
  {
   "cell_type": "code",
   "execution_count": 93,
   "id": "1d5608e4",
   "metadata": {},
   "outputs": [],
   "source": [
    "#convert the column with the name of the businesses to lowerstring\n",
    "data['name'] = data['name'].str.lower() "
   ]
  },
  {
   "cell_type": "code",
   "execution_count": 94,
   "id": "3bf46115",
   "metadata": {},
   "outputs": [
    {
     "data": {
      "text/html": [
       "<div>\n",
       "<style scoped>\n",
       "    .dataframe tbody tr th:only-of-type {\n",
       "        vertical-align: middle;\n",
       "    }\n",
       "\n",
       "    .dataframe tbody tr th {\n",
       "        vertical-align: top;\n",
       "    }\n",
       "\n",
       "    .dataframe thead th {\n",
       "        text-align: right;\n",
       "    }\n",
       "</style>\n",
       "<table border=\"1\" class=\"dataframe\">\n",
       "  <thead>\n",
       "    <tr style=\"text-align: right;\">\n",
       "      <th></th>\n",
       "      <th>name</th>\n",
       "      <th>category</th>\n",
       "      <th>address</th>\n",
       "      <th>district</th>\n",
       "      <th>hours</th>\n",
       "      <th>lat</th>\n",
       "      <th>lng</th>\n",
       "      <th>rating</th>\n",
       "      <th>price</th>\n",
       "      <th>avg_bill</th>\n",
       "      <th>middle_avg_bill</th>\n",
       "      <th>middle_coffee_cup</th>\n",
       "      <th>chain</th>\n",
       "      <th>seats</th>\n",
       "    </tr>\n",
       "  </thead>\n",
       "  <tbody>\n",
       "    <tr>\n",
       "      <th>4527</th>\n",
       "      <td>хачапури и вино</td>\n",
       "      <td>ресторан</td>\n",
       "      <td>Москва, улица Солянка, 1/2с1</td>\n",
       "      <td>Центральный административный округ</td>\n",
       "      <td>пн-ср 12:00–23:00; чт 12:00–00:00; пт,сб 12:00...</td>\n",
       "      <td>55.753841</td>\n",
       "      <td>37.638124</td>\n",
       "      <td>4.7</td>\n",
       "      <td>NaN</td>\n",
       "      <td>NaN</td>\n",
       "      <td>NaN</td>\n",
       "      <td>NaN</td>\n",
       "      <td>1</td>\n",
       "      <td>NaN</td>\n",
       "    </tr>\n",
       "    <tr>\n",
       "      <th>457</th>\n",
       "      <td>drive café</td>\n",
       "      <td>кафе</td>\n",
       "      <td>Москва, Фестивальная улица, 6А, стр. 1</td>\n",
       "      <td>Северный административный округ</td>\n",
       "      <td>ежедневно, круглосуточно</td>\n",
       "      <td>55.858064</td>\n",
       "      <td>37.487468</td>\n",
       "      <td>4.2</td>\n",
       "      <td>NaN</td>\n",
       "      <td>NaN</td>\n",
       "      <td>NaN</td>\n",
       "      <td>NaN</td>\n",
       "      <td>1</td>\n",
       "      <td>100.0</td>\n",
       "    </tr>\n",
       "    <tr>\n",
       "      <th>6712</th>\n",
       "      <td>vse-em</td>\n",
       "      <td>кафе</td>\n",
       "      <td>Москва, Профсоюзная улица, 126, корп. 2</td>\n",
       "      <td>Юго-Западный административный округ</td>\n",
       "      <td>ежедневно, 11:00–23:00</td>\n",
       "      <td>55.631778</td>\n",
       "      <td>37.517619</td>\n",
       "      <td>4.2</td>\n",
       "      <td>NaN</td>\n",
       "      <td>NaN</td>\n",
       "      <td>NaN</td>\n",
       "      <td>NaN</td>\n",
       "      <td>1</td>\n",
       "      <td>170.0</td>\n",
       "    </tr>\n",
       "    <tr>\n",
       "      <th>5006</th>\n",
       "      <td>osteria mario</td>\n",
       "      <td>пиццерия</td>\n",
       "      <td>Москва, Пятницкая улица, 25с1Д</td>\n",
       "      <td>Центральный административный округ</td>\n",
       "      <td>пн-чт 10:00–00:00; пт,сб 10:00–02:00; вс 10:00...</td>\n",
       "      <td>55.741597</td>\n",
       "      <td>37.628681</td>\n",
       "      <td>4.6</td>\n",
       "      <td>NaN</td>\n",
       "      <td>NaN</td>\n",
       "      <td>NaN</td>\n",
       "      <td>NaN</td>\n",
       "      <td>1</td>\n",
       "      <td>NaN</td>\n",
       "    </tr>\n",
       "    <tr>\n",
       "      <th>687</th>\n",
       "      <td>тануки</td>\n",
       "      <td>ресторан</td>\n",
       "      <td>Москва, Дмитровское шоссе, 64, корп. 3</td>\n",
       "      <td>Северный административный округ</td>\n",
       "      <td>пн-чт 12:00–23:00; пт,сб 12:00–01:00; вс 12:00...</td>\n",
       "      <td>55.856447</td>\n",
       "      <td>37.562263</td>\n",
       "      <td>4.4</td>\n",
       "      <td>NaN</td>\n",
       "      <td>Средний счёт:1000–1500 ₽</td>\n",
       "      <td>1250.0</td>\n",
       "      <td>NaN</td>\n",
       "      <td>1</td>\n",
       "      <td>198.0</td>\n",
       "    </tr>\n",
       "  </tbody>\n",
       "</table>\n",
       "</div>"
      ],
      "text/plain": [
       "                 name  category                                  address  \\\n",
       "4527  хачапури и вино  ресторан             Москва, улица Солянка, 1/2с1   \n",
       "457        drive café      кафе   Москва, Фестивальная улица, 6А, стр. 1   \n",
       "6712           vse-em      кафе  Москва, Профсоюзная улица, 126, корп. 2   \n",
       "5006    osteria mario  пиццерия           Москва, Пятницкая улица, 25с1Д   \n",
       "687            тануки  ресторан   Москва, Дмитровское шоссе, 64, корп. 3   \n",
       "\n",
       "                                 district  \\\n",
       "4527   Центральный административный округ   \n",
       "457       Северный административный округ   \n",
       "6712  Юго-Западный административный округ   \n",
       "5006   Центральный административный округ   \n",
       "687       Северный административный округ   \n",
       "\n",
       "                                                  hours        lat        lng  \\\n",
       "4527  пн-ср 12:00–23:00; чт 12:00–00:00; пт,сб 12:00...  55.753841  37.638124   \n",
       "457                            ежедневно, круглосуточно  55.858064  37.487468   \n",
       "6712                             ежедневно, 11:00–23:00  55.631778  37.517619   \n",
       "5006  пн-чт 10:00–00:00; пт,сб 10:00–02:00; вс 10:00...  55.741597  37.628681   \n",
       "687   пн-чт 12:00–23:00; пт,сб 12:00–01:00; вс 12:00...  55.856447  37.562263   \n",
       "\n",
       "      rating price                  avg_bill  middle_avg_bill  \\\n",
       "4527     4.7   NaN                       NaN              NaN   \n",
       "457      4.2   NaN                       NaN              NaN   \n",
       "6712     4.2   NaN                       NaN              NaN   \n",
       "5006     4.6   NaN                       NaN              NaN   \n",
       "687      4.4   NaN  Средний счёт:1000–1500 ₽           1250.0   \n",
       "\n",
       "      middle_coffee_cup  chain  seats  \n",
       "4527                NaN      1    NaN  \n",
       "457                 NaN      1  100.0  \n",
       "6712                NaN      1  170.0  \n",
       "5006                NaN      1    NaN  \n",
       "687                 NaN      1  198.0  "
      ]
     },
     "execution_count": 94,
     "metadata": {},
     "output_type": "execute_result"
    }
   ],
   "source": [
    "data[data.name.duplicated()].sample(5)"
   ]
  },
  {
   "cell_type": "code",
   "execution_count": 95,
   "id": "7d87fb52",
   "metadata": {},
   "outputs": [
    {
     "data": {
      "text/plain": [
       "0"
      ]
     },
     "execution_count": 95,
     "metadata": {},
     "output_type": "execute_result"
    }
   ],
   "source": [
    "#Lets check the full duplicates\n",
    "data.duplicated().sum()"
   ]
  },
  {
   "cell_type": "code",
   "execution_count": 96,
   "id": "40573588",
   "metadata": {},
   "outputs": [
    {
     "data": {
      "text/plain": [
       "5512"
      ]
     },
     "execution_count": 96,
     "metadata": {},
     "output_type": "execute_result"
    }
   ],
   "source": [
    "#Lets check unique values\n",
    "data['name'].nunique()"
   ]
  },
  {
   "cell_type": "markdown",
   "id": "b807cd27",
   "metadata": {},
   "source": [
    "we can see that there are duplicates in the **name** column, but given that there are network businesses in the dataset and we did not find complete duplicates, I think that they should not be processed. "
   ]
  },
  {
   "cell_type": "code",
   "execution_count": 97,
   "id": "1ee2ebd0",
   "metadata": {},
   "outputs": [
    {
     "data": {
      "text/html": [
       "<div>\n",
       "<style scoped>\n",
       "    .dataframe tbody tr th:only-of-type {\n",
       "        vertical-align: middle;\n",
       "    }\n",
       "\n",
       "    .dataframe tbody tr th {\n",
       "        vertical-align: top;\n",
       "    }\n",
       "\n",
       "    .dataframe thead th {\n",
       "        text-align: right;\n",
       "    }\n",
       "</style>\n",
       "<table border=\"1\" class=\"dataframe\">\n",
       "  <thead>\n",
       "    <tr style=\"text-align: right;\">\n",
       "      <th></th>\n",
       "      <th>name</th>\n",
       "      <th>category</th>\n",
       "      <th>address</th>\n",
       "      <th>district</th>\n",
       "      <th>hours</th>\n",
       "      <th>lat</th>\n",
       "      <th>lng</th>\n",
       "      <th>rating</th>\n",
       "      <th>price</th>\n",
       "      <th>avg_bill</th>\n",
       "      <th>middle_avg_bill</th>\n",
       "      <th>middle_coffee_cup</th>\n",
       "      <th>chain</th>\n",
       "      <th>seats</th>\n",
       "    </tr>\n",
       "  </thead>\n",
       "  <tbody>\n",
       "    <tr>\n",
       "      <th>38</th>\n",
       "      <td>ижора</td>\n",
       "      <td>булочная</td>\n",
       "      <td>Москва, Ижорский проезд, 5А</td>\n",
       "      <td>Северный административный округ</td>\n",
       "      <td>NaN</td>\n",
       "      <td>55.888366</td>\n",
       "      <td>37.514856</td>\n",
       "      <td>4.4</td>\n",
       "      <td>NaN</td>\n",
       "      <td>NaN</td>\n",
       "      <td>NaN</td>\n",
       "      <td>NaN</td>\n",
       "      <td>0</td>\n",
       "      <td>NaN</td>\n",
       "    </tr>\n",
       "    <tr>\n",
       "      <th>40</th>\n",
       "      <td>кафе</td>\n",
       "      <td>кафе</td>\n",
       "      <td>Москва, Ижорская улица, 18, стр. 1</td>\n",
       "      <td>Северный административный округ</td>\n",
       "      <td>NaN</td>\n",
       "      <td>55.895115</td>\n",
       "      <td>37.524902</td>\n",
       "      <td>3.7</td>\n",
       "      <td>NaN</td>\n",
       "      <td>NaN</td>\n",
       "      <td>NaN</td>\n",
       "      <td>NaN</td>\n",
       "      <td>0</td>\n",
       "      <td>NaN</td>\n",
       "    </tr>\n",
       "    <tr>\n",
       "      <th>44</th>\n",
       "      <td>кафетерий</td>\n",
       "      <td>кафе</td>\n",
       "      <td>Москва, Ангарская улица, 24А</td>\n",
       "      <td>Северный административный округ</td>\n",
       "      <td>NaN</td>\n",
       "      <td>55.876289</td>\n",
       "      <td>37.519315</td>\n",
       "      <td>3.8</td>\n",
       "      <td>NaN</td>\n",
       "      <td>NaN</td>\n",
       "      <td>NaN</td>\n",
       "      <td>NaN</td>\n",
       "      <td>1</td>\n",
       "      <td>8.0</td>\n",
       "    </tr>\n",
       "    <tr>\n",
       "      <th>56</th>\n",
       "      <td>рыба из тандыра</td>\n",
       "      <td>быстрое питание</td>\n",
       "      <td>Москва, Коровинское шоссе, 46, стр. 5</td>\n",
       "      <td>Северный административный округ</td>\n",
       "      <td>NaN</td>\n",
       "      <td>55.888010</td>\n",
       "      <td>37.515960</td>\n",
       "      <td>1.5</td>\n",
       "      <td>NaN</td>\n",
       "      <td>NaN</td>\n",
       "      <td>NaN</td>\n",
       "      <td>NaN</td>\n",
       "      <td>0</td>\n",
       "      <td>NaN</td>\n",
       "    </tr>\n",
       "    <tr>\n",
       "      <th>108</th>\n",
       "      <td>кафе</td>\n",
       "      <td>бар,паб</td>\n",
       "      <td>Москва, МКАД, 82-й километр, вл18</td>\n",
       "      <td>Северо-Восточный административный округ</td>\n",
       "      <td>NaN</td>\n",
       "      <td>55.908930</td>\n",
       "      <td>37.558777</td>\n",
       "      <td>4.2</td>\n",
       "      <td>NaN</td>\n",
       "      <td>NaN</td>\n",
       "      <td>NaN</td>\n",
       "      <td>NaN</td>\n",
       "      <td>0</td>\n",
       "      <td>NaN</td>\n",
       "    </tr>\n",
       "    <tr>\n",
       "      <th>123</th>\n",
       "      <td>кафе</td>\n",
       "      <td>кафе</td>\n",
       "      <td>Москва, Шенкурский проезд, 14</td>\n",
       "      <td>Северо-Восточный административный округ</td>\n",
       "      <td>NaN</td>\n",
       "      <td>55.897794</td>\n",
       "      <td>37.591395</td>\n",
       "      <td>4.3</td>\n",
       "      <td>NaN</td>\n",
       "      <td>NaN</td>\n",
       "      <td>NaN</td>\n",
       "      <td>NaN</td>\n",
       "      <td>0</td>\n",
       "      <td>50.0</td>\n",
       "    </tr>\n",
       "    <tr>\n",
       "      <th>126</th>\n",
       "      <td>кулинария</td>\n",
       "      <td>кафе</td>\n",
       "      <td>Москва, Череповецкая улица, 17</td>\n",
       "      <td>Северо-Восточный административный округ</td>\n",
       "      <td>NaN</td>\n",
       "      <td>55.898741</td>\n",
       "      <td>37.585301</td>\n",
       "      <td>3.9</td>\n",
       "      <td>NaN</td>\n",
       "      <td>NaN</td>\n",
       "      <td>NaN</td>\n",
       "      <td>NaN</td>\n",
       "      <td>1</td>\n",
       "      <td>NaN</td>\n",
       "    </tr>\n",
       "    <tr>\n",
       "      <th>138</th>\n",
       "      <td>хинкальная</td>\n",
       "      <td>быстрое питание</td>\n",
       "      <td>Москва, Шенкурский проезд, 14</td>\n",
       "      <td>Северо-Восточный административный округ</td>\n",
       "      <td>NaN</td>\n",
       "      <td>55.897751</td>\n",
       "      <td>37.591363</td>\n",
       "      <td>4.1</td>\n",
       "      <td>NaN</td>\n",
       "      <td>NaN</td>\n",
       "      <td>NaN</td>\n",
       "      <td>NaN</td>\n",
       "      <td>1</td>\n",
       "      <td>50.0</td>\n",
       "    </tr>\n",
       "    <tr>\n",
       "      <th>217</th>\n",
       "      <td>16 июня</td>\n",
       "      <td>кафе</td>\n",
       "      <td>Москва, бульвар Академика Ландау, 3</td>\n",
       "      <td>Северо-Восточный административный округ</td>\n",
       "      <td>NaN</td>\n",
       "      <td>55.920370</td>\n",
       "      <td>37.552150</td>\n",
       "      <td>1.4</td>\n",
       "      <td>NaN</td>\n",
       "      <td>NaN</td>\n",
       "      <td>NaN</td>\n",
       "      <td>NaN</td>\n",
       "      <td>0</td>\n",
       "      <td>NaN</td>\n",
       "    </tr>\n",
       "    <tr>\n",
       "      <th>274</th>\n",
       "      <td>чайхана</td>\n",
       "      <td>кафе</td>\n",
       "      <td>Москва, Широкая улица, 12</td>\n",
       "      <td>Северо-Восточный административный округ</td>\n",
       "      <td>NaN</td>\n",
       "      <td>55.886840</td>\n",
       "      <td>37.659610</td>\n",
       "      <td>3.0</td>\n",
       "      <td>NaN</td>\n",
       "      <td>NaN</td>\n",
       "      <td>NaN</td>\n",
       "      <td>NaN</td>\n",
       "      <td>1</td>\n",
       "      <td>50.0</td>\n",
       "    </tr>\n",
       "  </tbody>\n",
       "</table>\n",
       "</div>"
      ],
      "text/plain": [
       "                name         category                                address  \\\n",
       "38             ижора         булочная            Москва, Ижорский проезд, 5А   \n",
       "40              кафе             кафе     Москва, Ижорская улица, 18, стр. 1   \n",
       "44         кафетерий             кафе           Москва, Ангарская улица, 24А   \n",
       "56   рыба из тандыра  быстрое питание  Москва, Коровинское шоссе, 46, стр. 5   \n",
       "108             кафе          бар,паб      Москва, МКАД, 82-й километр, вл18   \n",
       "123             кафе             кафе          Москва, Шенкурский проезд, 14   \n",
       "126        кулинария             кафе         Москва, Череповецкая улица, 17   \n",
       "138       хинкальная  быстрое питание          Москва, Шенкурский проезд, 14   \n",
       "217          16 июня             кафе    Москва, бульвар Академика Ландау, 3   \n",
       "274          чайхана             кафе              Москва, Широкая улица, 12   \n",
       "\n",
       "                                    district hours        lat        lng  \\\n",
       "38           Северный административный округ   NaN  55.888366  37.514856   \n",
       "40           Северный административный округ   NaN  55.895115  37.524902   \n",
       "44           Северный административный округ   NaN  55.876289  37.519315   \n",
       "56           Северный административный округ   NaN  55.888010  37.515960   \n",
       "108  Северо-Восточный административный округ   NaN  55.908930  37.558777   \n",
       "123  Северо-Восточный административный округ   NaN  55.897794  37.591395   \n",
       "126  Северо-Восточный административный округ   NaN  55.898741  37.585301   \n",
       "138  Северо-Восточный административный округ   NaN  55.897751  37.591363   \n",
       "217  Северо-Восточный административный округ   NaN  55.920370  37.552150   \n",
       "274  Северо-Восточный административный округ   NaN  55.886840  37.659610   \n",
       "\n",
       "     rating price avg_bill  middle_avg_bill  middle_coffee_cup  chain  seats  \n",
       "38      4.4   NaN      NaN              NaN                NaN      0    NaN  \n",
       "40      3.7   NaN      NaN              NaN                NaN      0    NaN  \n",
       "44      3.8   NaN      NaN              NaN                NaN      1    8.0  \n",
       "56      1.5   NaN      NaN              NaN                NaN      0    NaN  \n",
       "108     4.2   NaN      NaN              NaN                NaN      0    NaN  \n",
       "123     4.3   NaN      NaN              NaN                NaN      0   50.0  \n",
       "126     3.9   NaN      NaN              NaN                NaN      1    NaN  \n",
       "138     4.1   NaN      NaN              NaN                NaN      1   50.0  \n",
       "217     1.4   NaN      NaN              NaN                NaN      0    NaN  \n",
       "274     3.0   NaN      NaN              NaN                NaN      1   50.0  "
      ]
     },
     "execution_count": 97,
     "metadata": {},
     "output_type": "execute_result"
    }
   ],
   "source": [
    "#look at the dataset, where is no information about time of work\n",
    "data[data['hours'].isna() == True].head(10)"
   ]
  },
  {
   "cell_type": "markdown",
   "id": "29431e4c",
   "metadata": {},
   "source": [
    "Since there are only 6.3% Nans in the column of hours, we can delete all this rows, especially since this indicator will be useful to us in resurching"
   ]
  },
  {
   "cell_type": "code",
   "execution_count": 98,
   "id": "785224bc",
   "metadata": {},
   "outputs": [],
   "source": [
    "data = data.dropna(subset =['hours']).copy()"
   ]
  },
  {
   "cell_type": "code",
   "execution_count": 99,
   "id": "a00fedc7",
   "metadata": {},
   "outputs": [
    {
     "data": {
      "text/plain": [
       "middle_coffee_cup    0.932147\n",
       "middle_avg_bill      0.600635\n",
       "price                0.579416\n",
       "avg_bill             0.516137\n",
       "seats                0.428844\n",
       "name                 0.000000\n",
       "category             0.000000\n",
       "address              0.000000\n",
       "district             0.000000\n",
       "hours                0.000000\n",
       "lat                  0.000000\n",
       "lng                  0.000000\n",
       "rating               0.000000\n",
       "chain                0.000000\n",
       "dtype: float64"
      ]
     },
     "execution_count": 99,
     "metadata": {},
     "output_type": "execute_result"
    }
   ],
   "source": [
    "data.isna().mean().sort_values(ascending=False)"
   ]
  },
  {
   "cell_type": "markdown",
   "id": "05eeeace",
   "metadata": {},
   "source": [
    "The amount of Nans in other columns also decreased, which means the solution was correct\n",
    "We will also fill in the Nans of all columns with numerical data with a gag 555"
   ]
  },
  {
   "cell_type": "code",
   "execution_count": 100,
   "id": "59bb38e0",
   "metadata": {},
   "outputs": [],
   "source": [
    "#replace Nans in the seats column\n",
    "data['seats'] = data['seats'].fillna(555)"
   ]
  },
  {
   "cell_type": "code",
   "execution_count": 101,
   "id": "2aca9d61",
   "metadata": {},
   "outputs": [],
   "source": [
    "#replace Nans in the  middle_avg_bill\n",
    "data['middle_avg_bill'] = data['middle_avg_bill'].fillna(555)"
   ]
  },
  {
   "cell_type": "code",
   "execution_count": 102,
   "id": "dce635b0",
   "metadata": {},
   "outputs": [],
   "source": [
    "#replace Nans in the middle_coffee_cup\n",
    "data['middle_coffee_cup'] = data['middle_coffee_cup'].fillna(-555)"
   ]
  },
  {
   "cell_type": "code",
   "execution_count": 103,
   "id": "b2014ba3",
   "metadata": {},
   "outputs": [
    {
     "data": {
      "text/plain": [
       "price                0.579416\n",
       "avg_bill             0.516137\n",
       "name                 0.000000\n",
       "category             0.000000\n",
       "address              0.000000\n",
       "district             0.000000\n",
       "hours                0.000000\n",
       "lat                  0.000000\n",
       "lng                  0.000000\n",
       "rating               0.000000\n",
       "middle_avg_bill      0.000000\n",
       "middle_coffee_cup    0.000000\n",
       "chain                0.000000\n",
       "seats                0.000000\n",
       "dtype: float64"
      ]
     },
     "execution_count": 103,
     "metadata": {},
     "output_type": "execute_result"
    }
   ],
   "source": [
    "#check results\n",
    "data.isna().mean().sort_values(ascending=False)"
   ]
  },
  {
   "cell_type": "markdown",
   "id": "ba86b3e7",
   "metadata": {},
   "source": [
    "The rest of the Nans will not be touched for now."
   ]
  },
  {
   "cell_type": "code",
   "execution_count": 104,
   "id": "15caf1b2",
   "metadata": {},
   "outputs": [],
   "source": [
    "#replace data type in seats\n",
    "data['seats'] = data['seats'].astype('int')"
   ]
  },
  {
   "cell_type": "code",
   "execution_count": 105,
   "id": "3b709b4d",
   "metadata": {},
   "outputs": [],
   "source": [
    "#let's convert the values in the chain column to boolean values\n",
    "data['chain'] = data['chain'].astype('bool')"
   ]
  },
  {
   "cell_type": "markdown",
   "id": "0aa32267",
   "metadata": {},
   "source": [
    "Lets check the percentiles of the anomalous columns seats, middle_coffee_cup и avg_bill"
   ]
  },
  {
   "cell_type": "code",
   "execution_count": 106,
   "id": "fb11b206",
   "metadata": {},
   "outputs": [
    {
     "name": "stdout",
     "output_type": "stream",
     "text": [
      "90 percentile of seats number: 240\n",
      "95 percentile of seats number: 306\n",
      "99 percentile of seats number: 625\n"
     ]
    }
   ],
   "source": [
    "print('90 percentile of seats number: {}'.format(round(np.percentile(data[data['seats']!=555]['seats'], 90)),2))\n",
    "print ('95 percentile of seats number: {}'.format(round(np.percentile(data[data['seats']!=555]['seats'], 95)),2))\n",
    "print('99 percentile of seats number: {}'.format(round(np.percentile(data[data['seats']!=555]['seats'], 99)),2))"
   ]
  },
  {
   "cell_type": "code",
   "execution_count": 107,
   "id": "9bf2c5ff",
   "metadata": {
    "scrolled": true
   },
   "outputs": [
    {
     "name": "stdout",
     "output_type": "stream",
     "text": [
      "90 percentile of average bill: 2000\n",
      "95 percentile of average bill: 2250\n",
      "99 percentile of average bill: 3750\n"
     ]
    }
   ],
   "source": [
    "print('90 percentile of average bill: {}'.format(round(np.percentile(data[data['middle_avg_bill']!=555]['middle_avg_bill'], 90)),2))\n",
    "print('95 percentile of average bill: {}'.format(round(np.percentile(data[data['middle_avg_bill']!=555]['middle_avg_bill'], 95)),2))\n",
    "print('99 percentile of average bill: {}'.format(round(np.percentile(data[data['middle_avg_bill']!=555]['middle_avg_bill'], 99)),2))\n"
   ]
  },
  {
   "cell_type": "code",
   "execution_count": 108,
   "id": "779bb0de",
   "metadata": {},
   "outputs": [
    {
     "name": "stdout",
     "output_type": "stream",
     "text": [
      "90 percentile of average cofee price: 256\n",
      "95 percentile of average cofee price: 275\n",
      "99 percentile of average cofee price: 310\n"
     ]
    }
   ],
   "source": [
    "print('90 percentile of average cofee price: {}'.format(round(np.percentile(data[data['middle_coffee_cup']!=-555]['middle_coffee_cup'], 90)),2))\n",
    "print('95 percentile of average cofee price: {}'.format(round(np.percentile(data[data['middle_coffee_cup']!=-555]['middle_coffee_cup'], 95)),2))\n",
    "print('99 percentile of average cofee price: {}'.format(round(np.percentile(data[data['middle_coffee_cup']!=-555]['middle_coffee_cup'], 99)),2))\n"
   ]
  },
  {
   "cell_type": "code",
   "execution_count": 109,
   "id": "41e71d3d",
   "metadata": {},
   "outputs": [
    {
     "name": "stdout",
     "output_type": "stream",
     "text": [
      "<class 'pandas.core.frame.DataFrame'>\n",
      "Int64Index: 7870 entries, 0 to 8405\n",
      "Data columns (total 14 columns):\n",
      " #   Column             Non-Null Count  Dtype  \n",
      "---  ------             --------------  -----  \n",
      " 0   name               7870 non-null   object \n",
      " 1   category           7870 non-null   object \n",
      " 2   address            7870 non-null   object \n",
      " 3   district           7870 non-null   object \n",
      " 4   hours              7870 non-null   object \n",
      " 5   lat                7870 non-null   float64\n",
      " 6   lng                7870 non-null   float64\n",
      " 7   rating             7870 non-null   float64\n",
      " 8   price              3310 non-null   object \n",
      " 9   avg_bill           3808 non-null   object \n",
      " 10  middle_avg_bill    7870 non-null   float64\n",
      " 11  middle_coffee_cup  7870 non-null   float64\n",
      " 12  chain              7870 non-null   bool   \n",
      " 13  seats              7870 non-null   int32  \n",
      "dtypes: bool(1), float64(5), int32(1), object(7)\n",
      "memory usage: 837.7+ KB\n"
     ]
    }
   ],
   "source": [
    "data.info()"
   ]
  },
  {
   "cell_type": "markdown",
   "id": "0c71a9af",
   "metadata": {},
   "source": [
    "remove all anomalous values ​​for these columns, select values ​​greater than the 99th percentile"
   ]
  },
  {
   "cell_type": "code",
   "execution_count": 110,
   "id": "af12f72c",
   "metadata": {},
   "outputs": [],
   "source": [
    "data = data.query('seats < 625').copy()"
   ]
  },
  {
   "cell_type": "code",
   "execution_count": 111,
   "id": "21157182",
   "metadata": {},
   "outputs": [],
   "source": [
    "data = data.query('middle_avg_bill < 3750').copy()"
   ]
  },
  {
   "cell_type": "code",
   "execution_count": 112,
   "id": "88fbcca6",
   "metadata": {},
   "outputs": [],
   "source": [
    "data = data.query('middle_coffee_cup <310').copy()"
   ]
  },
  {
   "cell_type": "markdown",
   "id": "fcaceb14",
   "metadata": {},
   "source": [
    "We got clean dataset"
   ]
  },
  {
   "cell_type": "markdown",
   "id": "07790457",
   "metadata": {},
   "source": [
    "**Lets add a column with street names**"
   ]
  },
  {
   "cell_type": "code",
   "execution_count": 113,
   "id": "e6739244",
   "metadata": {},
   "outputs": [],
   "source": [
    "data['street'] = data['address'].str.split(', ').apply(lambda x: x[1])"
   ]
  },
  {
   "cell_type": "markdown",
   "id": "2e114399",
   "metadata": {},
   "source": [
    "**Let's add a column with businesses that work 24/7**"
   ]
  },
  {
   "cell_type": "code",
   "execution_count": 114,
   "id": "7f297b5a",
   "metadata": {},
   "outputs": [],
   "source": [
    "data['is_24/7'] = data['hours'].str.contains('ежедневно, круглосуточно')"
   ]
  },
  {
   "cell_type": "code",
   "execution_count": 115,
   "id": "ab6fa1ce",
   "metadata": {},
   "outputs": [
    {
     "data": {
      "text/html": [
       "<div>\n",
       "<style scoped>\n",
       "    .dataframe tbody tr th:only-of-type {\n",
       "        vertical-align: middle;\n",
       "    }\n",
       "\n",
       "    .dataframe tbody tr th {\n",
       "        vertical-align: top;\n",
       "    }\n",
       "\n",
       "    .dataframe thead th {\n",
       "        text-align: right;\n",
       "    }\n",
       "</style>\n",
       "<table border=\"1\" class=\"dataframe\">\n",
       "  <thead>\n",
       "    <tr style=\"text-align: right;\">\n",
       "      <th></th>\n",
       "      <th>name</th>\n",
       "      <th>category</th>\n",
       "      <th>address</th>\n",
       "      <th>district</th>\n",
       "      <th>hours</th>\n",
       "      <th>lat</th>\n",
       "      <th>lng</th>\n",
       "      <th>rating</th>\n",
       "      <th>price</th>\n",
       "      <th>avg_bill</th>\n",
       "      <th>middle_avg_bill</th>\n",
       "      <th>middle_coffee_cup</th>\n",
       "      <th>chain</th>\n",
       "      <th>seats</th>\n",
       "      <th>street</th>\n",
       "      <th>is_24/7</th>\n",
       "    </tr>\n",
       "  </thead>\n",
       "  <tbody>\n",
       "    <tr>\n",
       "      <th>0</th>\n",
       "      <td>wowфли</td>\n",
       "      <td>кафе</td>\n",
       "      <td>Москва, улица Дыбенко, 7/1</td>\n",
       "      <td>Северный административный округ</td>\n",
       "      <td>ежедневно, 10:00–22:00</td>\n",
       "      <td>55.878494</td>\n",
       "      <td>37.478860</td>\n",
       "      <td>5.0</td>\n",
       "      <td>NaN</td>\n",
       "      <td>NaN</td>\n",
       "      <td>555.0</td>\n",
       "      <td>-555.0</td>\n",
       "      <td>False</td>\n",
       "      <td>555</td>\n",
       "      <td>улица Дыбенко</td>\n",
       "      <td>False</td>\n",
       "    </tr>\n",
       "    <tr>\n",
       "      <th>1</th>\n",
       "      <td>четыре комнаты</td>\n",
       "      <td>ресторан</td>\n",
       "      <td>Москва, улица Дыбенко, 36, корп. 1</td>\n",
       "      <td>Северный административный округ</td>\n",
       "      <td>ежедневно, 10:00–22:00</td>\n",
       "      <td>55.875801</td>\n",
       "      <td>37.484479</td>\n",
       "      <td>4.5</td>\n",
       "      <td>выше среднего</td>\n",
       "      <td>Средний счёт:1500–1600 ₽</td>\n",
       "      <td>1550.0</td>\n",
       "      <td>-555.0</td>\n",
       "      <td>False</td>\n",
       "      <td>4</td>\n",
       "      <td>улица Дыбенко</td>\n",
       "      <td>False</td>\n",
       "    </tr>\n",
       "    <tr>\n",
       "      <th>2</th>\n",
       "      <td>хазри</td>\n",
       "      <td>кафе</td>\n",
       "      <td>Москва, Клязьминская улица, 15</td>\n",
       "      <td>Северный административный округ</td>\n",
       "      <td>пн-чт 11:00–02:00; пт,сб 11:00–05:00; вс 11:00...</td>\n",
       "      <td>55.889146</td>\n",
       "      <td>37.525901</td>\n",
       "      <td>4.6</td>\n",
       "      <td>средние</td>\n",
       "      <td>Средний счёт:от 1000 ₽</td>\n",
       "      <td>1000.0</td>\n",
       "      <td>-555.0</td>\n",
       "      <td>False</td>\n",
       "      <td>45</td>\n",
       "      <td>Клязьминская улица</td>\n",
       "      <td>False</td>\n",
       "    </tr>\n",
       "    <tr>\n",
       "      <th>3</th>\n",
       "      <td>dormouse coffee shop</td>\n",
       "      <td>кофейня</td>\n",
       "      <td>Москва, улица Маршала Федоренко, 12</td>\n",
       "      <td>Северный административный округ</td>\n",
       "      <td>ежедневно, 09:00–22:00</td>\n",
       "      <td>55.881608</td>\n",
       "      <td>37.488860</td>\n",
       "      <td>5.0</td>\n",
       "      <td>NaN</td>\n",
       "      <td>Цена чашки капучино:155–185 ₽</td>\n",
       "      <td>555.0</td>\n",
       "      <td>170.0</td>\n",
       "      <td>False</td>\n",
       "      <td>555</td>\n",
       "      <td>улица Маршала Федоренко</td>\n",
       "      <td>False</td>\n",
       "    </tr>\n",
       "    <tr>\n",
       "      <th>4</th>\n",
       "      <td>иль марко</td>\n",
       "      <td>пиццерия</td>\n",
       "      <td>Москва, Правобережная улица, 1Б</td>\n",
       "      <td>Северный административный округ</td>\n",
       "      <td>ежедневно, 10:00–22:00</td>\n",
       "      <td>55.881166</td>\n",
       "      <td>37.449357</td>\n",
       "      <td>5.0</td>\n",
       "      <td>средние</td>\n",
       "      <td>Средний счёт:400–600 ₽</td>\n",
       "      <td>500.0</td>\n",
       "      <td>-555.0</td>\n",
       "      <td>True</td>\n",
       "      <td>148</td>\n",
       "      <td>Правобережная улица</td>\n",
       "      <td>False</td>\n",
       "    </tr>\n",
       "  </tbody>\n",
       "</table>\n",
       "</div>"
      ],
      "text/plain": [
       "                   name  category                              address  \\\n",
       "0                wowфли      кафе           Москва, улица Дыбенко, 7/1   \n",
       "1        четыре комнаты  ресторан   Москва, улица Дыбенко, 36, корп. 1   \n",
       "2                 хазри      кафе       Москва, Клязьминская улица, 15   \n",
       "3  dormouse coffee shop   кофейня  Москва, улица Маршала Федоренко, 12   \n",
       "4             иль марко  пиццерия      Москва, Правобережная улица, 1Б   \n",
       "\n",
       "                          district  \\\n",
       "0  Северный административный округ   \n",
       "1  Северный административный округ   \n",
       "2  Северный административный округ   \n",
       "3  Северный административный округ   \n",
       "4  Северный административный округ   \n",
       "\n",
       "                                               hours        lat        lng  \\\n",
       "0                             ежедневно, 10:00–22:00  55.878494  37.478860   \n",
       "1                             ежедневно, 10:00–22:00  55.875801  37.484479   \n",
       "2  пн-чт 11:00–02:00; пт,сб 11:00–05:00; вс 11:00...  55.889146  37.525901   \n",
       "3                             ежедневно, 09:00–22:00  55.881608  37.488860   \n",
       "4                             ежедневно, 10:00–22:00  55.881166  37.449357   \n",
       "\n",
       "   rating          price                       avg_bill  middle_avg_bill  \\\n",
       "0     5.0            NaN                            NaN            555.0   \n",
       "1     4.5  выше среднего       Средний счёт:1500–1600 ₽           1550.0   \n",
       "2     4.6        средние         Средний счёт:от 1000 ₽           1000.0   \n",
       "3     5.0            NaN  Цена чашки капучино:155–185 ₽            555.0   \n",
       "4     5.0        средние         Средний счёт:400–600 ₽            500.0   \n",
       "\n",
       "   middle_coffee_cup  chain  seats                   street  is_24/7  \n",
       "0             -555.0  False    555            улица Дыбенко    False  \n",
       "1             -555.0  False      4            улица Дыбенко    False  \n",
       "2             -555.0  False     45       Клязьминская улица    False  \n",
       "3              170.0  False    555  улица Маршала Федоренко    False  \n",
       "4             -555.0   True    148      Правобережная улица    False  "
      ]
     },
     "execution_count": 115,
     "metadata": {},
     "output_type": "execute_result"
    }
   ],
   "source": [
    "#check result\n",
    "data.head()"
   ]
  },
  {
   "cell_type": "markdown",
   "id": "ee9897d2",
   "metadata": {},
   "source": [
    "**Conclusion**\n",
    "We checked for duplicates, changed data types, eliminated outliers and tried to make sure that their removal does not affect further research, and also changed data types in several columns."
   ]
  },
  {
   "cell_type": "markdown",
   "id": "8f0d60a0",
   "metadata": {},
   "source": [
    "## 3. Data analysis<a id=\"analys\"></a>"
   ]
  },
  {
   "cell_type": "markdown",
   "id": "637ca223",
   "metadata": {},
   "source": [
    "Lets check the amount of businesses by category"
   ]
  },
  {
   "cell_type": "code",
   "execution_count": 116,
   "id": "24cbb2ee",
   "metadata": {
    "scrolled": true
   },
   "outputs": [
    {
     "data": {
      "image/png": "[encoded data removed]",
      "text/plain": [
       "<Figure size 432x288 with 1 Axes>"
      ]
     },
     "metadata": {},
     "output_type": "display_data"
    }
   ],
   "source": [
    "data.groupby('category')['name'].count()\\\n",
    ".sort_values(ascending=False)\\\n",
    ".plot(kind = 'bar', x='category', y='count', figsize=(6,4),rot=30, legend = False, color = '#2677bb', ylabel='amount businesses', xlabel='Range', fontsize = 12)\\\n",
    ".set_title('Amount businesses by range', fontsize = 20)\\\n",
    "; "
   ]
  },
  {
   "cell_type": "markdown",
   "id": "7e0a8b06",
   "metadata": {},
   "source": [
    "**Conclusion:** the first three are cafes, restaurants and a coffee houses. Coffee houses, as a rule, do not have their own kitchen, unlike cafes and restaurants. close canteens, bakeries and fast food. Canteens and fast foods have their own kitchen and, by optimizing food preparation, reduce costs for the kitchen; bakeries, as a rule, also have their own production, but a narrow assortment. Apparently, cafes and restaurants are in great demand due to the fact that they have their own kitchen, as a rule, a good interior, cafes in this sense are convenient for meetings, a light snack, and their work does not require large resources due to the lack of their own kitchen, I think that the leaders are in their positions also because these are convenient places to meet and spend time and not just to satisfy hunger. As for Bars and Pizzerias, these are still more narrowly focused businesses, and since the assortment with Pizzas and drinks is found in cafes and restaurants, they become more universal and occupy a large part of the market."
   ]
  },
  {
   "cell_type": "code",
   "execution_count": 117,
   "id": "1ba74796",
   "metadata": {},
   "outputs": [
    {
     "data": {
      "text/html": [
       "<div>\n",
       "<style scoped>\n",
       "    .dataframe tbody tr th:only-of-type {\n",
       "        vertical-align: middle;\n",
       "    }\n",
       "\n",
       "    .dataframe tbody tr th {\n",
       "        vertical-align: top;\n",
       "    }\n",
       "\n",
       "    .dataframe thead th {\n",
       "        text-align: right;\n",
       "    }\n",
       "</style>\n",
       "<table border=\"1\" class=\"dataframe\">\n",
       "  <thead>\n",
       "    <tr style=\"text-align: right;\">\n",
       "      <th></th>\n",
       "      <th>category</th>\n",
       "    </tr>\n",
       "  </thead>\n",
       "  <tbody>\n",
       "    <tr>\n",
       "      <th>кафе</th>\n",
       "      <td>1993</td>\n",
       "    </tr>\n",
       "    <tr>\n",
       "      <th>ресторан</th>\n",
       "      <td>1933</td>\n",
       "    </tr>\n",
       "    <tr>\n",
       "      <th>кофейня</th>\n",
       "      <td>1380</td>\n",
       "    </tr>\n",
       "    <tr>\n",
       "      <th>бар,паб</th>\n",
       "      <td>732</td>\n",
       "    </tr>\n",
       "    <tr>\n",
       "      <th>пиццерия</th>\n",
       "      <td>624</td>\n",
       "    </tr>\n",
       "    <tr>\n",
       "      <th>быстрое питание</th>\n",
       "      <td>568</td>\n",
       "    </tr>\n",
       "    <tr>\n",
       "      <th>столовая</th>\n",
       "      <td>304</td>\n",
       "    </tr>\n",
       "    <tr>\n",
       "      <th>булочная</th>\n",
       "      <td>248</td>\n",
       "    </tr>\n",
       "  </tbody>\n",
       "</table>\n",
       "</div>"
      ],
      "text/plain": [
       "                 category\n",
       "кафе                 1993\n",
       "ресторан             1933\n",
       "кофейня              1380\n",
       "бар,паб               732\n",
       "пиццерия              624\n",
       "быстрое питание       568\n",
       "столовая              304\n",
       "булочная              248"
      ]
     },
     "execution_count": 117,
     "metadata": {},
     "output_type": "execute_result"
    }
   ],
   "source": [
    "#Lets check amount businesses by range\n",
    "data.category.value_counts().to_frame()"
   ]
  },
  {
   "cell_type": "code",
   "execution_count": 118,
   "id": "c0c2cfe8",
   "metadata": {},
   "outputs": [
    {
     "data": {
      "text/html": [
       "<style type=\"text/css\">\n",
       "#T_8618d_row0_col1 {\n",
       "  background-color: #9ebeff;\n",
       "  color: #000000;\n",
       "}\n",
       "#T_8618d_row0_col2, #T_8618d_row0_col3, #T_8618d_row1_col1 {\n",
       "  background-color: #b40426;\n",
       "  color: #f1f1f1;\n",
       "}\n",
       "#T_8618d_row1_col2 {\n",
       "  background-color: #bb1b2c;\n",
       "  color: #f1f1f1;\n",
       "}\n",
       "#T_8618d_row1_col3 {\n",
       "  background-color: #c73635;\n",
       "  color: #f1f1f1;\n",
       "}\n",
       "#T_8618d_row2_col1 {\n",
       "  background-color: #b1cbfc;\n",
       "  color: #000000;\n",
       "}\n",
       "#T_8618d_row2_col2 {\n",
       "  background-color: #dcdddd;\n",
       "  color: #000000;\n",
       "}\n",
       "#T_8618d_row2_col3, #T_8618d_row5_col2 {\n",
       "  background-color: #a3c2fe;\n",
       "  color: #000000;\n",
       "}\n",
       "#T_8618d_row3_col1 {\n",
       "  background-color: #f7b99e;\n",
       "  color: #000000;\n",
       "}\n",
       "#T_8618d_row3_col2 {\n",
       "  background-color: #c0d4f5;\n",
       "  color: #000000;\n",
       "}\n",
       "#T_8618d_row3_col3 {\n",
       "  background-color: #92b4fe;\n",
       "  color: #000000;\n",
       "}\n",
       "#T_8618d_row4_col1, #T_8618d_row7_col2, #T_8618d_row7_col3 {\n",
       "  background-color: #3b4cc0;\n",
       "  color: #f1f1f1;\n",
       "}\n",
       "#T_8618d_row4_col2 {\n",
       "  background-color: #b3cdfb;\n",
       "  color: #000000;\n",
       "}\n",
       "#T_8618d_row4_col3 {\n",
       "  background-color: #6c8ff1;\n",
       "  color: #f1f1f1;\n",
       "}\n",
       "#T_8618d_row5_col1 {\n",
       "  background-color: #6b8df0;\n",
       "  color: #f1f1f1;\n",
       "}\n",
       "#T_8618d_row5_col3 {\n",
       "  background-color: #5a78e4;\n",
       "  color: #f1f1f1;\n",
       "}\n",
       "#T_8618d_row6_col1 {\n",
       "  background-color: #779af7;\n",
       "  color: #f1f1f1;\n",
       "}\n",
       "#T_8618d_row6_col2 {\n",
       "  background-color: #5d7ce6;\n",
       "  color: #f1f1f1;\n",
       "}\n",
       "#T_8618d_row6_col3 {\n",
       "  background-color: #536edd;\n",
       "  color: #f1f1f1;\n",
       "}\n",
       "#T_8618d_row7_col1 {\n",
       "  background-color: #6485ec;\n",
       "  color: #f1f1f1;\n",
       "}\n",
       "</style>\n",
       "<table id=\"T_8618d\">\n",
       "  <thead>\n",
       "    <tr>\n",
       "      <th class=\"blank level0\" >&nbsp;</th>\n",
       "      <th id=\"T_8618d_level0_col0\" class=\"col_heading level0 col0\" >category</th>\n",
       "      <th id=\"T_8618d_level0_col1\" class=\"col_heading level0 col1\" >count</th>\n",
       "      <th id=\"T_8618d_level0_col2\" class=\"col_heading level0 col2\" >mean_bill</th>\n",
       "      <th id=\"T_8618d_level0_col3\" class=\"col_heading level0 col3\" >median_bill</th>\n",
       "    </tr>\n",
       "  </thead>\n",
       "  <tbody>\n",
       "    <tr>\n",
       "      <th id=\"T_8618d_level0_row0\" class=\"row_heading level0 row0\" >0</th>\n",
       "      <td id=\"T_8618d_row0_col0\" class=\"data row0 col0\" >бар,паб</td>\n",
       "      <td id=\"T_8618d_row0_col1\" class=\"data row0 col1\" >338</td>\n",
       "      <td id=\"T_8618d_row0_col2\" class=\"data row0 col2\" >1261.177515</td>\n",
       "      <td id=\"T_8618d_row0_col3\" class=\"data row0 col3\" >1250.000000</td>\n",
       "    </tr>\n",
       "    <tr>\n",
       "      <th id=\"T_8618d_level0_row1\" class=\"row_heading level0 row1\" >6</th>\n",
       "      <td id=\"T_8618d_row1_col0\" class=\"data row1 col0\" >ресторан</td>\n",
       "      <td id=\"T_8618d_row1_col1\" class=\"data row1 col1\" >1009</td>\n",
       "      <td id=\"T_8618d_row1_col2\" class=\"data row1 col2\" >1240.680872</td>\n",
       "      <td id=\"T_8618d_row1_col3\" class=\"data row1 col3\" >1200.000000</td>\n",
       "    </tr>\n",
       "    <tr>\n",
       "      <th id=\"T_8618d_level0_row2\" class=\"row_heading level0 row2\" >5</th>\n",
       "      <td id=\"T_8618d_row2_col0\" class=\"data row2 col0\" >пиццерия</td>\n",
       "      <td id=\"T_8618d_row2_col1\" class=\"data row2 col1\" >392</td>\n",
       "      <td id=\"T_8618d_row2_col2\" class=\"data row2 col2\" >785.852041</td>\n",
       "      <td id=\"T_8618d_row2_col3\" class=\"data row2 col3\" >600.000000</td>\n",
       "    </tr>\n",
       "    <tr>\n",
       "      <th id=\"T_8618d_level0_row3\" class=\"row_heading level0 row3\" >3</th>\n",
       "      <td id=\"T_8618d_row3_col0\" class=\"data row3 col0\" >кафе</td>\n",
       "      <td id=\"T_8618d_row3_col1\" class=\"data row3 col1\" >685</td>\n",
       "      <td id=\"T_8618d_row3_col2\" class=\"data row3 col2\" >695.629197</td>\n",
       "      <td id=\"T_8618d_row3_col3\" class=\"data row3 col3\" >550.000000</td>\n",
       "    </tr>\n",
       "    <tr>\n",
       "      <th id=\"T_8618d_level0_row4\" class=\"row_heading level0 row4\" >1</th>\n",
       "      <td id=\"T_8618d_row4_col0\" class=\"data row4 col0\" >булочная</td>\n",
       "      <td id=\"T_8618d_row4_col1\" class=\"data row4 col1\" >53</td>\n",
       "      <td id=\"T_8618d_row4_col2\" class=\"data row4 col2\" >658.773585</td>\n",
       "      <td id=\"T_8618d_row4_col3\" class=\"data row4 col3\" >450.000000</td>\n",
       "    </tr>\n",
       "    <tr>\n",
       "      <th id=\"T_8618d_level0_row5\" class=\"row_heading level0 row5\" >4</th>\n",
       "      <td id=\"T_8618d_row5_col0\" class=\"data row5 col0\" >кофейня</td>\n",
       "      <td id=\"T_8618d_row5_col1\" class=\"data row5 col1\" >199</td>\n",
       "      <td id=\"T_8618d_row5_col2\" class=\"data row5 col2\" >615.286432</td>\n",
       "      <td id=\"T_8618d_row5_col3\" class=\"data row5 col3\" >400.000000</td>\n",
       "    </tr>\n",
       "    <tr>\n",
       "      <th id=\"T_8618d_level0_row6\" class=\"row_heading level0 row6\" >2</th>\n",
       "      <td id=\"T_8618d_row6_col0\" class=\"data row6 col0\" >быстрое питание</td>\n",
       "      <td id=\"T_8618d_row6_col1\" class=\"data row6 col1\" >235</td>\n",
       "      <td id=\"T_8618d_row6_col2\" class=\"data row6 col2\" >421.472340</td>\n",
       "      <td id=\"T_8618d_row6_col3\" class=\"data row6 col3\" >375.000000</td>\n",
       "    </tr>\n",
       "    <tr>\n",
       "      <th id=\"T_8618d_level0_row7\" class=\"row_heading level0 row7\" >7</th>\n",
       "      <td id=\"T_8618d_row7_col0\" class=\"data row7 col0\" >столовая</td>\n",
       "      <td id=\"T_8618d_row7_col1\" class=\"data row7 col1\" >180</td>\n",
       "      <td id=\"T_8618d_row7_col2\" class=\"data row7 col2\" >316.377778</td>\n",
       "      <td id=\"T_8618d_row7_col3\" class=\"data row7 col3\" >300.000000</td>\n",
       "    </tr>\n",
       "  </tbody>\n",
       "</table>\n"
      ],
      "text/plain": [
       "<pandas.io.formats.style.Styler at 0x26fda85d5b0>"
      ]
     },
     "execution_count": 118,
     "metadata": {},
     "output_type": "execute_result"
    }
   ],
   "source": [
    "#Lets check average bills\n",
    "category_avg_bill =data[data['middle_avg_bill']!=555]\\\n",
    ".pivot_table(index='category', values='middle_avg_bill', aggfunc=['count','mean','median'])\\\n",
    ".reset_index()\n",
    "\n",
    "category_avg_bill.columns = ['category','count','mean_bill','median_bill']\n",
    "category_avg_bill.sort_values(by='mean_bill', ascending=False).style.background_gradient('coolwarm')"
   ]
  },
  {
   "cell_type": "markdown",
   "id": "f5fc49a9",
   "metadata": {},
   "source": [
    "The highest average bill in the bar, pub (1261) and restaurant (1240) ranges. Low bill for fast food (421) and canteens (316). We also see that there is very little data on average checks for bakeries. We also see a big difference in the average and median values ​​for the average bills of pizzerias, cafes, bakeries, and coffee houses. Most likely, there are businesses in the dataset, where the average bills are much higher. "
   ]
  },
  {
   "cell_type": "code",
   "execution_count": 119,
   "id": "dcd3c54c",
   "metadata": {},
   "outputs": [
    {
     "data": {
      "text/html": [
       "<style type=\"text/css\">\n",
       "#T_5fef1_row0_col1, #T_5fef1_row0_col2, #T_5fef1_row0_col3, #T_5fef1_row5_col5 {\n",
       "  background-color: #b40426;\n",
       "  color: #f1f1f1;\n",
       "}\n",
       "#T_5fef1_row0_col4, #T_5fef1_row1_col4, #T_5fef1_row2_col4, #T_5fef1_row3_col4, #T_5fef1_row3_col5, #T_5fef1_row4_col4, #T_5fef1_row5_col4, #T_5fef1_row6_col4, #T_5fef1_row7_col1, #T_5fef1_row7_col2, #T_5fef1_row7_col3, #T_5fef1_row7_col4 {\n",
       "  background-color: #3b4cc0;\n",
       "  color: #f1f1f1;\n",
       "}\n",
       "#T_5fef1_row0_col5, #T_5fef1_row2_col5, #T_5fef1_row4_col5 {\n",
       "  background-color: #c6d6f1;\n",
       "  color: #000000;\n",
       "}\n",
       "#T_5fef1_row1_col1 {\n",
       "  background-color: #9abbff;\n",
       "  color: #000000;\n",
       "}\n",
       "#T_5fef1_row1_col2 {\n",
       "  background-color: #e9785d;\n",
       "  color: #f1f1f1;\n",
       "}\n",
       "#T_5fef1_row1_col3, #T_5fef1_row2_col3 {\n",
       "  background-color: #df634e;\n",
       "  color: #f1f1f1;\n",
       "}\n",
       "#T_5fef1_row1_col5 {\n",
       "  background-color: #d24b40;\n",
       "  color: #f1f1f1;\n",
       "}\n",
       "#T_5fef1_row2_col1 {\n",
       "  background-color: #ebd3c6;\n",
       "  color: #000000;\n",
       "}\n",
       "#T_5fef1_row2_col2 {\n",
       "  background-color: #e0dbd8;\n",
       "  color: #000000;\n",
       "}\n",
       "#T_5fef1_row3_col1 {\n",
       "  background-color: #3d50c3;\n",
       "  color: #f1f1f1;\n",
       "}\n",
       "#T_5fef1_row3_col2 {\n",
       "  background-color: #5a78e4;\n",
       "  color: #f1f1f1;\n",
       "}\n",
       "#T_5fef1_row3_col3 {\n",
       "  background-color: #f5c0a7;\n",
       "  color: #000000;\n",
       "}\n",
       "#T_5fef1_row4_col1 {\n",
       "  background-color: #7093f3;\n",
       "  color: #f1f1f1;\n",
       "}\n",
       "#T_5fef1_row4_col2 {\n",
       "  background-color: #bed2f6;\n",
       "  color: #000000;\n",
       "}\n",
       "#T_5fef1_row4_col3 {\n",
       "  background-color: #e9d5cb;\n",
       "  color: #000000;\n",
       "}\n",
       "#T_5fef1_row5_col1 {\n",
       "  background-color: #e67259;\n",
       "  color: #f1f1f1;\n",
       "}\n",
       "#T_5fef1_row5_col2 {\n",
       "  background-color: #5977e3;\n",
       "  color: #f1f1f1;\n",
       "}\n",
       "#T_5fef1_row5_col3, #T_5fef1_row7_col5 {\n",
       "  background-color: #9bbcff;\n",
       "  color: #000000;\n",
       "}\n",
       "#T_5fef1_row6_col1 {\n",
       "  background-color: #92b4fe;\n",
       "  color: #000000;\n",
       "}\n",
       "#T_5fef1_row6_col2, #T_5fef1_row6_col3 {\n",
       "  background-color: #4b64d5;\n",
       "  color: #f1f1f1;\n",
       "}\n",
       "#T_5fef1_row6_col5 {\n",
       "  background-color: #6c8ff1;\n",
       "  color: #f1f1f1;\n",
       "}\n",
       "</style>\n",
       "<table id=\"T_5fef1\">\n",
       "  <thead>\n",
       "    <tr>\n",
       "      <th class=\"blank level0\" >&nbsp;</th>\n",
       "      <th id=\"T_5fef1_level0_col0\" class=\"col_heading level0 col0\" >category</th>\n",
       "      <th id=\"T_5fef1_level0_col1\" class=\"col_heading level0 col1\" >count</th>\n",
       "      <th id=\"T_5fef1_level0_col2\" class=\"col_heading level0 col2\" >mean</th>\n",
       "      <th id=\"T_5fef1_level0_col3\" class=\"col_heading level0 col3\" >median</th>\n",
       "      <th id=\"T_5fef1_level0_col4\" class=\"col_heading level0 col4\" >min</th>\n",
       "      <th id=\"T_5fef1_level0_col5\" class=\"col_heading level0 col5\" >max</th>\n",
       "    </tr>\n",
       "  </thead>\n",
       "  <tbody>\n",
       "    <tr>\n",
       "      <th id=\"T_5fef1_level0_row0\" class=\"row_heading level0 row0\" >6</th>\n",
       "      <td id=\"T_5fef1_row0_col0\" class=\"data row0 col0\" >ресторан</td>\n",
       "      <td id=\"T_5fef1_row0_col1\" class=\"data row0 col1\" >1188</td>\n",
       "      <td id=\"T_5fef1_row0_col2\" class=\"data row0 col2\" >114.808081</td>\n",
       "      <td id=\"T_5fef1_row0_col3\" class=\"data row0 col3\" >84.500000</td>\n",
       "      <td id=\"T_5fef1_row0_col4\" class=\"data row0 col4\" >0</td>\n",
       "      <td id=\"T_5fef1_row0_col5\" class=\"data row0 col5\" >500</td>\n",
       "    </tr>\n",
       "    <tr>\n",
       "      <th id=\"T_5fef1_level0_row1\" class=\"row_heading level0 row1\" >0</th>\n",
       "      <td id=\"T_5fef1_row1_col0\" class=\"data row1 col0\" >бар,паб</td>\n",
       "      <td id=\"T_5fef1_row1_col1\" class=\"data row1 col1\" >444</td>\n",
       "      <td id=\"T_5fef1_row1_col2\" class=\"data row1 col2\" >109.810811</td>\n",
       "      <td id=\"T_5fef1_row1_col3\" class=\"data row1 col3\" >80.000000</td>\n",
       "      <td id=\"T_5fef1_row1_col4\" class=\"data row1 col4\" >0</td>\n",
       "      <td id=\"T_5fef1_row1_col5\" class=\"data row1 col5\" >585</td>\n",
       "    </tr>\n",
       "    <tr>\n",
       "      <th id=\"T_5fef1_level0_row2\" class=\"row_heading level0 row2\" >4</th>\n",
       "      <td id=\"T_5fef1_row2_col0\" class=\"data row2 col0\" >кофейня</td>\n",
       "      <td id=\"T_5fef1_row2_col1\" class=\"data row2 col1\" >728</td>\n",
       "      <td id=\"T_5fef1_row2_col2\" class=\"data row2 col2\" >101.017857</td>\n",
       "      <td id=\"T_5fef1_row2_col3\" class=\"data row2 col3\" >80.000000</td>\n",
       "      <td id=\"T_5fef1_row2_col4\" class=\"data row2 col4\" >0</td>\n",
       "      <td id=\"T_5fef1_row2_col5\" class=\"data row2 col5\" >500</td>\n",
       "    </tr>\n",
       "    <tr>\n",
       "      <th id=\"T_5fef1_level0_row3\" class=\"row_heading level0 row3\" >7</th>\n",
       "      <td id=\"T_5fef1_row3_col0\" class=\"data row3 col0\" >столовая</td>\n",
       "      <td id=\"T_5fef1_row3_col1\" class=\"data row3 col1\" >156</td>\n",
       "      <td id=\"T_5fef1_row3_col2\" class=\"data row3 col2\" >89.320513</td>\n",
       "      <td id=\"T_5fef1_row3_col3\" class=\"data row3 col3\" >72.000000</td>\n",
       "      <td id=\"T_5fef1_row3_col4\" class=\"data row3 col4\" >0</td>\n",
       "      <td id=\"T_5fef1_row3_col5\" class=\"data row3 col5\" >428</td>\n",
       "    </tr>\n",
       "    <tr>\n",
       "      <th id=\"T_5fef1_level0_row4\" class=\"row_heading level0 row4\" >2</th>\n",
       "      <td id=\"T_5fef1_row4_col0\" class=\"data row4 col0\" >быстрое питание</td>\n",
       "      <td id=\"T_5fef1_row4_col1\" class=\"data row4 col1\" >323</td>\n",
       "      <td id=\"T_5fef1_row4_col2\" class=\"data row4 col2\" >97.544892</td>\n",
       "      <td id=\"T_5fef1_row4_col3\" class=\"data row4 col3\" >69.000000</td>\n",
       "      <td id=\"T_5fef1_row4_col4\" class=\"data row4 col4\" >0</td>\n",
       "      <td id=\"T_5fef1_row4_col5\" class=\"data row4 col5\" >500</td>\n",
       "    </tr>\n",
       "    <tr>\n",
       "      <th id=\"T_5fef1_level0_row5\" class=\"row_heading level0 row5\" >3</th>\n",
       "      <td id=\"T_5fef1_row5_col0\" class=\"data row5 col0\" >кафе</td>\n",
       "      <td id=\"T_5fef1_row5_col1\" class=\"data row5 col1\" >1018</td>\n",
       "      <td id=\"T_5fef1_row5_col2\" class=\"data row5 col2\" >89.191552</td>\n",
       "      <td id=\"T_5fef1_row5_col3\" class=\"data row5 col3\" >60.000000</td>\n",
       "      <td id=\"T_5fef1_row5_col4\" class=\"data row5 col4\" >0</td>\n",
       "      <td id=\"T_5fef1_row5_col5\" class=\"data row5 col5\" >600</td>\n",
       "    </tr>\n",
       "    <tr>\n",
       "      <th id=\"T_5fef1_level0_row6\" class=\"row_heading level0 row6\" >5</th>\n",
       "      <td id=\"T_5fef1_row6_col0\" class=\"data row6 col0\" >пиццерия</td>\n",
       "      <td id=\"T_5fef1_row6_col1\" class=\"data row6 col1\" >419</td>\n",
       "      <td id=\"T_5fef1_row6_col2\" class=\"data row6 col2\" >87.976134</td>\n",
       "      <td id=\"T_5fef1_row6_col3\" class=\"data row6 col3\" >52.000000</td>\n",
       "      <td id=\"T_5fef1_row6_col4\" class=\"data row6 col4\" >0</td>\n",
       "      <td id=\"T_5fef1_row6_col5\" class=\"data row6 col5\" >455</td>\n",
       "    </tr>\n",
       "    <tr>\n",
       "      <th id=\"T_5fef1_level0_row7\" class=\"row_heading level0 row7\" >1</th>\n",
       "      <td id=\"T_5fef1_row7_col0\" class=\"data row7 col0\" >булочная</td>\n",
       "      <td id=\"T_5fef1_row7_col1\" class=\"data row7 col1\" >145</td>\n",
       "      <td id=\"T_5fef1_row7_col2\" class=\"data row7 col2\" >86.365517</td>\n",
       "      <td id=\"T_5fef1_row7_col3\" class=\"data row7 col3\" >50.000000</td>\n",
       "      <td id=\"T_5fef1_row7_col4\" class=\"data row7 col4\" >0</td>\n",
       "      <td id=\"T_5fef1_row7_col5\" class=\"data row7 col5\" >478</td>\n",
       "    </tr>\n",
       "  </tbody>\n",
       "</table>\n"
      ],
      "text/plain": [
       "<pandas.io.formats.style.Styler at 0x26fda324f10>"
      ]
     },
     "execution_count": 119,
     "metadata": {},
     "output_type": "execute_result"
    }
   ],
   "source": [
    "#Let's check the count of seats by range\n",
    "category_seats =data[data['seats']!=555]\\\n",
    ".groupby('category').agg({'seats': ['count', 'mean', 'median','min','max']}) \\\n",
    ".reset_index()\n",
    "\n",
    "category_seats.columns = ['category', 'count', 'mean', 'median','min','max']\n",
    "category_seats = category_seats.sort_values(by='median', ascending=False)\n",
    "category_seats.sort_values(by='median', ascending=False).style.background_gradient('coolwarm') "
   ]
  },
  {
   "cell_type": "markdown",
   "id": "faabed74",
   "metadata": {},
   "source": [
    "By the fact that in each range the minimum value is 0, there are businesses in the dataset that work only for delivery. as well as large businesses with 500 or more seats, while the count of seats 478 for a bakery looks suspiciously large, perhaps these are some errors in the dataset. if you look at the average and median values, then we see a roughly understandable picture based on the median of seats from 50 to 85, and the average ones are most likely beaten out due to the fact that there are businesses with a significant advantage in the big direction."
   ]
  },
  {
   "cell_type": "code",
   "execution_count": 120,
   "id": "36b059c5",
   "metadata": {
    "scrolled": true
   },
   "outputs": [
    {
     "data": {
      "text/plain": [
       "''"
      ]
     },
     "execution_count": 120,
     "metadata": {},
     "output_type": "execute_result"
    },
    {
     "data": {
      "image/png": "[encoded data removed]",
      "text/plain": [
       "<Figure size 576x288 with 1 Axes>"
      ]
     },
     "metadata": {},
     "output_type": "display_data"
    }
   ],
   "source": [
    "#Lets create a plot of amount seats by range\n",
    "fig = category_seats.plot(kind = 'bar', x='category', y='median', figsize=(8,4), rot=30, legend = True, fontsize = 14, color = '#a5a6a9')\n",
    "fig.set_ylabel('average amount of seats',fontsize = 12)\n",
    "fig.set_xlabel('Range',fontsize = 12)\n",
    "fig.set_title('Count of seats by range', fontsize = 26, color = '#0b3536')\n",
    "; \n"
   ]
  },
  {
   "cell_type": "markdown",
   "id": "a4fe535f",
   "metadata": {},
   "source": [
    "Bakeries and pizzerias have significantly fewer seats, perhaps this is due to the fact that businesses of this kind are more actively working for delivery."
   ]
  },
  {
   "cell_type": "code",
   "execution_count": 121,
   "id": "752e5307",
   "metadata": {
    "scrolled": true
   },
   "outputs": [
    {
     "data": {
      "text/html": [
       "<style type=\"text/css\">\n",
       "#T_b92fe_row0_col2 {\n",
       "  background-color: #c3d5f4;\n",
       "  color: #000000;\n",
       "}\n",
       "#T_b92fe_row1_col2 {\n",
       "  background-color: #4c66d6;\n",
       "  color: #f1f1f1;\n",
       "}\n",
       "#T_b92fe_row2_col2 {\n",
       "  background-color: #4b64d5;\n",
       "  color: #f1f1f1;\n",
       "}\n",
       "#T_b92fe_row3_col2 {\n",
       "  background-color: #3d50c3;\n",
       "  color: #f1f1f1;\n",
       "}\n",
       "#T_b92fe_row4_col2 {\n",
       "  background-color: #81a4fb;\n",
       "  color: #f1f1f1;\n",
       "}\n",
       "#T_b92fe_row5_col2 {\n",
       "  background-color: #5e7de7;\n",
       "  color: #f1f1f1;\n",
       "}\n",
       "#T_b92fe_row6_col2 {\n",
       "  background-color: #b40426;\n",
       "  color: #f1f1f1;\n",
       "}\n",
       "#T_b92fe_row7_col2, #T_b92fe_row8_col2 {\n",
       "  background-color: #e1dad6;\n",
       "  color: #000000;\n",
       "}\n",
       "#T_b92fe_row9_col2 {\n",
       "  background-color: #dbdcde;\n",
       "  color: #000000;\n",
       "}\n",
       "#T_b92fe_row10_col2 {\n",
       "  background-color: #7b9ff9;\n",
       "  color: #f1f1f1;\n",
       "}\n",
       "#T_b92fe_row11_col2 {\n",
       "  background-color: #7396f5;\n",
       "  color: #f1f1f1;\n",
       "}\n",
       "#T_b92fe_row12_col2 {\n",
       "  background-color: #c43032;\n",
       "  color: #f1f1f1;\n",
       "}\n",
       "#T_b92fe_row13_col2 {\n",
       "  background-color: #e0dbd8;\n",
       "  color: #000000;\n",
       "}\n",
       "#T_b92fe_row14_col2 {\n",
       "  background-color: #5d7ce6;\n",
       "  color: #f1f1f1;\n",
       "}\n",
       "#T_b92fe_row15_col2 {\n",
       "  background-color: #3b4cc0;\n",
       "  color: #f1f1f1;\n",
       "}\n",
       "</style>\n",
       "<table id=\"T_b92fe\">\n",
       "  <thead>\n",
       "    <tr>\n",
       "      <th class=\"blank level0\" >&nbsp;</th>\n",
       "      <th id=\"T_b92fe_level0_col0\" class=\"col_heading level0 col0\" >category</th>\n",
       "      <th id=\"T_b92fe_level0_col1\" class=\"col_heading level0 col1\" >chain</th>\n",
       "      <th id=\"T_b92fe_level0_col2\" class=\"col_heading level0 col2\" >count</th>\n",
       "    </tr>\n",
       "  </thead>\n",
       "  <tbody>\n",
       "    <tr>\n",
       "      <th id=\"T_b92fe_level0_row0\" class=\"row_heading level0 row0\" >0</th>\n",
       "      <td id=\"T_b92fe_row0_col0\" class=\"data row0 col0\" >бар,паб</td>\n",
       "      <td id=\"T_b92fe_row0_col1\" class=\"data row0 col1\" >False</td>\n",
       "      <td id=\"T_b92fe_row0_col2\" class=\"data row0 col2\" >574</td>\n",
       "    </tr>\n",
       "    <tr>\n",
       "      <th id=\"T_b92fe_level0_row1\" class=\"row_heading level0 row1\" >1</th>\n",
       "      <td id=\"T_b92fe_row1_col0\" class=\"data row1 col0\" >бар,паб</td>\n",
       "      <td id=\"T_b92fe_row1_col1\" class=\"data row1 col1\" >True</td>\n",
       "      <td id=\"T_b92fe_row1_col2\" class=\"data row1 col2\" >158</td>\n",
       "    </tr>\n",
       "    <tr>\n",
       "      <th id=\"T_b92fe_level0_row2\" class=\"row_heading level0 row2\" >2</th>\n",
       "      <td id=\"T_b92fe_row2_col0\" class=\"data row2 col0\" >булочная</td>\n",
       "      <td id=\"T_b92fe_row2_col1\" class=\"data row2 col1\" >True</td>\n",
       "      <td id=\"T_b92fe_row2_col2\" class=\"data row2 col2\" >153</td>\n",
       "    </tr>\n",
       "    <tr>\n",
       "      <th id=\"T_b92fe_level0_row3\" class=\"row_heading level0 row3\" >3</th>\n",
       "      <td id=\"T_b92fe_row3_col0\" class=\"data row3 col0\" >булочная</td>\n",
       "      <td id=\"T_b92fe_row3_col1\" class=\"data row3 col1\" >False</td>\n",
       "      <td id=\"T_b92fe_row3_col2\" class=\"data row3 col2\" >95</td>\n",
       "    </tr>\n",
       "    <tr>\n",
       "      <th id=\"T_b92fe_level0_row4\" class=\"row_heading level0 row4\" >4</th>\n",
       "      <td id=\"T_b92fe_row4_col0\" class=\"data row4 col0\" >быстрое питание</td>\n",
       "      <td id=\"T_b92fe_row4_col1\" class=\"data row4 col1\" >False</td>\n",
       "      <td id=\"T_b92fe_row4_col2\" class=\"data row4 col2\" >346</td>\n",
       "    </tr>\n",
       "    <tr>\n",
       "      <th id=\"T_b92fe_level0_row5\" class=\"row_heading level0 row5\" >5</th>\n",
       "      <td id=\"T_b92fe_row5_col0\" class=\"data row5 col0\" >быстрое питание</td>\n",
       "      <td id=\"T_b92fe_row5_col1\" class=\"data row5 col1\" >True</td>\n",
       "      <td id=\"T_b92fe_row5_col2\" class=\"data row5 col2\" >222</td>\n",
       "    </tr>\n",
       "    <tr>\n",
       "      <th id=\"T_b92fe_level0_row6\" class=\"row_heading level0 row6\" >6</th>\n",
       "      <td id=\"T_b92fe_row6_col0\" class=\"data row6 col0\" >кафе</td>\n",
       "      <td id=\"T_b92fe_row6_col1\" class=\"data row6 col1\" >False</td>\n",
       "      <td id=\"T_b92fe_row6_col2\" class=\"data row6 col2\" >1286</td>\n",
       "    </tr>\n",
       "    <tr>\n",
       "      <th id=\"T_b92fe_level0_row7\" class=\"row_heading level0 row7\" >7</th>\n",
       "      <td id=\"T_b92fe_row7_col0\" class=\"data row7 col0\" >кафе</td>\n",
       "      <td id=\"T_b92fe_row7_col1\" class=\"data row7 col1\" >True</td>\n",
       "      <td id=\"T_b92fe_row7_col2\" class=\"data row7 col2\" >707</td>\n",
       "    </tr>\n",
       "    <tr>\n",
       "      <th id=\"T_b92fe_level0_row8\" class=\"row_heading level0 row8\" >8</th>\n",
       "      <td id=\"T_b92fe_row8_col0\" class=\"data row8 col0\" >кофейня</td>\n",
       "      <td id=\"T_b92fe_row8_col1\" class=\"data row8 col1\" >True</td>\n",
       "      <td id=\"T_b92fe_row8_col2\" class=\"data row8 col2\" >704</td>\n",
       "    </tr>\n",
       "    <tr>\n",
       "      <th id=\"T_b92fe_level0_row9\" class=\"row_heading level0 row9\" >9</th>\n",
       "      <td id=\"T_b92fe_row9_col0\" class=\"data row9 col0\" >кофейня</td>\n",
       "      <td id=\"T_b92fe_row9_col1\" class=\"data row9 col1\" >False</td>\n",
       "      <td id=\"T_b92fe_row9_col2\" class=\"data row9 col2\" >676</td>\n",
       "    </tr>\n",
       "    <tr>\n",
       "      <th id=\"T_b92fe_level0_row10\" class=\"row_heading level0 row10\" >10</th>\n",
       "      <td id=\"T_b92fe_row10_col0\" class=\"data row10 col0\" >пиццерия</td>\n",
       "      <td id=\"T_b92fe_row10_col1\" class=\"data row10 col1\" >True</td>\n",
       "      <td id=\"T_b92fe_row10_col2\" class=\"data row10 col2\" >328</td>\n",
       "    </tr>\n",
       "    <tr>\n",
       "      <th id=\"T_b92fe_level0_row11\" class=\"row_heading level0 row11\" >11</th>\n",
       "      <td id=\"T_b92fe_row11_col0\" class=\"data row11 col0\" >пиццерия</td>\n",
       "      <td id=\"T_b92fe_row11_col1\" class=\"data row11 col1\" >False</td>\n",
       "      <td id=\"T_b92fe_row11_col2\" class=\"data row11 col2\" >296</td>\n",
       "    </tr>\n",
       "    <tr>\n",
       "      <th id=\"T_b92fe_level0_row12\" class=\"row_heading level0 row12\" >12</th>\n",
       "      <td id=\"T_b92fe_row12_col0\" class=\"data row12 col0\" >ресторан</td>\n",
       "      <td id=\"T_b92fe_row12_col1\" class=\"data row12 col1\" >False</td>\n",
       "      <td id=\"T_b92fe_row12_col2\" class=\"data row12 col2\" >1230</td>\n",
       "    </tr>\n",
       "    <tr>\n",
       "      <th id=\"T_b92fe_level0_row13\" class=\"row_heading level0 row13\" >13</th>\n",
       "      <td id=\"T_b92fe_row13_col0\" class=\"data row13 col0\" >ресторан</td>\n",
       "      <td id=\"T_b92fe_row13_col1\" class=\"data row13 col1\" >True</td>\n",
       "      <td id=\"T_b92fe_row13_col2\" class=\"data row13 col2\" >703</td>\n",
       "    </tr>\n",
       "    <tr>\n",
       "      <th id=\"T_b92fe_level0_row14\" class=\"row_heading level0 row14\" >14</th>\n",
       "      <td id=\"T_b92fe_row14_col0\" class=\"data row14 col0\" >столовая</td>\n",
       "      <td id=\"T_b92fe_row14_col1\" class=\"data row14 col1\" >False</td>\n",
       "      <td id=\"T_b92fe_row14_col2\" class=\"data row14 col2\" >220</td>\n",
       "    </tr>\n",
       "    <tr>\n",
       "      <th id=\"T_b92fe_level0_row15\" class=\"row_heading level0 row15\" >15</th>\n",
       "      <td id=\"T_b92fe_row15_col0\" class=\"data row15 col0\" >столовая</td>\n",
       "      <td id=\"T_b92fe_row15_col1\" class=\"data row15 col1\" >True</td>\n",
       "      <td id=\"T_b92fe_row15_col2\" class=\"data row15 col2\" >84</td>\n",
       "    </tr>\n",
       "  </tbody>\n",
       "</table>\n"
      ],
      "text/plain": [
       "<pandas.io.formats.style.Styler at 0x26fe0d15f40>"
      ]
     },
     "execution_count": 121,
     "metadata": {},
     "output_type": "execute_result"
    }
   ],
   "source": [
    "#let's check how chain businesses are distributed\n",
    "chain_category = data.groupby('category')[['category','chain']].value_counts().reset_index()\n",
    "chain_category.columns = ['category','chain','count']\n",
    "chain_category.style.background_gradient('coolwarm')"
   ]
  },
  {
   "cell_type": "code",
   "execution_count": 122,
   "id": "68241cff",
   "metadata": {},
   "outputs": [
    {
     "data": {
      "application/vnd.plotly.v1+json": {
       "config": {
        "plotlyServerURL": "https://plot.ly"
       },
       "data": [
        {
         "alignmentgroup": "True",
         "hovertemplate": "chain=False<br>category=%{x}<br>count=%{y}<extra></extra>",
         "legendgroup": "False",
         "marker": {
          "color": "#00cc96",
          "pattern": {
           "shape": ""
          }
         },
         "name": "False",
         "offsetgroup": "False",
         "orientation": "v",
         "showlegend": true,
         "textposition": "auto",
         "type": "bar",
         "x": [
          "бар,паб",
          "булочная",
          "быстрое питание",
          "кафе",
          "кофейня",
          "пиццерия",
          "ресторан",
          "столовая"
         ],
         "xaxis": "x",
         "y": [
          574,
          95,
          346,
          1286,
          676,
          296,
          1230,
          220
         ],
         "yaxis": "y"
        },
        {
         "alignmentgroup": "True",
         "hovertemplate": "chain=True<br>category=%{x}<br>count=%{y}<extra></extra>",
         "legendgroup": "True",
         "marker": {
          "color": "#ab63fa",
          "pattern": {
           "shape": ""
          }
         },
         "name": "True",
         "offsetgroup": "True",
         "orientation": "v",
         "showlegend": true,
         "textposition": "auto",
         "type": "bar",
         "x": [
          "бар,паб",
          "булочная",
          "быстрое питание",
          "кафе",
          "кофейня",
          "пиццерия",
          "ресторан",
          "столовая"
         ],
         "xaxis": "x",
         "y": [
          158,
          153,
          222,
          707,
          704,
          328,
          703,
          84
         ],
         "yaxis": "y"
        }
       ],
       "layout": {
        "barmode": "relative",
        "height": 400,
        "legend": {
         "title": {
          "text": "chain"
         },
         "tracegroupgap": 0
        },
        "template": {
         "data": {
          "bar": [
           {
            "error_x": {
             "color": "#2a3f5f"
            },
            "error_y": {
             "color": "#2a3f5f"
            },
            "marker": {
             "line": {
              "color": "#E5ECF6",
              "width": 0.5
             },
             "pattern": {
              "fillmode": "overlay",
              "size": 10,
              "solidity": 0.2
             }
            },
            "type": "bar"
           }
          ],
          "barpolar": [
           {
            "marker": {
             "line": {
              "color": "#E5ECF6",
              "width": 0.5
             },
             "pattern": {
              "fillmode": "overlay",
              "size": 10,
              "solidity": 0.2
             }
            },
            "type": "barpolar"
           }
          ],
          "carpet": [
           {
            "aaxis": {
             "endlinecolor": "#2a3f5f",
             "gridcolor": "white",
             "linecolor": "white",
             "minorgridcolor": "white",
             "startlinecolor": "#2a3f5f"
            },
            "baxis": {
             "endlinecolor": "#2a3f5f",
             "gridcolor": "white",
             "linecolor": "white",
             "minorgridcolor": "white",
             "startlinecolor": "#2a3f5f"
            },
            "type": "carpet"
           }
          ],
          "choropleth": [
           {
            "colorbar": {
             "outlinewidth": 0,
             "ticks": ""
            },
            "type": "choropleth"
           }
          ],
          "contour": [
           {
            "colorbar": {
             "outlinewidth": 0,
             "ticks": ""
            },
            "colorscale": [
             [
              0,
              "#0d0887"
             ],
             [
              0.1111111111111111,
              "#46039f"
             ],
             [
              0.2222222222222222,
              "#7201a8"
             ],
             [
              0.3333333333333333,
              "#9c179e"
             ],
             [
              0.4444444444444444,
              "#bd3786"
             ],
             [
              0.5555555555555556,
              "#d8576b"
             ],
             [
              0.6666666666666666,
              "#ed7953"
             ],
             [
              0.7777777777777778,
              "#fb9f3a"
             ],
             [
              0.8888888888888888,
              "#fdca26"
             ],
             [
              1,
              "#f0f921"
             ]
            ],
            "type": "contour"
           }
          ],
          "contourcarpet": [
           {
            "colorbar": {
             "outlinewidth": 0,
             "ticks": ""
            },
            "type": "contourcarpet"
           }
          ],
          "heatmap": [
           {
            "colorbar": {
             "outlinewidth": 0,
             "ticks": ""
            },
            "colorscale": [
             [
              0,
              "#0d0887"
             ],
             [
              0.1111111111111111,
              "#46039f"
             ],
             [
              0.2222222222222222,
              "#7201a8"
             ],
             [
              0.3333333333333333,
              "#9c179e"
             ],
             [
              0.4444444444444444,
              "#bd3786"
             ],
             [
              0.5555555555555556,
              "#d8576b"
             ],
             [
              0.6666666666666666,
              "#ed7953"
             ],
             [
              0.7777777777777778,
              "#fb9f3a"
             ],
             [
              0.8888888888888888,
              "#fdca26"
             ],
             [
              1,
              "#f0f921"
             ]
            ],
            "type": "heatmap"
           }
          ],
          "heatmapgl": [
           {
            "colorbar": {
             "outlinewidth": 0,
             "ticks": ""
            },
            "colorscale": [
             [
              0,
              "#0d0887"
             ],
             [
              0.1111111111111111,
              "#46039f"
             ],
             [
              0.2222222222222222,
              "#7201a8"
             ],
             [
              0.3333333333333333,
              "#9c179e"
             ],
             [
              0.4444444444444444,
              "#bd3786"
             ],
             [
              0.5555555555555556,
              "#d8576b"
             ],
             [
              0.6666666666666666,
              "#ed7953"
             ],
             [
              0.7777777777777778,
              "#fb9f3a"
             ],
             [
              0.8888888888888888,
              "#fdca26"
             ],
             [
              1,
              "#f0f921"
             ]
            ],
            "type": "heatmapgl"
           }
          ],
          "histogram": [
           {
            "marker": {
             "pattern": {
              "fillmode": "overlay",
              "size": 10,
              "solidity": 0.2
             }
            },
            "type": "histogram"
           }
          ],
          "histogram2d": [
           {
            "colorbar": {
             "outlinewidth": 0,
             "ticks": ""
            },
            "colorscale": [
             [
              0,
              "#0d0887"
             ],
             [
              0.1111111111111111,
              "#46039f"
             ],
             [
              0.2222222222222222,
              "#7201a8"
             ],
             [
              0.3333333333333333,
              "#9c179e"
             ],
             [
              0.4444444444444444,
              "#bd3786"
             ],
             [
              0.5555555555555556,
              "#d8576b"
             ],
             [
              0.6666666666666666,
              "#ed7953"
             ],
             [
              0.7777777777777778,
              "#fb9f3a"
             ],
             [
              0.8888888888888888,
              "#fdca26"
             ],
             [
              1,
              "#f0f921"
             ]
            ],
            "type": "histogram2d"
           }
          ],
          "histogram2dcontour": [
           {
            "colorbar": {
             "outlinewidth": 0,
             "ticks": ""
            },
            "colorscale": [
             [
              0,
              "#0d0887"
             ],
             [
              0.1111111111111111,
              "#46039f"
             ],
             [
              0.2222222222222222,
              "#7201a8"
             ],
             [
              0.3333333333333333,
              "#9c179e"
             ],
             [
              0.4444444444444444,
              "#bd3786"
             ],
             [
              0.5555555555555556,
              "#d8576b"
             ],
             [
              0.6666666666666666,
              "#ed7953"
             ],
             [
              0.7777777777777778,
              "#fb9f3a"
             ],
             [
              0.8888888888888888,
              "#fdca26"
             ],
             [
              1,
              "#f0f921"
             ]
            ],
            "type": "histogram2dcontour"
           }
          ],
          "mesh3d": [
           {
            "colorbar": {
             "outlinewidth": 0,
             "ticks": ""
            },
            "type": "mesh3d"
           }
          ],
          "parcoords": [
           {
            "line": {
             "colorbar": {
              "outlinewidth": 0,
              "ticks": ""
             }
            },
            "type": "parcoords"
           }
          ],
          "pie": [
           {
            "automargin": true,
            "type": "pie"
           }
          ],
          "scatter": [
           {
            "marker": {
             "colorbar": {
              "outlinewidth": 0,
              "ticks": ""
             }
            },
            "type": "scatter"
           }
          ],
          "scatter3d": [
           {
            "line": {
             "colorbar": {
              "outlinewidth": 0,
              "ticks": ""
             }
            },
            "marker": {
             "colorbar": {
              "outlinewidth": 0,
              "ticks": ""
             }
            },
            "type": "scatter3d"
           }
          ],
          "scattercarpet": [
           {
            "marker": {
             "colorbar": {
              "outlinewidth": 0,
              "ticks": ""
             }
            },
            "type": "scattercarpet"
           }
          ],
          "scattergeo": [
           {
            "marker": {
             "colorbar": {
              "outlinewidth": 0,
              "ticks": ""
             }
            },
            "type": "scattergeo"
           }
          ],
          "scattergl": [
           {
            "marker": {
             "colorbar": {
              "outlinewidth": 0,
              "ticks": ""
             }
            },
            "type": "scattergl"
           }
          ],
          "scattermapbox": [
           {
            "marker": {
             "colorbar": {
              "outlinewidth": 0,
              "ticks": ""
             }
            },
            "type": "scattermapbox"
           }
          ],
          "scatterpolar": [
           {
            "marker": {
             "colorbar": {
              "outlinewidth": 0,
              "ticks": ""
             }
            },
            "type": "scatterpolar"
           }
          ],
          "scatterpolargl": [
           {
            "marker": {
             "colorbar": {
              "outlinewidth": 0,
              "ticks": ""
             }
            },
            "type": "scatterpolargl"
           }
          ],
          "scatterternary": [
           {
            "marker": {
             "colorbar": {
              "outlinewidth": 0,
              "ticks": ""
             }
            },
            "type": "scatterternary"
           }
          ],
          "surface": [
           {
            "colorbar": {
             "outlinewidth": 0,
             "ticks": ""
            },
            "colorscale": [
             [
              0,
              "#0d0887"
             ],
             [
              0.1111111111111111,
              "#46039f"
             ],
             [
              0.2222222222222222,
              "#7201a8"
             ],
             [
              0.3333333333333333,
              "#9c179e"
             ],
             [
              0.4444444444444444,
              "#bd3786"
             ],
             [
              0.5555555555555556,
              "#d8576b"
             ],
             [
              0.6666666666666666,
              "#ed7953"
             ],
             [
              0.7777777777777778,
              "#fb9f3a"
             ],
             [
              0.8888888888888888,
              "#fdca26"
             ],
             [
              1,
              "#f0f921"
             ]
            ],
            "type": "surface"
           }
          ],
          "table": [
           {
            "cells": {
             "fill": {
              "color": "#EBF0F8"
             },
             "line": {
              "color": "white"
             }
            },
            "header": {
             "fill": {
              "color": "#C8D4E3"
             },
             "line": {
              "color": "white"
             }
            },
            "type": "table"
           }
          ]
         },
         "layout": {
          "annotationdefaults": {
           "arrowcolor": "#2a3f5f",
           "arrowhead": 0,
           "arrowwidth": 1
          },
          "autotypenumbers": "strict",
          "coloraxis": {
           "colorbar": {
            "outlinewidth": 0,
            "ticks": ""
           }
          },
          "colorscale": {
           "diverging": [
            [
             0,
             "#8e0152"
            ],
            [
             0.1,
             "#c51b7d"
            ],
            [
             0.2,
             "#de77ae"
            ],
            [
             0.3,
             "#f1b6da"
            ],
            [
             0.4,
             "#fde0ef"
            ],
            [
             0.5,
             "#f7f7f7"
            ],
            [
             0.6,
             "#e6f5d0"
            ],
            [
             0.7,
             "#b8e186"
            ],
            [
             0.8,
             "#7fbc41"
            ],
            [
             0.9,
             "#4d9221"
            ],
            [
             1,
             "#276419"
            ]
           ],
           "sequential": [
            [
             0,
             "#0d0887"
            ],
            [
             0.1111111111111111,
             "#46039f"
            ],
            [
             0.2222222222222222,
             "#7201a8"
            ],
            [
             0.3333333333333333,
             "#9c179e"
            ],
            [
             0.4444444444444444,
             "#bd3786"
            ],
            [
             0.5555555555555556,
             "#d8576b"
            ],
            [
             0.6666666666666666,
             "#ed7953"
            ],
            [
             0.7777777777777778,
             "#fb9f3a"
            ],
            [
             0.8888888888888888,
             "#fdca26"
            ],
            [
             1,
             "#f0f921"
            ]
           ],
           "sequentialminus": [
            [
             0,
             "#0d0887"
            ],
            [
             0.1111111111111111,
             "#46039f"
            ],
            [
             0.2222222222222222,
             "#7201a8"
            ],
            [
             0.3333333333333333,
             "#9c179e"
            ],
            [
             0.4444444444444444,
             "#bd3786"
            ],
            [
             0.5555555555555556,
             "#d8576b"
            ],
            [
             0.6666666666666666,
             "#ed7953"
            ],
            [
             0.7777777777777778,
             "#fb9f3a"
            ],
            [
             0.8888888888888888,
             "#fdca26"
            ],
            [
             1,
             "#f0f921"
            ]
           ]
          },
          "colorway": [
           "#636efa",
           "#EF553B",
           "#00cc96",
           "#ab63fa",
           "#FFA15A",
           "#19d3f3",
           "#FF6692",
           "#B6E880",
           "#FF97FF",
           "#FECB52"
          ],
          "font": {
           "color": "#2a3f5f"
          },
          "geo": {
           "bgcolor": "white",
           "lakecolor": "white",
           "landcolor": "#E5ECF6",
           "showlakes": true,
           "showland": true,
           "subunitcolor": "white"
          },
          "hoverlabel": {
           "align": "left"
          },
          "hovermode": "closest",
          "mapbox": {
           "style": "light"
          },
          "paper_bgcolor": "white",
          "plot_bgcolor": "#E5ECF6",
          "polar": {
           "angularaxis": {
            "gridcolor": "white",
            "linecolor": "white",
            "ticks": ""
           },
           "bgcolor": "#E5ECF6",
           "radialaxis": {
            "gridcolor": "white",
            "linecolor": "white",
            "ticks": ""
           }
          },
          "scene": {
           "xaxis": {
            "backgroundcolor": "#E5ECF6",
            "gridcolor": "white",
            "gridwidth": 2,
            "linecolor": "white",
            "showbackground": true,
            "ticks": "",
            "zerolinecolor": "white"
           },
           "yaxis": {
            "backgroundcolor": "#E5ECF6",
            "gridcolor": "white",
            "gridwidth": 2,
            "linecolor": "white",
            "showbackground": true,
            "ticks": "",
            "zerolinecolor": "white"
           },
           "zaxis": {
            "backgroundcolor": "#E5ECF6",
            "gridcolor": "white",
            "gridwidth": 2,
            "linecolor": "white",
            "showbackground": true,
            "ticks": "",
            "zerolinecolor": "white"
           }
          },
          "shapedefaults": {
           "line": {
            "color": "#2a3f5f"
           }
          },
          "ternary": {
           "aaxis": {
            "gridcolor": "white",
            "linecolor": "white",
            "ticks": ""
           },
           "baxis": {
            "gridcolor": "white",
            "linecolor": "white",
            "ticks": ""
           },
           "bgcolor": "#E5ECF6",
           "caxis": {
            "gridcolor": "white",
            "linecolor": "white",
            "ticks": ""
           }
          },
          "title": {
           "x": 0.05
          },
          "xaxis": {
           "automargin": true,
           "gridcolor": "white",
           "linecolor": "white",
           "ticks": "",
           "title": {
            "standoff": 15
           },
           "zerolinecolor": "white",
           "zerolinewidth": 2
          },
          "yaxis": {
           "automargin": true,
           "gridcolor": "white",
           "linecolor": "white",
           "ticks": "",
           "title": {
            "standoff": 15
           },
           "zerolinecolor": "white",
           "zerolinewidth": 2
          }
         }
        },
        "title": {
         "text": "Plot chain and non-chain businesses"
        },
        "width": 1000,
        "xaxis": {
         "anchor": "y",
         "domain": [
          0,
          1
         ],
         "title": {
          "text": "Range"
         }
        },
        "yaxis": {
         "anchor": "x",
         "domain": [
          0,
          1
         ],
         "title": {
          "text": "Amount businesses"
         }
        }
       }
      },
      "text/html": [
       "<div>                            <div id=\"f722b2a4-ad0b-4987-aadc-67df7d5194d9\" class=\"plotly-graph-div\" style=\"height:400px; width:1000px;\"></div>            <script type=\"text/javascript\">                require([\"plotly\"], function(Plotly) {                    window.PLOTLYENV=window.PLOTLYENV || {};                                    if (document.getElementById(\"f722b2a4-ad0b-4987-aadc-67df7d5194d9\")) {                    Plotly.newPlot(                        \"f722b2a4-ad0b-4987-aadc-67df7d5194d9\",                        [{\"alignmentgroup\":\"True\",\"hovertemplate\":\"chain=False<br>category=%{x}<br>count=%{y}<extra></extra>\",\"legendgroup\":\"False\",\"marker\":{\"color\":\"#00cc96\",\"pattern\":{\"shape\":\"\"}},\"name\":\"False\",\"offsetgroup\":\"False\",\"orientation\":\"v\",\"showlegend\":true,\"textposition\":\"auto\",\"x\":[\"\\u0431\\u0430\\u0440,\\u043f\\u0430\\u0431\",\"\\u0431\\u0443\\u043b\\u043e\\u0447\\u043d\\u0430\\u044f\",\"\\u0431\\u044b\\u0441\\u0442\\u0440\\u043e\\u0435 \\u043f\\u0438\\u0442\\u0430\\u043d\\u0438\\u0435\",\"\\u043a\\u0430\\u0444\\u0435\",\"\\u043a\\u043e\\u0444\\u0435\\u0439\\u043d\\u044f\",\"\\u043f\\u0438\\u0446\\u0446\\u0435\\u0440\\u0438\\u044f\",\"\\u0440\\u0435\\u0441\\u0442\\u043e\\u0440\\u0430\\u043d\",\"\\u0441\\u0442\\u043e\\u043b\\u043e\\u0432\\u0430\\u044f\"],\"xaxis\":\"x\",\"y\":[574,95,346,1286,676,296,1230,220],\"yaxis\":\"y\",\"type\":\"bar\"},{\"alignmentgroup\":\"True\",\"hovertemplate\":\"chain=True<br>category=%{x}<br>count=%{y}<extra></extra>\",\"legendgroup\":\"True\",\"marker\":{\"color\":\"#ab63fa\",\"pattern\":{\"shape\":\"\"}},\"name\":\"True\",\"offsetgroup\":\"True\",\"orientation\":\"v\",\"showlegend\":true,\"textposition\":\"auto\",\"x\":[\"\\u0431\\u0430\\u0440,\\u043f\\u0430\\u0431\",\"\\u0431\\u0443\\u043b\\u043e\\u0447\\u043d\\u0430\\u044f\",\"\\u0431\\u044b\\u0441\\u0442\\u0440\\u043e\\u0435 \\u043f\\u0438\\u0442\\u0430\\u043d\\u0438\\u0435\",\"\\u043a\\u0430\\u0444\\u0435\",\"\\u043a\\u043e\\u0444\\u0435\\u0439\\u043d\\u044f\",\"\\u043f\\u0438\\u0446\\u0446\\u0435\\u0440\\u0438\\u044f\",\"\\u0440\\u0435\\u0441\\u0442\\u043e\\u0440\\u0430\\u043d\",\"\\u0441\\u0442\\u043e\\u043b\\u043e\\u0432\\u0430\\u044f\"],\"xaxis\":\"x\",\"y\":[158,153,222,707,704,328,703,84],\"yaxis\":\"y\",\"type\":\"bar\"}],                        {\"template\":{\"data\":{\"bar\":[{\"error_x\":{\"color\":\"#2a3f5f\"},\"error_y\":{\"color\":\"#2a3f5f\"},\"marker\":{\"line\":{\"color\":\"#E5ECF6\",\"width\":0.5},\"pattern\":{\"fillmode\":\"overlay\",\"size\":10,\"solidity\":0.2}},\"type\":\"bar\"}],\"barpolar\":[{\"marker\":{\"line\":{\"color\":\"#E5ECF6\",\"width\":0.5},\"pattern\":{\"fillmode\":\"overlay\",\"size\":10,\"solidity\":0.2}},\"type\":\"barpolar\"}],\"carpet\":[{\"aaxis\":{\"endlinecolor\":\"#2a3f5f\",\"gridcolor\":\"white\",\"linecolor\":\"white\",\"minorgridcolor\":\"white\",\"startlinecolor\":\"#2a3f5f\"},\"baxis\":{\"endlinecolor\":\"#2a3f5f\",\"gridcolor\":\"white\",\"linecolor\":\"white\",\"minorgridcolor\":\"white\",\"startlinecolor\":\"#2a3f5f\"},\"type\":\"carpet\"}],\"choropleth\":[{\"colorbar\":{\"outlinewidth\":0,\"ticks\":\"\"},\"type\":\"choropleth\"}],\"contour\":[{\"colorbar\":{\"outlinewidth\":0,\"ticks\":\"\"},\"colorscale\":[[0.0,\"#0d0887\"],[0.1111111111111111,\"#46039f\"],[0.2222222222222222,\"#7201a8\"],[0.3333333333333333,\"#9c179e\"],[0.4444444444444444,\"#bd3786\"],[0.5555555555555556,\"#d8576b\"],[0.6666666666666666,\"#ed7953\"],[0.7777777777777778,\"#fb9f3a\"],[0.8888888888888888,\"#fdca26\"],[1.0,\"#f0f921\"]],\"type\":\"contour\"}],\"contourcarpet\":[{\"colorbar\":{\"outlinewidth\":0,\"ticks\":\"\"},\"type\":\"contourcarpet\"}],\"heatmap\":[{\"colorbar\":{\"outlinewidth\":0,\"ticks\":\"\"},\"colorscale\":[[0.0,\"#0d0887\"],[0.1111111111111111,\"#46039f\"],[0.2222222222222222,\"#7201a8\"],[0.3333333333333333,\"#9c179e\"],[0.4444444444444444,\"#bd3786\"],[0.5555555555555556,\"#d8576b\"],[0.6666666666666666,\"#ed7953\"],[0.7777777777777778,\"#fb9f3a\"],[0.8888888888888888,\"#fdca26\"],[1.0,\"#f0f921\"]],\"type\":\"heatmap\"}],\"heatmapgl\":[{\"colorbar\":{\"outlinewidth\":0,\"ticks\":\"\"},\"colorscale\":[[0.0,\"#0d0887\"],[0.1111111111111111,\"#46039f\"],[0.2222222222222222,\"#7201a8\"],[0.3333333333333333,\"#9c179e\"],[0.4444444444444444,\"#bd3786\"],[0.5555555555555556,\"#d8576b\"],[0.6666666666666666,\"#ed7953\"],[0.7777777777777778,\"#fb9f3a\"],[0.8888888888888888,\"#fdca26\"],[1.0,\"#f0f921\"]],\"type\":\"heatmapgl\"}],\"histogram\":[{\"marker\":{\"pattern\":{\"fillmode\":\"overlay\",\"size\":10,\"solidity\":0.2}},\"type\":\"histogram\"}],\"histogram2d\":[{\"colorbar\":{\"outlinewidth\":0,\"ticks\":\"\"},\"colorscale\":[[0.0,\"#0d0887\"],[0.1111111111111111,\"#46039f\"],[0.2222222222222222,\"#7201a8\"],[0.3333333333333333,\"#9c179e\"],[0.4444444444444444,\"#bd3786\"],[0.5555555555555556,\"#d8576b\"],[0.6666666666666666,\"#ed7953\"],[0.7777777777777778,\"#fb9f3a\"],[0.8888888888888888,\"#fdca26\"],[1.0,\"#f0f921\"]],\"type\":\"histogram2d\"}],\"histogram2dcontour\":[{\"colorbar\":{\"outlinewidth\":0,\"ticks\":\"\"},\"colorscale\":[[0.0,\"#0d0887\"],[0.1111111111111111,\"#46039f\"],[0.2222222222222222,\"#7201a8\"],[0.3333333333333333,\"#9c179e\"],[0.4444444444444444,\"#bd3786\"],[0.5555555555555556,\"#d8576b\"],[0.6666666666666666,\"#ed7953\"],[0.7777777777777778,\"#fb9f3a\"],[0.8888888888888888,\"#fdca26\"],[1.0,\"#f0f921\"]],\"type\":\"histogram2dcontour\"}],\"mesh3d\":[{\"colorbar\":{\"outlinewidth\":0,\"ticks\":\"\"},\"type\":\"mesh3d\"}],\"parcoords\":[{\"line\":{\"colorbar\":{\"outlinewidth\":0,\"ticks\":\"\"}},\"type\":\"parcoords\"}],\"pie\":[{\"automargin\":true,\"type\":\"pie\"}],\"scatter\":[{\"marker\":{\"colorbar\":{\"outlinewidth\":0,\"ticks\":\"\"}},\"type\":\"scatter\"}],\"scatter3d\":[{\"line\":{\"colorbar\":{\"outlinewidth\":0,\"ticks\":\"\"}},\"marker\":{\"colorbar\":{\"outlinewidth\":0,\"ticks\":\"\"}},\"type\":\"scatter3d\"}],\"scattercarpet\":[{\"marker\":{\"colorbar\":{\"outlinewidth\":0,\"ticks\":\"\"}},\"type\":\"scattercarpet\"}],\"scattergeo\":[{\"marker\":{\"colorbar\":{\"outlinewidth\":0,\"ticks\":\"\"}},\"type\":\"scattergeo\"}],\"scattergl\":[{\"marker\":{\"colorbar\":{\"outlinewidth\":0,\"ticks\":\"\"}},\"type\":\"scattergl\"}],\"scattermapbox\":[{\"marker\":{\"colorbar\":{\"outlinewidth\":0,\"ticks\":\"\"}},\"type\":\"scattermapbox\"}],\"scatterpolar\":[{\"marker\":{\"colorbar\":{\"outlinewidth\":0,\"ticks\":\"\"}},\"type\":\"scatterpolar\"}],\"scatterpolargl\":[{\"marker\":{\"colorbar\":{\"outlinewidth\":0,\"ticks\":\"\"}},\"type\":\"scatterpolargl\"}],\"scatterternary\":[{\"marker\":{\"colorbar\":{\"outlinewidth\":0,\"ticks\":\"\"}},\"type\":\"scatterternary\"}],\"surface\":[{\"colorbar\":{\"outlinewidth\":0,\"ticks\":\"\"},\"colorscale\":[[0.0,\"#0d0887\"],[0.1111111111111111,\"#46039f\"],[0.2222222222222222,\"#7201a8\"],[0.3333333333333333,\"#9c179e\"],[0.4444444444444444,\"#bd3786\"],[0.5555555555555556,\"#d8576b\"],[0.6666666666666666,\"#ed7953\"],[0.7777777777777778,\"#fb9f3a\"],[0.8888888888888888,\"#fdca26\"],[1.0,\"#f0f921\"]],\"type\":\"surface\"}],\"table\":[{\"cells\":{\"fill\":{\"color\":\"#EBF0F8\"},\"line\":{\"color\":\"white\"}},\"header\":{\"fill\":{\"color\":\"#C8D4E3\"},\"line\":{\"color\":\"white\"}},\"type\":\"table\"}]},\"layout\":{\"annotationdefaults\":{\"arrowcolor\":\"#2a3f5f\",\"arrowhead\":0,\"arrowwidth\":1},\"autotypenumbers\":\"strict\",\"coloraxis\":{\"colorbar\":{\"outlinewidth\":0,\"ticks\":\"\"}},\"colorscale\":{\"diverging\":[[0,\"#8e0152\"],[0.1,\"#c51b7d\"],[0.2,\"#de77ae\"],[0.3,\"#f1b6da\"],[0.4,\"#fde0ef\"],[0.5,\"#f7f7f7\"],[0.6,\"#e6f5d0\"],[0.7,\"#b8e186\"],[0.8,\"#7fbc41\"],[0.9,\"#4d9221\"],[1,\"#276419\"]],\"sequential\":[[0.0,\"#0d0887\"],[0.1111111111111111,\"#46039f\"],[0.2222222222222222,\"#7201a8\"],[0.3333333333333333,\"#9c179e\"],[0.4444444444444444,\"#bd3786\"],[0.5555555555555556,\"#d8576b\"],[0.6666666666666666,\"#ed7953\"],[0.7777777777777778,\"#fb9f3a\"],[0.8888888888888888,\"#fdca26\"],[1.0,\"#f0f921\"]],\"sequentialminus\":[[0.0,\"#0d0887\"],[0.1111111111111111,\"#46039f\"],[0.2222222222222222,\"#7201a8\"],[0.3333333333333333,\"#9c179e\"],[0.4444444444444444,\"#bd3786\"],[0.5555555555555556,\"#d8576b\"],[0.6666666666666666,\"#ed7953\"],[0.7777777777777778,\"#fb9f3a\"],[0.8888888888888888,\"#fdca26\"],[1.0,\"#f0f921\"]]},\"colorway\":[\"#636efa\",\"#EF553B\",\"#00cc96\",\"#ab63fa\",\"#FFA15A\",\"#19d3f3\",\"#FF6692\",\"#B6E880\",\"#FF97FF\",\"#FECB52\"],\"font\":{\"color\":\"#2a3f5f\"},\"geo\":{\"bgcolor\":\"white\",\"lakecolor\":\"white\",\"landcolor\":\"#E5ECF6\",\"showlakes\":true,\"showland\":true,\"subunitcolor\":\"white\"},\"hoverlabel\":{\"align\":\"left\"},\"hovermode\":\"closest\",\"mapbox\":{\"style\":\"light\"},\"paper_bgcolor\":\"white\",\"plot_bgcolor\":\"#E5ECF6\",\"polar\":{\"angularaxis\":{\"gridcolor\":\"white\",\"linecolor\":\"white\",\"ticks\":\"\"},\"bgcolor\":\"#E5ECF6\",\"radialaxis\":{\"gridcolor\":\"white\",\"linecolor\":\"white\",\"ticks\":\"\"}},\"scene\":{\"xaxis\":{\"backgroundcolor\":\"#E5ECF6\",\"gridcolor\":\"white\",\"gridwidth\":2,\"linecolor\":\"white\",\"showbackground\":true,\"ticks\":\"\",\"zerolinecolor\":\"white\"},\"yaxis\":{\"backgroundcolor\":\"#E5ECF6\",\"gridcolor\":\"white\",\"gridwidth\":2,\"linecolor\":\"white\",\"showbackground\":true,\"ticks\":\"\",\"zerolinecolor\":\"white\"},\"zaxis\":{\"backgroundcolor\":\"#E5ECF6\",\"gridcolor\":\"white\",\"gridwidth\":2,\"linecolor\":\"white\",\"showbackground\":true,\"ticks\":\"\",\"zerolinecolor\":\"white\"}},\"shapedefaults\":{\"line\":{\"color\":\"#2a3f5f\"}},\"ternary\":{\"aaxis\":{\"gridcolor\":\"white\",\"linecolor\":\"white\",\"ticks\":\"\"},\"baxis\":{\"gridcolor\":\"white\",\"linecolor\":\"white\",\"ticks\":\"\"},\"bgcolor\":\"#E5ECF6\",\"caxis\":{\"gridcolor\":\"white\",\"linecolor\":\"white\",\"ticks\":\"\"}},\"title\":{\"x\":0.05},\"xaxis\":{\"automargin\":true,\"gridcolor\":\"white\",\"linecolor\":\"white\",\"ticks\":\"\",\"title\":{\"standoff\":15},\"zerolinecolor\":\"white\",\"zerolinewidth\":2},\"yaxis\":{\"automargin\":true,\"gridcolor\":\"white\",\"linecolor\":\"white\",\"ticks\":\"\",\"title\":{\"standoff\":15},\"zerolinecolor\":\"white\",\"zerolinewidth\":2}}},\"xaxis\":{\"anchor\":\"y\",\"domain\":[0.0,1.0],\"title\":{\"text\":\"Range\"}},\"yaxis\":{\"anchor\":\"x\",\"domain\":[0.0,1.0],\"title\":{\"text\":\"Amount businesses\"}},\"legend\":{\"title\":{\"text\":\"chain\"},\"tracegroupgap\":0},\"title\":{\"text\":\"Plot chain and non-chain businesses\"},\"barmode\":\"relative\",\"height\":400,\"width\":1000},                        {\"responsive\": true}                    ).then(function(){\n",
       "                            \n",
       "var gd = document.getElementById('f722b2a4-ad0b-4987-aadc-67df7d5194d9');\n",
       "var x = new MutationObserver(function (mutations, observer) {{\n",
       "        var display = window.getComputedStyle(gd).display;\n",
       "        if (!display || display === 'none') {{\n",
       "            console.log([gd, 'removed!']);\n",
       "            Plotly.purge(gd);\n",
       "            observer.disconnect();\n",
       "        }}\n",
       "}});\n",
       "\n",
       "// Listen for the removal of the full notebook cells\n",
       "var notebookContainer = gd.closest('#notebook-container');\n",
       "if (notebookContainer) {{\n",
       "    x.observe(notebookContainer, {childList: true});\n",
       "}}\n",
       "\n",
       "// Listen for the clearing of the current output cell\n",
       "var outputEl = gd.closest('.output');\n",
       "if (outputEl) {{\n",
       "    x.observe(outputEl, {childList: true});\n",
       "}}\n",
       "\n",
       "                        })                };                });            </script>        </div>"
      ]
     },
     "metadata": {},
     "output_type": "display_data"
    }
   ],
   "source": [
    "#Let's build a visualization of proportion\n",
    "fig =(\n",
    "   px.bar(chain_category, x = 'category', y='count', color='chain', \n",
    "          title='Plot chain and non-chain businesses',\n",
    "         width=1000, height=400,\n",
    "         color_discrete_map={ \n",
    "                \"True\": \"#558a86\", \"False\": \"#f54123\"\n",
    "            })\n",
    "    \n",
    ")   \n",
    "\n",
    "fig.update_xaxes(title_text='Range') \n",
    "fig.update_yaxes(title_text='Amount businesses')\n",
    "fig.show() \n"
   ]
  },
  {
   "cell_type": "markdown",
   "id": "841c4346",
   "metadata": {},
   "source": [
    "The count of chain establishments relative to non-chain businesses is higher in pizzerias and bakeries, in coffee houses the ratio is approximately the same. In other ranges, there are more non-chain businesses."
   ]
  },
  {
   "cell_type": "code",
   "execution_count": 123,
   "id": "1d632c2b",
   "metadata": {},
   "outputs": [
    {
     "data": {
      "text/html": [
       "<div>\n",
       "<style scoped>\n",
       "    .dataframe tbody tr th:only-of-type {\n",
       "        vertical-align: middle;\n",
       "    }\n",
       "\n",
       "    .dataframe tbody tr th {\n",
       "        vertical-align: top;\n",
       "    }\n",
       "\n",
       "    .dataframe thead th {\n",
       "        text-align: right;\n",
       "    }\n",
       "</style>\n",
       "<table border=\"1\" class=\"dataframe\">\n",
       "  <thead>\n",
       "    <tr style=\"text-align: right;\">\n",
       "      <th></th>\n",
       "      <th>name</th>\n",
       "      <th>category</th>\n",
       "      <th>count</th>\n",
       "      <th>first</th>\n",
       "    </tr>\n",
       "  </thead>\n",
       "  <tbody>\n",
       "    <tr>\n",
       "      <th>5494</th>\n",
       "      <td>шоколадница</td>\n",
       "      <td>кофейня</td>\n",
       "      <td>115</td>\n",
       "      <td>шоколадница</td>\n",
       "    </tr>\n",
       "    <tr>\n",
       "      <th>2859</th>\n",
       "      <td>кафе</td>\n",
       "      <td>кафе</td>\n",
       "      <td>79</td>\n",
       "      <td>кафе</td>\n",
       "    </tr>\n",
       "    <tr>\n",
       "      <th>2561</th>\n",
       "      <td>домино'с пицца</td>\n",
       "      <td>пиццерия</td>\n",
       "      <td>77</td>\n",
       "      <td>домино'с пицца</td>\n",
       "    </tr>\n",
       "    <tr>\n",
       "      <th>2531</th>\n",
       "      <td>додо пицца</td>\n",
       "      <td>пиццерия</td>\n",
       "      <td>74</td>\n",
       "      <td>додо пицца</td>\n",
       "    </tr>\n",
       "    <tr>\n",
       "      <th>1149</th>\n",
       "      <td>one price coffee</td>\n",
       "      <td>кофейня</td>\n",
       "      <td>71</td>\n",
       "      <td>one price coffee</td>\n",
       "    </tr>\n",
       "    <tr>\n",
       "      <th>5565</th>\n",
       "      <td>яндекс лавка</td>\n",
       "      <td>ресторан</td>\n",
       "      <td>67</td>\n",
       "      <td>яндекс лавка</td>\n",
       "    </tr>\n",
       "    <tr>\n",
       "      <th>407</th>\n",
       "      <td>cofix</td>\n",
       "      <td>кофейня</td>\n",
       "      <td>65</td>\n",
       "      <td>cofix</td>\n",
       "    </tr>\n",
       "    <tr>\n",
       "      <th>1288</th>\n",
       "      <td>prime</td>\n",
       "      <td>ресторан</td>\n",
       "      <td>49</td>\n",
       "      <td>prime</td>\n",
       "    </tr>\n",
       "    <tr>\n",
       "      <th>3202</th>\n",
       "      <td>кофепорт</td>\n",
       "      <td>кофейня</td>\n",
       "      <td>42</td>\n",
       "      <td>кофепорт</td>\n",
       "    </tr>\n",
       "    <tr>\n",
       "      <th>3257</th>\n",
       "      <td>кулинарная лавка братьев караваевых</td>\n",
       "      <td>кафе</td>\n",
       "      <td>38</td>\n",
       "      <td>кулинарная лавка братьев караваевых</td>\n",
       "    </tr>\n",
       "    <tr>\n",
       "      <th>4746</th>\n",
       "      <td>теремок</td>\n",
       "      <td>ресторан</td>\n",
       "      <td>36</td>\n",
       "      <td>теремок</td>\n",
       "    </tr>\n",
       "    <tr>\n",
       "      <th>339</th>\n",
       "      <td>cofefest</td>\n",
       "      <td>кофейня</td>\n",
       "      <td>31</td>\n",
       "      <td>cofefest</td>\n",
       "    </tr>\n",
       "    <tr>\n",
       "      <th>5385</th>\n",
       "      <td>шаурма</td>\n",
       "      <td>быстрое питание</td>\n",
       "      <td>25</td>\n",
       "      <td>шаурма</td>\n",
       "    </tr>\n",
       "    <tr>\n",
       "      <th>501</th>\n",
       "      <td>drive café</td>\n",
       "      <td>кафе</td>\n",
       "      <td>24</td>\n",
       "      <td>drive café</td>\n",
       "    </tr>\n",
       "    <tr>\n",
       "      <th>2110</th>\n",
       "      <td>буханка</td>\n",
       "      <td>булочная</td>\n",
       "      <td>24</td>\n",
       "      <td>буханка</td>\n",
       "    </tr>\n",
       "  </tbody>\n",
       "</table>\n",
       "</div>"
      ],
      "text/plain": [
       "                                     name         category  count  \\\n",
       "5494                          шоколадница          кофейня    115   \n",
       "2859                                 кафе             кафе     79   \n",
       "2561                       домино'с пицца         пиццерия     77   \n",
       "2531                           додо пицца         пиццерия     74   \n",
       "1149                     one price coffee          кофейня     71   \n",
       "5565                         яндекс лавка         ресторан     67   \n",
       "407                                 cofix          кофейня     65   \n",
       "1288                                prime         ресторан     49   \n",
       "3202                             кофепорт          кофейня     42   \n",
       "3257  кулинарная лавка братьев караваевых             кафе     38   \n",
       "4746                              теремок         ресторан     36   \n",
       "339                              cofefest          кофейня     31   \n",
       "5385                               шаурма  быстрое питание     25   \n",
       "501                            drive café             кафе     24   \n",
       "2110                              буханка         булочная     24   \n",
       "\n",
       "                                    first  \n",
       "5494                          шоколадница  \n",
       "2859                                 кафе  \n",
       "2561                       домино'с пицца  \n",
       "2531                           додо пицца  \n",
       "1149                     one price coffee  \n",
       "5565                         яндекс лавка  \n",
       "407                                 cofix  \n",
       "1288                                prime  \n",
       "3202                             кофепорт  \n",
       "3257  кулинарная лавка братьев караваевых  \n",
       "4746                              теремок  \n",
       "339                              cofefest  \n",
       "5385                               шаурма  \n",
       "501                            drive café  \n",
       "2110                              буханка  "
      ]
     },
     "execution_count": 123,
     "metadata": {},
     "output_type": "execute_result"
    }
   ],
   "source": [
    "#Let's chack the 15 most popular businesses\n",
    "popular = data.groupby(['name','category'])['name'].agg(['count','first']).reset_index().sort_values(by = 'count',ascending=False).head(15)\n",
    "popular"
   ]
  },
  {
   "cell_type": "markdown",
   "id": "f2abab5b",
   "metadata": {},
   "source": [
    "on the second row we see an unidentified 'animal', we will delete it, because it is not clear what kind of business or chain it is"
   ]
  },
  {
   "cell_type": "code",
   "execution_count": 124,
   "id": "083ff6d6",
   "metadata": {},
   "outputs": [
    {
     "data": {
      "text/html": [
       "<div>\n",
       "<style scoped>\n",
       "    .dataframe tbody tr th:only-of-type {\n",
       "        vertical-align: middle;\n",
       "    }\n",
       "\n",
       "    .dataframe tbody tr th {\n",
       "        vertical-align: top;\n",
       "    }\n",
       "\n",
       "    .dataframe thead th {\n",
       "        text-align: right;\n",
       "    }\n",
       "</style>\n",
       "<table border=\"1\" class=\"dataframe\">\n",
       "  <thead>\n",
       "    <tr style=\"text-align: right;\">\n",
       "      <th></th>\n",
       "      <th>name</th>\n",
       "      <th>category</th>\n",
       "      <th>count</th>\n",
       "      <th>first</th>\n",
       "    </tr>\n",
       "  </thead>\n",
       "  <tbody>\n",
       "    <tr>\n",
       "      <th>5489</th>\n",
       "      <td>шоколадница</td>\n",
       "      <td>кофейня</td>\n",
       "      <td>115</td>\n",
       "      <td>шоколадница</td>\n",
       "    </tr>\n",
       "    <tr>\n",
       "      <th>2561</th>\n",
       "      <td>домино'с пицца</td>\n",
       "      <td>пиццерия</td>\n",
       "      <td>77</td>\n",
       "      <td>домино'с пицца</td>\n",
       "    </tr>\n",
       "    <tr>\n",
       "      <th>2531</th>\n",
       "      <td>додо пицца</td>\n",
       "      <td>пиццерия</td>\n",
       "      <td>74</td>\n",
       "      <td>додо пицца</td>\n",
       "    </tr>\n",
       "    <tr>\n",
       "      <th>1149</th>\n",
       "      <td>one price coffee</td>\n",
       "      <td>кофейня</td>\n",
       "      <td>71</td>\n",
       "      <td>one price coffee</td>\n",
       "    </tr>\n",
       "    <tr>\n",
       "      <th>5560</th>\n",
       "      <td>яндекс лавка</td>\n",
       "      <td>ресторан</td>\n",
       "      <td>67</td>\n",
       "      <td>яндекс лавка</td>\n",
       "    </tr>\n",
       "    <tr>\n",
       "      <th>407</th>\n",
       "      <td>cofix</td>\n",
       "      <td>кофейня</td>\n",
       "      <td>65</td>\n",
       "      <td>cofix</td>\n",
       "    </tr>\n",
       "    <tr>\n",
       "      <th>1288</th>\n",
       "      <td>prime</td>\n",
       "      <td>ресторан</td>\n",
       "      <td>49</td>\n",
       "      <td>prime</td>\n",
       "    </tr>\n",
       "    <tr>\n",
       "      <th>3197</th>\n",
       "      <td>кофепорт</td>\n",
       "      <td>кофейня</td>\n",
       "      <td>42</td>\n",
       "      <td>кофепорт</td>\n",
       "    </tr>\n",
       "    <tr>\n",
       "      <th>3252</th>\n",
       "      <td>кулинарная лавка братьев караваевых</td>\n",
       "      <td>кафе</td>\n",
       "      <td>38</td>\n",
       "      <td>кулинарная лавка братьев караваевых</td>\n",
       "    </tr>\n",
       "    <tr>\n",
       "      <th>4741</th>\n",
       "      <td>теремок</td>\n",
       "      <td>ресторан</td>\n",
       "      <td>36</td>\n",
       "      <td>теремок</td>\n",
       "    </tr>\n",
       "    <tr>\n",
       "      <th>339</th>\n",
       "      <td>cofefest</td>\n",
       "      <td>кофейня</td>\n",
       "      <td>31</td>\n",
       "      <td>cofefest</td>\n",
       "    </tr>\n",
       "    <tr>\n",
       "      <th>5380</th>\n",
       "      <td>шаурма</td>\n",
       "      <td>быстрое питание</td>\n",
       "      <td>25</td>\n",
       "      <td>шаурма</td>\n",
       "    </tr>\n",
       "    <tr>\n",
       "      <th>501</th>\n",
       "      <td>drive café</td>\n",
       "      <td>кафе</td>\n",
       "      <td>24</td>\n",
       "      <td>drive café</td>\n",
       "    </tr>\n",
       "    <tr>\n",
       "      <th>2110</th>\n",
       "      <td>буханка</td>\n",
       "      <td>булочная</td>\n",
       "      <td>24</td>\n",
       "      <td>буханка</td>\n",
       "    </tr>\n",
       "    <tr>\n",
       "      <th>3193</th>\n",
       "      <td>кофемания</td>\n",
       "      <td>кофейня</td>\n",
       "      <td>22</td>\n",
       "      <td>кофемания</td>\n",
       "    </tr>\n",
       "  </tbody>\n",
       "</table>\n",
       "</div>"
      ],
      "text/plain": [
       "                                     name         category  count  \\\n",
       "5489                          шоколадница          кофейня    115   \n",
       "2561                       домино'с пицца         пиццерия     77   \n",
       "2531                           додо пицца         пиццерия     74   \n",
       "1149                     one price coffee          кофейня     71   \n",
       "5560                         яндекс лавка         ресторан     67   \n",
       "407                                 cofix          кофейня     65   \n",
       "1288                                prime         ресторан     49   \n",
       "3197                             кофепорт          кофейня     42   \n",
       "3252  кулинарная лавка братьев караваевых             кафе     38   \n",
       "4741                              теремок         ресторан     36   \n",
       "339                              cofefest          кофейня     31   \n",
       "5380                               шаурма  быстрое питание     25   \n",
       "501                            drive café             кафе     24   \n",
       "2110                              буханка         булочная     24   \n",
       "3193                            кофемания          кофейня     22   \n",
       "\n",
       "                                    first  \n",
       "5489                          шоколадница  \n",
       "2561                       домино'с пицца  \n",
       "2531                           додо пицца  \n",
       "1149                     one price coffee  \n",
       "5560                         яндекс лавка  \n",
       "407                                 cofix  \n",
       "1288                                prime  \n",
       "3197                             кофепорт  \n",
       "3252  кулинарная лавка братьев караваевых  \n",
       "4741                              теремок  \n",
       "339                              cofefest  \n",
       "5380                               шаурма  \n",
       "501                            drive café  \n",
       "2110                              буханка  \n",
       "3193                            кофемания  "
      ]
     },
     "execution_count": 124,
     "metadata": {},
     "output_type": "execute_result"
    }
   ],
   "source": [
    "popular_clean = data[data['name']!='кафе'].groupby(['name','category'])['name'].agg(['count','first']).reset_index().sort_values(by = 'count',ascending=False).head(15)\n",
    "popular_clean"
   ]
  },
  {
   "cell_type": "code",
   "execution_count": 125,
   "id": "68e23fc0",
   "metadata": {},
   "outputs": [
    {
     "data": {
      "image/png": "[encoded data removed]",
      "text/plain": [
       "<Figure size 864x288 with 1 Axes>"
      ]
     },
     "metadata": {},
     "output_type": "display_data"
    }
   ],
   "source": [
    "#lets build the plot\n",
    "plt.figure(figsize=(12, 4))\n",
    "fig = sns.barplot(data= popular_clean, x='name', y='count', hue = 'category')\n",
    "fig.tick_params(axis='both', which='major', labelsize=12)\n",
    "fig.set_xticklabels(fig.get_xticklabels(),rotation = 40)\n",
    "fig.set_ylabel('Amount businesses',fontsize = 20)\n",
    "fig.set_xlabel('Names',fontsize = 20)\n",
    "fig.set_title('Top 15 popular busineses', fontsize = 30)\n",
    "plt.legend( fontsize='10');"
   ]
  },
  {
   "cell_type": "markdown",
   "id": "5d08ae65",
   "metadata": {},
   "source": [
    "We see that the 'chocolate' chain is the clear leader, followed by pizzeria chains and coffee houses. in general, the top 15 is dominated by coffee houses, restaurants are in second place (although Yandex Lavka works as a takeaway and hardly fits the range of a restaurant). We can say that coffee houses, pizzerias and restaurants are among the leaders."
   ]
  },
  {
   "cell_type": "code",
   "execution_count": 126,
   "id": "bccb3018",
   "metadata": {},
   "outputs": [
    {
     "data": {
      "text/html": [
       "<style type=\"text/css\">\n",
       "#T_317da_row0_col1 {\n",
       "  background-color: #b40426;\n",
       "  color: #f1f1f1;\n",
       "}\n",
       "#T_317da_row1_col1, #T_317da_row2_col1 {\n",
       "  background-color: #8db0fe;\n",
       "  color: #000000;\n",
       "}\n",
       "#T_317da_row3_col1 {\n",
       "  background-color: #8caffe;\n",
       "  color: #000000;\n",
       "}\n",
       "#T_317da_row4_col1 {\n",
       "  background-color: #81a4fb;\n",
       "  color: #f1f1f1;\n",
       "}\n",
       "#T_317da_row5_col1 {\n",
       "  background-color: #779af7;\n",
       "  color: #f1f1f1;\n",
       "}\n",
       "#T_317da_row6_col1 {\n",
       "  background-color: #6b8df0;\n",
       "  color: #f1f1f1;\n",
       "}\n",
       "#T_317da_row7_col1 {\n",
       "  background-color: #6788ee;\n",
       "  color: #f1f1f1;\n",
       "}\n",
       "#T_317da_row8_col1 {\n",
       "  background-color: #3b4cc0;\n",
       "  color: #f1f1f1;\n",
       "}\n",
       "</style>\n",
       "<table id=\"T_317da\">\n",
       "  <thead>\n",
       "    <tr>\n",
       "      <th class=\"blank level0\" >&nbsp;</th>\n",
       "      <th id=\"T_317da_level0_col0\" class=\"col_heading level0 col0\" >district</th>\n",
       "      <th id=\"T_317da_level0_col1\" class=\"col_heading level0 col1\" >name</th>\n",
       "    </tr>\n",
       "  </thead>\n",
       "  <tbody>\n",
       "    <tr>\n",
       "      <th id=\"T_317da_level0_row0\" class=\"row_heading level0 row0\" >5</th>\n",
       "      <td id=\"T_317da_row0_col0\" class=\"data row0 col0\" >Центральный административный округ</td>\n",
       "      <td id=\"T_317da_row0_col1\" class=\"data row0 col1\" >2186</td>\n",
       "    </tr>\n",
       "    <tr>\n",
       "      <th id=\"T_317da_level0_row1\" class=\"row_heading level0 row1\" >3</th>\n",
       "      <td id=\"T_317da_row1_col0\" class=\"data row1 col0\" >Северо-Восточный административный округ</td>\n",
       "      <td id=\"T_317da_row1_col1\" class=\"data row1 col1\" >828</td>\n",
       "    </tr>\n",
       "    <tr>\n",
       "      <th id=\"T_317da_level0_row2\" class=\"row_heading level0 row2\" >8</th>\n",
       "      <td id=\"T_317da_row2_col0\" class=\"data row2 col0\" >Южный административный округ</td>\n",
       "      <td id=\"T_317da_row2_col1\" class=\"data row2 col1\" >826</td>\n",
       "    </tr>\n",
       "    <tr>\n",
       "      <th id=\"T_317da_level0_row3\" class=\"row_heading level0 row3\" >2</th>\n",
       "      <td id=\"T_317da_row3_col0\" class=\"data row3 col0\" >Северный административный округ</td>\n",
       "      <td id=\"T_317da_row3_col1\" class=\"data row3 col1\" >818</td>\n",
       "    </tr>\n",
       "    <tr>\n",
       "      <th id=\"T_317da_level0_row4\" class=\"row_heading level0 row4\" >1</th>\n",
       "      <td id=\"T_317da_row4_col0\" class=\"data row4 col0\" >Западный административный округ</td>\n",
       "      <td id=\"T_317da_row4_col1\" class=\"data row4 col1\" >765</td>\n",
       "    </tr>\n",
       "    <tr>\n",
       "      <th id=\"T_317da_level0_row5\" class=\"row_heading level0 row5\" >0</th>\n",
       "      <td id=\"T_317da_row5_col0\" class=\"data row5 col0\" >Восточный административный округ</td>\n",
       "      <td id=\"T_317da_row5_col1\" class=\"data row5 col1\" >715</td>\n",
       "    </tr>\n",
       "    <tr>\n",
       "      <th id=\"T_317da_level0_row6\" class=\"row_heading level0 row6\" >7</th>\n",
       "      <td id=\"T_317da_row6_col0\" class=\"data row6 col0\" >Юго-Западный административный округ</td>\n",
       "      <td id=\"T_317da_row6_col1\" class=\"data row6 col1\" >648</td>\n",
       "    </tr>\n",
       "    <tr>\n",
       "      <th id=\"T_317da_level0_row7\" class=\"row_heading level0 row7\" >6</th>\n",
       "      <td id=\"T_317da_row7_col0\" class=\"data row7 col0\" >Юго-Восточный административный округ</td>\n",
       "      <td id=\"T_317da_row7_col1\" class=\"data row7 col1\" >627</td>\n",
       "    </tr>\n",
       "    <tr>\n",
       "      <th id=\"T_317da_level0_row8\" class=\"row_heading level0 row8\" >4</th>\n",
       "      <td id=\"T_317da_row8_col0\" class=\"data row8 col0\" >Северо-Западный административный округ</td>\n",
       "      <td id=\"T_317da_row8_col1\" class=\"data row8 col1\" >369</td>\n",
       "    </tr>\n",
       "  </tbody>\n",
       "</table>\n"
      ],
      "text/plain": [
       "<pandas.io.formats.style.Styler at 0x26fdf2772e0>"
      ]
     },
     "execution_count": 126,
     "metadata": {},
     "output_type": "execute_result"
    }
   ],
   "source": [
    "#Let's check how the count of businesses is distributed by districts\n",
    "data.groupby('district')['name'].count().reset_index().sort_values(by='name',ascending=False)\\\n",
    ".style.background_gradient('coolwarm')"
   ]
  },
  {
   "cell_type": "markdown",
   "id": "cb46080d",
   "metadata": {},
   "source": [
    "The largest amount of businesses is concentrated in the Central Administrative District -2186. The smallest amount is in SZAO 369 SEAD and SZAO 648 and 627 respectively."
   ]
  },
  {
   "cell_type": "markdown",
   "id": "d0db509e",
   "metadata": {},
   "source": [
    "Lets check the distribution of groups of businessess by district"
   ]
  },
  {
   "cell_type": "code",
   "execution_count": 127,
   "id": "29003ba8",
   "metadata": {},
   "outputs": [
    {
     "data": {
      "text/html": [
       "<style type=\"text/css\">\n",
       "#T_c157f_row0_col1 {\n",
       "  background-color: #516ddb;\n",
       "  color: #f1f1f1;\n",
       "}\n",
       "#T_c157f_row0_col2 {\n",
       "  background-color: #9bbcff;\n",
       "  color: #000000;\n",
       "}\n",
       "#T_c157f_row0_col3 {\n",
       "  background-color: #f5c0a7;\n",
       "  color: #000000;\n",
       "}\n",
       "#T_c157f_row0_col4, #T_c157f_row7_col2 {\n",
       "  background-color: #b6cefa;\n",
       "  color: #000000;\n",
       "}\n",
       "#T_c157f_row0_col5, #T_c157f_row7_col7 {\n",
       "  background-color: #5a78e4;\n",
       "  color: #f1f1f1;\n",
       "}\n",
       "#T_c157f_row0_col6 {\n",
       "  background-color: #cad8ef;\n",
       "  color: #000000;\n",
       "}\n",
       "#T_c157f_row0_col7 {\n",
       "  background-color: #5673e0;\n",
       "  color: #f1f1f1;\n",
       "}\n",
       "#T_c157f_row0_col8, #T_c157f_row2_col6, #T_c157f_row8_col6 {\n",
       "  background-color: #d2dbe8;\n",
       "  color: #000000;\n",
       "}\n",
       "#T_c157f_row1_col1 {\n",
       "  background-color: #4e68d8;\n",
       "  color: #f1f1f1;\n",
       "}\n",
       "#T_c157f_row1_col2, #T_c157f_row2_col2 {\n",
       "  background-color: #f5c2aa;\n",
       "  color: #000000;\n",
       "}\n",
       "#T_c157f_row1_col3 {\n",
       "  background-color: #edd2c3;\n",
       "  color: #000000;\n",
       "}\n",
       "#T_c157f_row1_col4 {\n",
       "  background-color: #98b9ff;\n",
       "  color: #000000;\n",
       "}\n",
       "#T_c157f_row1_col5 {\n",
       "  background-color: #84a7fc;\n",
       "  color: #f1f1f1;\n",
       "}\n",
       "#T_c157f_row1_col6, #T_c157f_row2_col8 {\n",
       "  background-color: #c5d6f2;\n",
       "  color: #000000;\n",
       "}\n",
       "#T_c157f_row1_col7 {\n",
       "  background-color: #7396f5;\n",
       "  color: #f1f1f1;\n",
       "}\n",
       "#T_c157f_row1_col8, #T_c157f_row2_col7, #T_c157f_row6_col8, #T_c157f_row8_col1 {\n",
       "  background-color: #6282ea;\n",
       "  color: #f1f1f1;\n",
       "}\n",
       "#T_c157f_row2_col1 {\n",
       "  background-color: #5e7de7;\n",
       "  color: #f1f1f1;\n",
       "}\n",
       "#T_c157f_row2_col3 {\n",
       "  background-color: #d4dbe6;\n",
       "  color: #000000;\n",
       "}\n",
       "#T_c157f_row2_col4 {\n",
       "  background-color: #a6c4fe;\n",
       "  color: #000000;\n",
       "}\n",
       "#T_c157f_row2_col5 {\n",
       "  background-color: #a9c6fd;\n",
       "  color: #000000;\n",
       "}\n",
       "#T_c157f_row3_col1 {\n",
       "  background-color: #5977e3;\n",
       "  color: #f1f1f1;\n",
       "}\n",
       "#T_c157f_row3_col2 {\n",
       "  background-color: #c6d6f1;\n",
       "  color: #000000;\n",
       "}\n",
       "#T_c157f_row3_col3 {\n",
       "  background-color: #d75445;\n",
       "  color: #f1f1f1;\n",
       "}\n",
       "#T_c157f_row3_col4 {\n",
       "  background-color: #bfd3f6;\n",
       "  color: #000000;\n",
       "}\n",
       "#T_c157f_row3_col5 {\n",
       "  background-color: #92b4fe;\n",
       "  color: #000000;\n",
       "}\n",
       "#T_c157f_row3_col6, #T_c157f_row8_col4 {\n",
       "  background-color: #b3cdfb;\n",
       "  color: #000000;\n",
       "}\n",
       "#T_c157f_row3_col7 {\n",
       "  background-color: #6384eb;\n",
       "  color: #f1f1f1;\n",
       "}\n",
       "#T_c157f_row3_col8 {\n",
       "  background-color: #d7dce3;\n",
       "  color: #000000;\n",
       "}\n",
       "#T_c157f_row4_col1, #T_c157f_row4_col2, #T_c157f_row4_col3, #T_c157f_row4_col4, #T_c157f_row4_col5, #T_c157f_row4_col6, #T_c157f_row4_col7, #T_c157f_row4_col8, #T_c157f_row6_col2, #T_c157f_row7_col8 {\n",
       "  background-color: #3b4cc0;\n",
       "  color: #f1f1f1;\n",
       "}\n",
       "#T_c157f_row5_col1, #T_c157f_row5_col2, #T_c157f_row5_col3, #T_c157f_row5_col4, #T_c157f_row5_col5, #T_c157f_row5_col6, #T_c157f_row5_col7, #T_c157f_row5_col8 {\n",
       "  background-color: #b40426;\n",
       "  color: #f1f1f1;\n",
       "}\n",
       "#T_c157f_row6_col1, #T_c157f_row7_col1 {\n",
       "  background-color: #465ecf;\n",
       "  color: #f1f1f1;\n",
       "}\n",
       "#T_c157f_row6_col3 {\n",
       "  background-color: #f0cdbb;\n",
       "  color: #000000;\n",
       "}\n",
       "#T_c157f_row6_col4 {\n",
       "  background-color: #b5cdfa;\n",
       "  color: #000000;\n",
       "}\n",
       "#T_c157f_row6_col5 {\n",
       "  background-color: #4f69d9;\n",
       "  color: #f1f1f1;\n",
       "}\n",
       "#T_c157f_row6_col6 {\n",
       "  background-color: #7ea1fa;\n",
       "  color: #f1f1f1;\n",
       "}\n",
       "#T_c157f_row6_col7 {\n",
       "  background-color: #4c66d6;\n",
       "  color: #f1f1f1;\n",
       "}\n",
       "#T_c157f_row7_col3 {\n",
       "  background-color: #e1dad6;\n",
       "  color: #000000;\n",
       "}\n",
       "#T_c157f_row7_col4 {\n",
       "  background-color: #9fbfff;\n",
       "  color: #000000;\n",
       "}\n",
       "#T_c157f_row7_col5 {\n",
       "  background-color: #5572df;\n",
       "  color: #f1f1f1;\n",
       "}\n",
       "#T_c157f_row7_col6 {\n",
       "  background-color: #aac7fd;\n",
       "  color: #000000;\n",
       "}\n",
       "#T_c157f_row8_col2 {\n",
       "  background-color: #adc9fd;\n",
       "  color: #000000;\n",
       "}\n",
       "#T_c157f_row8_col3 {\n",
       "  background-color: #cc403a;\n",
       "  color: #f1f1f1;\n",
       "}\n",
       "#T_c157f_row8_col5 {\n",
       "  background-color: #779af7;\n",
       "  color: #f1f1f1;\n",
       "}\n",
       "#T_c157f_row8_col7 {\n",
       "  background-color: #7093f3;\n",
       "  color: #f1f1f1;\n",
       "}\n",
       "#T_c157f_row8_col8 {\n",
       "  background-color: #e7d7ce;\n",
       "  color: #000000;\n",
       "}\n",
       "</style>\n",
       "<table id=\"T_c157f\">\n",
       "  <thead>\n",
       "    <tr>\n",
       "      <th class=\"index_name level0\" >category</th>\n",
       "      <th id=\"T_c157f_level0_col0\" class=\"col_heading level0 col0\" >district</th>\n",
       "      <th id=\"T_c157f_level0_col1\" class=\"col_heading level0 col1\" >бар,паб</th>\n",
       "      <th id=\"T_c157f_level0_col2\" class=\"col_heading level0 col2\" >булочная</th>\n",
       "      <th id=\"T_c157f_level0_col3\" class=\"col_heading level0 col3\" >быстрое питание</th>\n",
       "      <th id=\"T_c157f_level0_col4\" class=\"col_heading level0 col4\" >кафе</th>\n",
       "      <th id=\"T_c157f_level0_col5\" class=\"col_heading level0 col5\" >кофейня</th>\n",
       "      <th id=\"T_c157f_level0_col6\" class=\"col_heading level0 col6\" >пиццерия</th>\n",
       "      <th id=\"T_c157f_level0_col7\" class=\"col_heading level0 col7\" >ресторан</th>\n",
       "      <th id=\"T_c157f_level0_col8\" class=\"col_heading level0 col8\" >столовая</th>\n",
       "    </tr>\n",
       "  </thead>\n",
       "  <tbody>\n",
       "    <tr>\n",
       "      <th id=\"T_c157f_level0_row0\" class=\"row_heading level0 row0\" >0</th>\n",
       "      <td id=\"T_c157f_row0_col0\" class=\"data row0 col0\" >Восточный административный округ</td>\n",
       "      <td id=\"T_c157f_row0_col1\" class=\"data row0 col1\" >48</td>\n",
       "      <td id=\"T_c157f_row0_col2\" class=\"data row0 col2\" >23</td>\n",
       "      <td id=\"T_c157f_row0_col3\" class=\"data row0 col3\" >64</td>\n",
       "      <td id=\"T_c157f_row0_col4\" class=\"data row0 col4\" >218</td>\n",
       "      <td id=\"T_c157f_row0_col5\" class=\"data row0 col5\" >100</td>\n",
       "      <td id=\"T_c157f_row0_col6\" class=\"data row0 col6\" >71</td>\n",
       "      <td id=\"T_c157f_row0_col7\" class=\"data row0 col7\" >152</td>\n",
       "      <td id=\"T_c157f_row0_col8\" class=\"data row0 col8\" >39</td>\n",
       "    </tr>\n",
       "    <tr>\n",
       "      <th id=\"T_c157f_level0_row1\" class=\"row_heading level0 row1\" >1</th>\n",
       "      <td id=\"T_c157f_row1_col0\" class=\"data row1 col0\" >Западный административный округ</td>\n",
       "      <td id=\"T_c157f_row1_col1\" class=\"data row1 col1\" >45</td>\n",
       "      <td id=\"T_c157f_row1_col2\" class=\"data row1 col2\" >36</td>\n",
       "      <td id=\"T_c157f_row1_col3\" class=\"data row1 col3\" >60</td>\n",
       "      <td id=\"T_c157f_row1_col4\" class=\"data row1 col4\" >188</td>\n",
       "      <td id=\"T_c157f_row1_col5\" class=\"data row1 col5\" >144</td>\n",
       "      <td id=\"T_c157f_row1_col6\" class=\"data row1 col6\" >70</td>\n",
       "      <td id=\"T_c157f_row1_col7\" class=\"data row1 col7\" >199</td>\n",
       "      <td id=\"T_c157f_row1_col8\" class=\"data row1 col8\" >23</td>\n",
       "    </tr>\n",
       "    <tr>\n",
       "      <th id=\"T_c157f_level0_row2\" class=\"row_heading level0 row2\" >2</th>\n",
       "      <td id=\"T_c157f_row2_col0\" class=\"data row2 col0\" >Северный административный округ</td>\n",
       "      <td id=\"T_c157f_row2_col1\" class=\"data row2 col1\" >62</td>\n",
       "      <td id=\"T_c157f_row2_col2\" class=\"data row2 col2\" >36</td>\n",
       "      <td id=\"T_c157f_row2_col3\" class=\"data row2 col3\" >54</td>\n",
       "      <td id=\"T_c157f_row2_col4\" class=\"data row2 col4\" >202</td>\n",
       "      <td id=\"T_c157f_row2_col5\" class=\"data row2 col5\" >182</td>\n",
       "      <td id=\"T_c157f_row2_col6\" class=\"data row2 col6\" >73</td>\n",
       "      <td id=\"T_c157f_row2_col7\" class=\"data row2 col7\" >172</td>\n",
       "      <td id=\"T_c157f_row2_col8\" class=\"data row2 col8\" >37</td>\n",
       "    </tr>\n",
       "    <tr>\n",
       "      <th id=\"T_c157f_level0_row3\" class=\"row_heading level0 row3\" >3</th>\n",
       "      <td id=\"T_c157f_row3_col0\" class=\"data row3 col0\" >Северо-Восточный административный округ</td>\n",
       "      <td id=\"T_c157f_row3_col1\" class=\"data row3 col1\" >57</td>\n",
       "      <td id=\"T_c157f_row3_col2\" class=\"data row3 col2\" >28</td>\n",
       "      <td id=\"T_c157f_row3_col3\" class=\"data row3 col3\" >79</td>\n",
       "      <td id=\"T_c157f_row3_col4\" class=\"data row3 col4\" >228</td>\n",
       "      <td id=\"T_c157f_row3_col5\" class=\"data row3 col5\" >157</td>\n",
       "      <td id=\"T_c157f_row3_col6\" class=\"data row3 col6\" >66</td>\n",
       "      <td id=\"T_c157f_row3_col7\" class=\"data row3 col7\" >173</td>\n",
       "      <td id=\"T_c157f_row3_col8\" class=\"data row3 col8\" >40</td>\n",
       "    </tr>\n",
       "    <tr>\n",
       "      <th id=\"T_c157f_level0_row4\" class=\"row_heading level0 row4\" >4</th>\n",
       "      <td id=\"T_c157f_row4_col0\" class=\"data row4 col0\" >Северо-Западный административный округ</td>\n",
       "      <td id=\"T_c157f_row4_col1\" class=\"data row4 col1\" >23</td>\n",
       "      <td id=\"T_c157f_row4_col2\" class=\"data row4 col2\" >12</td>\n",
       "      <td id=\"T_c157f_row4_col3\" class=\"data row4 col3\" >27</td>\n",
       "      <td id=\"T_c157f_row4_col4\" class=\"data row4 col4\" >86</td>\n",
       "      <td id=\"T_c157f_row4_col5\" class=\"data row4 col5\" >62</td>\n",
       "      <td id=\"T_c157f_row4_col6\" class=\"data row4 col6\" >40</td>\n",
       "      <td id=\"T_c157f_row4_col7\" class=\"data row4 col7\" >102</td>\n",
       "      <td id=\"T_c157f_row4_col8\" class=\"data row4 col8\" >17</td>\n",
       "    </tr>\n",
       "    <tr>\n",
       "      <th id=\"T_c157f_level0_row5\" class=\"row_heading level0 row5\" >5</th>\n",
       "      <td id=\"T_c157f_row5_col0\" class=\"data row5 col0\" >Центральный административный округ</td>\n",
       "      <td id=\"T_c157f_row5_col1\" class=\"data row5 col1\" >358</td>\n",
       "      <td id=\"T_c157f_row5_col2\" class=\"data row5 col2\" >50</td>\n",
       "      <td id=\"T_c157f_row5_col3\" class=\"data row5 col3\" >85</td>\n",
       "      <td id=\"T_c157f_row5_col4\" class=\"data row5 col4\" >444</td>\n",
       "      <td id=\"T_c157f_row5_col5\" class=\"data row5 col5\" >424</td>\n",
       "      <td id=\"T_c157f_row5_col6\" class=\"data row5 col6\" >112</td>\n",
       "      <td id=\"T_c157f_row5_col7\" class=\"data row5 col7\" >648</td>\n",
       "      <td id=\"T_c157f_row5_col8\" class=\"data row5 col8\" >65</td>\n",
       "    </tr>\n",
       "    <tr>\n",
       "      <th id=\"T_c157f_level0_row6\" class=\"row_heading level0 row6\" >6</th>\n",
       "      <td id=\"T_c157f_row6_col0\" class=\"data row6 col0\" >Юго-Восточный административный округ</td>\n",
       "      <td id=\"T_c157f_row6_col1\" class=\"data row6 col1\" >37</td>\n",
       "      <td id=\"T_c157f_row6_col2\" class=\"data row6 col2\" >12</td>\n",
       "      <td id=\"T_c157f_row6_col3\" class=\"data row6 col3\" >61</td>\n",
       "      <td id=\"T_c157f_row6_col4\" class=\"data row6 col4\" >217</td>\n",
       "      <td id=\"T_c157f_row6_col5\" class=\"data row6 col5\" >87</td>\n",
       "      <td id=\"T_c157f_row6_col6\" class=\"data row6 col6\" >55</td>\n",
       "      <td id=\"T_c157f_row6_col7\" class=\"data row6 col7\" >135</td>\n",
       "      <td id=\"T_c157f_row6_col8\" class=\"data row6 col8\" >23</td>\n",
       "    </tr>\n",
       "    <tr>\n",
       "      <th id=\"T_c157f_level0_row7\" class=\"row_heading level0 row7\" >7</th>\n",
       "      <td id=\"T_c157f_row7_col0\" class=\"data row7 col0\" >Юго-Западный административный округ</td>\n",
       "      <td id=\"T_c157f_row7_col1\" class=\"data row7 col1\" >37</td>\n",
       "      <td id=\"T_c157f_row7_col2\" class=\"data row7 col2\" >26</td>\n",
       "      <td id=\"T_c157f_row7_col3\" class=\"data row7 col3\" >57</td>\n",
       "      <td id=\"T_c157f_row7_col4\" class=\"data row7 col4\" >195</td>\n",
       "      <td id=\"T_c157f_row7_col5\" class=\"data row7 col5\" >94</td>\n",
       "      <td id=\"T_c157f_row7_col6\" class=\"data row7 col6\" >64</td>\n",
       "      <td id=\"T_c157f_row7_col7\" class=\"data row7 col7\" >158</td>\n",
       "      <td id=\"T_c157f_row7_col8\" class=\"data row7 col8\" >17</td>\n",
       "    </tr>\n",
       "    <tr>\n",
       "      <th id=\"T_c157f_level0_row8\" class=\"row_heading level0 row8\" >8</th>\n",
       "      <td id=\"T_c157f_row8_col0\" class=\"data row8 col0\" >Южный административный округ</td>\n",
       "      <td id=\"T_c157f_row8_col1\" class=\"data row8 col1\" >65</td>\n",
       "      <td id=\"T_c157f_row8_col2\" class=\"data row8 col2\" >25</td>\n",
       "      <td id=\"T_c157f_row8_col3\" class=\"data row8 col3\" >81</td>\n",
       "      <td id=\"T_c157f_row8_col4\" class=\"data row8 col4\" >215</td>\n",
       "      <td id=\"T_c157f_row8_col5\" class=\"data row8 col5\" >130</td>\n",
       "      <td id=\"T_c157f_row8_col6\" class=\"data row8 col6\" >73</td>\n",
       "      <td id=\"T_c157f_row8_col7\" class=\"data row8 col7\" >194</td>\n",
       "      <td id=\"T_c157f_row8_col8\" class=\"data row8 col8\" >43</td>\n",
       "    </tr>\n",
       "  </tbody>\n",
       "</table>\n"
      ],
      "text/plain": [
       "<pandas.io.formats.style.Styler at 0x26fdf267e20>"
      ]
     },
     "execution_count": 127,
     "metadata": {},
     "output_type": "execute_result"
    }
   ],
   "source": [
    "district_group =data.pivot_table(index='district', columns='category', values='name', aggfunc='count').reset_index()\n",
    "district_group.style.background_gradient('coolwarm')"
   ]
  },
  {
   "cell_type": "code",
   "execution_count": 128,
   "id": "733f7c18",
   "metadata": {},
   "outputs": [
    {
     "data": {
      "text/plain": [
       "0     ВАО\n",
       "1     ЗАО\n",
       "2     САО\n",
       "3    СВАО\n",
       "4    СЗАО\n",
       "5     ЦАО\n",
       "6    ЮВАО\n",
       "7    ЮЗАО\n",
       "8     ЮАО\n",
       "Name: district, dtype: object"
      ]
     },
     "execution_count": 128,
     "metadata": {},
     "output_type": "execute_result"
    }
   ],
   "source": [
    "#for ease of reading, we will replace the names of the districts with abbreviated ones\n",
    "replace_values = {'Восточный административный округ':'ВАО','Западный административный округ':'ЗАО'\\\n",
    ",'Северный административный округ':'САО', 'Северо-Восточный административный округ':'СВАО'\\\n",
    ",'Северо-Западный административный округ':'СЗАО'\\\n",
    ",'Центральный административный округ':'ЦАО','Юго-Восточный административный округ':'ЮВАО'\\\n",
    ",'Юго-Западный административный округ':'ЮЗАО','Южный административный округ':'ЮАО'}\n",
    "district_group = district_group.replace({'district': replace_values})\n",
    "district_group['district']"
   ]
  },
  {
   "cell_type": "code",
   "execution_count": 129,
   "id": "5d2b2c59",
   "metadata": {
    "scrolled": true
   },
   "outputs": [
    {
     "data": {
      "image/png": "[encoded data removed]",
      "text/plain": [
       "<Figure size 2520x576 with 1 Axes>"
      ]
     },
     "metadata": {},
     "output_type": "display_data"
    }
   ],
   "source": [
    "#Lets build the plot \n",
    "fig=district_group.plot(x='district',figsize=(35,8),kind='bar',fontsize = 20)\n",
    "      \n",
    "fig.set_title('Amount the popular businesses by districts', fontsize = 25)\n",
    "fig.set_ylabel('Amount businesses',fontsize = 20)\n",
    "fig.set_xlabel('District',fontsize = 20)\n",
    "plt.legend(fontsize='20');"
   ]
  },
  {
   "cell_type": "markdown",
   "id": "0da117e0",
   "metadata": {},
   "source": [
    "In all categories of businesses, the CAO is in the lead. In SZAO, there are much fewer businesses. In the range of coffee houses, the smallest count is the South-Eastern Administrative District 87 and the South-Western Administrative District 94. There are few canteens in the South-Western and North-West Administrative Districts."
   ]
  },
  {
   "cell_type": "code",
   "execution_count": 130,
   "id": "7bdbb45a",
   "metadata": {},
   "outputs": [
    {
     "data": {
      "text/html": [
       "<style type=\"text/css\">\n",
       "#T_17a1c_row0_col1, #T_17a1c_row6_col2 {\n",
       "  background-color: #97b8ff;\n",
       "  color: #000000;\n",
       "}\n",
       "#T_17a1c_row0_col2, #T_17a1c_row0_col3, #T_17a1c_row4_col4, #T_17a1c_row6_col1 {\n",
       "  background-color: #b40426;\n",
       "  color: #f1f1f1;\n",
       "}\n",
       "#T_17a1c_row0_col4, #T_17a1c_row7_col4 {\n",
       "  background-color: #8db0fe;\n",
       "  color: #000000;\n",
       "}\n",
       "#T_17a1c_row0_col5, #T_17a1c_row1_col4, #T_17a1c_row1_col5, #T_17a1c_row2_col4, #T_17a1c_row2_col5, #T_17a1c_row3_col1, #T_17a1c_row3_col5, #T_17a1c_row4_col5, #T_17a1c_row5_col4, #T_17a1c_row5_col5, #T_17a1c_row6_col4, #T_17a1c_row6_col5, #T_17a1c_row7_col2, #T_17a1c_row7_col3, #T_17a1c_row7_col5 {\n",
       "  background-color: #3b4cc0;\n",
       "  color: #f1f1f1;\n",
       "}\n",
       "#T_17a1c_row1_col1 {\n",
       "  background-color: #81a4fb;\n",
       "  color: #f1f1f1;\n",
       "}\n",
       "#T_17a1c_row1_col2 {\n",
       "  background-color: #f6a586;\n",
       "  color: #000000;\n",
       "}\n",
       "#T_17a1c_row1_col3, #T_17a1c_row2_col3, #T_17a1c_row3_col3, #T_17a1c_row4_col3, #T_17a1c_row5_col3, #T_17a1c_row6_col3 {\n",
       "  background-color: #dcdddd;\n",
       "  color: #000000;\n",
       "}\n",
       "#T_17a1c_row2_col1 {\n",
       "  background-color: #c0282f;\n",
       "  color: #f1f1f1;\n",
       "}\n",
       "#T_17a1c_row2_col2 {\n",
       "  background-color: #f7af91;\n",
       "  color: #000000;\n",
       "}\n",
       "#T_17a1c_row3_col2 {\n",
       "  background-color: #f6bea4;\n",
       "  color: #000000;\n",
       "}\n",
       "#T_17a1c_row3_col4 {\n",
       "  background-color: #f4987a;\n",
       "  color: #000000;\n",
       "}\n",
       "#T_17a1c_row4_col1 {\n",
       "  background-color: #f6bda2;\n",
       "  color: #000000;\n",
       "}\n",
       "#T_17a1c_row4_col2 {\n",
       "  background-color: #f6bfa6;\n",
       "  color: #000000;\n",
       "}\n",
       "#T_17a1c_row5_col1 {\n",
       "  background-color: #445acc;\n",
       "  color: #f1f1f1;\n",
       "}\n",
       "#T_17a1c_row5_col2 {\n",
       "  background-color: #d6dce4;\n",
       "  color: #000000;\n",
       "}\n",
       "#T_17a1c_row7_col1 {\n",
       "  background-color: #7597f6;\n",
       "  color: #f1f1f1;\n",
       "}\n",
       "</style>\n",
       "<table id=\"T_17a1c\">\n",
       "  <thead>\n",
       "    <tr>\n",
       "      <th class=\"blank level0\" >&nbsp;</th>\n",
       "      <th id=\"T_17a1c_level0_col0\" class=\"col_heading level0 col0\" >category</th>\n",
       "      <th id=\"T_17a1c_level0_col1\" class=\"col_heading level0 col1\" >count</th>\n",
       "      <th id=\"T_17a1c_level0_col2\" class=\"col_heading level0 col2\" >mean</th>\n",
       "      <th id=\"T_17a1c_level0_col3\" class=\"col_heading level0 col3\" >median</th>\n",
       "      <th id=\"T_17a1c_level0_col4\" class=\"col_heading level0 col4\" >min</th>\n",
       "      <th id=\"T_17a1c_level0_col5\" class=\"col_heading level0 col5\" >max</th>\n",
       "    </tr>\n",
       "  </thead>\n",
       "  <tbody>\n",
       "    <tr>\n",
       "      <th id=\"T_17a1c_level0_row0\" class=\"row_heading level0 row0\" >0</th>\n",
       "      <td id=\"T_17a1c_row0_col0\" class=\"data row0 col0\" >бар,паб</td>\n",
       "      <td id=\"T_17a1c_row0_col1\" class=\"data row0 col1\" >732</td>\n",
       "      <td id=\"T_17a1c_row0_col2\" class=\"data row0 col2\" >4.395219</td>\n",
       "      <td id=\"T_17a1c_row0_col3\" class=\"data row0 col3\" >4.400000</td>\n",
       "      <td id=\"T_17a1c_row0_col4\" class=\"data row0 col4\" >1.100000</td>\n",
       "      <td id=\"T_17a1c_row0_col5\" class=\"data row0 col5\" >5.000000</td>\n",
       "    </tr>\n",
       "    <tr>\n",
       "      <th id=\"T_17a1c_level0_row1\" class=\"row_heading level0 row1\" >5</th>\n",
       "      <td id=\"T_17a1c_row1_col0\" class=\"data row1 col0\" >пиццерия</td>\n",
       "      <td id=\"T_17a1c_row1_col1\" class=\"data row1 col1\" >624</td>\n",
       "      <td id=\"T_17a1c_row1_col2\" class=\"data row1 col2\" >4.300801</td>\n",
       "      <td id=\"T_17a1c_row1_col3\" class=\"data row1 col3\" >4.300000</td>\n",
       "      <td id=\"T_17a1c_row1_col4\" class=\"data row1 col4\" >1.000000</td>\n",
       "      <td id=\"T_17a1c_row1_col5\" class=\"data row1 col5\" >5.000000</td>\n",
       "    </tr>\n",
       "    <tr>\n",
       "      <th id=\"T_17a1c_level0_row2\" class=\"row_heading level0 row2\" >6</th>\n",
       "      <td id=\"T_17a1c_row2_col0\" class=\"data row2 col0\" >ресторан</td>\n",
       "      <td id=\"T_17a1c_row2_col1\" class=\"data row2 col1\" >1933</td>\n",
       "      <td id=\"T_17a1c_row2_col2\" class=\"data row2 col2\" >4.292550</td>\n",
       "      <td id=\"T_17a1c_row2_col3\" class=\"data row2 col3\" >4.300000</td>\n",
       "      <td id=\"T_17a1c_row2_col4\" class=\"data row2 col4\" >1.000000</td>\n",
       "      <td id=\"T_17a1c_row2_col5\" class=\"data row2 col5\" >5.000000</td>\n",
       "    </tr>\n",
       "    <tr>\n",
       "      <th id=\"T_17a1c_level0_row3\" class=\"row_heading level0 row3\" >1</th>\n",
       "      <td id=\"T_17a1c_row3_col0\" class=\"data row3 col0\" >булочная</td>\n",
       "      <td id=\"T_17a1c_row3_col1\" class=\"data row3 col1\" >248</td>\n",
       "      <td id=\"T_17a1c_row3_col2\" class=\"data row3 col2\" >4.276210</td>\n",
       "      <td id=\"T_17a1c_row3_col3\" class=\"data row3 col3\" >4.300000</td>\n",
       "      <td id=\"T_17a1c_row3_col4\" class=\"data row3 col4\" >1.300000</td>\n",
       "      <td id=\"T_17a1c_row3_col5\" class=\"data row3 col5\" >5.000000</td>\n",
       "    </tr>\n",
       "    <tr>\n",
       "      <th id=\"T_17a1c_level0_row4\" class=\"row_heading level0 row4\" >4</th>\n",
       "      <td id=\"T_17a1c_row4_col0\" class=\"data row4 col0\" >кофейня</td>\n",
       "      <td id=\"T_17a1c_row4_col1\" class=\"data row4 col1\" >1380</td>\n",
       "      <td id=\"T_17a1c_row4_col2\" class=\"data row4 col2\" >4.275362</td>\n",
       "      <td id=\"T_17a1c_row4_col3\" class=\"data row4 col3\" >4.300000</td>\n",
       "      <td id=\"T_17a1c_row4_col4\" class=\"data row4 col4\" >1.400000</td>\n",
       "      <td id=\"T_17a1c_row4_col5\" class=\"data row4 col5\" >5.000000</td>\n",
       "    </tr>\n",
       "    <tr>\n",
       "      <th id=\"T_17a1c_level0_row5\" class=\"row_heading level0 row5\" >7</th>\n",
       "      <td id=\"T_17a1c_row5_col0\" class=\"data row5 col0\" >столовая</td>\n",
       "      <td id=\"T_17a1c_row5_col1\" class=\"data row5 col1\" >304</td>\n",
       "      <td id=\"T_17a1c_row5_col2\" class=\"data row5 col2\" >4.217763</td>\n",
       "      <td id=\"T_17a1c_row5_col3\" class=\"data row5 col3\" >4.300000</td>\n",
       "      <td id=\"T_17a1c_row5_col4\" class=\"data row5 col4\" >1.000000</td>\n",
       "      <td id=\"T_17a1c_row5_col5\" class=\"data row5 col5\" >5.000000</td>\n",
       "    </tr>\n",
       "    <tr>\n",
       "      <th id=\"T_17a1c_level0_row6\" class=\"row_heading level0 row6\" >3</th>\n",
       "      <td id=\"T_17a1c_row6_col0\" class=\"data row6 col0\" >кафе</td>\n",
       "      <td id=\"T_17a1c_row6_col1\" class=\"data row6 col1\" >1993</td>\n",
       "      <td id=\"T_17a1c_row6_col2\" class=\"data row6 col2\" >4.152383</td>\n",
       "      <td id=\"T_17a1c_row6_col3\" class=\"data row6 col3\" >4.300000</td>\n",
       "      <td id=\"T_17a1c_row6_col4\" class=\"data row6 col4\" >1.000000</td>\n",
       "      <td id=\"T_17a1c_row6_col5\" class=\"data row6 col5\" >5.000000</td>\n",
       "    </tr>\n",
       "    <tr>\n",
       "      <th id=\"T_17a1c_level0_row7\" class=\"row_heading level0 row7\" >2</th>\n",
       "      <td id=\"T_17a1c_row7_col0\" class=\"data row7 col0\" >быстрое питание</td>\n",
       "      <td id=\"T_17a1c_row7_col1\" class=\"data row7 col1\" >568</td>\n",
       "      <td id=\"T_17a1c_row7_col2\" class=\"data row7 col2\" >4.058627</td>\n",
       "      <td id=\"T_17a1c_row7_col3\" class=\"data row7 col3\" >4.200000</td>\n",
       "      <td id=\"T_17a1c_row7_col4\" class=\"data row7 col4\" >1.100000</td>\n",
       "      <td id=\"T_17a1c_row7_col5\" class=\"data row7 col5\" >5.000000</td>\n",
       "    </tr>\n",
       "  </tbody>\n",
       "</table>\n"
      ],
      "text/plain": [
       "<pandas.io.formats.style.Styler at 0x26fdf5881c0>"
      ]
     },
     "execution_count": 130,
     "metadata": {},
     "output_type": "execute_result"
    }
   ],
   "source": [
    "category_rating = data.pivot_table(index='category', values='rating'\\\n",
    ", aggfunc=['count','mean','median','min','max']).reset_index()\n",
    "\n",
    "category_rating.columns = ['category','count','mean','median','min','max']\n",
    "category_rating.sort_values(by='mean',ascending=False).style.background_gradient('coolwarm')"
   ]
  },
  {
   "cell_type": "markdown",
   "id": "84e04858",
   "metadata": {},
   "source": [
    "The median and average rating of businesses is approximately the same for all ranges. We see coffee houses and bakeries as the leaders according to the minimum rating. Either they surprise with their quality, or customers are more lenient towards the requirements for these businesses."
   ]
  },
  {
   "cell_type": "code",
   "execution_count": 131,
   "id": "9cfe6427",
   "metadata": {},
   "outputs": [
    {
     "data": {
      "image/png": "[encoded data removed]",
      "text/plain": [
       "<Figure size 2520x576 with 1 Axes>"
      ]
     },
     "metadata": {},
     "output_type": "display_data"
    }
   ],
   "source": [
    "#Lets build a plot\n",
    "fig = category_rating.plot(kind = 'bar',x='category', y='mean', figsize=(35,8), legend = False, fontsize = 20, color = '#37bbe4')\n",
    "fig.set_ylabel('Average rating',fontsize = 20)\n",
    "fig.set_xlabel('Range',fontsize = 20)\n",
    "fig.set_title('Average raiting of businesses', fontsize = 30);\n"
   ]
  },
  {
   "cell_type": "markdown",
   "id": "62040cc1",
   "metadata": {},
   "source": [
    "We see that the average rating is about the same, the leaders are bars and pubs! and in otsuiderah fast food."
   ]
  },
  {
   "cell_type": "code",
   "execution_count": 132,
   "id": "d99f1dfe",
   "metadata": {},
   "outputs": [
    {
     "data": {
      "image/png": "[encoded data removed]",
      "text/plain": [
       "<Figure size 2520x576 with 1 Axes>"
      ]
     },
     "metadata": {},
     "output_type": "display_data"
    }
   ],
   "source": [
    "# plot violin by category rating\n",
    "plt.figure(figsize=(35, 8))\n",
    "fig = sns.violinplot(x='category', y='rating', data=data, fontsize = 40)\n",
    "fig.tick_params(axis='both', which='major', labelsize=25)\n",
    "fig.set_ylabel('Raiting by range',fontsize = 20)\n",
    "fig.set_xlabel('Range',fontsize = 20)\n",
    "fig.set_title('Violin plot raiting by range', fontsize = 30)\n",
    "plt.ylim(2,6);"
   ]
  },
  {
   "cell_type": "markdown",
   "id": "360a44a4",
   "metadata": {},
   "source": [
    "We see an approximate uniformity of ratings, however, there are many low ratings among cafes and fast foods"
   ]
  },
  {
   "cell_type": "code",
   "execution_count": 133,
   "id": "5f758a9e",
   "metadata": {
    "scrolled": true
   },
   "outputs": [],
   "source": [
    "#Lets check the distribution of the rating by districts on the map:\n",
    "district_mean = data.groupby('district').agg({'rating':'mean'}).reset_index()\n"
   ]
  },
  {
   "cell_type": "code",
   "execution_count": 134,
   "id": "028cf829",
   "metadata": {},
   "outputs": [
    {
     "ename": "FileNotFoundError",
     "evalue": "[Errno 2] No such file or directory: '/datasets/admin_level_geomap.geojson'",
     "output_type": "error",
     "traceback": [
      "\u001b[1;31m---------------------------------------------------------------------------\u001b[0m",
      "\u001b[1;31mFileNotFoundError\u001b[0m                         Traceback (most recent call last)",
      "Input \u001b[1;32mIn [134]\u001b[0m, in \u001b[0;36m<cell line: 1>\u001b[1;34m()\u001b[0m\n\u001b[1;32m----> 1\u001b[0m \u001b[38;5;28;01mwith\u001b[39;00m \u001b[38;5;28;43mopen\u001b[39;49m\u001b[43m(\u001b[49m\u001b[38;5;124;43m'\u001b[39;49m\u001b[38;5;124;43m/datasets/admin_level_geomap.geojson\u001b[39;49m\u001b[38;5;124;43m'\u001b[39;49m\u001b[43m,\u001b[49m\u001b[43m \u001b[49m\u001b[38;5;124;43m'\u001b[39;49m\u001b[38;5;124;43mr\u001b[39;49m\u001b[38;5;124;43m'\u001b[39;49m\u001b[43m)\u001b[49m \u001b[38;5;28;01mas\u001b[39;00m f:\n\u001b[0;32m      2\u001b[0m     geo_json \u001b[38;5;241m=\u001b[39m json\u001b[38;5;241m.\u001b[39mload(f)\n",
      "\u001b[1;31mFileNotFoundError\u001b[0m: [Errno 2] No such file or directory: '/datasets/admin_level_geomap.geojson'"
     ]
    }
   ],
   "source": [
    "with open('/datasets/admin_level_geomap.geojson', 'r') as f:\n",
    "    geo_json = json.load(f)\n"
   ]
  },
  {
   "cell_type": "code",
   "execution_count": 135,
   "id": "8dba09ec",
   "metadata": {},
   "outputs": [
    {
     "ename": "FileNotFoundError",
     "evalue": "[Errno 2] No such file or directory: '/datasets/admin_level_geomap.geojson'",
     "output_type": "error",
     "traceback": [
      "\u001b[1;31m---------------------------------------------------------------------------\u001b[0m",
      "\u001b[1;31mFileNotFoundError\u001b[0m                         Traceback (most recent call last)",
      "Input \u001b[1;32mIn [135]\u001b[0m, in \u001b[0;36m<cell line: 6>\u001b[1;34m()\u001b[0m\n\u001b[0;32m      2\u001b[0m moscow_lat, moscow_lng \u001b[38;5;241m=\u001b[39m \u001b[38;5;241m55.751244\u001b[39m, \u001b[38;5;241m37.618423\u001b[39m\n\u001b[0;32m      3\u001b[0m m \u001b[38;5;241m=\u001b[39m Map(location\u001b[38;5;241m=\u001b[39m[moscow_lat, moscow_lng], zoom_start\u001b[38;5;241m=\u001b[39m\u001b[38;5;241m10\u001b[39m)\n\u001b[1;32m----> 6\u001b[0m \u001b[43mChoropleth\u001b[49m\u001b[43m(\u001b[49m\n\u001b[0;32m      7\u001b[0m \u001b[43m    \u001b[49m\u001b[43mgeo_data\u001b[49m\u001b[38;5;241;43m=\u001b[39;49m\u001b[43mstate_geo\u001b[49m\u001b[43m,\u001b[49m\n\u001b[0;32m      8\u001b[0m \u001b[43m    \u001b[49m\u001b[43mdata\u001b[49m\u001b[38;5;241;43m=\u001b[39;49m\u001b[43mdistrict_mean\u001b[49m\u001b[43m,\u001b[49m\n\u001b[0;32m      9\u001b[0m \u001b[43m    \u001b[49m\u001b[43mcolumns\u001b[49m\u001b[38;5;241;43m=\u001b[39;49m\u001b[43m[\u001b[49m\u001b[38;5;124;43m'\u001b[39;49m\u001b[38;5;124;43mdistrict\u001b[39;49m\u001b[38;5;124;43m'\u001b[39;49m\u001b[43m,\u001b[49m\u001b[43m \u001b[49m\u001b[38;5;124;43m'\u001b[39;49m\u001b[38;5;124;43mrating\u001b[39;49m\u001b[38;5;124;43m'\u001b[39;49m\u001b[43m]\u001b[49m\u001b[43m,\u001b[49m\n\u001b[0;32m     10\u001b[0m \u001b[43m    \u001b[49m\u001b[43mkey_on\u001b[49m\u001b[38;5;241;43m=\u001b[39;49m\u001b[38;5;124;43m'\u001b[39;49m\u001b[38;5;124;43mfeature.name\u001b[39;49m\u001b[38;5;124;43m'\u001b[39;49m\u001b[43m,\u001b[49m\n\u001b[0;32m     11\u001b[0m \u001b[43m    \u001b[49m\u001b[43mfill_color\u001b[49m\u001b[38;5;241;43m=\u001b[39;49m\u001b[38;5;124;43m'\u001b[39;49m\u001b[38;5;124;43mYlOrRd\u001b[39;49m\u001b[38;5;124;43m'\u001b[39;49m\u001b[43m,\u001b[49m\n\u001b[0;32m     12\u001b[0m \u001b[43m    \u001b[49m\u001b[43mfill_opacity\u001b[49m\u001b[38;5;241;43m=\u001b[39;49m\u001b[38;5;241;43m0.8\u001b[39;49m\u001b[43m,\u001b[49m\n\u001b[0;32m     13\u001b[0m \u001b[43m    \u001b[49m\u001b[43mlegend_name\u001b[49m\u001b[38;5;241;43m=\u001b[39;49m\u001b[38;5;124;43m'\u001b[39;49m\u001b[38;5;124;43mMedian Rating by District\u001b[39;49m\u001b[38;5;124;43m'\u001b[39;49m\u001b[43m,\u001b[49m\n\u001b[0;32m     14\u001b[0m \u001b[43m)\u001b[49m\u001b[38;5;241m.\u001b[39madd_to(m)\n\u001b[0;32m     16\u001b[0m folium\u001b[38;5;241m.\u001b[39mLayerControl()\u001b[38;5;241m.\u001b[39madd_to(m)\n\u001b[0;32m     17\u001b[0m m\n",
      "File \u001b[1;32m~\\anaconda3\\lib\\site-packages\\folium\\features.py:1290\u001b[0m, in \u001b[0;36mChoropleth.__init__\u001b[1;34m(self, geo_data, data, columns, key_on, bins, fill_color, nan_fill_color, fill_opacity, nan_fill_opacity, line_color, line_weight, line_opacity, name, legend_name, overlay, control, show, topojson, smooth_factor, highlight, **kwargs)\u001b[0m\n\u001b[0;32m   1284\u001b[0m     \u001b[38;5;28mself\u001b[39m\u001b[38;5;241m.\u001b[39mgeojson \u001b[38;5;241m=\u001b[39m TopoJson(\n\u001b[0;32m   1285\u001b[0m         geo_data,\n\u001b[0;32m   1286\u001b[0m         topojson,\n\u001b[0;32m   1287\u001b[0m         style_function\u001b[38;5;241m=\u001b[39mstyle_function,\n\u001b[0;32m   1288\u001b[0m         smooth_factor\u001b[38;5;241m=\u001b[39msmooth_factor)\n\u001b[0;32m   1289\u001b[0m \u001b[38;5;28;01melse\u001b[39;00m:\n\u001b[1;32m-> 1290\u001b[0m     \u001b[38;5;28mself\u001b[39m\u001b[38;5;241m.\u001b[39mgeojson \u001b[38;5;241m=\u001b[39m \u001b[43mGeoJson\u001b[49m\u001b[43m(\u001b[49m\n\u001b[0;32m   1291\u001b[0m \u001b[43m        \u001b[49m\u001b[43mgeo_data\u001b[49m\u001b[43m,\u001b[49m\n\u001b[0;32m   1292\u001b[0m \u001b[43m        \u001b[49m\u001b[43mstyle_function\u001b[49m\u001b[38;5;241;43m=\u001b[39;49m\u001b[43mstyle_function\u001b[49m\u001b[43m,\u001b[49m\n\u001b[0;32m   1293\u001b[0m \u001b[43m        \u001b[49m\u001b[43msmooth_factor\u001b[49m\u001b[38;5;241;43m=\u001b[39;49m\u001b[43msmooth_factor\u001b[49m\u001b[43m,\u001b[49m\n\u001b[0;32m   1294\u001b[0m \u001b[43m        \u001b[49m\u001b[43mhighlight_function\u001b[49m\u001b[38;5;241;43m=\u001b[39;49m\u001b[43mhighlight_function\u001b[49m\u001b[43m \u001b[49m\u001b[38;5;28;43;01mif\u001b[39;49;00m\u001b[43m \u001b[49m\u001b[43mhighlight\u001b[49m\u001b[43m \u001b[49m\u001b[38;5;28;43;01melse\u001b[39;49;00m\u001b[43m \u001b[49m\u001b[38;5;28;43;01mNone\u001b[39;49;00m\u001b[43m)\u001b[49m\n\u001b[0;32m   1296\u001b[0m \u001b[38;5;28mself\u001b[39m\u001b[38;5;241m.\u001b[39madd_child(\u001b[38;5;28mself\u001b[39m\u001b[38;5;241m.\u001b[39mgeojson)\n\u001b[0;32m   1297\u001b[0m \u001b[38;5;28;01mif\u001b[39;00m \u001b[38;5;28mself\u001b[39m\u001b[38;5;241m.\u001b[39mcolor_scale:\n",
      "File \u001b[1;32m~\\anaconda3\\lib\\site-packages\\folium\\features.py:497\u001b[0m, in \u001b[0;36mGeoJson.__init__\u001b[1;34m(self, data, style_function, highlight_function, name, overlay, control, show, smooth_factor, tooltip, embed, popup, zoom_on_click, marker)\u001b[0m\n\u001b[0;32m    494\u001b[0m         \u001b[38;5;28;01mraise\u001b[39;00m \u001b[38;5;167;01mTypeError\u001b[39;00m(\u001b[38;5;124m\"\u001b[39m\u001b[38;5;124mOnly Marker, Circle, and CircleMarker are supported as GeoJson marker types.\u001b[39m\u001b[38;5;124m\"\u001b[39m)\n\u001b[0;32m    495\u001b[0m \u001b[38;5;28mself\u001b[39m\u001b[38;5;241m.\u001b[39mmarker \u001b[38;5;241m=\u001b[39m marker\n\u001b[1;32m--> 497\u001b[0m \u001b[38;5;28mself\u001b[39m\u001b[38;5;241m.\u001b[39mdata \u001b[38;5;241m=\u001b[39m \u001b[38;5;28;43mself\u001b[39;49m\u001b[38;5;241;43m.\u001b[39;49m\u001b[43mprocess_data\u001b[49m\u001b[43m(\u001b[49m\u001b[43mdata\u001b[49m\u001b[43m)\u001b[49m\n\u001b[0;32m    499\u001b[0m \u001b[38;5;28;01mif\u001b[39;00m \u001b[38;5;28mself\u001b[39m\u001b[38;5;241m.\u001b[39mstyle \u001b[38;5;129;01mor\u001b[39;00m \u001b[38;5;28mself\u001b[39m\u001b[38;5;241m.\u001b[39mhighlight:\n\u001b[0;32m    500\u001b[0m     \u001b[38;5;28mself\u001b[39m\u001b[38;5;241m.\u001b[39mconvert_to_feature_collection()\n",
      "File \u001b[1;32m~\\anaconda3\\lib\\site-packages\\folium\\features.py:534\u001b[0m, in \u001b[0;36mGeoJson.process_data\u001b[1;34m(self, data)\u001b[0m\n\u001b[0;32m    532\u001b[0m         \u001b[38;5;28;01mif\u001b[39;00m \u001b[38;5;129;01mnot\u001b[39;00m \u001b[38;5;28mself\u001b[39m\u001b[38;5;241m.\u001b[39membed:\n\u001b[0;32m    533\u001b[0m             \u001b[38;5;28mself\u001b[39m\u001b[38;5;241m.\u001b[39membed_link \u001b[38;5;241m=\u001b[39m data\n\u001b[1;32m--> 534\u001b[0m         \u001b[38;5;28;01mwith\u001b[39;00m \u001b[38;5;28;43mopen\u001b[39;49m\u001b[43m(\u001b[49m\u001b[43mdata\u001b[49m\u001b[43m)\u001b[49m \u001b[38;5;28;01mas\u001b[39;00m f:\n\u001b[0;32m    535\u001b[0m             \u001b[38;5;28;01mreturn\u001b[39;00m json\u001b[38;5;241m.\u001b[39mloads(f\u001b[38;5;241m.\u001b[39mread())\n\u001b[0;32m    536\u001b[0m \u001b[38;5;28;01melif\u001b[39;00m \u001b[38;5;28mhasattr\u001b[39m(data, \u001b[38;5;124m'\u001b[39m\u001b[38;5;124m__geo_interface__\u001b[39m\u001b[38;5;124m'\u001b[39m):\n",
      "\u001b[1;31mFileNotFoundError\u001b[0m: [Errno 2] No such file or directory: '/datasets/admin_level_geomap.geojson'"
     ]
    }
   ],
   "source": [
    "\n",
    "state_geo = '/datasets/admin_level_geomap.geojson'\n",
    "moscow_lat, moscow_lng = 55.751244, 37.618423\n",
    "m = Map(location=[moscow_lat, moscow_lng], zoom_start=10)\n",
    "\n",
    "\n",
    "Choropleth(\n",
    "    geo_data=state_geo,\n",
    "    data=district_mean,\n",
    "    columns=['district', 'rating'],\n",
    "    key_on='feature.name',\n",
    "    fill_color='YlOrRd',\n",
    "    fill_opacity=0.8,\n",
    "    legend_name='Median Rating by District',\n",
    ").add_to(m)\n",
    "\n",
    "folium.LayerControl().add_to(m)\n",
    "m\n"
   ]
  },
  {
   "cell_type": "markdown",
   "id": "697e248a",
   "metadata": {},
   "source": [
    "As we can see from the map, the businesses with the highest rating are located in the city center, in the second place are the SAO and SZAO, they also have a high average rating, but the quality of the businesses is the worst according to the user. there are ratings in the SEAD and SVAO"
   ]
  },
  {
   "cell_type": "code",
   "execution_count": 136,
   "id": "fba9cb46",
   "metadata": {},
   "outputs": [
    {
     "data": {
      "text/html": [
       "<style type=\"text/css\">\n",
       "#T_d5ac9_row0_col1 {\n",
       "  background-color: #b40426;\n",
       "  color: #f1f1f1;\n",
       "}\n",
       "#T_d5ac9_row1_col1 {\n",
       "  background-color: #e7d7ce;\n",
       "  color: #000000;\n",
       "}\n",
       "#T_d5ac9_row2_col1 {\n",
       "  background-color: #c6d6f1;\n",
       "  color: #000000;\n",
       "}\n",
       "#T_d5ac9_row3_col1 {\n",
       "  background-color: #b7cff9;\n",
       "  color: #000000;\n",
       "}\n",
       "#T_d5ac9_row4_col1 {\n",
       "  background-color: #a3c2fe;\n",
       "  color: #000000;\n",
       "}\n",
       "#T_d5ac9_row5_col1 {\n",
       "  background-color: #7a9df8;\n",
       "  color: #f1f1f1;\n",
       "}\n",
       "#T_d5ac9_row6_col1 {\n",
       "  background-color: #7597f6;\n",
       "  color: #f1f1f1;\n",
       "}\n",
       "#T_d5ac9_row7_col1, #T_d5ac9_row8_col1 {\n",
       "  background-color: #6f92f3;\n",
       "  color: #f1f1f1;\n",
       "}\n",
       "#T_d5ac9_row9_col1 {\n",
       "  background-color: #5673e0;\n",
       "  color: #f1f1f1;\n",
       "}\n",
       "#T_d5ac9_row10_col1 {\n",
       "  background-color: #4c66d6;\n",
       "  color: #f1f1f1;\n",
       "}\n",
       "#T_d5ac9_row11_col1, #T_d5ac9_row12_col1 {\n",
       "  background-color: #485fd1;\n",
       "  color: #f1f1f1;\n",
       "}\n",
       "#T_d5ac9_row13_col1 {\n",
       "  background-color: #4358cb;\n",
       "  color: #f1f1f1;\n",
       "}\n",
       "#T_d5ac9_row14_col1 {\n",
       "  background-color: #3b4cc0;\n",
       "  color: #f1f1f1;\n",
       "}\n",
       "</style>\n",
       "<table id=\"T_d5ac9\">\n",
       "  <thead>\n",
       "    <tr>\n",
       "      <th class=\"blank level0\" >&nbsp;</th>\n",
       "      <th id=\"T_d5ac9_level0_col0\" class=\"col_heading level0 col0\" >street</th>\n",
       "      <th id=\"T_d5ac9_level0_col1\" class=\"col_heading level0 col1\" >name</th>\n",
       "    </tr>\n",
       "  </thead>\n",
       "  <tbody>\n",
       "    <tr>\n",
       "      <th id=\"T_d5ac9_level0_row0\" class=\"row_heading level0 row0\" >1063</th>\n",
       "      <td id=\"T_d5ac9_row0_col0\" class=\"data row0 col0\" >проспект Мира</td>\n",
       "      <td id=\"T_d5ac9_row0_col1\" class=\"data row0 col1\" >175</td>\n",
       "    </tr>\n",
       "    <tr>\n",
       "      <th id=\"T_d5ac9_level0_row1\" class=\"row_heading level0 row1\" >753</th>\n",
       "      <td id=\"T_d5ac9_row1_col0\" class=\"data row1 col0\" >Профсоюзная улица</td>\n",
       "      <td id=\"T_d5ac9_row1_col1\" class=\"data row1 col1\" >115</td>\n",
       "    </tr>\n",
       "    <tr>\n",
       "      <th id=\"T_d5ac9_level0_row2\" class=\"row_heading level0 row2\" >509</th>\n",
       "      <td id=\"T_d5ac9_row2_col0\" class=\"data row2 col0\" >Ленинский проспект</td>\n",
       "      <td id=\"T_d5ac9_row2_col1\" class=\"data row2 col1\" >99</td>\n",
       "    </tr>\n",
       "    <tr>\n",
       "      <th id=\"T_d5ac9_level0_row3\" class=\"row_heading level0 row3\" >1060</th>\n",
       "      <td id=\"T_d5ac9_row3_col0\" class=\"data row3 col0\" >проспект Вернадского</td>\n",
       "      <td id=\"T_d5ac9_row3_col1\" class=\"data row3 col1\" >93</td>\n",
       "    </tr>\n",
       "    <tr>\n",
       "      <th id=\"T_d5ac9_level0_row4\" class=\"row_heading level0 row4\" >358</th>\n",
       "      <td id=\"T_d5ac9_row4_col0\" class=\"data row4 col0\" >Дмитровское шоссе</td>\n",
       "      <td id=\"T_d5ac9_row4_col1\" class=\"data row4 col1\" >85</td>\n",
       "    </tr>\n",
       "    <tr>\n",
       "      <th id=\"T_d5ac9_level0_row5\" class=\"row_heading level0 row5\" >440</th>\n",
       "      <td id=\"T_d5ac9_row5_col0\" class=\"data row5 col0\" >Каширское шоссе</td>\n",
       "      <td id=\"T_d5ac9_row5_col1\" class=\"data row5 col1\" >70</td>\n",
       "    </tr>\n",
       "    <tr>\n",
       "      <th id=\"T_d5ac9_level0_row6\" class=\"row_heading level0 row6\" >288</th>\n",
       "      <td id=\"T_d5ac9_row6_col0\" class=\"data row6 col0\" >Варшавское шоссе</td>\n",
       "      <td id=\"T_d5ac9_row6_col1\" class=\"data row6 col1\" >68</td>\n",
       "    </tr>\n",
       "    <tr>\n",
       "      <th id=\"T_d5ac9_level0_row7\" class=\"row_heading level0 row7\" >508</th>\n",
       "      <td id=\"T_d5ac9_row7_col0\" class=\"data row7 col0\" >Ленинградское шоссе</td>\n",
       "      <td id=\"T_d5ac9_row7_col1\" class=\"data row7 col1\" >66</td>\n",
       "    </tr>\n",
       "    <tr>\n",
       "      <th id=\"T_d5ac9_level0_row8\" class=\"row_heading level0 row8\" >507</th>\n",
       "      <td id=\"T_d5ac9_row8_col0\" class=\"data row8 col0\" >Ленинградский проспект</td>\n",
       "      <td id=\"T_d5ac9_row8_col1\" class=\"data row8 col1\" >66</td>\n",
       "    </tr>\n",
       "    <tr>\n",
       "      <th id=\"T_d5ac9_level0_row9\" class=\"row_heading level0 row9\" >530</th>\n",
       "      <td id=\"T_d5ac9_row9_col0\" class=\"data row9 col0\" >Люблинская улица</td>\n",
       "      <td id=\"T_d5ac9_row9_col1\" class=\"data row9 col1\" >56</td>\n",
       "    </tr>\n",
       "    <tr>\n",
       "      <th id=\"T_d5ac9_level0_row10\" class=\"row_heading level0 row10\" >1124</th>\n",
       "      <td id=\"T_d5ac9_row10_col0\" class=\"data row10 col0\" >улица Вавилова</td>\n",
       "      <td id=\"T_d5ac9_row10_col1\" class=\"data row10 col1\" >52</td>\n",
       "    </tr>\n",
       "    <tr>\n",
       "      <th id=\"T_d5ac9_level0_row11\" class=\"row_heading level0 row11\" >533</th>\n",
       "      <td id=\"T_d5ac9_row11_col0\" class=\"data row11 col0\" >МКАД</td>\n",
       "      <td id=\"T_d5ac9_row11_col1\" class=\"data row11 col1\" >50</td>\n",
       "    </tr>\n",
       "    <tr>\n",
       "      <th id=\"T_d5ac9_level0_row12\" class=\"row_heading level0 row12\" >501</th>\n",
       "      <td id=\"T_d5ac9_row12_col0\" class=\"data row12 col0\" >Кутузовский проспект</td>\n",
       "      <td id=\"T_d5ac9_row12_col1\" class=\"data row12 col1\" >50</td>\n",
       "    </tr>\n",
       "    <tr>\n",
       "      <th id=\"T_d5ac9_level0_row13\" class=\"row_heading level0 row13\" >761</th>\n",
       "      <td id=\"T_d5ac9_row13_col0\" class=\"data row13 col0\" >Пятницкая улица</td>\n",
       "      <td id=\"T_d5ac9_row13_col1\" class=\"data row13 col1\" >48</td>\n",
       "    </tr>\n",
       "    <tr>\n",
       "      <th id=\"T_d5ac9_level0_row14\" class=\"row_heading level0 row14\" >161</th>\n",
       "      <td id=\"T_d5ac9_row14_col0\" class=\"data row14 col0\" >Алтуфьевское шоссе</td>\n",
       "      <td id=\"T_d5ac9_row14_col1\" class=\"data row14 col1\" >44</td>\n",
       "    </tr>\n",
       "  </tbody>\n",
       "</table>\n"
      ],
      "text/plain": [
       "<pandas.io.formats.style.Styler at 0x26fdc1538b0>"
      ]
     },
     "execution_count": 136,
     "metadata": {},
     "output_type": "execute_result"
    }
   ],
   "source": [
    "#Find the top 15 streets by the amount of businesses\n",
    "top_rest = data.groupby('street')['name'].count().reset_index().sort_values(by='name',ascending=False)\\\n",
    ".head(15)\n",
    "top_rest.style.background_gradient('coolwarm')"
   ]
  },
  {
   "cell_type": "markdown",
   "id": "4e14cc36",
   "metadata": {},
   "source": [
    "The largest count of businesses is represented on Mira Avenue and Profsoyuznaya Street. Also, a large count of businesses are located on the longest streets of Moscow:\n",
    "Leninsky Prospekt-99\n",
    "Vernadsky Avenue-93\n",
    "Dmitrovskoe highway-85. closes Pyatnitskaya street and Altufevskoe highway - 44"
   ]
  },
  {
   "cell_type": "code",
   "execution_count": 137,
   "id": "6f07a4d2",
   "metadata": {},
   "outputs": [],
   "source": [
    "#Lets find top 15 streets by range\n",
    "street_category =data.pivot_table(index='street', columns='category', values='name', aggfunc='count').reset_index()\n",
    "top_rest = top_rest.merge(street_category, on='street', how='left')"
   ]
  },
  {
   "cell_type": "code",
   "execution_count": 138,
   "id": "8ad8328d",
   "metadata": {},
   "outputs": [
    {
     "data": {
      "text/html": [
       "<style type=\"text/css\">\n",
       "#T_81f1c_row0_col1, #T_81f1c_row0_col3, #T_81f1c_row0_col4, #T_81f1c_row0_col5, #T_81f1c_row0_col6, #T_81f1c_row0_col8, #T_81f1c_row1_col3, #T_81f1c_row1_col7, #T_81f1c_row6_col9, #T_81f1c_row8_col2 {\n",
       "  background-color: #b40426;\n",
       "  color: #f1f1f1;\n",
       "}\n",
       "#T_81f1c_row0_col2 {\n",
       "  background-color: #e7745b;\n",
       "  color: #f1f1f1;\n",
       "}\n",
       "#T_81f1c_row0_col7, #T_81f1c_row3_col7 {\n",
       "  background-color: #f7a889;\n",
       "  color: #000000;\n",
       "}\n",
       "#T_81f1c_row0_col9, #T_81f1c_row3_col9, #T_81f1c_row9_col9, #T_81f1c_row12_col9 {\n",
       "  background-color: #7b9ff9;\n",
       "  color: #f1f1f1;\n",
       "}\n",
       "#T_81f1c_row1_col1 {\n",
       "  background-color: #e7d7ce;\n",
       "  color: #000000;\n",
       "}\n",
       "#T_81f1c_row1_col2, #T_81f1c_row6_col2 {\n",
       "  background-color: #c5d6f2;\n",
       "  color: #000000;\n",
       "}\n",
       "#T_81f1c_row1_col4, #T_81f1c_row2_col8 {\n",
       "  background-color: #f7b194;\n",
       "  color: #000000;\n",
       "}\n",
       "#T_81f1c_row1_col5 {\n",
       "  background-color: #e6d7cf;\n",
       "  color: #000000;\n",
       "}\n",
       "#T_81f1c_row1_col6, #T_81f1c_row8_col6 {\n",
       "  background-color: #d5dbe5;\n",
       "  color: #000000;\n",
       "}\n",
       "#T_81f1c_row1_col8, #T_81f1c_row3_col4 {\n",
       "  background-color: #e3d9d3;\n",
       "  color: #000000;\n",
       "}\n",
       "#T_81f1c_row1_col9, #T_81f1c_row7_col9 {\n",
       "  background-color: #c0d4f5;\n",
       "  color: #000000;\n",
       "}\n",
       "#T_81f1c_row2_col1, #T_81f1c_row4_col4, #T_81f1c_row5_col4 {\n",
       "  background-color: #c6d6f1;\n",
       "  color: #000000;\n",
       "}\n",
       "#T_81f1c_row2_col2 {\n",
       "  background-color: #f4987a;\n",
       "  color: #000000;\n",
       "}\n",
       "#T_81f1c_row2_col3, #T_81f1c_row13_col2, #T_81f1c_row13_col3 {\n",
       "  background-color: #f7b89c;\n",
       "  color: #000000;\n",
       "}\n",
       "#T_81f1c_row2_col4, #T_81f1c_row3_col3, #T_81f1c_row5_col2, #T_81f1c_row8_col4, #T_81f1c_row8_col5, #T_81f1c_row8_col9, #T_81f1c_row9_col7, #T_81f1c_row11_col6, #T_81f1c_row11_col8, #T_81f1c_row11_col9, #T_81f1c_row12_col3, #T_81f1c_row12_col4, #T_81f1c_row13_col4, #T_81f1c_row13_col5, #T_81f1c_row14_col1, #T_81f1c_row14_col3, #T_81f1c_row14_col9 {\n",
       "  background-color: #3b4cc0;\n",
       "  color: #f1f1f1;\n",
       "}\n",
       "#T_81f1c_row2_col5, #T_81f1c_row3_col5 {\n",
       "  background-color: #a5c3fe;\n",
       "  color: #000000;\n",
       "}\n",
       "#T_81f1c_row2_col6 {\n",
       "  background-color: #f5c4ac;\n",
       "  color: #000000;\n",
       "}\n",
       "#T_81f1c_row2_col7, #T_81f1c_row5_col7, #T_81f1c_row8_col7 {\n",
       "  background-color: #9abbff;\n",
       "  color: #000000;\n",
       "}\n",
       "#T_81f1c_row2_col9, #T_81f1c_row5_col9 {\n",
       "  background-color: #ee8468;\n",
       "  color: #f1f1f1;\n",
       "}\n",
       "#T_81f1c_row3_col1 {\n",
       "  background-color: #b7cff9;\n",
       "  color: #000000;\n",
       "}\n",
       "#T_81f1c_row3_col2, #T_81f1c_row4_col2, #T_81f1c_row4_col3, #T_81f1c_row7_col3, #T_81f1c_row8_col3, #T_81f1c_row10_col3, #T_81f1c_row14_col2 {\n",
       "  background-color: #aac7fd;\n",
       "  color: #000000;\n",
       "}\n",
       "#T_81f1c_row3_col6 {\n",
       "  background-color: #aec9fc;\n",
       "  color: #000000;\n",
       "}\n",
       "#T_81f1c_row3_col8 {\n",
       "  background-color: #f2cab5;\n",
       "  color: #000000;\n",
       "}\n",
       "#T_81f1c_row4_col1, #T_81f1c_row6_col6, #T_81f1c_row7_col6, #T_81f1c_row11_col4, #T_81f1c_row12_col6 {\n",
       "  background-color: #a3c2fe;\n",
       "  color: #000000;\n",
       "}\n",
       "#T_81f1c_row4_col5, #T_81f1c_row5_col8, #T_81f1c_row8_col8, #T_81f1c_row13_col8 {\n",
       "  background-color: #adc9fd;\n",
       "  color: #000000;\n",
       "}\n",
       "#T_81f1c_row4_col6, #T_81f1c_row7_col2, #T_81f1c_row9_col2, #T_81f1c_row9_col6 {\n",
       "  background-color: #8db0fe;\n",
       "  color: #000000;\n",
       "}\n",
       "#T_81f1c_row4_col7, #T_81f1c_row4_col8, #T_81f1c_row7_col8 {\n",
       "  background-color: #dddcdc;\n",
       "  color: #000000;\n",
       "}\n",
       "#T_81f1c_row4_col9 {\n",
       "  background-color: #f2cbb7;\n",
       "  color: #000000;\n",
       "}\n",
       "#T_81f1c_row5_col1 {\n",
       "  background-color: #7a9df8;\n",
       "  color: #f1f1f1;\n",
       "}\n",
       "#T_81f1c_row5_col3, #T_81f1c_row6_col3, #T_81f1c_row9_col3, #T_81f1c_row10_col9, #T_81f1c_row11_col2, #T_81f1c_row11_col3, #T_81f1c_row11_col7, #T_81f1c_row13_col9 {\n",
       "  background-color: #000000;\n",
       "  color: #f1f1f1;\n",
       "}\n",
       "#T_81f1c_row5_col5 {\n",
       "  background-color: #799cf8;\n",
       "  color: #f1f1f1;\n",
       "}\n",
       "#T_81f1c_row5_col6 {\n",
       "  background-color: #c3d5f4;\n",
       "  color: #000000;\n",
       "}\n",
       "#T_81f1c_row6_col1 {\n",
       "  background-color: #7597f6;\n",
       "  color: #f1f1f1;\n",
       "}\n",
       "#T_81f1c_row6_col4 {\n",
       "  background-color: #92b4fe;\n",
       "  color: #000000;\n",
       "}\n",
       "#T_81f1c_row6_col5, #T_81f1c_row7_col5, #T_81f1c_row10_col5 {\n",
       "  background-color: #6180e9;\n",
       "  color: #f1f1f1;\n",
       "}\n",
       "#T_81f1c_row6_col7 {\n",
       "  background-color: #80a3fa;\n",
       "  color: #f1f1f1;\n",
       "}\n",
       "#T_81f1c_row6_col8 {\n",
       "  background-color: #bfd3f6;\n",
       "  color: #000000;\n",
       "}\n",
       "#T_81f1c_row7_col1, #T_81f1c_row8_col1 {\n",
       "  background-color: #6f92f3;\n",
       "  color: #f1f1f1;\n",
       "}\n",
       "#T_81f1c_row7_col4, #T_81f1c_row9_col4, #T_81f1c_row14_col4 {\n",
       "  background-color: #6c8ff1;\n",
       "  color: #f1f1f1;\n",
       "}\n",
       "#T_81f1c_row7_col7, #T_81f1c_row10_col7, #T_81f1c_row12_col7, #T_81f1c_row13_col7, #T_81f1c_row14_col7 {\n",
       "  background-color: #6788ee;\n",
       "  color: #f1f1f1;\n",
       "}\n",
       "#T_81f1c_row9_col1 {\n",
       "  background-color: #5673e0;\n",
       "  color: #f1f1f1;\n",
       "}\n",
       "#T_81f1c_row9_col5 {\n",
       "  background-color: #bcd2f7;\n",
       "  color: #000000;\n",
       "}\n",
       "#T_81f1c_row9_col8, #T_81f1c_row14_col8 {\n",
       "  background-color: #6384eb;\n",
       "  color: #f1f1f1;\n",
       "}\n",
       "#T_81f1c_row10_col1 {\n",
       "  background-color: #4c66d6;\n",
       "  color: #f1f1f1;\n",
       "}\n",
       "#T_81f1c_row10_col2, #T_81f1c_row12_col2 {\n",
       "  background-color: #5470de;\n",
       "  color: #f1f1f1;\n",
       "}\n",
       "#T_81f1c_row10_col4 {\n",
       "  background-color: #d6dce4;\n",
       "  color: #000000;\n",
       "}\n",
       "#T_81f1c_row10_col6 {\n",
       "  background-color: #82a6fb;\n",
       "  color: #f1f1f1;\n",
       "}\n",
       "#T_81f1c_row10_col8 {\n",
       "  background-color: #7699f6;\n",
       "  color: #f1f1f1;\n",
       "}\n",
       "#T_81f1c_row11_col1, #T_81f1c_row12_col1 {\n",
       "  background-color: #485fd1;\n",
       "  color: #f1f1f1;\n",
       "}\n",
       "#T_81f1c_row11_col5 {\n",
       "  background-color: #f5c1a9;\n",
       "  color: #000000;\n",
       "}\n",
       "#T_81f1c_row12_col5 {\n",
       "  background-color: #688aef;\n",
       "  color: #f1f1f1;\n",
       "}\n",
       "#T_81f1c_row12_col8 {\n",
       "  background-color: #88abfd;\n",
       "  color: #000000;\n",
       "}\n",
       "#T_81f1c_row13_col1 {\n",
       "  background-color: #4358cb;\n",
       "  color: #f1f1f1;\n",
       "}\n",
       "#T_81f1c_row13_col6 {\n",
       "  background-color: #5875e1;\n",
       "  color: #f1f1f1;\n",
       "}\n",
       "#T_81f1c_row14_col5 {\n",
       "  background-color: #506bda;\n",
       "  color: #f1f1f1;\n",
       "}\n",
       "#T_81f1c_row14_col6 {\n",
       "  background-color: #779af7;\n",
       "  color: #f1f1f1;\n",
       "}\n",
       "</style>\n",
       "<table id=\"T_81f1c\">\n",
       "  <thead>\n",
       "    <tr>\n",
       "      <th class=\"blank level0\" >&nbsp;</th>\n",
       "      <th id=\"T_81f1c_level0_col0\" class=\"col_heading level0 col0\" >street</th>\n",
       "      <th id=\"T_81f1c_level0_col1\" class=\"col_heading level0 col1\" >name</th>\n",
       "      <th id=\"T_81f1c_level0_col2\" class=\"col_heading level0 col2\" >бар,паб</th>\n",
       "      <th id=\"T_81f1c_level0_col3\" class=\"col_heading level0 col3\" >булочная</th>\n",
       "      <th id=\"T_81f1c_level0_col4\" class=\"col_heading level0 col4\" >быстрое питание</th>\n",
       "      <th id=\"T_81f1c_level0_col5\" class=\"col_heading level0 col5\" >кафе</th>\n",
       "      <th id=\"T_81f1c_level0_col6\" class=\"col_heading level0 col6\" >кофейня</th>\n",
       "      <th id=\"T_81f1c_level0_col7\" class=\"col_heading level0 col7\" >пиццерия</th>\n",
       "      <th id=\"T_81f1c_level0_col8\" class=\"col_heading level0 col8\" >ресторан</th>\n",
       "      <th id=\"T_81f1c_level0_col9\" class=\"col_heading level0 col9\" >столовая</th>\n",
       "    </tr>\n",
       "  </thead>\n",
       "  <tbody>\n",
       "    <tr>\n",
       "      <th id=\"T_81f1c_level0_row0\" class=\"row_heading level0 row0\" >0</th>\n",
       "      <td id=\"T_81f1c_row0_col0\" class=\"data row0 col0\" >проспект Мира</td>\n",
       "      <td id=\"T_81f1c_row0_col1\" class=\"data row0 col1\" >175</td>\n",
       "      <td id=\"T_81f1c_row0_col2\" class=\"data row0 col2\" >11.000000</td>\n",
       "      <td id=\"T_81f1c_row0_col3\" class=\"data row0 col3\" >4.000000</td>\n",
       "      <td id=\"T_81f1c_row0_col4\" class=\"data row0 col4\" >21.000000</td>\n",
       "      <td id=\"T_81f1c_row0_col5\" class=\"data row0 col5\" >48.000000</td>\n",
       "      <td id=\"T_81f1c_row0_col6\" class=\"data row0 col6\" >35.000000</td>\n",
       "      <td id=\"T_81f1c_row0_col7\" class=\"data row0 col7\" >11.000000</td>\n",
       "      <td id=\"T_81f1c_row0_col8\" class=\"data row0 col8\" >43.000000</td>\n",
       "      <td id=\"T_81f1c_row0_col9\" class=\"data row0 col9\" >2.000000</td>\n",
       "    </tr>\n",
       "    <tr>\n",
       "      <th id=\"T_81f1c_level0_row1\" class=\"row_heading level0 row1\" >1</th>\n",
       "      <td id=\"T_81f1c_row1_col0\" class=\"data row1 col0\" >Профсоюзная улица</td>\n",
       "      <td id=\"T_81f1c_row1_col1\" class=\"data row1 col1\" >115</td>\n",
       "      <td id=\"T_81f1c_row1_col2\" class=\"data row1 col2\" >6.000000</td>\n",
       "      <td id=\"T_81f1c_row1_col3\" class=\"data row1 col3\" >4.000000</td>\n",
       "      <td id=\"T_81f1c_row1_col4\" class=\"data row1 col4\" >15.000000</td>\n",
       "      <td id=\"T_81f1c_row1_col5\" class=\"data row1 col5\" >29.000000</td>\n",
       "      <td id=\"T_81f1c_row1_col6\" class=\"data row1 col6\" >18.000000</td>\n",
       "      <td id=\"T_81f1c_row1_col7\" class=\"data row1 col7\" >15.000000</td>\n",
       "      <td id=\"T_81f1c_row1_col8\" class=\"data row1 col8\" >25.000000</td>\n",
       "      <td id=\"T_81f1c_row1_col9\" class=\"data row1 col9\" >3.000000</td>\n",
       "    </tr>\n",
       "    <tr>\n",
       "      <th id=\"T_81f1c_level0_row2\" class=\"row_heading level0 row2\" >2</th>\n",
       "      <td id=\"T_81f1c_row2_col0\" class=\"data row2 col0\" >Ленинский проспект</td>\n",
       "      <td id=\"T_81f1c_row2_col1\" class=\"data row2 col1\" >99</td>\n",
       "      <td id=\"T_81f1c_row2_col2\" class=\"data row2 col2\" >10.000000</td>\n",
       "      <td id=\"T_81f1c_row2_col3\" class=\"data row2 col3\" >3.000000</td>\n",
       "      <td id=\"T_81f1c_row2_col4\" class=\"data row2 col4\" >2.000000</td>\n",
       "      <td id=\"T_81f1c_row2_col5\" class=\"data row2 col5\" >20.000000</td>\n",
       "      <td id=\"T_81f1c_row2_col6\" class=\"data row2 col6\" >23.000000</td>\n",
       "      <td id=\"T_81f1c_row2_col7\" class=\"data row2 col7\" >5.000000</td>\n",
       "      <td id=\"T_81f1c_row2_col8\" class=\"data row2 col8\" >31.000000</td>\n",
       "      <td id=\"T_81f1c_row2_col9\" class=\"data row2 col9\" >5.000000</td>\n",
       "    </tr>\n",
       "    <tr>\n",
       "      <th id=\"T_81f1c_level0_row3\" class=\"row_heading level0 row3\" >3</th>\n",
       "      <td id=\"T_81f1c_row3_col0\" class=\"data row3 col0\" >проспект Вернадского</td>\n",
       "      <td id=\"T_81f1c_row3_col1\" class=\"data row3 col1\" >93</td>\n",
       "      <td id=\"T_81f1c_row3_col2\" class=\"data row3 col2\" >5.000000</td>\n",
       "      <td id=\"T_81f1c_row3_col3\" class=\"data row3 col3\" >1.000000</td>\n",
       "      <td id=\"T_81f1c_row3_col4\" class=\"data row3 col4\" >12.000000</td>\n",
       "      <td id=\"T_81f1c_row3_col5\" class=\"data row3 col5\" >20.000000</td>\n",
       "      <td id=\"T_81f1c_row3_col6\" class=\"data row3 col6\" >14.000000</td>\n",
       "      <td id=\"T_81f1c_row3_col7\" class=\"data row3 col7\" >11.000000</td>\n",
       "      <td id=\"T_81f1c_row3_col8\" class=\"data row3 col8\" >28.000000</td>\n",
       "      <td id=\"T_81f1c_row3_col9\" class=\"data row3 col9\" >2.000000</td>\n",
       "    </tr>\n",
       "    <tr>\n",
       "      <th id=\"T_81f1c_level0_row4\" class=\"row_heading level0 row4\" >4</th>\n",
       "      <td id=\"T_81f1c_row4_col0\" class=\"data row4 col0\" >Дмитровское шоссе</td>\n",
       "      <td id=\"T_81f1c_row4_col1\" class=\"data row4 col1\" >85</td>\n",
       "      <td id=\"T_81f1c_row4_col2\" class=\"data row4 col2\" >5.000000</td>\n",
       "      <td id=\"T_81f1c_row4_col3\" class=\"data row4 col3\" >2.000000</td>\n",
       "      <td id=\"T_81f1c_row4_col4\" class=\"data row4 col4\" >10.000000</td>\n",
       "      <td id=\"T_81f1c_row4_col5\" class=\"data row4 col5\" >21.000000</td>\n",
       "      <td id=\"T_81f1c_row4_col6\" class=\"data row4 col6\" >11.000000</td>\n",
       "      <td id=\"T_81f1c_row4_col7\" class=\"data row4 col7\" >8.000000</td>\n",
       "      <td id=\"T_81f1c_row4_col8\" class=\"data row4 col8\" >24.000000</td>\n",
       "      <td id=\"T_81f1c_row4_col9\" class=\"data row4 col9\" >4.000000</td>\n",
       "    </tr>\n",
       "    <tr>\n",
       "      <th id=\"T_81f1c_level0_row5\" class=\"row_heading level0 row5\" >5</th>\n",
       "      <td id=\"T_81f1c_row5_col0\" class=\"data row5 col0\" >Каширское шоссе</td>\n",
       "      <td id=\"T_81f1c_row5_col1\" class=\"data row5 col1\" >70</td>\n",
       "      <td id=\"T_81f1c_row5_col2\" class=\"data row5 col2\" >1.000000</td>\n",
       "      <td id=\"T_81f1c_row5_col3\" class=\"data row5 col3\" >nan</td>\n",
       "      <td id=\"T_81f1c_row5_col4\" class=\"data row5 col4\" >10.000000</td>\n",
       "      <td id=\"T_81f1c_row5_col5\" class=\"data row5 col5\" >15.000000</td>\n",
       "      <td id=\"T_81f1c_row5_col6\" class=\"data row5 col6\" >16.000000</td>\n",
       "      <td id=\"T_81f1c_row5_col7\" class=\"data row5 col7\" >5.000000</td>\n",
       "      <td id=\"T_81f1c_row5_col8\" class=\"data row5 col8\" >18.000000</td>\n",
       "      <td id=\"T_81f1c_row5_col9\" class=\"data row5 col9\" >5.000000</td>\n",
       "    </tr>\n",
       "    <tr>\n",
       "      <th id=\"T_81f1c_level0_row6\" class=\"row_heading level0 row6\" >6</th>\n",
       "      <td id=\"T_81f1c_row6_col0\" class=\"data row6 col0\" >Варшавское шоссе</td>\n",
       "      <td id=\"T_81f1c_row6_col1\" class=\"data row6 col1\" >68</td>\n",
       "      <td id=\"T_81f1c_row6_col2\" class=\"data row6 col2\" >6.000000</td>\n",
       "      <td id=\"T_81f1c_row6_col3\" class=\"data row6 col3\" >nan</td>\n",
       "      <td id=\"T_81f1c_row6_col4\" class=\"data row6 col4\" >7.000000</td>\n",
       "      <td id=\"T_81f1c_row6_col5\" class=\"data row6 col5\" >12.000000</td>\n",
       "      <td id=\"T_81f1c_row6_col6\" class=\"data row6 col6\" >13.000000</td>\n",
       "      <td id=\"T_81f1c_row6_col7\" class=\"data row6 col7\" >4.000000</td>\n",
       "      <td id=\"T_81f1c_row6_col8\" class=\"data row6 col8\" >20.000000</td>\n",
       "      <td id=\"T_81f1c_row6_col9\" class=\"data row6 col9\" >6.000000</td>\n",
       "    </tr>\n",
       "    <tr>\n",
       "      <th id=\"T_81f1c_level0_row7\" class=\"row_heading level0 row7\" >7</th>\n",
       "      <td id=\"T_81f1c_row7_col0\" class=\"data row7 col0\" >Ленинградское шоссе</td>\n",
       "      <td id=\"T_81f1c_row7_col1\" class=\"data row7 col1\" >66</td>\n",
       "      <td id=\"T_81f1c_row7_col2\" class=\"data row7 col2\" >4.000000</td>\n",
       "      <td id=\"T_81f1c_row7_col3\" class=\"data row7 col3\" >2.000000</td>\n",
       "      <td id=\"T_81f1c_row7_col4\" class=\"data row7 col4\" >5.000000</td>\n",
       "      <td id=\"T_81f1c_row7_col5\" class=\"data row7 col5\" >12.000000</td>\n",
       "      <td id=\"T_81f1c_row7_col6\" class=\"data row7 col6\" >13.000000</td>\n",
       "      <td id=\"T_81f1c_row7_col7\" class=\"data row7 col7\" >3.000000</td>\n",
       "      <td id=\"T_81f1c_row7_col8\" class=\"data row7 col8\" >24.000000</td>\n",
       "      <td id=\"T_81f1c_row7_col9\" class=\"data row7 col9\" >3.000000</td>\n",
       "    </tr>\n",
       "    <tr>\n",
       "      <th id=\"T_81f1c_level0_row8\" class=\"row_heading level0 row8\" >8</th>\n",
       "      <td id=\"T_81f1c_row8_col0\" class=\"data row8 col0\" >Ленинградский проспект</td>\n",
       "      <td id=\"T_81f1c_row8_col1\" class=\"data row8 col1\" >66</td>\n",
       "      <td id=\"T_81f1c_row8_col2\" class=\"data row8 col2\" >13.000000</td>\n",
       "      <td id=\"T_81f1c_row8_col3\" class=\"data row8 col3\" >2.000000</td>\n",
       "      <td id=\"T_81f1c_row8_col4\" class=\"data row8 col4\" >2.000000</td>\n",
       "      <td id=\"T_81f1c_row8_col5\" class=\"data row8 col5\" >7.000000</td>\n",
       "      <td id=\"T_81f1c_row8_col6\" class=\"data row8 col6\" >18.000000</td>\n",
       "      <td id=\"T_81f1c_row8_col7\" class=\"data row8 col7\" >5.000000</td>\n",
       "      <td id=\"T_81f1c_row8_col8\" class=\"data row8 col8\" >18.000000</td>\n",
       "      <td id=\"T_81f1c_row8_col9\" class=\"data row8 col9\" >1.000000</td>\n",
       "    </tr>\n",
       "    <tr>\n",
       "      <th id=\"T_81f1c_level0_row9\" class=\"row_heading level0 row9\" >9</th>\n",
       "      <td id=\"T_81f1c_row9_col0\" class=\"data row9 col0\" >Люблинская улица</td>\n",
       "      <td id=\"T_81f1c_row9_col1\" class=\"data row9 col1\" >56</td>\n",
       "      <td id=\"T_81f1c_row9_col2\" class=\"data row9 col2\" >4.000000</td>\n",
       "      <td id=\"T_81f1c_row9_col3\" class=\"data row9 col3\" >nan</td>\n",
       "      <td id=\"T_81f1c_row9_col4\" class=\"data row9 col4\" >5.000000</td>\n",
       "      <td id=\"T_81f1c_row9_col5\" class=\"data row9 col5\" >23.000000</td>\n",
       "      <td id=\"T_81f1c_row9_col6\" class=\"data row9 col6\" >11.000000</td>\n",
       "      <td id=\"T_81f1c_row9_col7\" class=\"data row9 col7\" >1.000000</td>\n",
       "      <td id=\"T_81f1c_row9_col8\" class=\"data row9 col8\" >10.000000</td>\n",
       "      <td id=\"T_81f1c_row9_col9\" class=\"data row9 col9\" >2.000000</td>\n",
       "    </tr>\n",
       "    <tr>\n",
       "      <th id=\"T_81f1c_level0_row10\" class=\"row_heading level0 row10\" >10</th>\n",
       "      <td id=\"T_81f1c_row10_col0\" class=\"data row10 col0\" >улица Вавилова</td>\n",
       "      <td id=\"T_81f1c_row10_col1\" class=\"data row10 col1\" >52</td>\n",
       "      <td id=\"T_81f1c_row10_col2\" class=\"data row10 col2\" >2.000000</td>\n",
       "      <td id=\"T_81f1c_row10_col3\" class=\"data row10 col3\" >2.000000</td>\n",
       "      <td id=\"T_81f1c_row10_col4\" class=\"data row10 col4\" >11.000000</td>\n",
       "      <td id=\"T_81f1c_row10_col5\" class=\"data row10 col5\" >12.000000</td>\n",
       "      <td id=\"T_81f1c_row10_col6\" class=\"data row10 col6\" >10.000000</td>\n",
       "      <td id=\"T_81f1c_row10_col7\" class=\"data row10 col7\" >3.000000</td>\n",
       "      <td id=\"T_81f1c_row10_col8\" class=\"data row10 col8\" >12.000000</td>\n",
       "      <td id=\"T_81f1c_row10_col9\" class=\"data row10 col9\" >nan</td>\n",
       "    </tr>\n",
       "    <tr>\n",
       "      <th id=\"T_81f1c_level0_row11\" class=\"row_heading level0 row11\" >11</th>\n",
       "      <td id=\"T_81f1c_row11_col0\" class=\"data row11 col0\" >МКАД</td>\n",
       "      <td id=\"T_81f1c_row11_col1\" class=\"data row11 col1\" >50</td>\n",
       "      <td id=\"T_81f1c_row11_col2\" class=\"data row11 col2\" >nan</td>\n",
       "      <td id=\"T_81f1c_row11_col3\" class=\"data row11 col3\" >nan</td>\n",
       "      <td id=\"T_81f1c_row11_col4\" class=\"data row11 col4\" >8.000000</td>\n",
       "      <td id=\"T_81f1c_row11_col5\" class=\"data row11 col5\" >33.000000</td>\n",
       "      <td id=\"T_81f1c_row11_col6\" class=\"data row11 col6\" >3.000000</td>\n",
       "      <td id=\"T_81f1c_row11_col7\" class=\"data row11 col7\" >nan</td>\n",
       "      <td id=\"T_81f1c_row11_col8\" class=\"data row11 col8\" >5.000000</td>\n",
       "      <td id=\"T_81f1c_row11_col9\" class=\"data row11 col9\" >1.000000</td>\n",
       "    </tr>\n",
       "    <tr>\n",
       "      <th id=\"T_81f1c_level0_row12\" class=\"row_heading level0 row12\" >12</th>\n",
       "      <td id=\"T_81f1c_row12_col0\" class=\"data row12 col0\" >Кутузовский проспект</td>\n",
       "      <td id=\"T_81f1c_row12_col1\" class=\"data row12 col1\" >50</td>\n",
       "      <td id=\"T_81f1c_row12_col2\" class=\"data row12 col2\" >2.000000</td>\n",
       "      <td id=\"T_81f1c_row12_col3\" class=\"data row12 col3\" >1.000000</td>\n",
       "      <td id=\"T_81f1c_row12_col4\" class=\"data row12 col4\" >2.000000</td>\n",
       "      <td id=\"T_81f1c_row12_col5\" class=\"data row12 col5\" >13.000000</td>\n",
       "      <td id=\"T_81f1c_row12_col6\" class=\"data row12 col6\" >13.000000</td>\n",
       "      <td id=\"T_81f1c_row12_col7\" class=\"data row12 col7\" >3.000000</td>\n",
       "      <td id=\"T_81f1c_row12_col8\" class=\"data row12 col8\" >14.000000</td>\n",
       "      <td id=\"T_81f1c_row12_col9\" class=\"data row12 col9\" >2.000000</td>\n",
       "    </tr>\n",
       "    <tr>\n",
       "      <th id=\"T_81f1c_level0_row13\" class=\"row_heading level0 row13\" >13</th>\n",
       "      <td id=\"T_81f1c_row13_col0\" class=\"data row13 col0\" >Пятницкая улица</td>\n",
       "      <td id=\"T_81f1c_row13_col1\" class=\"data row13 col1\" >48</td>\n",
       "      <td id=\"T_81f1c_row13_col2\" class=\"data row13 col2\" >9.000000</td>\n",
       "      <td id=\"T_81f1c_row13_col3\" class=\"data row13 col3\" >3.000000</td>\n",
       "      <td id=\"T_81f1c_row13_col4\" class=\"data row13 col4\" >2.000000</td>\n",
       "      <td id=\"T_81f1c_row13_col5\" class=\"data row13 col5\" >7.000000</td>\n",
       "      <td id=\"T_81f1c_row13_col6\" class=\"data row13 col6\" >6.000000</td>\n",
       "      <td id=\"T_81f1c_row13_col7\" class=\"data row13 col7\" >3.000000</td>\n",
       "      <td id=\"T_81f1c_row13_col8\" class=\"data row13 col8\" >18.000000</td>\n",
       "      <td id=\"T_81f1c_row13_col9\" class=\"data row13 col9\" >nan</td>\n",
       "    </tr>\n",
       "    <tr>\n",
       "      <th id=\"T_81f1c_level0_row14\" class=\"row_heading level0 row14\" >14</th>\n",
       "      <td id=\"T_81f1c_row14_col0\" class=\"data row14 col0\" >Алтуфьевское шоссе</td>\n",
       "      <td id=\"T_81f1c_row14_col1\" class=\"data row14 col1\" >44</td>\n",
       "      <td id=\"T_81f1c_row14_col2\" class=\"data row14 col2\" >5.000000</td>\n",
       "      <td id=\"T_81f1c_row14_col3\" class=\"data row14 col3\" >1.000000</td>\n",
       "      <td id=\"T_81f1c_row14_col4\" class=\"data row14 col4\" >5.000000</td>\n",
       "      <td id=\"T_81f1c_row14_col5\" class=\"data row14 col5\" >10.000000</td>\n",
       "      <td id=\"T_81f1c_row14_col6\" class=\"data row14 col6\" >9.000000</td>\n",
       "      <td id=\"T_81f1c_row14_col7\" class=\"data row14 col7\" >3.000000</td>\n",
       "      <td id=\"T_81f1c_row14_col8\" class=\"data row14 col8\" >10.000000</td>\n",
       "      <td id=\"T_81f1c_row14_col9\" class=\"data row14 col9\" >1.000000</td>\n",
       "    </tr>\n",
       "  </tbody>\n",
       "</table>\n"
      ],
      "text/plain": [
       "<pandas.io.formats.style.Styler at 0x26fda732b50>"
      ]
     },
     "execution_count": 138,
     "metadata": {},
     "output_type": "execute_result"
    }
   ],
   "source": [
    "top_rest.sort_values(by= 'name', ascending = False).head(15).style.background_gradient('coolwarm')"
   ]
  },
  {
   "cell_type": "code",
   "execution_count": 139,
   "id": "60da6142",
   "metadata": {
    "scrolled": true
   },
   "outputs": [
    {
     "data": {
      "image/png": "[encoded data removed]",
      "text/plain": [
       "<Figure size 2520x720 with 1 Axes>"
      ]
     },
     "metadata": {},
     "output_type": "display_data"
    }
   ],
   "source": [
    "#Lets build plot\n",
    "fig=top_rest.sort_values(by='name',ascending=False).head(15)\\\n",
    ".plot(x='street', figsize=(35,10), rot=30,\n",
    "kind='bar',\n",
    "fontsize = 20, ylim =(0,80))\n",
    "    \n",
    "fig.set_title('Amount most popular ranges of businesses by streets', fontsize = 30)\n",
    "fig.set_ylabel('Amount businesses',fontsize = 20)\n",
    "fig.set_xlabel('Streets',fontsize = 20);\n"
   ]
  },
  {
   "cell_type": "markdown",
   "id": "50a49289",
   "metadata": {},
   "source": [
    "Prospekt Mira is a leader in terms of the count of businesses. also in ranges for cafes, fast foods, coffee shops and restaurants. In Leningradka, pubs and bars are in the lead, perhaps this is how it happened historically :) Canteens are in the lead in 'Varshavka'."
   ]
  },
  {
   "cell_type": "code",
   "execution_count": 140,
   "id": "c2e7c42b",
   "metadata": {},
   "outputs": [],
   "source": [
    "#Let's find streets with one place\n",
    "one_place_street = data.groupby('street')['name'].agg(['count','first']).reset_index().sort_values(by='count')"
   ]
  },
  {
   "cell_type": "code",
   "execution_count": 141,
   "id": "c85ca460",
   "metadata": {},
   "outputs": [],
   "source": [
    "one_place_street.columns = ['street','count','name']"
   ]
  },
  {
   "cell_type": "code",
   "execution_count": 142,
   "id": "d08dbe63",
   "metadata": {
    "scrolled": true
   },
   "outputs": [
    {
     "data": {
      "text/html": [
       "<div>\n",
       "<style scoped>\n",
       "    .dataframe tbody tr th:only-of-type {\n",
       "        vertical-align: middle;\n",
       "    }\n",
       "\n",
       "    .dataframe tbody tr th {\n",
       "        vertical-align: top;\n",
       "    }\n",
       "\n",
       "    .dataframe thead th {\n",
       "        text-align: right;\n",
       "    }\n",
       "</style>\n",
       "<table border=\"1\" class=\"dataframe\">\n",
       "  <thead>\n",
       "    <tr style=\"text-align: right;\">\n",
       "      <th></th>\n",
       "      <th>street</th>\n",
       "      <th>count</th>\n",
       "      <th>name</th>\n",
       "    </tr>\n",
       "  </thead>\n",
       "  <tbody>\n",
       "    <tr>\n",
       "      <th>0</th>\n",
       "      <td>1-й Автозаводский проезд</td>\n",
       "      <td>1</td>\n",
       "      <td>чайхана азия</td>\n",
       "    </tr>\n",
       "    <tr>\n",
       "      <th>914</th>\n",
       "      <td>Тюменский проезд</td>\n",
       "      <td>1</td>\n",
       "      <td>смакбери</td>\n",
       "    </tr>\n",
       "    <tr>\n",
       "      <th>915</th>\n",
       "      <td>Угличская улица</td>\n",
       "      <td>1</td>\n",
       "      <td>coffeekaldi's</td>\n",
       "    </tr>\n",
       "    <tr>\n",
       "      <th>916</th>\n",
       "      <td>Угрешская улица</td>\n",
       "      <td>1</td>\n",
       "      <td>кафе в нии</td>\n",
       "    </tr>\n",
       "    <tr>\n",
       "      <th>922</th>\n",
       "      <td>Уссурийская улица</td>\n",
       "      <td>1</td>\n",
       "      <td>шаверма</td>\n",
       "    </tr>\n",
       "    <tr>\n",
       "      <th>...</th>\n",
       "      <td>...</td>\n",
       "      <td>...</td>\n",
       "      <td>...</td>\n",
       "    </tr>\n",
       "    <tr>\n",
       "      <th>1200</th>\n",
       "      <td>улица Кашёнкин Луг</td>\n",
       "      <td>1</td>\n",
       "      <td>eat&amp;play</td>\n",
       "    </tr>\n",
       "    <tr>\n",
       "      <th>1210</th>\n",
       "      <td>улица Константина Федина</td>\n",
       "      <td>1</td>\n",
       "      <td>алло! пицца</td>\n",
       "    </tr>\n",
       "    <tr>\n",
       "      <th>1218</th>\n",
       "      <td>улица Костякова</td>\n",
       "      <td>1</td>\n",
       "      <td>1 этаж</td>\n",
       "    </tr>\n",
       "    <tr>\n",
       "      <th>169</th>\n",
       "      <td>Анненский проезд</td>\n",
       "      <td>1</td>\n",
       "      <td>столовая в марьиной роще</td>\n",
       "    </tr>\n",
       "    <tr>\n",
       "      <th>1203</th>\n",
       "      <td>улица Кирпичные Выемки</td>\n",
       "      <td>1</td>\n",
       "      <td>чайная</td>\n",
       "    </tr>\n",
       "  </tbody>\n",
       "</table>\n",
       "<p>467 rows × 3 columns</p>\n",
       "</div>"
      ],
      "text/plain": [
       "                        street  count                      name\n",
       "0     1-й Автозаводский проезд      1              чайхана азия\n",
       "914           Тюменский проезд      1                  смакбери\n",
       "915            Угличская улица      1             coffeekaldi's\n",
       "916            Угрешская улица      1                кафе в нии\n",
       "922          Уссурийская улица      1                   шаверма\n",
       "...                        ...    ...                       ...\n",
       "1200        улица Кашёнкин Луг      1                  eat&play\n",
       "1210  улица Константина Федина      1               алло! пицца\n",
       "1218           улица Костякова      1                    1 этаж\n",
       "169           Анненский проезд      1  столовая в марьиной роще\n",
       "1203    улица Кирпичные Выемки      1                    чайная\n",
       "\n",
       "[467 rows x 3 columns]"
      ]
     },
     "execution_count": 142,
     "metadata": {},
     "output_type": "execute_result"
    }
   ],
   "source": [
    "one_place_street = one_place_street[one_place_street['count']==1]\n",
    "one_place_street"
   ]
  },
  {
   "cell_type": "code",
   "execution_count": 143,
   "id": "84be6de5",
   "metadata": {},
   "outputs": [],
   "source": [
    "#Let's make a table for these businesses\n",
    "data = data.merge(one_place_street, on=['street','name'],how= 'left').copy()"
   ]
  },
  {
   "cell_type": "code",
   "execution_count": 144,
   "id": "4148fb09",
   "metadata": {},
   "outputs": [
    {
     "data": {
      "text/plain": [
       "category\n",
       "кафе               150\n",
       "ресторан            94\n",
       "кофейня             91\n",
       "бар,паб             40\n",
       "столовая            39\n",
       "быстрое питание     28\n",
       "пиццерия            15\n",
       "булочная            10\n",
       "Name: name, dtype: int64"
      ]
     },
     "execution_count": 144,
     "metadata": {},
     "output_type": "execute_result"
    }
   ],
   "source": [
    "data[data['count']==1].groupby('category')['name'].count().sort_values(ascending=False)"
   ]
  },
  {
   "cell_type": "code",
   "execution_count": 145,
   "id": "677e0a0d",
   "metadata": {},
   "outputs": [
    {
     "data": {
      "text/html": [
       "<div>\n",
       "<style scoped>\n",
       "    .dataframe tbody tr th:only-of-type {\n",
       "        vertical-align: middle;\n",
       "    }\n",
       "\n",
       "    .dataframe tbody tr th {\n",
       "        vertical-align: top;\n",
       "    }\n",
       "\n",
       "    .dataframe thead tr th {\n",
       "        text-align: left;\n",
       "    }\n",
       "\n",
       "    .dataframe thead tr:last-of-type th {\n",
       "        text-align: right;\n",
       "    }\n",
       "</style>\n",
       "<table border=\"1\" class=\"dataframe\">\n",
       "  <thead>\n",
       "    <tr>\n",
       "      <th></th>\n",
       "      <th>name</th>\n",
       "      <th colspan=\"2\" halign=\"left\">middle_avg_bill</th>\n",
       "    </tr>\n",
       "    <tr>\n",
       "      <th></th>\n",
       "      <th>count</th>\n",
       "      <th>mean</th>\n",
       "      <th>median</th>\n",
       "    </tr>\n",
       "    <tr>\n",
       "      <th>category</th>\n",
       "      <th></th>\n",
       "      <th></th>\n",
       "      <th></th>\n",
       "    </tr>\n",
       "  </thead>\n",
       "  <tbody>\n",
       "    <tr>\n",
       "      <th>бар,паб</th>\n",
       "      <td>17</td>\n",
       "      <td>1279.411765</td>\n",
       "      <td>1250.0</td>\n",
       "    </tr>\n",
       "    <tr>\n",
       "      <th>быстрое питание</th>\n",
       "      <td>10</td>\n",
       "      <td>657.500000</td>\n",
       "      <td>450.0</td>\n",
       "    </tr>\n",
       "    <tr>\n",
       "      <th>кафе</th>\n",
       "      <td>50</td>\n",
       "      <td>640.640000</td>\n",
       "      <td>500.0</td>\n",
       "    </tr>\n",
       "    <tr>\n",
       "      <th>кофейня</th>\n",
       "      <td>16</td>\n",
       "      <td>587.500000</td>\n",
       "      <td>487.5</td>\n",
       "    </tr>\n",
       "    <tr>\n",
       "      <th>пиццерия</th>\n",
       "      <td>11</td>\n",
       "      <td>732.272727</td>\n",
       "      <td>600.0</td>\n",
       "    </tr>\n",
       "    <tr>\n",
       "      <th>ресторан</th>\n",
       "      <td>41</td>\n",
       "      <td>1395.121951</td>\n",
       "      <td>1250.0</td>\n",
       "    </tr>\n",
       "    <tr>\n",
       "      <th>столовая</th>\n",
       "      <td>25</td>\n",
       "      <td>279.800000</td>\n",
       "      <td>270.0</td>\n",
       "    </tr>\n",
       "  </tbody>\n",
       "</table>\n",
       "</div>"
      ],
      "text/plain": [
       "                 name middle_avg_bill        \n",
       "                count            mean  median\n",
       "category                                     \n",
       "бар,паб            17     1279.411765  1250.0\n",
       "быстрое питание    10      657.500000   450.0\n",
       "кафе               50      640.640000   500.0\n",
       "кофейня            16      587.500000   487.5\n",
       "пиццерия           11      732.272727   600.0\n",
       "ресторан           41     1395.121951  1250.0\n",
       "столовая           25      279.800000   270.0"
      ]
     },
     "execution_count": 145,
     "metadata": {},
     "output_type": "execute_result"
    }
   ],
   "source": [
    "#Lets make a table for average bills by category of these businesses\n",
    "data[(data['count']==1)&(data['middle_avg_bill']!=555)].groupby('category').agg({'name':'count', 'middle_avg_bill':['mean','median'] })\n"
   ]
  },
  {
   "cell_type": "code",
   "execution_count": 146,
   "id": "3e5446ae",
   "metadata": {},
   "outputs": [
    {
     "data": {
      "text/plain": [
       "district\n",
       "Восточный административный округ            59\n",
       "Западный административный округ             39\n",
       "Северный административный округ             60\n",
       "Северо-Восточный административный округ     56\n",
       "Северо-Западный административный округ      19\n",
       "Центральный административный округ         140\n",
       "Юго-Восточный административный округ        37\n",
       "Юго-Западный административный округ         17\n",
       "Южный административный округ                40\n",
       "Name: name, dtype: int64"
      ]
     },
     "execution_count": 146,
     "metadata": {},
     "output_type": "execute_result"
    }
   ],
   "source": [
    "#group by districts\n",
    "one_place_dist = data[data['count']==1].groupby('district')['name'].count()\n",
    "one_place_dist"
   ]
  },
  {
   "cell_type": "code",
   "execution_count": 147,
   "id": "3079ca71",
   "metadata": {
    "scrolled": true
   },
   "outputs": [
    {
     "data": {
      "text/html": [
       "<style type=\"text/css\">\n",
       "#T_d9d84_row0_col1, #T_d9d84_row2_col1, #T_d9d84_row3_col1 {\n",
       "  background-color: #485fd1;\n",
       "  color: #f1f1f1;\n",
       "}\n",
       "#T_d9d84_row0_col2, #T_d9d84_row3_col2, #T_d9d84_row4_col2, #T_d9d84_row4_col6, #T_d9d84_row7_col6, #T_d9d84_row8_col1 {\n",
       "  background-color: #000000;\n",
       "  color: #f1f1f1;\n",
       "}\n",
       "#T_d9d84_row0_col3, #T_d9d84_row0_col6, #T_d9d84_row2_col2, #T_d9d84_row3_col8, #T_d9d84_row5_col1, #T_d9d84_row5_col4, #T_d9d84_row5_col5, #T_d9d84_row5_col7 {\n",
       "  background-color: #b40426;\n",
       "  color: #f1f1f1;\n",
       "}\n",
       "#T_d9d84_row0_col4, #T_d9d84_row2_col4 {\n",
       "  background-color: #efcfbf;\n",
       "  color: #000000;\n",
       "}\n",
       "#T_d9d84_row0_col5 {\n",
       "  background-color: #799cf8;\n",
       "  color: #f1f1f1;\n",
       "}\n",
       "#T_d9d84_row0_col7, #T_d9d84_row8_col7 {\n",
       "  background-color: #779af7;\n",
       "  color: #f1f1f1;\n",
       "}\n",
       "#T_d9d84_row0_col8 {\n",
       "  background-color: #f7a889;\n",
       "  color: #000000;\n",
       "}\n",
       "#T_d9d84_row1_col1 {\n",
       "  background-color: #6485ec;\n",
       "  color: #f1f1f1;\n",
       "}\n",
       "#T_d9d84_row1_col2, #T_d9d84_row5_col2, #T_d9d84_row5_col3 {\n",
       "  background-color: #dddcdc;\n",
       "  color: #000000;\n",
       "}\n",
       "#T_d9d84_row1_col3, #T_d9d84_row7_col3 {\n",
       "  background-color: #aac7fd;\n",
       "  color: #000000;\n",
       "}\n",
       "#T_d9d84_row1_col4, #T_d9d84_row3_col4, #T_d9d84_row6_col4 {\n",
       "  background-color: #a6c4fe;\n",
       "  color: #000000;\n",
       "}\n",
       "#T_d9d84_row1_col5, #T_d9d84_row1_col8, #T_d9d84_row2_col3, #T_d9d84_row2_col6, #T_d9d84_row4_col1, #T_d9d84_row4_col3, #T_d9d84_row4_col4, #T_d9d84_row4_col5, #T_d9d84_row6_col2, #T_d9d84_row6_col6, #T_d9d84_row7_col1, #T_d9d84_row7_col2, #T_d9d84_row7_col7, #T_d9d84_row7_col8, #T_d9d84_row8_col2, #T_d9d84_row8_col6 {\n",
       "  background-color: #3b4cc0;\n",
       "  color: #f1f1f1;\n",
       "}\n",
       "#T_d9d84_row1_col6, #T_d9d84_row3_col6, #T_d9d84_row5_col6 {\n",
       "  background-color: #7b9ff9;\n",
       "  color: #f1f1f1;\n",
       "}\n",
       "#T_d9d84_row1_col7 {\n",
       "  background-color: #98b9ff;\n",
       "  color: #000000;\n",
       "}\n",
       "#T_d9d84_row2_col5 {\n",
       "  background-color: #c6d6f1;\n",
       "  color: #000000;\n",
       "}\n",
       "#T_d9d84_row2_col7, #T_d9d84_row4_col7 {\n",
       "  background-color: #82a6fb;\n",
       "  color: #f1f1f1;\n",
       "}\n",
       "#T_d9d84_row2_col8, #T_d9d84_row5_col8 {\n",
       "  background-color: #e26952;\n",
       "  color: #f1f1f1;\n",
       "}\n",
       "#T_d9d84_row3_col3 {\n",
       "  background-color: #f7b89c;\n",
       "  color: #000000;\n",
       "}\n",
       "#T_d9d84_row3_col5 {\n",
       "  background-color: #84a7fc;\n",
       "  color: #f1f1f1;\n",
       "}\n",
       "#T_d9d84_row3_col7 {\n",
       "  background-color: #ccd9ed;\n",
       "  color: #000000;\n",
       "}\n",
       "#T_d9d84_row4_col8, #T_d9d84_row6_col8 {\n",
       "  background-color: #6788ee;\n",
       "  color: #f1f1f1;\n",
       "}\n",
       "#T_d9d84_row6_col1 {\n",
       "  background-color: #7597f6;\n",
       "  color: #f1f1f1;\n",
       "}\n",
       "#T_d9d84_row6_col3, #T_d9d84_row8_col3 {\n",
       "  background-color: #6f92f3;\n",
       "  color: #f1f1f1;\n",
       "}\n",
       "#T_d9d84_row6_col5 {\n",
       "  background-color: #6384eb;\n",
       "  color: #f1f1f1;\n",
       "}\n",
       "#T_d9d84_row6_col7 {\n",
       "  background-color: #6282ea;\n",
       "  color: #f1f1f1;\n",
       "}\n",
       "#T_d9d84_row7_col4, #T_d9d84_row8_col5 {\n",
       "  background-color: #4e68d8;\n",
       "  color: #f1f1f1;\n",
       "}\n",
       "#T_d9d84_row7_col5 {\n",
       "  background-color: #445acc;\n",
       "  color: #f1f1f1;\n",
       "}\n",
       "#T_d9d84_row8_col4 {\n",
       "  background-color: #d8dce2;\n",
       "  color: #000000;\n",
       "}\n",
       "#T_d9d84_row8_col8 {\n",
       "  background-color: #edd1c2;\n",
       "  color: #000000;\n",
       "}\n",
       "</style>\n",
       "<table id=\"T_d9d84\">\n",
       "  <thead>\n",
       "    <tr>\n",
       "      <th class=\"index_name level0\" >category</th>\n",
       "      <th id=\"T_d9d84_level0_col0\" class=\"col_heading level0 col0\" >district</th>\n",
       "      <th id=\"T_d9d84_level0_col1\" class=\"col_heading level0 col1\" >бар,паб</th>\n",
       "      <th id=\"T_d9d84_level0_col2\" class=\"col_heading level0 col2\" >булочная</th>\n",
       "      <th id=\"T_d9d84_level0_col3\" class=\"col_heading level0 col3\" >быстрое питание</th>\n",
       "      <th id=\"T_d9d84_level0_col4\" class=\"col_heading level0 col4\" >кафе</th>\n",
       "      <th id=\"T_d9d84_level0_col5\" class=\"col_heading level0 col5\" >кофейня</th>\n",
       "      <th id=\"T_d9d84_level0_col6\" class=\"col_heading level0 col6\" >пиццерия</th>\n",
       "      <th id=\"T_d9d84_level0_col7\" class=\"col_heading level0 col7\" >ресторан</th>\n",
       "      <th id=\"T_d9d84_level0_col8\" class=\"col_heading level0 col8\" >столовая</th>\n",
       "    </tr>\n",
       "  </thead>\n",
       "  <tbody>\n",
       "    <tr>\n",
       "      <th id=\"T_d9d84_level0_row0\" class=\"row_heading level0 row0\" >0</th>\n",
       "      <td id=\"T_d9d84_row0_col0\" class=\"data row0 col0\" >Восточный административный округ</td>\n",
       "      <td id=\"T_d9d84_row0_col1\" class=\"data row0 col1\" >2.000000</td>\n",
       "      <td id=\"T_d9d84_row0_col2\" class=\"data row0 col2\" >nan</td>\n",
       "      <td id=\"T_d9d84_row0_col3\" class=\"data row0 col3\" >7.000000</td>\n",
       "      <td id=\"T_d9d84_row0_col4\" class=\"data row0 col4\" >22.000000</td>\n",
       "      <td id=\"T_d9d84_row0_col5\" class=\"data row0 col5\" >9.000000</td>\n",
       "      <td id=\"T_d9d84_row0_col6\" class=\"data row0 col6\" >6.000000</td>\n",
       "      <td id=\"T_d9d84_row0_col7\" class=\"data row0 col7\" >7.000000</td>\n",
       "      <td id=\"T_d9d84_row0_col8\" class=\"data row0 col8\" >6.000000</td>\n",
       "    </tr>\n",
       "    <tr>\n",
       "      <th id=\"T_d9d84_level0_row1\" class=\"row_heading level0 row1\" >1</th>\n",
       "      <td id=\"T_d9d84_row1_col0\" class=\"data row1 col0\" >Западный административный округ</td>\n",
       "      <td id=\"T_d9d84_row1_col1\" class=\"data row1 col1\" >4.000000</td>\n",
       "      <td id=\"T_d9d84_row1_col2\" class=\"data row1 col2\" >2.000000</td>\n",
       "      <td id=\"T_d9d84_row1_col3\" class=\"data row1 col3\" >3.000000</td>\n",
       "      <td id=\"T_d9d84_row1_col4\" class=\"data row1 col4\" >14.000000</td>\n",
       "      <td id=\"T_d9d84_row1_col5\" class=\"data row1 col5\" >3.000000</td>\n",
       "      <td id=\"T_d9d84_row1_col6\" class=\"data row1 col6\" >2.000000</td>\n",
       "      <td id=\"T_d9d84_row1_col7\" class=\"data row1 col7\" >10.000000</td>\n",
       "      <td id=\"T_d9d84_row1_col8\" class=\"data row1 col8\" >1.000000</td>\n",
       "    </tr>\n",
       "    <tr>\n",
       "      <th id=\"T_d9d84_level0_row2\" class=\"row_heading level0 row2\" >2</th>\n",
       "      <td id=\"T_d9d84_row2_col0\" class=\"data row2 col0\" >Северный административный округ</td>\n",
       "      <td id=\"T_d9d84_row2_col1\" class=\"data row2 col1\" >2.000000</td>\n",
       "      <td id=\"T_d9d84_row2_col2\" class=\"data row2 col2\" >3.000000</td>\n",
       "      <td id=\"T_d9d84_row2_col3\" class=\"data row2 col3\" >1.000000</td>\n",
       "      <td id=\"T_d9d84_row2_col4\" class=\"data row2 col4\" >22.000000</td>\n",
       "      <td id=\"T_d9d84_row2_col5\" class=\"data row2 col5\" >16.000000</td>\n",
       "      <td id=\"T_d9d84_row2_col6\" class=\"data row2 col6\" >1.000000</td>\n",
       "      <td id=\"T_d9d84_row2_col7\" class=\"data row2 col7\" >8.000000</td>\n",
       "      <td id=\"T_d9d84_row2_col8\" class=\"data row2 col8\" >7.000000</td>\n",
       "    </tr>\n",
       "    <tr>\n",
       "      <th id=\"T_d9d84_level0_row3\" class=\"row_heading level0 row3\" >3</th>\n",
       "      <td id=\"T_d9d84_row3_col0\" class=\"data row3 col0\" >Северо-Восточный административный округ</td>\n",
       "      <td id=\"T_d9d84_row3_col1\" class=\"data row3 col1\" >2.000000</td>\n",
       "      <td id=\"T_d9d84_row3_col2\" class=\"data row3 col2\" >nan</td>\n",
       "      <td id=\"T_d9d84_row3_col3\" class=\"data row3 col3\" >5.000000</td>\n",
       "      <td id=\"T_d9d84_row3_col4\" class=\"data row3 col4\" >14.000000</td>\n",
       "      <td id=\"T_d9d84_row3_col5\" class=\"data row3 col5\" >10.000000</td>\n",
       "      <td id=\"T_d9d84_row3_col6\" class=\"data row3 col6\" >2.000000</td>\n",
       "      <td id=\"T_d9d84_row3_col7\" class=\"data row3 col7\" >15.000000</td>\n",
       "      <td id=\"T_d9d84_row3_col8\" class=\"data row3 col8\" >8.000000</td>\n",
       "    </tr>\n",
       "    <tr>\n",
       "      <th id=\"T_d9d84_level0_row4\" class=\"row_heading level0 row4\" >4</th>\n",
       "      <td id=\"T_d9d84_row4_col0\" class=\"data row4 col0\" >Северо-Западный административный округ</td>\n",
       "      <td id=\"T_d9d84_row4_col1\" class=\"data row4 col1\" >1.000000</td>\n",
       "      <td id=\"T_d9d84_row4_col2\" class=\"data row4 col2\" >nan</td>\n",
       "      <td id=\"T_d9d84_row4_col3\" class=\"data row4 col3\" >1.000000</td>\n",
       "      <td id=\"T_d9d84_row4_col4\" class=\"data row4 col4\" >4.000000</td>\n",
       "      <td id=\"T_d9d84_row4_col5\" class=\"data row4 col5\" >3.000000</td>\n",
       "      <td id=\"T_d9d84_row4_col6\" class=\"data row4 col6\" >nan</td>\n",
       "      <td id=\"T_d9d84_row4_col7\" class=\"data row4 col7\" >8.000000</td>\n",
       "      <td id=\"T_d9d84_row4_col8\" class=\"data row4 col8\" >2.000000</td>\n",
       "    </tr>\n",
       "    <tr>\n",
       "      <th id=\"T_d9d84_level0_row5\" class=\"row_heading level0 row5\" >5</th>\n",
       "      <td id=\"T_d9d84_row5_col0\" class=\"data row5 col0\" >Центральный административный округ</td>\n",
       "      <td id=\"T_d9d84_row5_col1\" class=\"data row5 col1\" >23.000000</td>\n",
       "      <td id=\"T_d9d84_row5_col2\" class=\"data row5 col2\" >2.000000</td>\n",
       "      <td id=\"T_d9d84_row5_col3\" class=\"data row5 col3\" >4.000000</td>\n",
       "      <td id=\"T_d9d84_row5_col4\" class=\"data row5 col4\" >35.000000</td>\n",
       "      <td id=\"T_d9d84_row5_col5\" class=\"data row5 col5\" >34.000000</td>\n",
       "      <td id=\"T_d9d84_row5_col6\" class=\"data row5 col6\" >2.000000</td>\n",
       "      <td id=\"T_d9d84_row5_col7\" class=\"data row5 col7\" >33.000000</td>\n",
       "      <td id=\"T_d9d84_row5_col8\" class=\"data row5 col8\" >7.000000</td>\n",
       "    </tr>\n",
       "    <tr>\n",
       "      <th id=\"T_d9d84_level0_row6\" class=\"row_heading level0 row6\" >6</th>\n",
       "      <td id=\"T_d9d84_row6_col0\" class=\"data row6 col0\" >Юго-Восточный административный округ</td>\n",
       "      <td id=\"T_d9d84_row6_col1\" class=\"data row6 col1\" >5.000000</td>\n",
       "      <td id=\"T_d9d84_row6_col2\" class=\"data row6 col2\" >1.000000</td>\n",
       "      <td id=\"T_d9d84_row6_col3\" class=\"data row6 col3\" >2.000000</td>\n",
       "      <td id=\"T_d9d84_row6_col4\" class=\"data row6 col4\" >14.000000</td>\n",
       "      <td id=\"T_d9d84_row6_col5\" class=\"data row6 col5\" >7.000000</td>\n",
       "      <td id=\"T_d9d84_row6_col6\" class=\"data row6 col6\" >1.000000</td>\n",
       "      <td id=\"T_d9d84_row6_col7\" class=\"data row6 col7\" >5.000000</td>\n",
       "      <td id=\"T_d9d84_row6_col8\" class=\"data row6 col8\" >2.000000</td>\n",
       "    </tr>\n",
       "    <tr>\n",
       "      <th id=\"T_d9d84_level0_row7\" class=\"row_heading level0 row7\" >7</th>\n",
       "      <td id=\"T_d9d84_row7_col0\" class=\"data row7 col0\" >Юго-Западный административный округ</td>\n",
       "      <td id=\"T_d9d84_row7_col1\" class=\"data row7 col1\" >1.000000</td>\n",
       "      <td id=\"T_d9d84_row7_col2\" class=\"data row7 col2\" >1.000000</td>\n",
       "      <td id=\"T_d9d84_row7_col3\" class=\"data row7 col3\" >3.000000</td>\n",
       "      <td id=\"T_d9d84_row7_col4\" class=\"data row7 col4\" >6.000000</td>\n",
       "      <td id=\"T_d9d84_row7_col5\" class=\"data row7 col5\" >4.000000</td>\n",
       "      <td id=\"T_d9d84_row7_col6\" class=\"data row7 col6\" >nan</td>\n",
       "      <td id=\"T_d9d84_row7_col7\" class=\"data row7 col7\" >1.000000</td>\n",
       "      <td id=\"T_d9d84_row7_col8\" class=\"data row7 col8\" >1.000000</td>\n",
       "    </tr>\n",
       "    <tr>\n",
       "      <th id=\"T_d9d84_level0_row8\" class=\"row_heading level0 row8\" >8</th>\n",
       "      <td id=\"T_d9d84_row8_col0\" class=\"data row8 col0\" >Южный административный округ</td>\n",
       "      <td id=\"T_d9d84_row8_col1\" class=\"data row8 col1\" >nan</td>\n",
       "      <td id=\"T_d9d84_row8_col2\" class=\"data row8 col2\" >1.000000</td>\n",
       "      <td id=\"T_d9d84_row8_col3\" class=\"data row8 col3\" >2.000000</td>\n",
       "      <td id=\"T_d9d84_row8_col4\" class=\"data row8 col4\" >19.000000</td>\n",
       "      <td id=\"T_d9d84_row8_col5\" class=\"data row8 col5\" >5.000000</td>\n",
       "      <td id=\"T_d9d84_row8_col6\" class=\"data row8 col6\" >1.000000</td>\n",
       "      <td id=\"T_d9d84_row8_col7\" class=\"data row8 col7\" >7.000000</td>\n",
       "      <td id=\"T_d9d84_row8_col8\" class=\"data row8 col8\" >5.000000</td>\n",
       "    </tr>\n",
       "  </tbody>\n",
       "</table>\n"
      ],
      "text/plain": [
       "<pandas.io.formats.style.Styler at 0x26fdef31340>"
      ]
     },
     "execution_count": 147,
     "metadata": {},
     "output_type": "execute_result"
    }
   ],
   "source": [
    "one_place_cat = data[data['count']==1].pivot_table(index='district', columns='category', values='name',aggfunc='count').reset_index()\n",
    "one_place_cat.style.background_gradient('coolwarm')"
   ]
  },
  {
   "cell_type": "code",
   "execution_count": 148,
   "id": "4105ccef",
   "metadata": {},
   "outputs": [
    {
     "data": {
      "text/html": [
       "<style type=\"text/css\">\n",
       "#T_36f90_row0_col1, #T_36f90_row0_col4, #T_36f90_row0_col5, #T_36f90_row0_col7, #T_36f90_row0_col9, #T_36f90_row1_col2, #T_36f90_row2_col3, #T_36f90_row2_col6, #T_36f90_row3_col8 {\n",
       "  background-color: #b40426;\n",
       "  color: #f1f1f1;\n",
       "}\n",
       "#T_36f90_row0_col2, #T_36f90_row0_col3, #T_36f90_row5_col2 {\n",
       "  background-color: #dddcdc;\n",
       "  color: #000000;\n",
       "}\n",
       "#T_36f90_row0_col6, #T_36f90_row3_col6, #T_36f90_row5_col6 {\n",
       "  background-color: #7b9ff9;\n",
       "  color: #f1f1f1;\n",
       "}\n",
       "#T_36f90_row0_col8, #T_36f90_row1_col8 {\n",
       "  background-color: #e26952;\n",
       "  color: #f1f1f1;\n",
       "}\n",
       "#T_36f90_row1_col1, #T_36f90_row2_col1, #T_36f90_row3_col1 {\n",
       "  background-color: #485fd1;\n",
       "  color: #f1f1f1;\n",
       "}\n",
       "#T_36f90_row1_col3, #T_36f90_row1_col6, #T_36f90_row4_col2, #T_36f90_row4_col6, #T_36f90_row5_col5, #T_36f90_row5_col8, #T_36f90_row6_col2, #T_36f90_row6_col6, #T_36f90_row7_col1, #T_36f90_row7_col3, #T_36f90_row7_col4, #T_36f90_row7_col5, #T_36f90_row8_col1, #T_36f90_row8_col2, #T_36f90_row8_col7, #T_36f90_row8_col8, #T_36f90_row8_col9 {\n",
       "  background-color: #3b4cc0;\n",
       "  color: #f1f1f1;\n",
       "}\n",
       "#T_36f90_row1_col4, #T_36f90_row2_col4 {\n",
       "  background-color: #efcfbf;\n",
       "  color: #000000;\n",
       "}\n",
       "#T_36f90_row1_col5 {\n",
       "  background-color: #c6d6f1;\n",
       "  color: #000000;\n",
       "}\n",
       "#T_36f90_row1_col7, #T_36f90_row7_col7 {\n",
       "  background-color: #82a6fb;\n",
       "  color: #f1f1f1;\n",
       "}\n",
       "#T_36f90_row1_col9 {\n",
       "  background-color: #afcafc;\n",
       "  color: #000000;\n",
       "}\n",
       "#T_36f90_row2_col2, #T_36f90_row3_col2, #T_36f90_row4_col1, #T_36f90_row7_col2, #T_36f90_row7_col6, #T_36f90_row8_col6 {\n",
       "  background-color: #000000;\n",
       "  color: #f1f1f1;\n",
       "}\n",
       "#T_36f90_row2_col5 {\n",
       "  background-color: #799cf8;\n",
       "  color: #f1f1f1;\n",
       "}\n",
       "#T_36f90_row2_col7, #T_36f90_row4_col7 {\n",
       "  background-color: #779af7;\n",
       "  color: #f1f1f1;\n",
       "}\n",
       "#T_36f90_row2_col8 {\n",
       "  background-color: #f7a889;\n",
       "  color: #000000;\n",
       "}\n",
       "#T_36f90_row2_col9 {\n",
       "  background-color: #adc9fd;\n",
       "  color: #000000;\n",
       "}\n",
       "#T_36f90_row3_col3 {\n",
       "  background-color: #f7b89c;\n",
       "  color: #000000;\n",
       "}\n",
       "#T_36f90_row3_col4, #T_36f90_row5_col4, #T_36f90_row6_col4 {\n",
       "  background-color: #a6c4fe;\n",
       "  color: #000000;\n",
       "}\n",
       "#T_36f90_row3_col5 {\n",
       "  background-color: #84a7fc;\n",
       "  color: #f1f1f1;\n",
       "}\n",
       "#T_36f90_row3_col7 {\n",
       "  background-color: #ccd9ed;\n",
       "  color: #000000;\n",
       "}\n",
       "#T_36f90_row3_col9 {\n",
       "  background-color: #a5c3fe;\n",
       "  color: #000000;\n",
       "}\n",
       "#T_36f90_row4_col3, #T_36f90_row6_col3 {\n",
       "  background-color: #6f92f3;\n",
       "  color: #f1f1f1;\n",
       "}\n",
       "#T_36f90_row4_col4 {\n",
       "  background-color: #d8dce2;\n",
       "  color: #000000;\n",
       "}\n",
       "#T_36f90_row4_col5, #T_36f90_row8_col4 {\n",
       "  background-color: #4e68d8;\n",
       "  color: #f1f1f1;\n",
       "}\n",
       "#T_36f90_row4_col8 {\n",
       "  background-color: #edd1c2;\n",
       "  color: #000000;\n",
       "}\n",
       "#T_36f90_row4_col9 {\n",
       "  background-color: #7699f6;\n",
       "  color: #f1f1f1;\n",
       "}\n",
       "#T_36f90_row5_col1 {\n",
       "  background-color: #6485ec;\n",
       "  color: #f1f1f1;\n",
       "}\n",
       "#T_36f90_row5_col3, #T_36f90_row8_col3 {\n",
       "  background-color: #aac7fd;\n",
       "  color: #000000;\n",
       "}\n",
       "#T_36f90_row5_col7 {\n",
       "  background-color: #98b9ff;\n",
       "  color: #000000;\n",
       "}\n",
       "#T_36f90_row5_col9 {\n",
       "  background-color: #7396f5;\n",
       "  color: #f1f1f1;\n",
       "}\n",
       "#T_36f90_row6_col1 {\n",
       "  background-color: #7597f6;\n",
       "  color: #f1f1f1;\n",
       "}\n",
       "#T_36f90_row6_col5 {\n",
       "  background-color: #6384eb;\n",
       "  color: #f1f1f1;\n",
       "}\n",
       "#T_36f90_row6_col7 {\n",
       "  background-color: #6282ea;\n",
       "  color: #f1f1f1;\n",
       "}\n",
       "#T_36f90_row6_col8, #T_36f90_row7_col8 {\n",
       "  background-color: #6788ee;\n",
       "  color: #f1f1f1;\n",
       "}\n",
       "#T_36f90_row6_col9 {\n",
       "  background-color: #6e90f2;\n",
       "  color: #f1f1f1;\n",
       "}\n",
       "#T_36f90_row7_col9 {\n",
       "  background-color: #3f53c6;\n",
       "  color: #f1f1f1;\n",
       "}\n",
       "#T_36f90_row8_col5 {\n",
       "  background-color: #445acc;\n",
       "  color: #f1f1f1;\n",
       "}\n",
       "</style>\n",
       "<table id=\"T_36f90\">\n",
       "  <thead>\n",
       "    <tr>\n",
       "      <th class=\"blank level0\" >&nbsp;</th>\n",
       "      <th id=\"T_36f90_level0_col0\" class=\"col_heading level0 col0\" >district</th>\n",
       "      <th id=\"T_36f90_level0_col1\" class=\"col_heading level0 col1\" >бар,паб</th>\n",
       "      <th id=\"T_36f90_level0_col2\" class=\"col_heading level0 col2\" >булочная</th>\n",
       "      <th id=\"T_36f90_level0_col3\" class=\"col_heading level0 col3\" >быстрое питание</th>\n",
       "      <th id=\"T_36f90_level0_col4\" class=\"col_heading level0 col4\" >кафе</th>\n",
       "      <th id=\"T_36f90_level0_col5\" class=\"col_heading level0 col5\" >кофейня</th>\n",
       "      <th id=\"T_36f90_level0_col6\" class=\"col_heading level0 col6\" >пиццерия</th>\n",
       "      <th id=\"T_36f90_level0_col7\" class=\"col_heading level0 col7\" >ресторан</th>\n",
       "      <th id=\"T_36f90_level0_col8\" class=\"col_heading level0 col8\" >столовая</th>\n",
       "      <th id=\"T_36f90_level0_col9\" class=\"col_heading level0 col9\" >total</th>\n",
       "    </tr>\n",
       "  </thead>\n",
       "  <tbody>\n",
       "    <tr>\n",
       "      <th id=\"T_36f90_level0_row0\" class=\"row_heading level0 row0\" >5</th>\n",
       "      <td id=\"T_36f90_row0_col0\" class=\"data row0 col0\" >Центральный административный округ</td>\n",
       "      <td id=\"T_36f90_row0_col1\" class=\"data row0 col1\" >23.000000</td>\n",
       "      <td id=\"T_36f90_row0_col2\" class=\"data row0 col2\" >2.000000</td>\n",
       "      <td id=\"T_36f90_row0_col3\" class=\"data row0 col3\" >4.000000</td>\n",
       "      <td id=\"T_36f90_row0_col4\" class=\"data row0 col4\" >35.000000</td>\n",
       "      <td id=\"T_36f90_row0_col5\" class=\"data row0 col5\" >34.000000</td>\n",
       "      <td id=\"T_36f90_row0_col6\" class=\"data row0 col6\" >2.000000</td>\n",
       "      <td id=\"T_36f90_row0_col7\" class=\"data row0 col7\" >33.000000</td>\n",
       "      <td id=\"T_36f90_row0_col8\" class=\"data row0 col8\" >7.000000</td>\n",
       "      <td id=\"T_36f90_row0_col9\" class=\"data row0 col9\" >140</td>\n",
       "    </tr>\n",
       "    <tr>\n",
       "      <th id=\"T_36f90_level0_row1\" class=\"row_heading level0 row1\" >2</th>\n",
       "      <td id=\"T_36f90_row1_col0\" class=\"data row1 col0\" >Северный административный округ</td>\n",
       "      <td id=\"T_36f90_row1_col1\" class=\"data row1 col1\" >2.000000</td>\n",
       "      <td id=\"T_36f90_row1_col2\" class=\"data row1 col2\" >3.000000</td>\n",
       "      <td id=\"T_36f90_row1_col3\" class=\"data row1 col3\" >1.000000</td>\n",
       "      <td id=\"T_36f90_row1_col4\" class=\"data row1 col4\" >22.000000</td>\n",
       "      <td id=\"T_36f90_row1_col5\" class=\"data row1 col5\" >16.000000</td>\n",
       "      <td id=\"T_36f90_row1_col6\" class=\"data row1 col6\" >1.000000</td>\n",
       "      <td id=\"T_36f90_row1_col7\" class=\"data row1 col7\" >8.000000</td>\n",
       "      <td id=\"T_36f90_row1_col8\" class=\"data row1 col8\" >7.000000</td>\n",
       "      <td id=\"T_36f90_row1_col9\" class=\"data row1 col9\" >60</td>\n",
       "    </tr>\n",
       "    <tr>\n",
       "      <th id=\"T_36f90_level0_row2\" class=\"row_heading level0 row2\" >0</th>\n",
       "      <td id=\"T_36f90_row2_col0\" class=\"data row2 col0\" >Восточный административный округ</td>\n",
       "      <td id=\"T_36f90_row2_col1\" class=\"data row2 col1\" >2.000000</td>\n",
       "      <td id=\"T_36f90_row2_col2\" class=\"data row2 col2\" >nan</td>\n",
       "      <td id=\"T_36f90_row2_col3\" class=\"data row2 col3\" >7.000000</td>\n",
       "      <td id=\"T_36f90_row2_col4\" class=\"data row2 col4\" >22.000000</td>\n",
       "      <td id=\"T_36f90_row2_col5\" class=\"data row2 col5\" >9.000000</td>\n",
       "      <td id=\"T_36f90_row2_col6\" class=\"data row2 col6\" >6.000000</td>\n",
       "      <td id=\"T_36f90_row2_col7\" class=\"data row2 col7\" >7.000000</td>\n",
       "      <td id=\"T_36f90_row2_col8\" class=\"data row2 col8\" >6.000000</td>\n",
       "      <td id=\"T_36f90_row2_col9\" class=\"data row2 col9\" >59</td>\n",
       "    </tr>\n",
       "    <tr>\n",
       "      <th id=\"T_36f90_level0_row3\" class=\"row_heading level0 row3\" >3</th>\n",
       "      <td id=\"T_36f90_row3_col0\" class=\"data row3 col0\" >Северо-Восточный административный округ</td>\n",
       "      <td id=\"T_36f90_row3_col1\" class=\"data row3 col1\" >2.000000</td>\n",
       "      <td id=\"T_36f90_row3_col2\" class=\"data row3 col2\" >nan</td>\n",
       "      <td id=\"T_36f90_row3_col3\" class=\"data row3 col3\" >5.000000</td>\n",
       "      <td id=\"T_36f90_row3_col4\" class=\"data row3 col4\" >14.000000</td>\n",
       "      <td id=\"T_36f90_row3_col5\" class=\"data row3 col5\" >10.000000</td>\n",
       "      <td id=\"T_36f90_row3_col6\" class=\"data row3 col6\" >2.000000</td>\n",
       "      <td id=\"T_36f90_row3_col7\" class=\"data row3 col7\" >15.000000</td>\n",
       "      <td id=\"T_36f90_row3_col8\" class=\"data row3 col8\" >8.000000</td>\n",
       "      <td id=\"T_36f90_row3_col9\" class=\"data row3 col9\" >56</td>\n",
       "    </tr>\n",
       "    <tr>\n",
       "      <th id=\"T_36f90_level0_row4\" class=\"row_heading level0 row4\" >8</th>\n",
       "      <td id=\"T_36f90_row4_col0\" class=\"data row4 col0\" >Южный административный округ</td>\n",
       "      <td id=\"T_36f90_row4_col1\" class=\"data row4 col1\" >nan</td>\n",
       "      <td id=\"T_36f90_row4_col2\" class=\"data row4 col2\" >1.000000</td>\n",
       "      <td id=\"T_36f90_row4_col3\" class=\"data row4 col3\" >2.000000</td>\n",
       "      <td id=\"T_36f90_row4_col4\" class=\"data row4 col4\" >19.000000</td>\n",
       "      <td id=\"T_36f90_row4_col5\" class=\"data row4 col5\" >5.000000</td>\n",
       "      <td id=\"T_36f90_row4_col6\" class=\"data row4 col6\" >1.000000</td>\n",
       "      <td id=\"T_36f90_row4_col7\" class=\"data row4 col7\" >7.000000</td>\n",
       "      <td id=\"T_36f90_row4_col8\" class=\"data row4 col8\" >5.000000</td>\n",
       "      <td id=\"T_36f90_row4_col9\" class=\"data row4 col9\" >40</td>\n",
       "    </tr>\n",
       "    <tr>\n",
       "      <th id=\"T_36f90_level0_row5\" class=\"row_heading level0 row5\" >1</th>\n",
       "      <td id=\"T_36f90_row5_col0\" class=\"data row5 col0\" >Западный административный округ</td>\n",
       "      <td id=\"T_36f90_row5_col1\" class=\"data row5 col1\" >4.000000</td>\n",
       "      <td id=\"T_36f90_row5_col2\" class=\"data row5 col2\" >2.000000</td>\n",
       "      <td id=\"T_36f90_row5_col3\" class=\"data row5 col3\" >3.000000</td>\n",
       "      <td id=\"T_36f90_row5_col4\" class=\"data row5 col4\" >14.000000</td>\n",
       "      <td id=\"T_36f90_row5_col5\" class=\"data row5 col5\" >3.000000</td>\n",
       "      <td id=\"T_36f90_row5_col6\" class=\"data row5 col6\" >2.000000</td>\n",
       "      <td id=\"T_36f90_row5_col7\" class=\"data row5 col7\" >10.000000</td>\n",
       "      <td id=\"T_36f90_row5_col8\" class=\"data row5 col8\" >1.000000</td>\n",
       "      <td id=\"T_36f90_row5_col9\" class=\"data row5 col9\" >39</td>\n",
       "    </tr>\n",
       "    <tr>\n",
       "      <th id=\"T_36f90_level0_row6\" class=\"row_heading level0 row6\" >6</th>\n",
       "      <td id=\"T_36f90_row6_col0\" class=\"data row6 col0\" >Юго-Восточный административный округ</td>\n",
       "      <td id=\"T_36f90_row6_col1\" class=\"data row6 col1\" >5.000000</td>\n",
       "      <td id=\"T_36f90_row6_col2\" class=\"data row6 col2\" >1.000000</td>\n",
       "      <td id=\"T_36f90_row6_col3\" class=\"data row6 col3\" >2.000000</td>\n",
       "      <td id=\"T_36f90_row6_col4\" class=\"data row6 col4\" >14.000000</td>\n",
       "      <td id=\"T_36f90_row6_col5\" class=\"data row6 col5\" >7.000000</td>\n",
       "      <td id=\"T_36f90_row6_col6\" class=\"data row6 col6\" >1.000000</td>\n",
       "      <td id=\"T_36f90_row6_col7\" class=\"data row6 col7\" >5.000000</td>\n",
       "      <td id=\"T_36f90_row6_col8\" class=\"data row6 col8\" >2.000000</td>\n",
       "      <td id=\"T_36f90_row6_col9\" class=\"data row6 col9\" >37</td>\n",
       "    </tr>\n",
       "    <tr>\n",
       "      <th id=\"T_36f90_level0_row7\" class=\"row_heading level0 row7\" >4</th>\n",
       "      <td id=\"T_36f90_row7_col0\" class=\"data row7 col0\" >Северо-Западный административный округ</td>\n",
       "      <td id=\"T_36f90_row7_col1\" class=\"data row7 col1\" >1.000000</td>\n",
       "      <td id=\"T_36f90_row7_col2\" class=\"data row7 col2\" >nan</td>\n",
       "      <td id=\"T_36f90_row7_col3\" class=\"data row7 col3\" >1.000000</td>\n",
       "      <td id=\"T_36f90_row7_col4\" class=\"data row7 col4\" >4.000000</td>\n",
       "      <td id=\"T_36f90_row7_col5\" class=\"data row7 col5\" >3.000000</td>\n",
       "      <td id=\"T_36f90_row7_col6\" class=\"data row7 col6\" >nan</td>\n",
       "      <td id=\"T_36f90_row7_col7\" class=\"data row7 col7\" >8.000000</td>\n",
       "      <td id=\"T_36f90_row7_col8\" class=\"data row7 col8\" >2.000000</td>\n",
       "      <td id=\"T_36f90_row7_col9\" class=\"data row7 col9\" >19</td>\n",
       "    </tr>\n",
       "    <tr>\n",
       "      <th id=\"T_36f90_level0_row8\" class=\"row_heading level0 row8\" >7</th>\n",
       "      <td id=\"T_36f90_row8_col0\" class=\"data row8 col0\" >Юго-Западный административный округ</td>\n",
       "      <td id=\"T_36f90_row8_col1\" class=\"data row8 col1\" >1.000000</td>\n",
       "      <td id=\"T_36f90_row8_col2\" class=\"data row8 col2\" >1.000000</td>\n",
       "      <td id=\"T_36f90_row8_col3\" class=\"data row8 col3\" >3.000000</td>\n",
       "      <td id=\"T_36f90_row8_col4\" class=\"data row8 col4\" >6.000000</td>\n",
       "      <td id=\"T_36f90_row8_col5\" class=\"data row8 col5\" >4.000000</td>\n",
       "      <td id=\"T_36f90_row8_col6\" class=\"data row8 col6\" >nan</td>\n",
       "      <td id=\"T_36f90_row8_col7\" class=\"data row8 col7\" >1.000000</td>\n",
       "      <td id=\"T_36f90_row8_col8\" class=\"data row8 col8\" >1.000000</td>\n",
       "      <td id=\"T_36f90_row8_col9\" class=\"data row8 col9\" >17</td>\n",
       "    </tr>\n",
       "  </tbody>\n",
       "</table>\n"
      ],
      "text/plain": [
       "<pandas.io.formats.style.Styler at 0x26fdef5ae20>"
      ]
     },
     "execution_count": 148,
     "metadata": {},
     "output_type": "execute_result"
    }
   ],
   "source": [
    "#lets merge datasets and sort by amount of businesses\n",
    "one_place_dist = one_place_cat.merge(one_place_dist, on= 'district', how='left')\n",
    "one_place_dist = one_place_dist.rename(columns={'name':'total'})\n",
    "one_place_dist.sort_values(by='total', ascending=False).style.background_gradient('coolwarm')"
   ]
  },
  {
   "cell_type": "markdown",
   "id": "b7ca1914",
   "metadata": {},
   "source": [
    "We see that there is no significant difference in the average check. As with the study as a whole, the CAO has the most businesses, probably because there are more streets and in the center, such businesses are always more in demand by tourists or workers who are concentrated there. We also see a significant share of canteens in the center. in terms of bars, cafes and restaurants, the center is a significant leader. outsiders are also SZAO and SZAO."
   ]
  },
  {
   "cell_type": "code",
   "execution_count": 149,
   "id": "d5d27091",
   "metadata": {},
   "outputs": [],
   "source": [
    "#Lets calculate the median of the average check by county\n",
    "district_mean_bill = data[data['middle_avg_bill']!=555].groupby('district').agg({'middle_avg_bill':'median'}).reset_index()"
   ]
  },
  {
   "cell_type": "code",
   "execution_count": 150,
   "id": "aca8c3cd",
   "metadata": {},
   "outputs": [],
   "source": [
    "#change district names\n",
    "district_mean_bill['district'] = ['ВАО', 'ЗАО', 'САО', 'СВАО', 'СЗАО', 'ЦАО', 'ЮВАО', 'ЮЗАО', 'ЮАО']"
   ]
  },
  {
   "cell_type": "code",
   "execution_count": 151,
   "id": "da340dbd",
   "metadata": {},
   "outputs": [
    {
     "ename": "FileNotFoundError",
     "evalue": "[Errno 2] No such file or directory: '/datasets/admin_level_geomap.geojson'",
     "output_type": "error",
     "traceback": [
      "\u001b[1;31m---------------------------------------------------------------------------\u001b[0m",
      "\u001b[1;31mFileNotFoundError\u001b[0m                         Traceback (most recent call last)",
      "Input \u001b[1;32mIn [151]\u001b[0m, in \u001b[0;36m<cell line: 5>\u001b[1;34m()\u001b[0m\n\u001b[0;32m      3\u001b[0m moscow_lat, moscow_lng \u001b[38;5;241m=\u001b[39m \u001b[38;5;241m55.751244\u001b[39m, \u001b[38;5;241m37.618423\u001b[39m\n\u001b[0;32m      4\u001b[0m m2 \u001b[38;5;241m=\u001b[39m Map(location\u001b[38;5;241m=\u001b[39m[moscow_lat, moscow_lng], zoom_start\u001b[38;5;241m=\u001b[39m\u001b[38;5;241m10\u001b[39m)\n\u001b[1;32m----> 5\u001b[0m \u001b[43mChoropleth\u001b[49m\u001b[43m(\u001b[49m\n\u001b[0;32m      6\u001b[0m \u001b[43m    \u001b[49m\u001b[43mgeo_data\u001b[49m\u001b[38;5;241;43m=\u001b[39;49m\u001b[43mstate_geo\u001b[49m\u001b[43m,\u001b[49m\n\u001b[0;32m      7\u001b[0m \u001b[43m    \u001b[49m\u001b[43mdata\u001b[49m\u001b[38;5;241;43m=\u001b[39;49m\u001b[43mdistrict_mean_bill\u001b[49m\u001b[43m,\u001b[49m\n\u001b[0;32m      8\u001b[0m \u001b[43m    \u001b[49m\u001b[43mcolumns\u001b[49m\u001b[38;5;241;43m=\u001b[39;49m\u001b[43m[\u001b[49m\u001b[38;5;124;43m'\u001b[39;49m\u001b[38;5;124;43mdistrict\u001b[39;49m\u001b[38;5;124;43m'\u001b[39;49m\u001b[43m,\u001b[49m\u001b[43m \u001b[49m\u001b[38;5;124;43m'\u001b[39;49m\u001b[38;5;124;43mmiddle_avg_bill\u001b[39;49m\u001b[38;5;124;43m'\u001b[39;49m\u001b[43m]\u001b[49m\u001b[43m,\u001b[49m\n\u001b[0;32m      9\u001b[0m \u001b[43m    \u001b[49m\u001b[43mkey_on\u001b[49m\u001b[38;5;241;43m=\u001b[39;49m\u001b[38;5;124;43m'\u001b[39;49m\u001b[38;5;124;43mproperties.ref\u001b[39;49m\u001b[38;5;124;43m'\u001b[39;49m\u001b[43m,\u001b[49m\n\u001b[0;32m     10\u001b[0m \u001b[43m    \u001b[49m\u001b[43mfill_color\u001b[49m\u001b[38;5;241;43m=\u001b[39;49m\u001b[38;5;124;43m'\u001b[39;49m\u001b[38;5;124;43mPuRd\u001b[39;49m\u001b[38;5;124;43m'\u001b[39;49m\u001b[43m,\u001b[49m\n\u001b[0;32m     11\u001b[0m \u001b[43m    \u001b[49m\u001b[43mfill_opacity\u001b[49m\u001b[38;5;241;43m=\u001b[39;49m\u001b[38;5;241;43m0.8\u001b[39;49m\u001b[43m,\u001b[49m\n\u001b[0;32m     12\u001b[0m \u001b[43m    \u001b[49m\u001b[43mlegend_name\u001b[49m\u001b[38;5;241;43m=\u001b[39;49m\u001b[38;5;124;43m'\u001b[39;49m\u001b[38;5;124;43mMedian Average Bill by District\u001b[39;49m\u001b[38;5;124;43m'\u001b[39;49m\u001b[43m,\u001b[49m\n\u001b[0;32m     13\u001b[0m \u001b[43m)\u001b[49m\u001b[38;5;241m.\u001b[39madd_to(m2)\n\u001b[0;32m     14\u001b[0m m2\n",
      "File \u001b[1;32m~\\anaconda3\\lib\\site-packages\\folium\\features.py:1290\u001b[0m, in \u001b[0;36mChoropleth.__init__\u001b[1;34m(self, geo_data, data, columns, key_on, bins, fill_color, nan_fill_color, fill_opacity, nan_fill_opacity, line_color, line_weight, line_opacity, name, legend_name, overlay, control, show, topojson, smooth_factor, highlight, **kwargs)\u001b[0m\n\u001b[0;32m   1284\u001b[0m     \u001b[38;5;28mself\u001b[39m\u001b[38;5;241m.\u001b[39mgeojson \u001b[38;5;241m=\u001b[39m TopoJson(\n\u001b[0;32m   1285\u001b[0m         geo_data,\n\u001b[0;32m   1286\u001b[0m         topojson,\n\u001b[0;32m   1287\u001b[0m         style_function\u001b[38;5;241m=\u001b[39mstyle_function,\n\u001b[0;32m   1288\u001b[0m         smooth_factor\u001b[38;5;241m=\u001b[39msmooth_factor)\n\u001b[0;32m   1289\u001b[0m \u001b[38;5;28;01melse\u001b[39;00m:\n\u001b[1;32m-> 1290\u001b[0m     \u001b[38;5;28mself\u001b[39m\u001b[38;5;241m.\u001b[39mgeojson \u001b[38;5;241m=\u001b[39m \u001b[43mGeoJson\u001b[49m\u001b[43m(\u001b[49m\n\u001b[0;32m   1291\u001b[0m \u001b[43m        \u001b[49m\u001b[43mgeo_data\u001b[49m\u001b[43m,\u001b[49m\n\u001b[0;32m   1292\u001b[0m \u001b[43m        \u001b[49m\u001b[43mstyle_function\u001b[49m\u001b[38;5;241;43m=\u001b[39;49m\u001b[43mstyle_function\u001b[49m\u001b[43m,\u001b[49m\n\u001b[0;32m   1293\u001b[0m \u001b[43m        \u001b[49m\u001b[43msmooth_factor\u001b[49m\u001b[38;5;241;43m=\u001b[39;49m\u001b[43msmooth_factor\u001b[49m\u001b[43m,\u001b[49m\n\u001b[0;32m   1294\u001b[0m \u001b[43m        \u001b[49m\u001b[43mhighlight_function\u001b[49m\u001b[38;5;241;43m=\u001b[39;49m\u001b[43mhighlight_function\u001b[49m\u001b[43m \u001b[49m\u001b[38;5;28;43;01mif\u001b[39;49;00m\u001b[43m \u001b[49m\u001b[43mhighlight\u001b[49m\u001b[43m \u001b[49m\u001b[38;5;28;43;01melse\u001b[39;49;00m\u001b[43m \u001b[49m\u001b[38;5;28;43;01mNone\u001b[39;49;00m\u001b[43m)\u001b[49m\n\u001b[0;32m   1296\u001b[0m \u001b[38;5;28mself\u001b[39m\u001b[38;5;241m.\u001b[39madd_child(\u001b[38;5;28mself\u001b[39m\u001b[38;5;241m.\u001b[39mgeojson)\n\u001b[0;32m   1297\u001b[0m \u001b[38;5;28;01mif\u001b[39;00m \u001b[38;5;28mself\u001b[39m\u001b[38;5;241m.\u001b[39mcolor_scale:\n",
      "File \u001b[1;32m~\\anaconda3\\lib\\site-packages\\folium\\features.py:497\u001b[0m, in \u001b[0;36mGeoJson.__init__\u001b[1;34m(self, data, style_function, highlight_function, name, overlay, control, show, smooth_factor, tooltip, embed, popup, zoom_on_click, marker)\u001b[0m\n\u001b[0;32m    494\u001b[0m         \u001b[38;5;28;01mraise\u001b[39;00m \u001b[38;5;167;01mTypeError\u001b[39;00m(\u001b[38;5;124m\"\u001b[39m\u001b[38;5;124mOnly Marker, Circle, and CircleMarker are supported as GeoJson marker types.\u001b[39m\u001b[38;5;124m\"\u001b[39m)\n\u001b[0;32m    495\u001b[0m \u001b[38;5;28mself\u001b[39m\u001b[38;5;241m.\u001b[39mmarker \u001b[38;5;241m=\u001b[39m marker\n\u001b[1;32m--> 497\u001b[0m \u001b[38;5;28mself\u001b[39m\u001b[38;5;241m.\u001b[39mdata \u001b[38;5;241m=\u001b[39m \u001b[38;5;28;43mself\u001b[39;49m\u001b[38;5;241;43m.\u001b[39;49m\u001b[43mprocess_data\u001b[49m\u001b[43m(\u001b[49m\u001b[43mdata\u001b[49m\u001b[43m)\u001b[49m\n\u001b[0;32m    499\u001b[0m \u001b[38;5;28;01mif\u001b[39;00m \u001b[38;5;28mself\u001b[39m\u001b[38;5;241m.\u001b[39mstyle \u001b[38;5;129;01mor\u001b[39;00m \u001b[38;5;28mself\u001b[39m\u001b[38;5;241m.\u001b[39mhighlight:\n\u001b[0;32m    500\u001b[0m     \u001b[38;5;28mself\u001b[39m\u001b[38;5;241m.\u001b[39mconvert_to_feature_collection()\n",
      "File \u001b[1;32m~\\anaconda3\\lib\\site-packages\\folium\\features.py:534\u001b[0m, in \u001b[0;36mGeoJson.process_data\u001b[1;34m(self, data)\u001b[0m\n\u001b[0;32m    532\u001b[0m         \u001b[38;5;28;01mif\u001b[39;00m \u001b[38;5;129;01mnot\u001b[39;00m \u001b[38;5;28mself\u001b[39m\u001b[38;5;241m.\u001b[39membed:\n\u001b[0;32m    533\u001b[0m             \u001b[38;5;28mself\u001b[39m\u001b[38;5;241m.\u001b[39membed_link \u001b[38;5;241m=\u001b[39m data\n\u001b[1;32m--> 534\u001b[0m         \u001b[38;5;28;01mwith\u001b[39;00m \u001b[38;5;28;43mopen\u001b[39;49m\u001b[43m(\u001b[49m\u001b[43mdata\u001b[49m\u001b[43m)\u001b[49m \u001b[38;5;28;01mas\u001b[39;00m f:\n\u001b[0;32m    535\u001b[0m             \u001b[38;5;28;01mreturn\u001b[39;00m json\u001b[38;5;241m.\u001b[39mloads(f\u001b[38;5;241m.\u001b[39mread())\n\u001b[0;32m    536\u001b[0m \u001b[38;5;28;01melif\u001b[39;00m \u001b[38;5;28mhasattr\u001b[39m(data, \u001b[38;5;124m'\u001b[39m\u001b[38;5;124m__geo_interface__\u001b[39m\u001b[38;5;124m'\u001b[39m):\n",
      "\u001b[1;31mFileNotFoundError\u001b[0m: [Errno 2] No such file or directory: '/datasets/admin_level_geomap.geojson'"
     ]
    }
   ],
   "source": [
    "#lets build plot\n",
    "state_geo = '/datasets/admin_level_geomap.geojson'\n",
    "moscow_lat, moscow_lng = 55.751244, 37.618423\n",
    "m2 = Map(location=[moscow_lat, moscow_lng], zoom_start=10)\n",
    "Choropleth(\n",
    "    geo_data=state_geo,\n",
    "    data=district_mean_bill,\n",
    "    columns=['district', 'middle_avg_bill'],\n",
    "    key_on='properties.ref',\n",
    "    fill_color='PuRd',\n",
    "    fill_opacity=0.8,\n",
    "    legend_name='Median Average Bill by District',\n",
    ").add_to(m2)\n",
    "m2\n"
   ]
  },
  {
   "cell_type": "markdown",
   "id": "602b3e68",
   "metadata": {},
   "source": [
    "We see the highest average check in the Central Administrative District and CJSC and a lower average check in the Northeast Administrative District"
   ]
  },
  {
   "cell_type": "markdown",
   "id": "329fa5cf",
   "metadata": {},
   "source": [
    "## 4. Detailed reserching: opening a coffee house. <a id=\"detail\"></a>"
   ]
  },
  {
   "cell_type": "code",
   "execution_count": 152,
   "id": "e5f38864",
   "metadata": {},
   "outputs": [
    {
     "data": {
      "text/html": [
       "<style type=\"text/css\">\n",
       "#T_da9df_row0_col1 {\n",
       "  background-color: #b40426;\n",
       "  color: #f1f1f1;\n",
       "}\n",
       "#T_da9df_row1_col1 {\n",
       "  background-color: #a9c6fd;\n",
       "  color: #000000;\n",
       "}\n",
       "#T_da9df_row2_col1 {\n",
       "  background-color: #92b4fe;\n",
       "  color: #000000;\n",
       "}\n",
       "#T_da9df_row3_col1 {\n",
       "  background-color: #84a7fc;\n",
       "  color: #f1f1f1;\n",
       "}\n",
       "#T_da9df_row4_col1 {\n",
       "  background-color: #779af7;\n",
       "  color: #f1f1f1;\n",
       "}\n",
       "#T_da9df_row5_col1 {\n",
       "  background-color: #5a78e4;\n",
       "  color: #f1f1f1;\n",
       "}\n",
       "#T_da9df_row6_col1 {\n",
       "  background-color: #5572df;\n",
       "  color: #f1f1f1;\n",
       "}\n",
       "#T_da9df_row7_col1 {\n",
       "  background-color: #4f69d9;\n",
       "  color: #f1f1f1;\n",
       "}\n",
       "#T_da9df_row8_col1 {\n",
       "  background-color: #3b4cc0;\n",
       "  color: #f1f1f1;\n",
       "}\n",
       "</style>\n",
       "<table id=\"T_da9df\">\n",
       "  <thead>\n",
       "    <tr>\n",
       "      <th class=\"index_name level0\" >category</th>\n",
       "      <th id=\"T_da9df_level0_col0\" class=\"col_heading level0 col0\" >district</th>\n",
       "      <th id=\"T_da9df_level0_col1\" class=\"col_heading level0 col1\" >кофейня</th>\n",
       "    </tr>\n",
       "  </thead>\n",
       "  <tbody>\n",
       "    <tr>\n",
       "      <th id=\"T_da9df_level0_row0\" class=\"row_heading level0 row0\" >5</th>\n",
       "      <td id=\"T_da9df_row0_col0\" class=\"data row0 col0\" >Центральный административный округ</td>\n",
       "      <td id=\"T_da9df_row0_col1\" class=\"data row0 col1\" >424</td>\n",
       "    </tr>\n",
       "    <tr>\n",
       "      <th id=\"T_da9df_level0_row1\" class=\"row_heading level0 row1\" >2</th>\n",
       "      <td id=\"T_da9df_row1_col0\" class=\"data row1 col0\" >Северный административный округ</td>\n",
       "      <td id=\"T_da9df_row1_col1\" class=\"data row1 col1\" >182</td>\n",
       "    </tr>\n",
       "    <tr>\n",
       "      <th id=\"T_da9df_level0_row2\" class=\"row_heading level0 row2\" >3</th>\n",
       "      <td id=\"T_da9df_row2_col0\" class=\"data row2 col0\" >Северо-Восточный административный округ</td>\n",
       "      <td id=\"T_da9df_row2_col1\" class=\"data row2 col1\" >157</td>\n",
       "    </tr>\n",
       "    <tr>\n",
       "      <th id=\"T_da9df_level0_row3\" class=\"row_heading level0 row3\" >1</th>\n",
       "      <td id=\"T_da9df_row3_col0\" class=\"data row3 col0\" >Западный административный округ</td>\n",
       "      <td id=\"T_da9df_row3_col1\" class=\"data row3 col1\" >144</td>\n",
       "    </tr>\n",
       "    <tr>\n",
       "      <th id=\"T_da9df_level0_row4\" class=\"row_heading level0 row4\" >8</th>\n",
       "      <td id=\"T_da9df_row4_col0\" class=\"data row4 col0\" >Южный административный округ</td>\n",
       "      <td id=\"T_da9df_row4_col1\" class=\"data row4 col1\" >130</td>\n",
       "    </tr>\n",
       "    <tr>\n",
       "      <th id=\"T_da9df_level0_row5\" class=\"row_heading level0 row5\" >0</th>\n",
       "      <td id=\"T_da9df_row5_col0\" class=\"data row5 col0\" >Восточный административный округ</td>\n",
       "      <td id=\"T_da9df_row5_col1\" class=\"data row5 col1\" >100</td>\n",
       "    </tr>\n",
       "    <tr>\n",
       "      <th id=\"T_da9df_level0_row6\" class=\"row_heading level0 row6\" >7</th>\n",
       "      <td id=\"T_da9df_row6_col0\" class=\"data row6 col0\" >Юго-Западный административный округ</td>\n",
       "      <td id=\"T_da9df_row6_col1\" class=\"data row6 col1\" >94</td>\n",
       "    </tr>\n",
       "    <tr>\n",
       "      <th id=\"T_da9df_level0_row7\" class=\"row_heading level0 row7\" >6</th>\n",
       "      <td id=\"T_da9df_row7_col0\" class=\"data row7 col0\" >Юго-Восточный административный округ</td>\n",
       "      <td id=\"T_da9df_row7_col1\" class=\"data row7 col1\" >87</td>\n",
       "    </tr>\n",
       "    <tr>\n",
       "      <th id=\"T_da9df_level0_row8\" class=\"row_heading level0 row8\" >4</th>\n",
       "      <td id=\"T_da9df_row8_col0\" class=\"data row8 col0\" >Северо-Западный административный округ</td>\n",
       "      <td id=\"T_da9df_row8_col1\" class=\"data row8 col1\" >62</td>\n",
       "    </tr>\n",
       "  </tbody>\n",
       "</table>\n"
      ],
      "text/plain": [
       "<pandas.io.formats.style.Styler at 0x26fdef5a5e0>"
      ]
     },
     "execution_count": 152,
     "metadata": {},
     "output_type": "execute_result"
    }
   ],
   "source": [
    "#let's check how many coffee houses by district\n",
    "district_coffee =data[data['category'] == 'кофейня'].pivot_table(index='district', columns='category', values='name', aggfunc='count').reset_index()\n",
    "district_coffee.sort_values(by='кофейня', ascending = False).style.background_gradient('coolwarm')\n"
   ]
  },
  {
   "cell_type": "code",
   "execution_count": 153,
   "id": "7950aa3a",
   "metadata": {},
   "outputs": [
    {
     "data": {
      "text/plain": [
       "59"
      ]
     },
     "execution_count": 153,
     "metadata": {},
     "output_type": "execute_result"
    }
   ],
   "source": [
    "#let's check how many round-the-clock coffee houses\n",
    "nonstop_coffee = data[(data['category'] == 'кофейня')&(data['is_24/7'] == True)]['is_24/7'].sum()\n",
    "nonstop_coffee"
   ]
  },
  {
   "cell_type": "code",
   "execution_count": 155,
   "id": "19033514",
   "metadata": {},
   "outputs": [
    {
     "data": {
      "text/plain": [
       "4.3"
      ]
     },
     "execution_count": 155,
     "metadata": {},
     "output_type": "execute_result"
    }
   ],
   "source": [
    "#let's check how many round-the-clock coffee shops as a percentage\n",
    "non_stop_coffee = round(nonstop_coffee/data[data['category'] == 'кофейня']['category'].count()*100,1)\n",
    "non_stop_coffee"
   ]
  },
  {
   "cell_type": "code",
   "execution_count": 156,
   "id": "bd6df9d6",
   "metadata": {
    "scrolled": true
   },
   "outputs": [
    {
     "data": {
      "text/html": [
       "<div>\n",
       "<style scoped>\n",
       "    .dataframe tbody tr th:only-of-type {\n",
       "        vertical-align: middle;\n",
       "    }\n",
       "\n",
       "    .dataframe tbody tr th {\n",
       "        vertical-align: top;\n",
       "    }\n",
       "\n",
       "    .dataframe thead tr th {\n",
       "        text-align: left;\n",
       "    }\n",
       "</style>\n",
       "<table border=\"1\" class=\"dataframe\">\n",
       "  <thead>\n",
       "    <tr>\n",
       "      <th></th>\n",
       "      <th>category</th>\n",
       "      <th>mean</th>\n",
       "      <th>median</th>\n",
       "    </tr>\n",
       "    <tr>\n",
       "      <th></th>\n",
       "      <th></th>\n",
       "      <th>middle_coffee_cup</th>\n",
       "      <th>middle_coffee_cup</th>\n",
       "    </tr>\n",
       "  </thead>\n",
       "  <tbody>\n",
       "    <tr>\n",
       "      <th>0</th>\n",
       "      <td>кофейня</td>\n",
       "      <td>170.555118</td>\n",
       "      <td>165.0</td>\n",
       "    </tr>\n",
       "  </tbody>\n",
       "</table>\n",
       "</div>"
      ],
      "text/plain": [
       "  category              mean            median\n",
       "           middle_coffee_cup middle_coffee_cup\n",
       "0  кофейня        170.555118             165.0"
      ]
     },
     "execution_count": 156,
     "metadata": {},
     "output_type": "execute_result"
    }
   ],
   "source": [
    "#look at the median and average cost of a cup of coffee in a coffee shop\n",
    "coffee_cup =data[(data['middle_coffee_cup']!=-555) & (data['category'] == 'кофейня')]\\\n",
    ".pivot_table(index='category', values='middle_coffee_cup', aggfunc=['mean','median'])\\\n",
    ".reset_index()\n",
    "coffee_cup"
   ]
  },
  {
   "cell_type": "code",
   "execution_count": 157,
   "id": "e9e36a32",
   "metadata": {},
   "outputs": [
    {
     "data": {
      "text/html": [
       "<style type=\"text/css\">\n",
       "#T_46397_row0_col1 {\n",
       "  background-color: #f2c9b4;\n",
       "  color: #000000;\n",
       "}\n",
       "#T_46397_row1_col1 {\n",
       "  background-color: #3b4cc0;\n",
       "  color: #f1f1f1;\n",
       "}\n",
       "#T_46397_row2_col1 {\n",
       "  background-color: #f7a688;\n",
       "  color: #000000;\n",
       "}\n",
       "#T_46397_row3_col1 {\n",
       "  background-color: #6f92f3;\n",
       "  color: #f1f1f1;\n",
       "}\n",
       "#T_46397_row4_col1 {\n",
       "  background-color: #cd423b;\n",
       "  color: #f1f1f1;\n",
       "}\n",
       "#T_46397_row5_col1 {\n",
       "  background-color: #b40426;\n",
       "  color: #f1f1f1;\n",
       "}\n",
       "#T_46397_row6_col1 {\n",
       "  background-color: #7597f6;\n",
       "  color: #f1f1f1;\n",
       "}\n",
       "#T_46397_row7_col1 {\n",
       "  background-color: #efcfbf;\n",
       "  color: #000000;\n",
       "}\n",
       "#T_46397_row8_col1 {\n",
       "  background-color: #9bbcff;\n",
       "  color: #000000;\n",
       "}\n",
       "</style>\n",
       "<table id=\"T_46397\">\n",
       "  <thead>\n",
       "    <tr>\n",
       "      <th class=\"blank level0\" >&nbsp;</th>\n",
       "      <th id=\"T_46397_level0_col0\" class=\"col_heading level0 col0\" >district</th>\n",
       "      <th id=\"T_46397_level0_col1\" class=\"col_heading level0 col1\" >rating</th>\n",
       "    </tr>\n",
       "  </thead>\n",
       "  <tbody>\n",
       "    <tr>\n",
       "      <th id=\"T_46397_level0_row0\" class=\"row_heading level0 row0\" >0</th>\n",
       "      <td id=\"T_46397_row0_col0\" class=\"data row0 col0\" >Восточный административный округ</td>\n",
       "      <td id=\"T_46397_row0_col1\" class=\"data row0 col1\" >4.279000</td>\n",
       "    </tr>\n",
       "    <tr>\n",
       "      <th id=\"T_46397_level0_row1\" class=\"row_heading level0 row1\" >1</th>\n",
       "      <td id=\"T_46397_row1_col0\" class=\"data row1 col0\" >Западный административный округ</td>\n",
       "      <td id=\"T_46397_row1_col1\" class=\"data row1 col1\" >4.189583</td>\n",
       "    </tr>\n",
       "    <tr>\n",
       "      <th id=\"T_46397_level0_row2\" class=\"row_heading level0 row2\" >2</th>\n",
       "      <td id=\"T_46397_row2_col0\" class=\"data row2 col0\" >Северный административный округ</td>\n",
       "      <td id=\"T_46397_row2_col1\" class=\"data row2 col1\" >4.294505</td>\n",
       "    </tr>\n",
       "    <tr>\n",
       "      <th id=\"T_46397_level0_row3\" class=\"row_heading level0 row3\" >3</th>\n",
       "      <td id=\"T_46397_row3_col0\" class=\"data row3 col0\" >Северо-Восточный административный округ</td>\n",
       "      <td id=\"T_46397_row3_col1\" class=\"data row3 col1\" >4.214013</td>\n",
       "    </tr>\n",
       "    <tr>\n",
       "      <th id=\"T_46397_level0_row4\" class=\"row_heading level0 row4\" >4</th>\n",
       "      <td id=\"T_46397_row4_col0\" class=\"data row4 col0\" >Северо-Западный административный округ</td>\n",
       "      <td id=\"T_46397_row4_col1\" class=\"data row4 col1\" >4.325806</td>\n",
       "    </tr>\n",
       "    <tr>\n",
       "      <th id=\"T_46397_level0_row5\" class=\"row_heading level0 row5\" >5</th>\n",
       "      <td id=\"T_46397_row5_col0\" class=\"data row5 col0\" >Центральный административный округ</td>\n",
       "      <td id=\"T_46397_row5_col1\" class=\"data row5 col1\" >4.336321</td>\n",
       "    </tr>\n",
       "    <tr>\n",
       "      <th id=\"T_46397_level0_row6\" class=\"row_heading level0 row6\" >6</th>\n",
       "      <td id=\"T_46397_row6_col0\" class=\"data row6 col0\" >Юго-Восточный административный округ</td>\n",
       "      <td id=\"T_46397_row6_col1\" class=\"data row6 col1\" >4.216092</td>\n",
       "    </tr>\n",
       "    <tr>\n",
       "      <th id=\"T_46397_level0_row7\" class=\"row_heading level0 row7\" >7</th>\n",
       "      <td id=\"T_46397_row7_col0\" class=\"data row7 col0\" >Юго-Западный административный округ</td>\n",
       "      <td id=\"T_46397_row7_col1\" class=\"data row7 col1\" >4.274468</td>\n",
       "    </tr>\n",
       "    <tr>\n",
       "      <th id=\"T_46397_level0_row8\" class=\"row_heading level0 row8\" >8</th>\n",
       "      <td id=\"T_46397_row8_col0\" class=\"data row8 col0\" >Южный административный округ</td>\n",
       "      <td id=\"T_46397_row8_col1\" class=\"data row8 col1\" >4.232308</td>\n",
       "    </tr>\n",
       "  </tbody>\n",
       "</table>\n"
      ],
      "text/plain": [
       "<pandas.io.formats.style.Styler at 0x26fdef5a5b0>"
      ]
     },
     "execution_count": 157,
     "metadata": {},
     "output_type": "execute_result"
    }
   ],
   "source": [
    "district_coffee = data[data['category'] == 'кофейня'].pivot_table(index='district', values='rating', aggfunc='mean').reset_index()\n",
    "district_coffee.style.background_gradient('coolwarm')"
   ]
  },
  {
   "cell_type": "code",
   "execution_count": 158,
   "id": "4ef6a40c",
   "metadata": {},
   "outputs": [
    {
     "ename": "FileNotFoundError",
     "evalue": "[Errno 2] No such file or directory: '/datasets/admin_level_geomap.geojson'",
     "output_type": "error",
     "traceback": [
      "\u001b[1;31m---------------------------------------------------------------------------\u001b[0m",
      "\u001b[1;31mFileNotFoundError\u001b[0m                         Traceback (most recent call last)",
      "Input \u001b[1;32mIn [158]\u001b[0m, in \u001b[0;36m<cell line: 7>\u001b[1;34m()\u001b[0m\n\u001b[0;32m      3\u001b[0m moscow_lat, moscow_lng \u001b[38;5;241m=\u001b[39m \u001b[38;5;241m55.751244\u001b[39m, \u001b[38;5;241m37.618423\u001b[39m\n\u001b[0;32m      4\u001b[0m m3 \u001b[38;5;241m=\u001b[39m Map(location\u001b[38;5;241m=\u001b[39m[moscow_lat, moscow_lng], zoom_start\u001b[38;5;241m=\u001b[39m\u001b[38;5;241m10\u001b[39m)\n\u001b[1;32m----> 7\u001b[0m \u001b[43mChoropleth\u001b[49m\u001b[43m(\u001b[49m\n\u001b[0;32m      8\u001b[0m \u001b[43m    \u001b[49m\u001b[43mgeo_data\u001b[49m\u001b[38;5;241;43m=\u001b[39;49m\u001b[43mstate_geo\u001b[49m\u001b[43m,\u001b[49m\n\u001b[0;32m      9\u001b[0m \u001b[43m    \u001b[49m\u001b[43mdata\u001b[49m\u001b[38;5;241;43m=\u001b[39;49m\u001b[43mdistrict_coffee\u001b[49m\u001b[43m,\u001b[49m\n\u001b[0;32m     10\u001b[0m \u001b[43m    \u001b[49m\u001b[43mcolumns\u001b[49m\u001b[38;5;241;43m=\u001b[39;49m\u001b[43m[\u001b[49m\u001b[38;5;124;43m'\u001b[39;49m\u001b[38;5;124;43mdistrict\u001b[39;49m\u001b[38;5;124;43m'\u001b[39;49m\u001b[43m,\u001b[49m\u001b[43m \u001b[49m\u001b[38;5;124;43m'\u001b[39;49m\u001b[38;5;124;43mrating\u001b[39;49m\u001b[38;5;124;43m'\u001b[39;49m\u001b[43m]\u001b[49m\u001b[43m,\u001b[49m\n\u001b[0;32m     11\u001b[0m \u001b[43m    \u001b[49m\u001b[43mkey_on\u001b[49m\u001b[38;5;241;43m=\u001b[39;49m\u001b[38;5;124;43m'\u001b[39;49m\u001b[38;5;124;43mfeature.name\u001b[39;49m\u001b[38;5;124;43m'\u001b[39;49m\u001b[43m,\u001b[49m\n\u001b[0;32m     12\u001b[0m \u001b[43m    \u001b[49m\u001b[43mfill_color\u001b[49m\u001b[38;5;241;43m=\u001b[39;49m\u001b[38;5;124;43m'\u001b[39;49m\u001b[38;5;124;43mYlOrRd\u001b[39;49m\u001b[38;5;124;43m'\u001b[39;49m\u001b[43m,\u001b[49m\n\u001b[0;32m     13\u001b[0m \u001b[43m    \u001b[49m\u001b[43mfill_opacity\u001b[49m\u001b[38;5;241;43m=\u001b[39;49m\u001b[38;5;241;43m0.8\u001b[39;49m\u001b[43m,\u001b[49m\n\u001b[0;32m     14\u001b[0m \u001b[43m    \u001b[49m\u001b[43mlegend_name\u001b[49m\u001b[38;5;241;43m=\u001b[39;49m\u001b[38;5;124;43m'\u001b[39;49m\u001b[38;5;124;43mCoffee Rating by District\u001b[39;49m\u001b[38;5;124;43m'\u001b[39;49m\u001b[43m,\u001b[49m\n\u001b[0;32m     15\u001b[0m \u001b[43m)\u001b[49m\u001b[38;5;241m.\u001b[39madd_to(m3)\n\u001b[0;32m     18\u001b[0m m3\n",
      "File \u001b[1;32m~\\anaconda3\\lib\\site-packages\\folium\\features.py:1290\u001b[0m, in \u001b[0;36mChoropleth.__init__\u001b[1;34m(self, geo_data, data, columns, key_on, bins, fill_color, nan_fill_color, fill_opacity, nan_fill_opacity, line_color, line_weight, line_opacity, name, legend_name, overlay, control, show, topojson, smooth_factor, highlight, **kwargs)\u001b[0m\n\u001b[0;32m   1284\u001b[0m     \u001b[38;5;28mself\u001b[39m\u001b[38;5;241m.\u001b[39mgeojson \u001b[38;5;241m=\u001b[39m TopoJson(\n\u001b[0;32m   1285\u001b[0m         geo_data,\n\u001b[0;32m   1286\u001b[0m         topojson,\n\u001b[0;32m   1287\u001b[0m         style_function\u001b[38;5;241m=\u001b[39mstyle_function,\n\u001b[0;32m   1288\u001b[0m         smooth_factor\u001b[38;5;241m=\u001b[39msmooth_factor)\n\u001b[0;32m   1289\u001b[0m \u001b[38;5;28;01melse\u001b[39;00m:\n\u001b[1;32m-> 1290\u001b[0m     \u001b[38;5;28mself\u001b[39m\u001b[38;5;241m.\u001b[39mgeojson \u001b[38;5;241m=\u001b[39m \u001b[43mGeoJson\u001b[49m\u001b[43m(\u001b[49m\n\u001b[0;32m   1291\u001b[0m \u001b[43m        \u001b[49m\u001b[43mgeo_data\u001b[49m\u001b[43m,\u001b[49m\n\u001b[0;32m   1292\u001b[0m \u001b[43m        \u001b[49m\u001b[43mstyle_function\u001b[49m\u001b[38;5;241;43m=\u001b[39;49m\u001b[43mstyle_function\u001b[49m\u001b[43m,\u001b[49m\n\u001b[0;32m   1293\u001b[0m \u001b[43m        \u001b[49m\u001b[43msmooth_factor\u001b[49m\u001b[38;5;241;43m=\u001b[39;49m\u001b[43msmooth_factor\u001b[49m\u001b[43m,\u001b[49m\n\u001b[0;32m   1294\u001b[0m \u001b[43m        \u001b[49m\u001b[43mhighlight_function\u001b[49m\u001b[38;5;241;43m=\u001b[39;49m\u001b[43mhighlight_function\u001b[49m\u001b[43m \u001b[49m\u001b[38;5;28;43;01mif\u001b[39;49;00m\u001b[43m \u001b[49m\u001b[43mhighlight\u001b[49m\u001b[43m \u001b[49m\u001b[38;5;28;43;01melse\u001b[39;49;00m\u001b[43m \u001b[49m\u001b[38;5;28;43;01mNone\u001b[39;49;00m\u001b[43m)\u001b[49m\n\u001b[0;32m   1296\u001b[0m \u001b[38;5;28mself\u001b[39m\u001b[38;5;241m.\u001b[39madd_child(\u001b[38;5;28mself\u001b[39m\u001b[38;5;241m.\u001b[39mgeojson)\n\u001b[0;32m   1297\u001b[0m \u001b[38;5;28;01mif\u001b[39;00m \u001b[38;5;28mself\u001b[39m\u001b[38;5;241m.\u001b[39mcolor_scale:\n",
      "File \u001b[1;32m~\\anaconda3\\lib\\site-packages\\folium\\features.py:497\u001b[0m, in \u001b[0;36mGeoJson.__init__\u001b[1;34m(self, data, style_function, highlight_function, name, overlay, control, show, smooth_factor, tooltip, embed, popup, zoom_on_click, marker)\u001b[0m\n\u001b[0;32m    494\u001b[0m         \u001b[38;5;28;01mraise\u001b[39;00m \u001b[38;5;167;01mTypeError\u001b[39;00m(\u001b[38;5;124m\"\u001b[39m\u001b[38;5;124mOnly Marker, Circle, and CircleMarker are supported as GeoJson marker types.\u001b[39m\u001b[38;5;124m\"\u001b[39m)\n\u001b[0;32m    495\u001b[0m \u001b[38;5;28mself\u001b[39m\u001b[38;5;241m.\u001b[39mmarker \u001b[38;5;241m=\u001b[39m marker\n\u001b[1;32m--> 497\u001b[0m \u001b[38;5;28mself\u001b[39m\u001b[38;5;241m.\u001b[39mdata \u001b[38;5;241m=\u001b[39m \u001b[38;5;28;43mself\u001b[39;49m\u001b[38;5;241;43m.\u001b[39;49m\u001b[43mprocess_data\u001b[49m\u001b[43m(\u001b[49m\u001b[43mdata\u001b[49m\u001b[43m)\u001b[49m\n\u001b[0;32m    499\u001b[0m \u001b[38;5;28;01mif\u001b[39;00m \u001b[38;5;28mself\u001b[39m\u001b[38;5;241m.\u001b[39mstyle \u001b[38;5;129;01mor\u001b[39;00m \u001b[38;5;28mself\u001b[39m\u001b[38;5;241m.\u001b[39mhighlight:\n\u001b[0;32m    500\u001b[0m     \u001b[38;5;28mself\u001b[39m\u001b[38;5;241m.\u001b[39mconvert_to_feature_collection()\n",
      "File \u001b[1;32m~\\anaconda3\\lib\\site-packages\\folium\\features.py:534\u001b[0m, in \u001b[0;36mGeoJson.process_data\u001b[1;34m(self, data)\u001b[0m\n\u001b[0;32m    532\u001b[0m         \u001b[38;5;28;01mif\u001b[39;00m \u001b[38;5;129;01mnot\u001b[39;00m \u001b[38;5;28mself\u001b[39m\u001b[38;5;241m.\u001b[39membed:\n\u001b[0;32m    533\u001b[0m             \u001b[38;5;28mself\u001b[39m\u001b[38;5;241m.\u001b[39membed_link \u001b[38;5;241m=\u001b[39m data\n\u001b[1;32m--> 534\u001b[0m         \u001b[38;5;28;01mwith\u001b[39;00m \u001b[38;5;28;43mopen\u001b[39;49m\u001b[43m(\u001b[49m\u001b[43mdata\u001b[49m\u001b[43m)\u001b[49m \u001b[38;5;28;01mas\u001b[39;00m f:\n\u001b[0;32m    535\u001b[0m             \u001b[38;5;28;01mreturn\u001b[39;00m json\u001b[38;5;241m.\u001b[39mloads(f\u001b[38;5;241m.\u001b[39mread())\n\u001b[0;32m    536\u001b[0m \u001b[38;5;28;01melif\u001b[39;00m \u001b[38;5;28mhasattr\u001b[39m(data, \u001b[38;5;124m'\u001b[39m\u001b[38;5;124m__geo_interface__\u001b[39m\u001b[38;5;124m'\u001b[39m):\n",
      "\u001b[1;31mFileNotFoundError\u001b[0m: [Errno 2] No such file or directory: '/datasets/admin_level_geomap.geojson'"
     ]
    }
   ],
   "source": [
    "#Lets build a plot\n",
    "state_geo = '/datasets/admin_level_geomap.geojson'\n",
    "moscow_lat, moscow_lng = 55.751244, 37.618423\n",
    "m3 = Map(location=[moscow_lat, moscow_lng], zoom_start=10)\n",
    "\n",
    "\n",
    "Choropleth(\n",
    "    geo_data=state_geo,\n",
    "    data=district_coffee,\n",
    "    columns=['district', 'rating'],\n",
    "    key_on='feature.name',\n",
    "    fill_color='YlOrRd',\n",
    "    fill_opacity=0.8,\n",
    "    legend_name='Coffee Rating by District',\n",
    ").add_to(m3)\n",
    "\n",
    "\n",
    "m3"
   ]
  },
  {
   "cell_type": "markdown",
   "id": "a1a5d9c7",
   "metadata": {},
   "source": [
    "So, there are 1380 coffee houses in the dataset. Most of them are located in the central administrative district, in second place is the SAO in the third SVAO. the fewest cafes in SZAO (62)\n",
    "the average check is 615 rubles, the median value is 400 rubles. According to the rating of coffee houses, the minimum rating is 1.4. The maximum rating is 5, while the average and median are about the same at 4.3. coffee houses with the highest rating are located in the CAO, SZAO and SAO, and with the lowest rating in ZAO. At least in some ways SZAO was in the lead :)\n",
    "As for the cost of a cup of coffee, the data on the average and median values ​​are approximately the same, we will assume that the average cost of 170 rubles is fair."
   ]
  },
  {
   "cell_type": "markdown",
   "id": "d8a9e212",
   "metadata": {},
   "source": [
    "## 5. Presentation."
   ]
  },
  {
   "cell_type": "markdown",
   "id": "b5a08816",
   "metadata": {},
   "source": [
    "Презентация : https://disk.yandex.ru/i/6cV3G3HYfIwP3Q"
   ]
  },
  {
   "cell_type": "markdown",
   "id": "f266d7af",
   "metadata": {},
   "source": [
    "## 6. General conclusion <a id=\"end\"></a>"
   ]
  },
  {
   "cell_type": "markdown",
   "id": "18d2e64e",
   "metadata": {},
   "source": [
    "During the research we:\n",
    "\n",
    "* reviewed the data\n",
    "* built graphs on the dataset to see the distribution of data,\n",
    "* cleared data from Nans,\n",
    "* checked the data for duplicates,\n",
    "* got rid of outliers in the data,\n",
    "* added new columns needed for research,\n",
    "* changed the data type where necessary.\n",
    "* Then we found the amount of enterprises by ranges specified in the dataset,\n",
    "* calculated the average and median average bills by ranges of businesses.\n",
    "* We determined the amount of seats by range of businesses.\n",
    "* We determined the ratio of chain and non-chain ranges of businesses,\n",
    "* found the top 15 businesses by amount in Moscow.\n",
    "* We calculated the distribution of the amount of businesses by districts of Moscow,\n",
    "* ranges were determined by the districts of Moscow.\n",
    "* Ratings were calculated by ganres of businesses (minimum, maximum and median).\n",
    "* We found the top 15 streets by the amount of businesses and by range.\n",
    "* We calculated the median average bill by county. And also directly to answer the tasks,\n",
    "* calculated the average and median price of a cup of coffee in cafes,"
   ]
  },
  {
   "cell_type": "markdown",
   "id": "2517fafc",
   "metadata": {},
   "source": [
    "answering the question posed about opening a coffee hous: Based on the research done, I think that opening a coffee hous is quite advisable given them:\n",
    "\n",
    "* popularity,\n",
    "* high ratings from visitors\n",
    "* a relatively high average bill, given that coffee houses do not have high costs for maintaining a kitchen, a wide range of menus and a large number of staff\n",
    "* The amount of seats is comparable to other ranges of businesses.\n",
    "\n",
    "I recommend take into consideration a CAO or CJSC for opening a coffee shop. We see the highest average bills in these two districts. But in contrast to the CAO, in the CAO there are coffee houses with low visitor reviews, so you can win on competitive advantages. We also see that in ZAO the amount of coffee houses is low compared to other districts. It can also be taken into account that in ZAO there are practically no serious large-scale industries, these are mainly residential areas with a large number of residents. Also, ZAO is considered one of the prestigious areas where people with high incomes live."
   ]
  }
 ],
 "metadata": {
  "kernelspec": {
   "display_name": "Python 3 (ipykernel)",
   "language": "python",
   "name": "python3"
  },
  "language_info": {
   "codemirror_mode": {
    "name": "ipython",
    "version": 3
   },
   "file_extension": ".py",
   "mimetype": "text/x-python",
   "name": "python",
   "nbconvert_exporter": "python",
   "pygments_lexer": "ipython3",
   "version": "3.9.12"
  }
 },
 "nbformat": 4,
 "nbformat_minor": 5
}
